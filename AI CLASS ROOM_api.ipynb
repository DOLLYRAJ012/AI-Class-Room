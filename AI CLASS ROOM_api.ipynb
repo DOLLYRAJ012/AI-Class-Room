{
  "cells": [
    {
      "cell_type": "markdown",
      "id": "b875b31c",
      "metadata": {
        "id": "b875b31c"
      },
      "source": [
        "# OpenVINO™ Runtime API Tutorial\n",
        "\n",
        "This notebook explains the basics of the OpenVINO Runtime API.\n",
        "\n",
        "The notebook is divided into sections with headers. The next cell contains global requirements for installation and imports. Each section is standalone and does not depend on any previous sections. All models used in this tutorial are provided as examples. These model files can be replaced with your own models. The exact outputs will be different, but the process is the same.\n",
        "\n",
        "\n",
        "#### Table of contents:\n",
        "\n",
        "- [Loading OpenVINO Runtime and Showing Info](#Loading-OpenVINO-Runtime-and-Showing-Info)\n",
        "- [Loading a Model](#Loading-a-Model)\n",
        "    - [OpenVINO IR Model](#OpenVINO-IR-Model)\n",
        "    - [ONNX Model](#ONNX-Model)\n",
        "    - [PaddlePaddle Model](#PaddlePaddle-Model)\n",
        "    - [TensorFlow Model](#TensorFlow-Model)\n",
        "    - [TensorFlow Lite Model](#TensorFlow-Lite-Model)\n",
        "    - [PyTorch Model](#PyTorch-Model)\n",
        "- [Getting Information about a Model](#Getting-Information-about-a-Model)\n",
        "    - [Model Inputs](#Model-Inputs)\n",
        "    - [Model Outputs](#Model-Outputs)\n",
        "- [Doing Inference on a Model](#Doing-Inference-on-a-Model)\n",
        "- [Reshaping and Resizing](#Reshaping-and-Resizing)\n",
        "    - [Change Image Size](#Change-Image-Size)\n",
        "    - [Change Batch Size](#Change-Batch-Size)\n",
        "- [Caching a Model](#Caching-a-Model)\n",
        "\n",
        "\n",
        "### Installation Instructions\n",
        "\n",
        "This is a self-contained example that relies solely on its own code.\n",
        "\n",
        "We recommend  running the notebook in a virtual environment. You only need a Jupyter server to start.\n",
        "For details, please refer to [Installation Guide](https://github.com/openvinotoolkit/openvino_notebooks/blob/latest/README.md#-installation-guide).\n",
        "\n",
        "<img referrerpolicy=\"no-referrer-when-downgrade\" src=\"https://static.scarf.sh/a.png?x-pxid=5b5a4db0-7875-4bfb-bdbd-01698b5b1a77&file=notebooks/openvino-api/openvino-api.ipynb\" />\n"
      ]
    },
    {
      "cell_type": "code",
      "execution_count": null,
      "id": "cdfd726a",
      "metadata": {
        "id": "cdfd726a",
        "outputId": "9de735ed-abe2-42a3-ae45-cd1890e3ab7e"
      },
      "outputs": [
        {
          "name": "stdout",
          "output_type": "stream",
          "text": [
            "Note: you may need to restart the kernel to use updated packages.\n",
            "Note: you may need to restart the kernel to use updated packages.\n"
          ]
        }
      ],
      "source": [
        "import platform\n",
        "\n",
        "# Required imports. Please execute this cell first.\n",
        "%pip install -q \"openvino>=2023.1.0\"\n",
        "%pip install -q requests tqdm ipywidgets\n",
        "\n",
        "if platform.system() == \"Darwin\":\n",
        "    %pip install -q \"numpy<2.0.0\"\n",
        "\n",
        "# Fetch `notebook_utils` module\n",
        "import requests\n",
        "from pathlib import Path\n",
        "\n",
        "if not Path(\"notebook_utils.py\").exists():\n",
        "    r = requests.get(\n",
        "        url=\"https://raw.githubusercontent.com/openvinotoolkit/openvino_notebooks/latest/utils/notebook_utils.py\",\n",
        "    )\n",
        "\n",
        "    open(\"notebook_utils.py\", \"w\").write(r.text)\n",
        "\n",
        "from notebook_utils import download_file, device_widget\n",
        "\n",
        "# Read more about telemetry collection at https://github.com/openvinotoolkit/openvino_notebooks?tab=readme-ov-file#-telemetry\n",
        "from notebook_utils import collect_telemetry\n",
        "\n",
        "collect_telemetry(\"openvino-api.ipynb\")"
      ]
    },
    {
      "cell_type": "markdown",
      "id": "9ed058f4",
      "metadata": {
        "id": "9ed058f4"
      },
      "source": [
        "## Loading OpenVINO Runtime and Showing Info\n",
        "[back to top ⬆️](#Table-of-contents:)\n",
        "\n",
        "Initialize OpenVINO Runtime with `ov.Core()`"
      ]
    },
    {
      "cell_type": "code",
      "execution_count": null,
      "id": "c08b79c4",
      "metadata": {
        "id": "c08b79c4"
      },
      "outputs": [],
      "source": [
        "import openvino as ov\n",
        "\n",
        "core = ov.Core()"
      ]
    },
    {
      "cell_type": "markdown",
      "id": "68bc4125",
      "metadata": {
        "id": "68bc4125"
      },
      "source": [
        "OpenVINO Runtime can load a network on a device. A device in this context means a CPU, an Intel GPU, a Neural Compute Stick 2, etc. The `available_devices` property shows the available devices in your system. The \"FULL_DEVICE_NAME\" option to `core.get_property()` shows the name of the device."
      ]
    },
    {
      "cell_type": "code",
      "execution_count": null,
      "id": "d0c94f76",
      "metadata": {
        "id": "d0c94f76",
        "outputId": "d8d7d1ac-b23b-46ce-a1d1-989488fcf455"
      },
      "outputs": [
        {
          "name": "stdout",
          "output_type": "stream",
          "text": [
            "CPU: Intel(R) Core(TM) i9-10980XE CPU @ 3.00GHz\n"
          ]
        }
      ],
      "source": [
        "import openvino.properties as props\n",
        "\n",
        "\n",
        "devices = core.available_devices\n",
        "\n",
        "for device in devices:\n",
        "    device_name = core.get_property(device, props.device.full_name)\n",
        "    print(f\"{device}: {device_name}\")"
      ]
    },
    {
      "cell_type": "markdown",
      "id": "58ed5c2d-b8d9-43b7-9fac-716b083c1398",
      "metadata": {
        "id": "58ed5c2d-b8d9-43b7-9fac-716b083c1398"
      },
      "source": [
        "### Select device for inference\n",
        "\n",
        "You can specify which device from available devices will be used for inference using this widget"
      ]
    },
    {
      "cell_type": "code",
      "execution_count": null,
      "id": "e8a64531-ea36-4766-ab6e-6fa4c1bd4732",
      "metadata": {
        "id": "e8a64531-ea36-4766-ab6e-6fa4c1bd4732",
        "outputId": "987e5160-2e67-4510-b45e-bdd1e29e628d",
        "colab": {
          "referenced_widgets": [
            "f940a96002df49e5b46574e0a3932dcc"
          ]
        }
      },
      "outputs": [
        {
          "data": {
            "application/vnd.jupyter.widget-view+json": {
              "model_id": "f940a96002df49e5b46574e0a3932dcc",
              "version_major": 2,
              "version_minor": 0
            },
            "text/plain": [
              "Dropdown(description='Device:', index=1, options=('CPU', 'AUTO'), value='AUTO')"
            ]
          },
          "execution_count": 4,
          "metadata": {},
          "output_type": "execute_result"
        }
      ],
      "source": [
        "device = device_widget()\n",
        "\n",
        "device"
      ]
    },
    {
      "cell_type": "markdown",
      "id": "14d62615",
      "metadata": {
        "id": "14d62615"
      },
      "source": [
        "## Loading a Model\n",
        "[back to top ⬆️](#Table-of-contents:)\n",
        "\n",
        "After initializing OpenVINO Runtime, first read the model file with `read_model()`, then compile it to the specified device with the `compile_model()` method.\n",
        "\n",
        "[OpenVINO™ supports several model formats](https://docs.openvino.ai/2024/openvino-workflow/model-preparation/convert-model-to-ir.html) and enables developers to convert them to its own OpenVINO IR format using a tool dedicated to this task.\n",
        "\n",
        "### OpenVINO IR Model\n",
        "[back to top ⬆️](#Table-of-contents:)\n",
        "\n",
        "An OpenVINO IR (Intermediate Representation) model consists of an `.xml` file, containing information about network topology, and a `.bin` file, containing the weights and biases binary data. Models in OpenVINO IR format are obtained by using model conversion API. The `read_model()` function expects the `.bin` weights file to have the same filename and be located in the same directory as the `.xml` file: `model_weights_file == Path(model_xml).with_suffix(\".bin\")`. If this is the case, specifying the weights file is optional. If the weights file has a different filename, it can be specified using the `weights` parameter in `read_model()`.\n",
        "\n",
        "The OpenVINO [Model Conversion API](https://docs.openvino.ai/2024/openvino-workflow/model-preparation.html) tool is used to convert models to OpenVINO IR format. Model conversion API reads the original model and creates an OpenVINO IR model (`.xml` and `.bin` files) so inference can be performed without delays due to format conversion. Optionally, model conversion API can adjust the model to be more suitable for inference, for example, by alternating input shapes, embedding preprocessing and cutting training parts off.\n",
        "For information on how to convert your existing TensorFlow, PyTorch model to OpenVINO IR format with model conversion API, refer to the [tensorflow-to-openvino](../tensorflow-classification-to-openvino/tensorflow-classification-to-openvino.ipynb) and [pytorch-to-openvino](../pytorch-to-openvino/pytorch-to-openvino.ipynb) notebooks."
      ]
    },
    {
      "cell_type": "code",
      "execution_count": null,
      "id": "6ff44409",
      "metadata": {
        "id": "6ff44409",
        "outputId": "291fbf5b-1979-479e-b7b7-6f41fd018eea",
        "colab": {
          "referenced_widgets": [
            "173ce6fe3c9e457aaed8768f3b6d0341",
            "3798850fff6044f6b8a6fa6a8972006a"
          ]
        }
      },
      "outputs": [
        {
          "data": {
            "application/vnd.jupyter.widget-view+json": {
              "model_id": "173ce6fe3c9e457aaed8768f3b6d0341",
              "version_major": 2,
              "version_minor": 0
            },
            "text/plain": [
              "classification.xml:   0%|          | 0.00/179k [00:00<?, ?B/s]"
            ]
          },
          "metadata": {},
          "output_type": "display_data"
        },
        {
          "data": {
            "application/vnd.jupyter.widget-view+json": {
              "model_id": "3798850fff6044f6b8a6fa6a8972006a",
              "version_major": 2,
              "version_minor": 0
            },
            "text/plain": [
              "classification.bin:   0%|          | 0.00/4.84M [00:00<?, ?B/s]"
            ]
          },
          "metadata": {},
          "output_type": "display_data"
        }
      ],
      "source": [
        "ir_model_url = \"https://storage.openvinotoolkit.org/repositories/openvino_notebooks/models/002-example-models/\"\n",
        "ir_model_name_xml = \"classification.xml\"\n",
        "ir_model_name_bin = \"classification.bin\"\n",
        "\n",
        "if not Path(\"model/\" + ir_model_name_xml).exists():\n",
        "    download_file(ir_model_url + ir_model_name_xml, filename=ir_model_name_xml, directory=\"model\")\n",
        "    download_file(ir_model_url + ir_model_name_bin, filename=ir_model_name_bin, directory=\"model\")"
      ]
    },
    {
      "cell_type": "code",
      "execution_count": null,
      "id": "523978fe",
      "metadata": {
        "id": "523978fe"
      },
      "outputs": [],
      "source": [
        "import openvino as ov\n",
        "\n",
        "core = ov.Core()\n",
        "classification_model_xml = \"model/classification.xml\"\n",
        "\n",
        "model = core.read_model(model=classification_model_xml)\n",
        "compiled_model = core.compile_model(model=model, device_name=device.value)"
      ]
    },
    {
      "cell_type": "markdown",
      "id": "e5516e87",
      "metadata": {
        "id": "e5516e87"
      },
      "source": [
        "### ONNX Model\n",
        "[back to top ⬆️](#Table-of-contents:)\n",
        "\n",
        "[ONNX](https://onnx.ai/) is an open format built to represent machine learning models. ONNX defines a common set of operators - the building blocks of machine learning and deep learning models - and a common file format to enable AI developers to use models with a variety of frameworks, tools, runtimes, and compilers. OpenVINO supports reading models in ONNX format directly,that means they can be used with OpenVINO Runtime without any prior conversion.\n",
        "\n",
        "Reading and loading an ONNX model, which is a single `.onnx` file, works the same way as with an OpenVINO IR model. The `model` argument points to the filename of an ONNX model."
      ]
    },
    {
      "cell_type": "code",
      "execution_count": null,
      "id": "09640278",
      "metadata": {
        "id": "09640278",
        "outputId": "981d593d-abb0-4a7d-89cb-963f6390812f",
        "colab": {
          "referenced_widgets": [
            "eb8501fb463b471680a202a747489cee"
          ]
        }
      },
      "outputs": [
        {
          "data": {
            "application/vnd.jupyter.widget-view+json": {
              "model_id": "eb8501fb463b471680a202a747489cee",
              "version_major": 2,
              "version_minor": 0
            },
            "text/plain": [
              "segmentation.onnx:   0%|          | 0.00/4.41M [00:00<?, ?B/s]"
            ]
          },
          "metadata": {},
          "output_type": "display_data"
        }
      ],
      "source": [
        "onnx_model_url = \"https://storage.openvinotoolkit.org/repositories/openvino_notebooks/models/002-example-models/segmentation.onnx\"\n",
        "onnx_model_name = \"segmentation.onnx\"\n",
        "\n",
        "if not Path(\"model/\" + onnx_model_name).exists():\n",
        "    download_file(onnx_model_url, filename=onnx_model_name, directory=\"model\")"
      ]
    },
    {
      "cell_type": "code",
      "execution_count": null,
      "id": "15833f51",
      "metadata": {
        "id": "15833f51"
      },
      "outputs": [],
      "source": [
        "import openvino as ov\n",
        "\n",
        "core = ov.Core()\n",
        "onnx_model_path = \"model/segmentation.onnx\"\n",
        "\n",
        "model_onnx = core.read_model(model=onnx_model_path)\n",
        "compiled_model_onnx = core.compile_model(model=model_onnx, device_name=device.value)"
      ]
    },
    {
      "cell_type": "markdown",
      "id": "3d6a41d9-a2de-40a8-b925-fe3e817866d4",
      "metadata": {
        "id": "3d6a41d9-a2de-40a8-b925-fe3e817866d4"
      },
      "source": [
        "The ONNX model can be exported to OpenVINO IR with `save_model()`:"
      ]
    },
    {
      "cell_type": "code",
      "execution_count": null,
      "id": "1610b254-8567-4409-9b26-259b8acd10dd",
      "metadata": {
        "id": "1610b254-8567-4409-9b26-259b8acd10dd"
      },
      "outputs": [],
      "source": [
        "ov.save_model(model_onnx, output_model=\"model/exported_onnx_model.xml\")"
      ]
    },
    {
      "cell_type": "markdown",
      "id": "fb9ba7d2-ef7a-46ed-b8a2-5c47f7b97fec",
      "metadata": {
        "id": "fb9ba7d2-ef7a-46ed-b8a2-5c47f7b97fec"
      },
      "source": [
        "### PaddlePaddle Model\n",
        "[back to top ⬆️](#Table-of-contents:)\n",
        "\n",
        "[PaddlePaddle](https://www.paddlepaddle.org.cn/documentation/docs/en/guides/index_en.html) models saved for inference can also be passed to OpenVINO Runtime without any conversion step. Pass the filename with extension to `read_model` and exported an OpenVINO IR with `save_model`\n"
      ]
    },
    {
      "cell_type": "code",
      "execution_count": null,
      "id": "b0daa43e",
      "metadata": {
        "id": "b0daa43e",
        "outputId": "dc46a502-718e-44cb-d36d-d2a7dd311c63",
        "colab": {
          "referenced_widgets": [
            "9a68cf459ce741958270e5d0c5fcf80d",
            "96250829173b46f99401191152f1e745"
          ]
        }
      },
      "outputs": [
        {
          "data": {
            "application/vnd.jupyter.widget-view+json": {
              "model_id": "9a68cf459ce741958270e5d0c5fcf80d",
              "version_major": 2,
              "version_minor": 0
            },
            "text/plain": [
              "inference.pdmodel:   0%|          | 0.00/1.03M [00:00<?, ?B/s]"
            ]
          },
          "metadata": {},
          "output_type": "display_data"
        },
        {
          "data": {
            "application/vnd.jupyter.widget-view+json": {
              "model_id": "96250829173b46f99401191152f1e745",
              "version_major": 2,
              "version_minor": 0
            },
            "text/plain": [
              "inference.pdiparams:   0%|          | 0.00/21.0M [00:00<?, ?B/s]"
            ]
          },
          "metadata": {},
          "output_type": "display_data"
        }
      ],
      "source": [
        "paddle_model_url = \"https://storage.openvinotoolkit.org/repositories/openvino_notebooks/models/002-example-models/\"\n",
        "paddle_model_name = \"inference.pdmodel\"\n",
        "paddle_params_name = \"inference.pdiparams\"\n",
        "\n",
        "if not Path(\"model/\" + paddle_model_name).exists() or not Path(\"model/\" + paddle_params_name).exists():\n",
        "    download_file(paddle_model_url + paddle_model_name, filename=paddle_model_name, directory=\"model\")\n",
        "    download_file(\n",
        "        paddle_model_url + paddle_params_name,\n",
        "        filename=paddle_params_name,\n",
        "        directory=\"model\",\n",
        "    )"
      ]
    },
    {
      "cell_type": "code",
      "execution_count": null,
      "id": "d6524ef0-9a76-4254-8614-3a1e24cc9420",
      "metadata": {
        "id": "d6524ef0-9a76-4254-8614-3a1e24cc9420"
      },
      "outputs": [],
      "source": [
        "import openvino as ov\n",
        "\n",
        "core = ov.Core()\n",
        "paddle_model_path = \"model/inference.pdmodel\"\n",
        "\n",
        "model_paddle = core.read_model(model=paddle_model_path)\n",
        "compiled_model_paddle = core.compile_model(model=model_paddle, device_name=device.value)"
      ]
    },
    {
      "cell_type": "code",
      "execution_count": null,
      "id": "74f8948d-0eed-4b3c-98ae-35870ff82625",
      "metadata": {
        "id": "74f8948d-0eed-4b3c-98ae-35870ff82625"
      },
      "outputs": [],
      "source": [
        "ov.save_model(model_paddle, output_model=\"model/exported_paddle_model.xml\")"
      ]
    },
    {
      "cell_type": "markdown",
      "id": "1d7fcaff-8ed6-4c96-a46d-2ef813f24eb1",
      "metadata": {
        "id": "1d7fcaff-8ed6-4c96-a46d-2ef813f24eb1"
      },
      "source": [
        "### TensorFlow Model\n",
        "[back to top ⬆️](#Table-of-contents:)\n",
        "\n",
        "TensorFlow models saved in frozen graph format can also be passed to `read_model`.\n"
      ]
    },
    {
      "cell_type": "code",
      "execution_count": null,
      "id": "eb33ec27",
      "metadata": {
        "id": "eb33ec27",
        "outputId": "1408529f-e258-4781-d678-01de7b94a7bc",
        "colab": {
          "referenced_widgets": [
            "46e935b480ec4daaab974fe05d899186"
          ]
        }
      },
      "outputs": [
        {
          "data": {
            "application/vnd.jupyter.widget-view+json": {
              "model_id": "46e935b480ec4daaab974fe05d899186",
              "version_major": 2,
              "version_minor": 0
            },
            "text/plain": [
              "classification.pb:   0%|          | 0.00/9.88M [00:00<?, ?B/s]"
            ]
          },
          "metadata": {},
          "output_type": "display_data"
        }
      ],
      "source": [
        "pb_model_url = \"https://storage.openvinotoolkit.org/repositories/openvino_notebooks/models/002-example-models/classification.pb\"\n",
        "pb_model_name = \"classification.pb\"\n",
        "\n",
        "if not Path(\"model/\" + pb_model_name).exists():\n",
        "    download_file(pb_model_url, filename=pb_model_name, directory=\"model\")"
      ]
    },
    {
      "cell_type": "code",
      "execution_count": null,
      "id": "85446bed-8787-4fab-b64b-03035ad74bfd",
      "metadata": {
        "id": "85446bed-8787-4fab-b64b-03035ad74bfd"
      },
      "outputs": [],
      "source": [
        "import openvino as ov\n",
        "\n",
        "core = ov.Core()\n",
        "tf_model_path = \"model/classification.pb\"\n",
        "\n",
        "model_tf = core.read_model(model=tf_model_path)\n",
        "compiled_model_tf = core.compile_model(model=model_tf, device_name=device.value)"
      ]
    },
    {
      "cell_type": "code",
      "execution_count": null,
      "id": "48f3cd1c-9343-4fdd-8e8d-9226a4956517",
      "metadata": {
        "id": "48f3cd1c-9343-4fdd-8e8d-9226a4956517"
      },
      "outputs": [],
      "source": [
        "ov.save_model(model_tf, output_model=\"model/exported_tf_model.xml\")"
      ]
    },
    {
      "cell_type": "markdown",
      "id": "8e7ba1b1",
      "metadata": {
        "id": "8e7ba1b1"
      },
      "source": [
        "### TensorFlow Lite Model\n",
        "[back to top ⬆️](#Table-of-contents:)\n",
        "\n",
        "[TFLite](https://www.tensorflow.org/lite) models saved for inference can also be passed to OpenVINO Runtime. Pass the filename with extension `.tflite` to `read_model` and exported an OpenVINO IR with `save_model`.\n",
        "\n",
        "This tutorial uses the image classification model [inception_v4_quant](https://tfhub.dev/tensorflow/lite-model/inception_v4_quant/1/default/1). It is pre-trained model optimized to work with TensorFlow Lite."
      ]
    },
    {
      "cell_type": "code",
      "execution_count": null,
      "id": "885d52d2",
      "metadata": {
        "id": "885d52d2",
        "outputId": "c5273e63-aadc-46dc-eb6d-5426dc0ebe9a"
      },
      "outputs": [
        {
          "name": "stdout",
          "output_type": "stream",
          "text": [
            "Note: you may need to restart the kernel to use updated packages.\n"
          ]
        }
      ],
      "source": [
        "%pip install -q kagglehub"
      ]
    },
    {
      "cell_type": "code",
      "execution_count": null,
      "id": "16ef64c1",
      "metadata": {
        "id": "16ef64c1",
        "outputId": "0d46887b-eafa-418f-c3f2-03ae828ee853",
        "colab": {
          "referenced_widgets": [
            "731b93f06b6a4b14850824e7a5a858c4"
          ]
        }
      },
      "outputs": [
        {
          "data": {
            "application/vnd.jupyter.widget-view+json": {
              "model_id": "731b93f06b6a4b14850824e7a5a858c4",
              "version_major": 2,
              "version_minor": 0
            },
            "text/plain": [
              "Downloading 1 files:   0%|          | 0/1 [00:00<?, ?it/s]"
            ]
          },
          "metadata": {},
          "output_type": "display_data"
        },
        {
          "name": "stdout",
          "output_type": "stream",
          "text": [
            "Downloading from https://www.kaggle.com/api/v1/models/tensorflow/inception/tfLite/v4-quant/1/download/1.tflite...\n"
          ]
        },
        {
          "name": "stderr",
          "output_type": "stream",
          "text": [
            "\n",
            "  0%|                                               | 0.00/40.9M [00:00<?, ?B/s]\u001b[A\n",
            "  2%|▉                                     | 1.00M/40.9M [00:00<00:34, 1.23MB/s]\u001b[A\n",
            "  5%|█▊                                    | 2.00M/40.9M [00:01<00:18, 2.22MB/s]\u001b[A\n",
            "  7%|██▊                                   | 3.00M/40.9M [00:01<00:12, 3.28MB/s]\u001b[A\n",
            " 10%|███▋                                  | 4.00M/40.9M [00:01<00:09, 4.20MB/s]\u001b[A\n",
            " 12%|████▋                                 | 5.00M/40.9M [00:01<00:07, 5.10MB/s]\u001b[A\n",
            " 15%|█████▌                                | 6.00M/40.9M [00:01<00:06, 5.95MB/s]\u001b[A\n",
            " 17%|██████▌                               | 7.00M/40.9M [00:01<00:05, 6.78MB/s]\u001b[A\n",
            " 22%|████████▎                             | 9.00M/40.9M [00:01<00:03, 8.47MB/s]\u001b[A\n",
            " 27%|██████████▏                           | 11.0M/40.9M [00:02<00:03, 9.81MB/s]\u001b[A\n",
            " 32%|████████████                          | 13.0M/40.9M [00:02<00:02, 11.3MB/s]\u001b[A\n",
            " 37%|█████████████▉                        | 15.0M/40.9M [00:02<00:02, 12.6MB/s]\u001b[A\n",
            " 42%|███████████████▊                      | 17.0M/40.9M [00:02<00:01, 14.0MB/s]\u001b[A\n",
            " 46%|█████████████████▋                    | 19.0M/40.9M [00:02<00:01, 15.4MB/s]\u001b[A\n",
            " 54%|████████████████████▍                 | 22.0M/40.9M [00:02<00:01, 17.3MB/s]\u001b[A\n",
            " 59%|██████████████████████▎               | 24.0M/40.9M [00:02<00:00, 18.1MB/s]\u001b[A\n",
            " 66%|█████████████████████████             | 27.0M/40.9M [00:02<00:00, 19.9MB/s]\u001b[A\n",
            " 73%|███████████████████████████▉          | 30.0M/40.9M [00:03<00:00, 22.7MB/s]\u001b[A\n",
            " 81%|██████████████████████████████▋       | 33.0M/40.9M [00:03<00:00, 24.8MB/s]\u001b[A\n",
            " 88%|█████████████████████████████████▍    | 36.0M/40.9M [00:03<00:00, 25.4MB/s]\u001b[A\n",
            "100%|██████████████████████████████████████| 40.9M/40.9M [00:03<00:00, 12.7MB/s]\u001b[A\n"
          ]
        }
      ],
      "source": [
        "from pathlib import Path\n",
        "import kagglehub\n",
        "\n",
        "tflite_model_dir = kagglehub.model_download(\"tensorflow/inception/tfLite/v4-quant\")\n",
        "tflite_model_path = Path(tflite_model_dir) / \"1.tflite\""
      ]
    },
    {
      "cell_type": "code",
      "execution_count": null,
      "id": "ed67c6c7",
      "metadata": {
        "id": "ed67c6c7"
      },
      "outputs": [],
      "source": [
        "import openvino as ov\n",
        "\n",
        "core = ov.Core()\n",
        "\n",
        "model_tflite = core.read_model(tflite_model_path)\n",
        "compiled_model_tflite = core.compile_model(model=model_tflite, device_name=device.value)"
      ]
    },
    {
      "cell_type": "code",
      "execution_count": null,
      "id": "4f73b1ca",
      "metadata": {
        "id": "4f73b1ca"
      },
      "outputs": [],
      "source": [
        "ov.save_model(model_tflite, output_model=\"model/exported_tflite_model.xml\")"
      ]
    },
    {
      "cell_type": "markdown",
      "id": "9f77c985-f9c1-4500-bd3e-714890a191b5",
      "metadata": {
        "id": "9f77c985-f9c1-4500-bd3e-714890a191b5"
      },
      "source": [
        "### PyTorch Model\n",
        "[back to top ⬆️](#Table-of-contents:)\n",
        "\n",
        "[PyTorch](https://pytorch.org/) models can not be directly passed to `core.read_model`. `ov.Model` for model objects from this framework can be obtained using `ov.convert_model` API. You can find more details in [pytorch-to-openvino](../pytorch-to-openvino) notebook. In this tutorial we will use [resnet18](https://pytorch.org/vision/main/models/generated/torchvision.models.resnet18.html) model form torchvision library. After conversion model using `ov.convert_model`, it can be compiled on device using `core.compile_model` or saved on disk for the next usage using `ov.save_model`\n"
      ]
    },
    {
      "cell_type": "code",
      "execution_count": null,
      "id": "c4d2902a",
      "metadata": {
        "id": "c4d2902a",
        "outputId": "6544d7e4-159d-483b-80ec-b1df78941669"
      },
      "outputs": [
        {
          "name": "stdout",
          "output_type": "stream",
          "text": [
            "Note: you may need to restart the kernel to use updated packages.\n"
          ]
        }
      ],
      "source": [
        "%pip install -q \"torch>=2.1\" torchvision --extra-index-url https://download.pytorch.org/whl/cpu"
      ]
    },
    {
      "cell_type": "code",
      "execution_count": null,
      "id": "ffdfb706-256e-47e8-a55c-090d303b6815",
      "metadata": {
        "id": "ffdfb706-256e-47e8-a55c-090d303b6815",
        "outputId": "f1b83d02-e16e-46fb-c434-6a020da23481"
      },
      "outputs": [
        {
          "name": "stdout",
          "output_type": "stream",
          "text": [
            "Downloading: \"https://download.pytorch.org/models/resnet18-f37072fd.pth\" to /home/labuser/.cache/torch/hub/checkpoints/resnet18-f37072fd.pth\n"
          ]
        },
        {
          "name": "stderr",
          "output_type": "stream",
          "text": [
            "100%|██████████████████████████████████████| 44.7M/44.7M [00:02<00:00, 18.3MB/s]\n"
          ]
        }
      ],
      "source": [
        "import openvino as ov\n",
        "import torch\n",
        "from torchvision.models import resnet18, ResNet18_Weights\n",
        "\n",
        "core = ov.Core()\n",
        "\n",
        "pt_model = resnet18(weights=ResNet18_Weights.IMAGENET1K_V1)\n",
        "example_input = torch.zeros((1, 3, 224, 224))\n",
        "ov_model_pytorch = ov.convert_model(pt_model, example_input=example_input)\n",
        "\n",
        "compiled_model_pytorch = core.compile_model(ov_model_pytorch, device_name=device.value)\n",
        "\n",
        "ov.save_model(ov_model_pytorch, \"model/exported_pytorch_model.xml\")"
      ]
    },
    {
      "cell_type": "markdown",
      "id": "8ebee450",
      "metadata": {
        "tags": [],
        "id": "8ebee450"
      },
      "source": [
        "## Getting Information about a Model\n",
        "[back to top ⬆️](#Table-of-contents:)\n",
        "\n",
        "The OpenVINO Model instance stores information about the model. Information about the inputs and outputs of the model are in `model.inputs` and `model.outputs`. These are also properties of the `CompiledModel` instance. While using `model.inputs` and `model.outputs` in the cells below, you can also use `compiled_model.inputs` and `compiled_model.outputs`."
      ]
    },
    {
      "cell_type": "code",
      "execution_count": null,
      "id": "e8a70ab1",
      "metadata": {
        "id": "e8a70ab1"
      },
      "outputs": [],
      "source": [
        "ir_model_url = \"https://storage.openvinotoolkit.org/repositories/openvino_notebooks/models/002-example-models/\"\n",
        "ir_model_name_xml = \"classification.xml\"\n",
        "ir_model_name_bin = \"classification.bin\"\n",
        "\n",
        "if not Path(\"model/\" + ir_model_name_xml).exists():\n",
        "    download_file(ir_model_url + ir_model_name_xml, filename=ir_model_name_xml, directory=\"model\")\n",
        "    download_file(ir_model_url + ir_model_name_bin, filename=ir_model_name_bin, directory=\"model\")"
      ]
    },
    {
      "cell_type": "markdown",
      "id": "edc79b32",
      "metadata": {
        "id": "edc79b32"
      },
      "source": [
        "### Model Inputs\n",
        "[back to top ⬆️](#Table-of-contents:)\n",
        "\n",
        "Information about all input layers is stored in the `inputs` dictionary."
      ]
    },
    {
      "cell_type": "code",
      "execution_count": null,
      "id": "5571614d",
      "metadata": {
        "id": "5571614d",
        "outputId": "28a00933-3600-4d6e-e678-52b25301568e"
      },
      "outputs": [
        {
          "data": {
            "text/plain": [
              "[<Output: names[input, input:0] shape[1,3,224,224] type: f32>]"
            ]
          },
          "execution_count": 23,
          "metadata": {},
          "output_type": "execute_result"
        }
      ],
      "source": [
        "import openvino as ov\n",
        "\n",
        "core = ov.Core()\n",
        "classification_model_xml = \"model/classification.xml\"\n",
        "model = core.read_model(model=classification_model_xml)\n",
        "model.inputs"
      ]
    },
    {
      "cell_type": "markdown",
      "id": "4ebb1299",
      "metadata": {
        "id": "4ebb1299"
      },
      "source": [
        "The cell above shows that the loaded model expects one input with the name _input_. If you loaded a different model, you may see a different input layer name, and you may see more inputs. You may also obtain info about each input layer using `model.input(index)`, where index is a numeric index of the input layers in the model. If a model has only one input, index can be omitted."
      ]
    },
    {
      "cell_type": "code",
      "execution_count": null,
      "id": "6cf48354",
      "metadata": {
        "id": "6cf48354"
      },
      "outputs": [],
      "source": [
        "input_layer = model.input(0)"
      ]
    },
    {
      "cell_type": "markdown",
      "id": "3f754e26-2223-4b97-9181-46434aa8fbe7",
      "metadata": {
        "id": "3f754e26-2223-4b97-9181-46434aa8fbe7"
      },
      "source": [
        "It is often useful to have a reference to the name of the first input layer. For a model with one input, `model.input(0).any_name` gets this name."
      ]
    },
    {
      "cell_type": "code",
      "execution_count": null,
      "id": "2202aec4-d68f-4cfa-8b8e-3340ec085a8c",
      "metadata": {
        "id": "2202aec4-d68f-4cfa-8b8e-3340ec085a8c",
        "outputId": "3d62783a-b179-4451-a9ea-ee2f5cb5cdea"
      },
      "outputs": [
        {
          "data": {
            "text/plain": [
              "'input'"
            ]
          },
          "execution_count": 25,
          "metadata": {},
          "output_type": "execute_result"
        }
      ],
      "source": [
        "input_layer.any_name"
      ]
    },
    {
      "cell_type": "markdown",
      "id": "aea90446",
      "metadata": {
        "id": "aea90446"
      },
      "source": [
        "The next cell prints the input layout, precision and shape."
      ]
    },
    {
      "cell_type": "code",
      "execution_count": null,
      "id": "bd0bc0c1",
      "metadata": {
        "id": "bd0bc0c1",
        "outputId": "33fa9ad8-1967-473d-a6bb-5af522d214ca"
      },
      "outputs": [
        {
          "name": "stdout",
          "output_type": "stream",
          "text": [
            "input precision: <Type: 'float32'>\n",
            "input shape: [1,3,224,224]\n"
          ]
        }
      ],
      "source": [
        "print(f\"input precision: {input_layer.element_type}\")\n",
        "print(f\"input shape: {input_layer.shape}\")"
      ]
    },
    {
      "cell_type": "markdown",
      "id": "d189a73c",
      "metadata": {
        "id": "d189a73c"
      },
      "source": [
        "This cell shows that the model expects inputs with a shape of [1,3,224,224], and that this is in the `NCHW` layout. This means that the model expects input data with the batch size of 1 (`N`), 3 channels (`C`) , and images with a height (`H`) and width (`W`) equal to 224. The input data is expected to be of `FP32` (floating point) precision."
      ]
    },
    {
      "cell_type": "markdown",
      "id": "155cf48e",
      "metadata": {
        "id": "155cf48e"
      },
      "source": [
        "### Model Outputs\n",
        "[back to top ⬆️](#Table-of-contents:)\n"
      ]
    },
    {
      "cell_type": "code",
      "execution_count": null,
      "id": "4583eb0e",
      "metadata": {
        "id": "4583eb0e",
        "outputId": "88277ea5-ac05-45f1-b1bc-4af11a550c27"
      },
      "outputs": [
        {
          "data": {
            "text/plain": [
              "[<Output: names[MobilenetV3/Predictions/Softmax] shape[1,1001] type: f32>]"
            ]
          },
          "execution_count": 27,
          "metadata": {},
          "output_type": "execute_result"
        }
      ],
      "source": [
        "import openvino as ov\n",
        "\n",
        "core = ov.Core()\n",
        "classification_model_xml = \"model/classification.xml\"\n",
        "model = core.read_model(model=classification_model_xml)\n",
        "model.outputs"
      ]
    },
    {
      "cell_type": "markdown",
      "id": "a189c02f",
      "metadata": {
        "id": "a189c02f"
      },
      "source": [
        "Model output info is stored in `model.outputs`. The cell above shows that the model returns one output, with the `MobilenetV3/Predictions/Softmax` name. Loading a different model will result in different output layer name, and more outputs might be returned. Similar to input, you may also obtain information about each output separately using `model.output(index)`\n",
        "\n",
        "Since this model has one output, follow the same method as for the input layer to get its name."
      ]
    },
    {
      "cell_type": "code",
      "execution_count": null,
      "id": "88fbbd06",
      "metadata": {
        "id": "88fbbd06",
        "outputId": "7fa19e4d-71f7-448b-c888-b351c760c303"
      },
      "outputs": [
        {
          "data": {
            "text/plain": [
              "'MobilenetV3/Predictions/Softmax'"
            ]
          },
          "execution_count": 28,
          "metadata": {},
          "output_type": "execute_result"
        }
      ],
      "source": [
        "output_layer = model.output(0)\n",
        "output_layer.any_name"
      ]
    },
    {
      "cell_type": "markdown",
      "id": "16ad0240",
      "metadata": {
        "id": "16ad0240"
      },
      "source": [
        "Getting the output precision and shape is similar to getting the input precision and shape."
      ]
    },
    {
      "cell_type": "code",
      "execution_count": null,
      "id": "0ee5e14a",
      "metadata": {
        "id": "0ee5e14a",
        "outputId": "c29f5570-8c24-4e02-802c-dd5f24d99e96"
      },
      "outputs": [
        {
          "name": "stdout",
          "output_type": "stream",
          "text": [
            "output precision: <Type: 'float32'>\n",
            "output shape: [1,1001]\n"
          ]
        }
      ],
      "source": [
        "print(f\"output precision: {output_layer.element_type}\")\n",
        "print(f\"output shape: {output_layer.shape}\")"
      ]
    },
    {
      "cell_type": "markdown",
      "id": "2739f5bb",
      "metadata": {
        "id": "2739f5bb"
      },
      "source": [
        "This cell shows that the model returns outputs with a shape of [1, 1001], where 1 is the batch size (`N`) and 1001 is the number of classes (`C`). The output is returned as 32-bit floating point."
      ]
    },
    {
      "cell_type": "markdown",
      "id": "021708ab",
      "metadata": {
        "id": "021708ab"
      },
      "source": [
        "## Doing Inference on a Model\n",
        "[back to top ⬆️](#Table-of-contents:)\n",
        "\n",
        "> **NOTE** this notebook demonstrates only the basic synchronous inference API. For an async inference example, please refer to [Async API notebook](../async-api/async-api.ipynb)\n",
        "\n",
        "The diagram below shows a typical inference pipeline with OpenVINO\n",
        "\n",
        "![image.png](https://github.com/openvinotoolkit/openvino_notebooks/assets/29454499/a91bc582-165b-41a2-ab08-12c812059936)\n",
        "\n",
        "Creating OpenVINO Core and model compilation is covered in the previous steps. The next step is preparing inputs. You can provide inputs in one of the supported format: dictionary with name of inputs as keys and `np.arrays` that represent input tensors as values, list or tuple of `np.arrays` represented input tensors (their order should match with model inputs order). If a model has a single input, wrapping to a dictionary or list can be omitted.   To do inference on a model, pass prepared inputs into compiled model object obtained using `core.compile_model`. The inference result represented as dictionary, where keys are model outputs and `np.arrays` represented their produced data as values.  "
      ]
    },
    {
      "cell_type": "code",
      "execution_count": null,
      "id": "d64830f0",
      "metadata": {
        "id": "d64830f0",
        "outputId": "c3bf4aac-63f7-46df-ddae-c42977adfa02"
      },
      "outputs": [
        {
          "name": "stdout",
          "output_type": "stream",
          "text": [
            "Note: you may need to restart the kernel to use updated packages.\n"
          ]
        }
      ],
      "source": [
        "# Install opencv package for image handling\n",
        "%pip install -q opencv-python"
      ]
    },
    {
      "cell_type": "markdown",
      "id": "3ec2eac8",
      "metadata": {
        "id": "3ec2eac8"
      },
      "source": [
        "**Load the network**"
      ]
    },
    {
      "cell_type": "code",
      "execution_count": null,
      "id": "6263a7d5",
      "metadata": {
        "id": "6263a7d5"
      },
      "outputs": [],
      "source": [
        "ir_model_url = \"https://storage.openvinotoolkit.org/repositories/openvino_notebooks/models/002-example-models/\"\n",
        "ir_model_name_xml = \"classification.xml\"\n",
        "ir_model_name_bin = \"classification.bin\"\n",
        "\n",
        "if not Path(\"model/\" + ir_model_name_xml).exists():\n",
        "    download_file(ir_model_url + ir_model_name_xml, filename=ir_model_name_xml, directory=\"model\")\n",
        "    download_file(ir_model_url + ir_model_name_bin, filename=ir_model_name_bin, directory=\"model\")"
      ]
    },
    {
      "cell_type": "code",
      "execution_count": null,
      "id": "298c80b5",
      "metadata": {
        "id": "298c80b5"
      },
      "outputs": [],
      "source": [
        "import openvino as ov\n",
        "\n",
        "core = ov.Core()\n",
        "classification_model_xml = \"model/classification.xml\"\n",
        "model = core.read_model(model=classification_model_xml)\n",
        "compiled_model = core.compile_model(model=model, device_name=device.value)\n",
        "input_layer = compiled_model.input(0)\n",
        "output_layer = compiled_model.output(0)"
      ]
    },
    {
      "cell_type": "markdown",
      "id": "173cd1c9",
      "metadata": {
        "id": "173cd1c9"
      },
      "source": [
        "**Load an image and convert to the input shape**\n",
        "\n",
        "To propagate an image through the network, it needs to be loaded into an array, resized to the shape that the network expects, and converted to the input layout of the network."
      ]
    },
    {
      "cell_type": "code",
      "execution_count": null,
      "id": "1f23c43a",
      "metadata": {
        "id": "1f23c43a",
        "outputId": "1d0cda4d-969e-442a-f94f-9af4d27d98ea",
        "colab": {
          "referenced_widgets": [
            "07e292fcaa224be0ae9a34b37d67fc3c"
          ]
        }
      },
      "outputs": [
        {
          "data": {
            "application/vnd.jupyter.widget-view+json": {
              "model_id": "07e292fcaa224be0ae9a34b37d67fc3c",
              "version_major": 2,
              "version_minor": 0
            },
            "text/plain": [
              "coco_hollywood.jpg:   0%|          | 0.00/485k [00:00<?, ?B/s]"
            ]
          },
          "metadata": {},
          "output_type": "display_data"
        },
        {
          "data": {
            "text/plain": [
              "(663, 994, 3)"
            ]
          },
          "execution_count": 33,
          "metadata": {},
          "output_type": "execute_result"
        }
      ],
      "source": [
        "import cv2\n",
        "\n",
        "image_filename = Path(\"data/coco_hollywood.jpg\")\n",
        "if not image_filename.exists():\n",
        "    image_filename = download_file(\n",
        "        \"https://storage.openvinotoolkit.org/repositories/openvino_notebooks/data/data/image/coco_hollywood.jpg\",\n",
        "        directory=\"data\",\n",
        "    )\n",
        "image = cv2.imread(str(image_filename))\n",
        "image.shape"
      ]
    },
    {
      "cell_type": "markdown",
      "id": "6bf541d8",
      "metadata": {
        "id": "6bf541d8"
      },
      "source": [
        "The image has a shape of (663,994,3). It is 663 pixels in height, 994 pixels in width, and has 3 color channels. A reference to the height and width expected by the network is obtained and the image is resized to these dimensions."
      ]
    },
    {
      "cell_type": "code",
      "execution_count": null,
      "id": "c9f97da2",
      "metadata": {
        "id": "c9f97da2",
        "outputId": "c0af9cb1-fe8a-45e7-f84f-4bdcfadf7d50"
      },
      "outputs": [
        {
          "data": {
            "text/plain": [
              "(224, 224, 3)"
            ]
          },
          "execution_count": 34,
          "metadata": {},
          "output_type": "execute_result"
        }
      ],
      "source": [
        "# N,C,H,W = batch size, number of channels, height, width.\n",
        "N, C, H, W = input_layer.shape\n",
        "# OpenCV resize expects the destination size as (width, height).\n",
        "resized_image = cv2.resize(src=image, dsize=(W, H))\n",
        "resized_image.shape"
      ]
    },
    {
      "cell_type": "markdown",
      "id": "436a6d74",
      "metadata": {
        "id": "436a6d74"
      },
      "source": [
        "Now, the image has the width and height that the network expects. This is still in `HWC` format and must be changed to `NCHW` format. First, call the `np.transpose()` method to change to `CHW` and then add the `N` dimension (where `N`= 1) by calling the `np.expand_dims()` method. Next, convert the data to `FP32` with `np.astype()` method."
      ]
    },
    {
      "cell_type": "code",
      "execution_count": null,
      "id": "d09b7275",
      "metadata": {
        "id": "d09b7275",
        "outputId": "80f0ea7f-d718-4561-c8a2-4d4d0f93e0bb"
      },
      "outputs": [
        {
          "data": {
            "text/plain": [
              "(1, 3, 224, 224)"
            ]
          },
          "execution_count": 35,
          "metadata": {},
          "output_type": "execute_result"
        }
      ],
      "source": [
        "import numpy as np\n",
        "\n",
        "input_data = np.expand_dims(np.transpose(resized_image, (2, 0, 1)), 0).astype(np.float32)\n",
        "input_data.shape"
      ]
    },
    {
      "cell_type": "markdown",
      "id": "af110efb",
      "metadata": {
        "id": "af110efb"
      },
      "source": [
        "**Do inference**\n",
        "\n",
        "Now that the input data is in the right shape, run inference. The `CompiledModel` inference result is a dictionary where keys are the Output class instances (the same keys in `compiled_model.outputs` that can also be obtained with `compiled_model.output(index)`) and values - predicted result in `np.array` format."
      ]
    },
    {
      "cell_type": "code",
      "execution_count": null,
      "id": "098c8cb2",
      "metadata": {
        "pycharm": {
          "name": "#%%\n"
        },
        "id": "098c8cb2"
      },
      "outputs": [],
      "source": [
        "# for single input models only\n",
        "result = compiled_model(input_data)[output_layer]\n",
        "\n",
        "# for multiple inputs in a list\n",
        "result = compiled_model([input_data])[output_layer]\n",
        "\n",
        "# or using a dictionary, where the key is input tensor name or index\n",
        "result = compiled_model({input_layer.any_name: input_data})[output_layer]"
      ]
    },
    {
      "cell_type": "markdown",
      "id": "978a131e",
      "metadata": {
        "pycharm": {
          "name": "#%% md\n"
        },
        "id": "978a131e"
      },
      "source": [
        "You can also create `InferRequest` and run `infer` method on request."
      ]
    },
    {
      "cell_type": "code",
      "execution_count": null,
      "id": "bf94022c",
      "metadata": {
        "id": "bf94022c"
      },
      "outputs": [],
      "source": [
        "request = compiled_model.create_infer_request()\n",
        "request.infer(inputs={input_layer.any_name: input_data})\n",
        "result = request.get_output_tensor(output_layer.index).data"
      ]
    },
    {
      "cell_type": "markdown",
      "id": "53bf7c61",
      "metadata": {
        "id": "53bf7c61"
      },
      "source": [
        "The `.infer()` function sets output tensor, that can be reached, using `get_output_tensor()`. Since this network returns one output, and the reference to the output layer is in the `output_layer.index` parameter, you can get the data with `request.get_output_tensor(output_layer.index)`. To get a numpy array from the output, use the `.data` parameter."
      ]
    },
    {
      "cell_type": "code",
      "execution_count": null,
      "id": "4a0f63b5",
      "metadata": {
        "id": "4a0f63b5",
        "outputId": "3f3955f6-a5b9-43a2-ea03-2d34d637fa8c"
      },
      "outputs": [
        {
          "data": {
            "text/plain": [
              "(1, 1001)"
            ]
          },
          "execution_count": 38,
          "metadata": {},
          "output_type": "execute_result"
        }
      ],
      "source": [
        "result.shape"
      ]
    },
    {
      "cell_type": "markdown",
      "id": "7e5834ee",
      "metadata": {
        "id": "7e5834ee"
      },
      "source": [
        "The output shape is (1,1001), which is the expected output shape. This shape indicates that the network returns probabilities for 1001 classes. To learn more about this notion, refer to the [hello world notebook](../hello-world/hello-world.ipynb)."
      ]
    },
    {
      "cell_type": "markdown",
      "id": "ec6a9be1",
      "metadata": {
        "id": "ec6a9be1"
      },
      "source": [
        "## Reshaping and Resizing\n",
        "[back to top ⬆️](#Table-of-contents:)\n",
        "\n",
        "### Change Image Size\n",
        "[back to top ⬆️](#Table-of-contents:)\n"
      ]
    },
    {
      "cell_type": "markdown",
      "id": "4239b10c",
      "metadata": {
        "id": "4239b10c"
      },
      "source": [
        "Instead of reshaping the image to fit the model, it is also possible to reshape the model to fit the image. Be aware that not all models support reshaping, and models that do, may not support all input shapes. The model accuracy may also suffer if you reshape the model input shape.\n",
        "\n",
        "First check the input shape of the model, then reshape it to the new input shape."
      ]
    },
    {
      "cell_type": "code",
      "execution_count": null,
      "id": "e16cd8c9",
      "metadata": {
        "id": "e16cd8c9",
        "outputId": "4ff34dbc-219b-4f06-fb52-915f1408bc64",
        "colab": {
          "referenced_widgets": [
            "678b05d437d5462c8182bfab08adf87f",
            "9bc70c7fd60e4a89890ef6087c2ac5cc"
          ]
        }
      },
      "outputs": [
        {
          "data": {
            "application/vnd.jupyter.widget-view+json": {
              "model_id": "678b05d437d5462c8182bfab08adf87f",
              "version_major": 2,
              "version_minor": 0
            },
            "text/plain": [
              "segmentation.xml:   0%|          | 0.00/1.38M [00:00<?, ?B/s]"
            ]
          },
          "metadata": {},
          "output_type": "display_data"
        },
        {
          "data": {
            "application/vnd.jupyter.widget-view+json": {
              "model_id": "9bc70c7fd60e4a89890ef6087c2ac5cc",
              "version_major": 2,
              "version_minor": 0
            },
            "text/plain": [
              "segmentation.bin:   0%|          | 0.00/1.09M [00:00<?, ?B/s]"
            ]
          },
          "metadata": {},
          "output_type": "display_data"
        }
      ],
      "source": [
        "ir_model_url = \"https://storage.openvinotoolkit.org/repositories/openvino_notebooks/models/002-example-models/\"\n",
        "ir_model_name_xml = \"segmentation.xml\"\n",
        "ir_model_name_bin = \"segmentation.bin\"\n",
        "\n",
        "if not Path(\"model/\" + ir_model_name_xml).exists():\n",
        "    download_file(ir_model_url + ir_model_name_xml, filename=ir_model_name_xml, directory=\"model\")\n",
        "    download_file(ir_model_url + ir_model_name_bin, filename=ir_model_name_bin, directory=\"model\")"
      ]
    },
    {
      "cell_type": "code",
      "execution_count": null,
      "id": "bc1a69f8",
      "metadata": {
        "id": "bc1a69f8",
        "outputId": "98369dc2-4957-4a1f-f133-6a3bffaa4c55"
      },
      "outputs": [
        {
          "name": "stdout",
          "output_type": "stream",
          "text": [
            "~~~~ ORIGINAL MODEL ~~~~\n",
            "input shape: [1,3,512,512]\n",
            "output shape: [1,1,512,512]\n",
            "~~~~ RESHAPED MODEL ~~~~\n",
            "model input shape: [1,3,544,544]\n",
            "compiled_model input shape: [1,3,544,544]\n",
            "compiled_model output shape: [1,1,544,544]\n"
          ]
        }
      ],
      "source": [
        "import openvino as ov\n",
        "\n",
        "core = ov.Core()\n",
        "segmentation_model_xml = \"model/segmentation.xml\"\n",
        "segmentation_model = core.read_model(model=segmentation_model_xml)\n",
        "segmentation_input_layer = segmentation_model.input(0)\n",
        "segmentation_output_layer = segmentation_model.output(0)\n",
        "\n",
        "print(\"~~~~ ORIGINAL MODEL ~~~~\")\n",
        "print(f\"input shape: {segmentation_input_layer.shape}\")\n",
        "print(f\"output shape: {segmentation_output_layer.shape}\")\n",
        "\n",
        "new_shape = ov.PartialShape([1, 3, 544, 544])\n",
        "segmentation_model.reshape({segmentation_input_layer.any_name: new_shape})\n",
        "segmentation_compiled_model = core.compile_model(model=segmentation_model, device_name=device.value)\n",
        "# help(segmentation_compiled_model)\n",
        "print(\"~~~~ RESHAPED MODEL ~~~~\")\n",
        "print(f\"model input shape: {segmentation_input_layer.shape}\")\n",
        "print(f\"compiled_model input shape: \" f\"{segmentation_compiled_model.input(index=0).shape}\")\n",
        "print(f\"compiled_model output shape: {segmentation_output_layer.shape}\")"
      ]
    },
    {
      "cell_type": "markdown",
      "id": "2104cef6",
      "metadata": {
        "id": "2104cef6"
      },
      "source": [
        "The input shape for the segmentation network is [1,3,512,512], with the `NCHW` layout: the network expects 3-channel images with a width and height of 512 and a batch size of 1. Reshape the network with the `.reshape()` method of `IENetwork` to make it accept input images with a width and height of 544. This segmentation network always returns arrays with the input width and height of equal value. Therefore, setting the input dimensions to 544x544 also modifies the output dimensions. After reshaping, compile the network once again."
      ]
    },
    {
      "cell_type": "markdown",
      "id": "249d697a",
      "metadata": {
        "id": "249d697a"
      },
      "source": [
        "### Change Batch Size\n",
        "[back to top ⬆️](#Table-of-contents:)\n"
      ]
    },
    {
      "cell_type": "markdown",
      "id": "ded79c8f",
      "metadata": {
        "id": "ded79c8f"
      },
      "source": [
        "Use the `.reshape()` method to set the batch size, by increasing the first element of `new_shape`. For example, to set a batch size of two, set `new_shape = (2,3,544,544)` in the cell above."
      ]
    },
    {
      "cell_type": "code",
      "execution_count": null,
      "id": "a49d65c6",
      "metadata": {
        "id": "a49d65c6",
        "outputId": "9042cbd2-e872-495c-a6f4-067d23abce0e"
      },
      "outputs": [
        {
          "name": "stdout",
          "output_type": "stream",
          "text": [
            "input shape: [2,3,544,544]\n",
            "output shape: [2,1,544,544]\n"
          ]
        }
      ],
      "source": [
        "import openvino as ov\n",
        "\n",
        "segmentation_model_xml = \"model/segmentation.xml\"\n",
        "segmentation_model = core.read_model(model=segmentation_model_xml)\n",
        "segmentation_input_layer = segmentation_model.input(0)\n",
        "segmentation_output_layer = segmentation_model.output(0)\n",
        "new_shape = ov.PartialShape([2, 3, 544, 544])\n",
        "segmentation_model.reshape({segmentation_input_layer.any_name: new_shape})\n",
        "segmentation_compiled_model = core.compile_model(model=segmentation_model, device_name=device.value)\n",
        "\n",
        "print(f\"input shape: {segmentation_input_layer.shape}\")\n",
        "print(f\"output shape: {segmentation_output_layer.shape}\")"
      ]
    },
    {
      "cell_type": "markdown",
      "id": "40c2f3d2",
      "metadata": {
        "id": "40c2f3d2"
      },
      "source": [
        "The output shows that by setting the batch size to 2, the first element (`N`) of the input and output shape has a value of 2. Propagate the input image through the network to see the result:"
      ]
    },
    {
      "cell_type": "code",
      "execution_count": null,
      "id": "0eb487fa",
      "metadata": {
        "id": "0eb487fa",
        "outputId": "345705ca-b51b-44b6-bfba-45932ad3ab2a"
      },
      "outputs": [
        {
          "name": "stdout",
          "output_type": "stream",
          "text": [
            "input data shape: (2, 3, 544, 544)\n",
            "result data data shape: [2,1,544,544]\n"
          ]
        }
      ],
      "source": [
        "import numpy as np\n",
        "import openvino as ov\n",
        "\n",
        "core = ov.Core()\n",
        "segmentation_model_xml = \"model/segmentation.xml\"\n",
        "segmentation_model = core.read_model(model=segmentation_model_xml)\n",
        "segmentation_input_layer = segmentation_model.input(0)\n",
        "segmentation_output_layer = segmentation_model.output(0)\n",
        "new_shape = ov.PartialShape([2, 3, 544, 544])\n",
        "segmentation_model.reshape({segmentation_input_layer.any_name: new_shape})\n",
        "segmentation_compiled_model = core.compile_model(model=segmentation_model, device_name=device.value)\n",
        "input_data = np.random.rand(2, 3, 544, 544)\n",
        "\n",
        "output = segmentation_compiled_model([input_data])\n",
        "\n",
        "print(f\"input data shape: {input_data.shape}\")\n",
        "print(f\"result data data shape: {segmentation_output_layer.shape}\")"
      ]
    },
    {
      "cell_type": "markdown",
      "id": "a9657dc5-9713-4d2b-a324-c8cd6195e79a",
      "metadata": {
        "id": "a9657dc5-9713-4d2b-a324-c8cd6195e79a"
      },
      "source": [
        "## Caching a Model\n",
        "[back to top ⬆️](#Table-of-contents:)\n",
        "\n",
        "For some devices, like GPU, loading a model can take some time. Model Caching solves this issue by caching the model in a cache directory. If `core.compile_model(model=net, device_name=device_name, config=config_dict)` is set, caching will be used. This option checks if a model exists in the cache. If so, it loads it from the cache. If not, it loads the model regularly, and stores it in the cache, so that the next time the model is loaded when this option is set, the model will be loaded from the cache.\n",
        "\n",
        "In the cell below, we create a *model_cache* directory as a subdirectory of *model*, where the model will be cached for the specified device. The model will be loaded to the GPU. After running this cell once, the model will be cached, so subsequent runs of this cell will load the model from the cache.\n",
        "\n",
        "*Note: Model Caching is also available on CPU devices*"
      ]
    },
    {
      "cell_type": "code",
      "execution_count": null,
      "id": "342c456a",
      "metadata": {
        "id": "342c456a"
      },
      "outputs": [],
      "source": [
        "ir_model_url = \"https://storage.openvinotoolkit.org/repositories/openvino_notebooks/models/002-example-models/\"\n",
        "ir_model_name_xml = \"classification.xml\"\n",
        "ir_model_name_bin = \"classification.bin\"\n",
        "\n",
        "if not Path(\"model/\" + ir_model_name_xml).exists():\n",
        "    download_file(ir_model_url + ir_model_name_xml, filename=ir_model_name_xml, directory=\"model\")\n",
        "    download_file(ir_model_url + ir_model_name_bin, filename=ir_model_name_bin, directory=\"model\")"
      ]
    },
    {
      "cell_type": "code",
      "execution_count": null,
      "id": "1d235185-18f7-4cf0-8cb2-1ecba279318a",
      "metadata": {
        "id": "1d235185-18f7-4cf0-8cb2-1ecba279318a",
        "outputId": "7ae709df-e0f3-4b11-e378-cfe80e91797b"
      },
      "outputs": [
        {
          "name": "stdout",
          "output_type": "stream",
          "text": [
            "Loading the network to the AUTO device took 0.13 seconds.\n"
          ]
        }
      ],
      "source": [
        "import time\n",
        "from pathlib import Path\n",
        "\n",
        "import openvino as ov\n",
        "\n",
        "core = ov.Core()\n",
        "\n",
        "cache_path = Path(\"model/model_cache\")\n",
        "cache_path.mkdir(exist_ok=True)\n",
        "# Enable caching for OpenVINO Runtime. To disable caching set enable_caching = False\n",
        "enable_caching = True\n",
        "config_dict = {\"CACHE_DIR\": str(cache_path)} if enable_caching else {}\n",
        "\n",
        "classification_model_xml = \"model/classification.xml\"\n",
        "model = core.read_model(model=classification_model_xml)\n",
        "\n",
        "start_time = time.perf_counter()\n",
        "compiled_model = core.compile_model(model=model, device_name=device.value, config=config_dict)\n",
        "end_time = time.perf_counter()\n",
        "print(f\"Loading the network to the {device.value} device took {end_time-start_time:.2f} seconds.\")"
      ]
    },
    {
      "cell_type": "markdown",
      "id": "48e0a860-c93c-4b93-a684-f53cd66ec2e3",
      "metadata": {
        "id": "48e0a860-c93c-4b93-a684-f53cd66ec2e3"
      },
      "source": [
        "After running the previous cell, we know the model exists in the cache directory. Then, we delete the compiled model and load it again. Now, we measure the time it takes now."
      ]
    },
    {
      "cell_type": "code",
      "execution_count": null,
      "id": "b5a7686b-b9e0-44a6-8b6e-5b299d085eac",
      "metadata": {
        "tags": [],
        "id": "b5a7686b-b9e0-44a6-8b6e-5b299d085eac",
        "outputId": "9e5b10a3-3fe8-4c65-fbbb-aee541d7fc35"
      },
      "outputs": [
        {
          "name": "stdout",
          "output_type": "stream",
          "text": [
            "Loading the network to the AUTO device took 0.06 seconds.\n"
          ]
        }
      ],
      "source": [
        "del compiled_model\n",
        "start_time = time.perf_counter()\n",
        "compiled_model = core.compile_model(model=model, device_name=device.value, config=config_dict)\n",
        "end_time = time.perf_counter()\n",
        "print(f\"Loading the network to the {device.value} device took {end_time-start_time:.2f} seconds.\")"
      ]
    },
    {
      "cell_type": "code",
      "source": [
        "pip install SpeechRecognition"
      ],
      "metadata": {
        "id": "HJTgqlULVePX",
        "outputId": "a1c32f84-44ca-4d1b-868e-4f8854e62542",
        "colab": {
          "base_uri": "https://localhost:8080/"
        }
      },
      "id": "HJTgqlULVePX",
      "execution_count": 52,
      "outputs": [
        {
          "output_type": "stream",
          "name": "stdout",
          "text": [
            "Collecting SpeechRecognition\n",
            "  Downloading speechrecognition-3.14.3-py3-none-any.whl.metadata (30 kB)\n",
            "Requirement already satisfied: typing-extensions in /usr/local/lib/python3.11/dist-packages (from SpeechRecognition) (4.14.1)\n",
            "Downloading speechrecognition-3.14.3-py3-none-any.whl (32.9 MB)\n",
            "\u001b[2K   \u001b[90m━━━━━━━━━━━━━━━━━━━━━━━━━━━━━━━━━━━━━━━━\u001b[0m \u001b[32m32.9/32.9 MB\u001b[0m \u001b[31m23.9 MB/s\u001b[0m eta \u001b[36m0:00:00\u001b[0m\n",
            "\u001b[?25hInstalling collected packages: SpeechRecognition\n",
            "Successfully installed SpeechRecognition-3.14.3\n"
          ]
        }
      ]
    },
    {
      "cell_type": "code",
      "source": [
        "\n",
        "pip install pyaudio\n"
      ],
      "metadata": {
        "id": "qB8RPcp9ZakJ",
        "outputId": "afd99a66-e4d0-441b-e618-30c16f64a7e1",
        "colab": {
          "base_uri": "https://localhost:8080/"
        }
      },
      "id": "qB8RPcp9ZakJ",
      "execution_count": 53,
      "outputs": [
        {
          "output_type": "stream",
          "name": "stdout",
          "text": [
            "Collecting pyaudio\n",
            "  Downloading PyAudio-0.2.14.tar.gz (47 kB)\n",
            "\u001b[?25l     \u001b[90m━━━━━━━━━━━━━━━━━━━━━━━━━━━━━━━━━━━━━━━━\u001b[0m \u001b[32m0.0/47.1 kB\u001b[0m \u001b[31m?\u001b[0m eta \u001b[36m-:--:--\u001b[0m\r\u001b[2K     \u001b[90m━━━━━━━━━━━━━━━━━━━━━━━━━━━━━━━━━━━━━━━━\u001b[0m \u001b[32m47.1/47.1 kB\u001b[0m \u001b[31m2.5 MB/s\u001b[0m eta \u001b[36m0:00:00\u001b[0m\n",
            "\u001b[?25h  Installing build dependencies ... \u001b[?25l\u001b[?25hdone\n",
            "  Getting requirements to build wheel ... \u001b[?25l\u001b[?25hdone\n",
            "  Preparing metadata (pyproject.toml) ... \u001b[?25l\u001b[?25hdone\n",
            "Building wheels for collected packages: pyaudio\n",
            "  \u001b[1;31merror\u001b[0m: \u001b[1msubprocess-exited-with-error\u001b[0m\n",
            "  \n",
            "  \u001b[31m×\u001b[0m \u001b[32mBuilding wheel for pyaudio \u001b[0m\u001b[1;32m(\u001b[0m\u001b[32mpyproject.toml\u001b[0m\u001b[1;32m)\u001b[0m did not run successfully.\n",
            "  \u001b[31m│\u001b[0m exit code: \u001b[1;36m1\u001b[0m\n",
            "  \u001b[31m╰─>\u001b[0m See above for output.\n",
            "  \n",
            "  \u001b[1;35mnote\u001b[0m: This error originates from a subprocess, and is likely not a problem with pip.\n",
            "  Building wheel for pyaudio (pyproject.toml) ... \u001b[?25l\u001b[?25herror\n",
            "\u001b[31m  ERROR: Failed building wheel for pyaudio\u001b[0m\u001b[31m\n",
            "\u001b[0mFailed to build pyaudio\n",
            "\u001b[31mERROR: ERROR: Failed to build installable wheels for some pyproject.toml based projects (pyaudio)\u001b[0m\u001b[31m\n",
            "\u001b[0m"
          ]
        }
      ]
    },
    {
      "cell_type": "code",
      "source": [
        "pip install pipwin\n"
      ],
      "metadata": {
        "id": "Gwo64KGIZ67N",
        "outputId": "998d0314-6f5a-4bfc-d2ab-b184f05b8c3e",
        "colab": {
          "base_uri": "https://localhost:8080/"
        }
      },
      "id": "Gwo64KGIZ67N",
      "execution_count": 55,
      "outputs": [
        {
          "output_type": "stream",
          "name": "stdout",
          "text": [
            "Collecting pipwin\n",
            "  Downloading pipwin-0.5.2.tar.gz (7.9 kB)\n",
            "  Preparing metadata (setup.py) ... \u001b[?25l\u001b[?25hdone\n",
            "Collecting docopt (from pipwin)\n",
            "  Downloading docopt-0.6.2.tar.gz (25 kB)\n",
            "  Preparing metadata (setup.py) ... \u001b[?25l\u001b[?25hdone\n",
            "Requirement already satisfied: requests in /usr/local/lib/python3.11/dist-packages (from pipwin) (2.32.3)\n",
            "Collecting pyprind (from pipwin)\n",
            "  Downloading PyPrind-2.11.3-py2.py3-none-any.whl.metadata (1.1 kB)\n",
            "Requirement already satisfied: six in /usr/local/lib/python3.11/dist-packages (from pipwin) (1.17.0)\n",
            "Requirement already satisfied: beautifulsoup4>=4.9.0 in /usr/local/lib/python3.11/dist-packages (from pipwin) (4.13.4)\n",
            "Collecting js2py (from pipwin)\n",
            "  Downloading Js2Py-0.74-py3-none-any.whl.metadata (868 bytes)\n",
            "Requirement already satisfied: packaging in /usr/local/lib/python3.11/dist-packages (from pipwin) (24.2)\n",
            "Collecting pySmartDL>=1.3.1 (from pipwin)\n",
            "  Downloading pySmartDL-1.3.4-py3-none-any.whl.metadata (2.8 kB)\n",
            "Requirement already satisfied: soupsieve>1.2 in /usr/local/lib/python3.11/dist-packages (from beautifulsoup4>=4.9.0->pipwin) (2.7)\n",
            "Requirement already satisfied: typing-extensions>=4.0.0 in /usr/local/lib/python3.11/dist-packages (from beautifulsoup4>=4.9.0->pipwin) (4.14.1)\n",
            "Requirement already satisfied: tzlocal>=1.2 in /usr/local/lib/python3.11/dist-packages (from js2py->pipwin) (5.3.1)\n",
            "Collecting pyjsparser>=2.5.1 (from js2py->pipwin)\n",
            "  Downloading pyjsparser-2.7.1.tar.gz (24 kB)\n",
            "  Preparing metadata (setup.py) ... \u001b[?25l\u001b[?25hdone\n",
            "Requirement already satisfied: charset-normalizer<4,>=2 in /usr/local/lib/python3.11/dist-packages (from requests->pipwin) (3.4.2)\n",
            "Requirement already satisfied: idna<4,>=2.5 in /usr/local/lib/python3.11/dist-packages (from requests->pipwin) (3.10)\n",
            "Requirement already satisfied: urllib3<3,>=1.21.1 in /usr/local/lib/python3.11/dist-packages (from requests->pipwin) (2.4.0)\n",
            "Requirement already satisfied: certifi>=2017.4.17 in /usr/local/lib/python3.11/dist-packages (from requests->pipwin) (2025.7.9)\n",
            "Downloading pySmartDL-1.3.4-py3-none-any.whl (20 kB)\n",
            "Downloading Js2Py-0.74-py3-none-any.whl (1.0 MB)\n",
            "\u001b[2K   \u001b[90m━━━━━━━━━━━━━━━━━━━━━━━━━━━━━━━━━━━━━━━━\u001b[0m \u001b[32m1.0/1.0 MB\u001b[0m \u001b[31m15.8 MB/s\u001b[0m eta \u001b[36m0:00:00\u001b[0m\n",
            "\u001b[?25hDownloading PyPrind-2.11.3-py2.py3-none-any.whl (8.4 kB)\n",
            "Building wheels for collected packages: pipwin, docopt, pyjsparser\n",
            "  Building wheel for pipwin (setup.py) ... \u001b[?25l\u001b[?25hdone\n",
            "  Created wheel for pipwin: filename=pipwin-0.5.2-py2.py3-none-any.whl size=8770 sha256=b2bdb332db0b7081f258e50f41e71ed93c7453084c52d08dbdf238df0a8b631a\n",
            "  Stored in directory: /root/.cache/pip/wheels/07/45/2e/51ee464b7c3407327439df34c2fc62f978a1e5084aaf23d201\n",
            "  Building wheel for docopt (setup.py) ... \u001b[?25l\u001b[?25hdone\n",
            "  Created wheel for docopt: filename=docopt-0.6.2-py2.py3-none-any.whl size=13706 sha256=11352654c7a0988a191c7c1523954f833e375ea82005532bbbd29959dc909eaf\n",
            "  Stored in directory: /root/.cache/pip/wheels/1a/b0/8c/4b75c4116c31f83c8f9f047231251e13cc74481cca4a78a9ce\n",
            "  Building wheel for pyjsparser (setup.py) ... \u001b[?25l\u001b[?25hdone\n",
            "  Created wheel for pyjsparser: filename=pyjsparser-2.7.1-py3-none-any.whl size=25982 sha256=57dfe0fe7e906bfb2db7586a8e7e0fbc75c53f0f60f37117ea01f529806283a1\n",
            "  Stored in directory: /root/.cache/pip/wheels/a5/9a/30/1003e89ab4555b81840ca46d361bf184f1e6ad880cae3b62a9\n",
            "Successfully built pipwin docopt pyjsparser\n",
            "Installing collected packages: pySmartDL, pyprind, pyjsparser, docopt, js2py, pipwin\n",
            "Successfully installed docopt-0.6.2 js2py-0.74 pipwin-0.5.2 pySmartDL-1.3.4 pyjsparser-2.7.1 pyprind-2.11.3\n"
          ]
        }
      ]
    },
    {
      "cell_type": "code",
      "source": [
        "pip install pyaudio"
      ],
      "metadata": {
        "id": "wxFHQPUEZ7HV",
        "outputId": "0d869fce-8a39-47c6-956b-ed47cf4a1402",
        "colab": {
          "base_uri": "https://localhost:8080/"
        }
      },
      "id": "wxFHQPUEZ7HV",
      "execution_count": 57,
      "outputs": [
        {
          "output_type": "stream",
          "name": "stdout",
          "text": [
            "Collecting pyaudio\n",
            "  Using cached PyAudio-0.2.14.tar.gz (47 kB)\n",
            "  Installing build dependencies ... \u001b[?25l\u001b[?25hdone\n",
            "  Getting requirements to build wheel ... \u001b[?25l\u001b[?25hdone\n",
            "  Preparing metadata (pyproject.toml) ... \u001b[?25l\u001b[?25hdone\n",
            "Building wheels for collected packages: pyaudio\n",
            "  \u001b[1;31merror\u001b[0m: \u001b[1msubprocess-exited-with-error\u001b[0m\n",
            "  \n",
            "  \u001b[31m×\u001b[0m \u001b[32mBuilding wheel for pyaudio \u001b[0m\u001b[1;32m(\u001b[0m\u001b[32mpyproject.toml\u001b[0m\u001b[1;32m)\u001b[0m did not run successfully.\n",
            "  \u001b[31m│\u001b[0m exit code: \u001b[1;36m1\u001b[0m\n",
            "  \u001b[31m╰─>\u001b[0m See above for output.\n",
            "  \n",
            "  \u001b[1;35mnote\u001b[0m: This error originates from a subprocess, and is likely not a problem with pip.\n",
            "  Building wheel for pyaudio (pyproject.toml) ... \u001b[?25l\u001b[?25herror\n",
            "\u001b[31m  ERROR: Failed building wheel for pyaudio\u001b[0m\u001b[31m\n",
            "\u001b[0mFailed to build pyaudio\n",
            "\u001b[31mERROR: ERROR: Failed to build installable wheels for some pyproject.toml based projects (pyaudio)\u001b[0m\u001b[31m\n",
            "\u001b[0m"
          ]
        }
      ]
    },
    {
      "cell_type": "code",
      "source": [
        "pip install pipwin"
      ],
      "metadata": {
        "id": "Ro4z5ZGGZ7Xd",
        "outputId": "2413091e-06c0-4ca9-ae04-35c382852905",
        "colab": {
          "base_uri": "https://localhost:8080/"
        }
      },
      "id": "Ro4z5ZGGZ7Xd",
      "execution_count": 58,
      "outputs": [
        {
          "output_type": "stream",
          "name": "stdout",
          "text": [
            "Requirement already satisfied: pipwin in /usr/local/lib/python3.11/dist-packages (0.5.2)\n",
            "Requirement already satisfied: docopt in /usr/local/lib/python3.11/dist-packages (from pipwin) (0.6.2)\n",
            "Requirement already satisfied: requests in /usr/local/lib/python3.11/dist-packages (from pipwin) (2.32.3)\n",
            "Requirement already satisfied: pyprind in /usr/local/lib/python3.11/dist-packages (from pipwin) (2.11.3)\n",
            "Requirement already satisfied: six in /usr/local/lib/python3.11/dist-packages (from pipwin) (1.17.0)\n",
            "Requirement already satisfied: beautifulsoup4>=4.9.0 in /usr/local/lib/python3.11/dist-packages (from pipwin) (4.13.4)\n",
            "Requirement already satisfied: js2py in /usr/local/lib/python3.11/dist-packages (from pipwin) (0.74)\n",
            "Requirement already satisfied: packaging in /usr/local/lib/python3.11/dist-packages (from pipwin) (24.2)\n",
            "Requirement already satisfied: pySmartDL>=1.3.1 in /usr/local/lib/python3.11/dist-packages (from pipwin) (1.3.4)\n",
            "Requirement already satisfied: soupsieve>1.2 in /usr/local/lib/python3.11/dist-packages (from beautifulsoup4>=4.9.0->pipwin) (2.7)\n",
            "Requirement already satisfied: typing-extensions>=4.0.0 in /usr/local/lib/python3.11/dist-packages (from beautifulsoup4>=4.9.0->pipwin) (4.14.1)\n",
            "Requirement already satisfied: tzlocal>=1.2 in /usr/local/lib/python3.11/dist-packages (from js2py->pipwin) (5.3.1)\n",
            "Requirement already satisfied: pyjsparser>=2.5.1 in /usr/local/lib/python3.11/dist-packages (from js2py->pipwin) (2.7.1)\n",
            "Requirement already satisfied: charset-normalizer<4,>=2 in /usr/local/lib/python3.11/dist-packages (from requests->pipwin) (3.4.2)\n",
            "Requirement already satisfied: idna<4,>=2.5 in /usr/local/lib/python3.11/dist-packages (from requests->pipwin) (3.10)\n",
            "Requirement already satisfied: urllib3<3,>=1.21.1 in /usr/local/lib/python3.11/dist-packages (from requests->pipwin) (2.4.0)\n",
            "Requirement already satisfied: certifi>=2017.4.17 in /usr/local/lib/python3.11/dist-packages (from requests->pipwin) (2025.7.9)\n"
          ]
        }
      ]
    },
    {
      "cell_type": "code",
      "source": [
        "pipwin install pyaudio"
      ],
      "metadata": {
        "id": "S41dpsfMakLn",
        "outputId": "cddd0a22-e662-4368-ecf0-7e3cdc76f161",
        "colab": {
          "base_uri": "https://localhost:8080/",
          "height": 110
        }
      },
      "id": "S41dpsfMakLn",
      "execution_count": 59,
      "outputs": [
        {
          "output_type": "error",
          "ename": "SyntaxError",
          "evalue": "invalid syntax (ipython-input-59-1881691980.py, line 1)",
          "traceback": [
            "\u001b[0;36m  File \u001b[0;32m\"/tmp/ipython-input-59-1881691980.py\"\u001b[0;36m, line \u001b[0;32m1\u001b[0m\n\u001b[0;31m    pipwin install pyaudio\u001b[0m\n\u001b[0m           ^\u001b[0m\n\u001b[0;31mSyntaxError\u001b[0m\u001b[0;31m:\u001b[0m invalid syntax\n"
          ]
        }
      ]
    },
    {
      "cell_type": "code",
      "source": [
        "pip install pyaudio\n"
      ],
      "metadata": {
        "id": "78fu4pQKZf0J",
        "outputId": "bd373d10-6fbc-4f20-d4d8-13327348716f",
        "colab": {
          "base_uri": "https://localhost:8080/"
        }
      },
      "id": "78fu4pQKZf0J",
      "execution_count": 54,
      "outputs": [
        {
          "output_type": "stream",
          "name": "stdout",
          "text": [
            "Collecting pyaudio\n",
            "  Using cached PyAudio-0.2.14.tar.gz (47 kB)\n",
            "  Installing build dependencies ... \u001b[?25l\u001b[?25hdone\n",
            "  Getting requirements to build wheel ... \u001b[?25l\u001b[?25hdone\n",
            "  Preparing metadata (pyproject.toml) ... \u001b[?25l\u001b[?25hdone\n",
            "Building wheels for collected packages: pyaudio\n",
            "  \u001b[1;31merror\u001b[0m: \u001b[1msubprocess-exited-with-error\u001b[0m\n",
            "  \n",
            "  \u001b[31m×\u001b[0m \u001b[32mBuilding wheel for pyaudio \u001b[0m\u001b[1;32m(\u001b[0m\u001b[32mpyproject.toml\u001b[0m\u001b[1;32m)\u001b[0m did not run successfully.\n",
            "  \u001b[31m│\u001b[0m exit code: \u001b[1;36m1\u001b[0m\n",
            "  \u001b[31m╰─>\u001b[0m See above for output.\n",
            "  \n",
            "  \u001b[1;35mnote\u001b[0m: This error originates from a subprocess, and is likely not a problem with pip.\n",
            "  Building wheel for pyaudio (pyproject.toml) ... \u001b[?25l\u001b[?25herror\n",
            "\u001b[31m  ERROR: Failed building wheel for pyaudio\u001b[0m\u001b[31m\n",
            "\u001b[0mFailed to build pyaudio\n",
            "\u001b[31mERROR: ERROR: Failed to build installable wheels for some pyproject.toml based projects (pyaudio)\u001b[0m\u001b[31m\n",
            "\u001b[0m"
          ]
        }
      ]
    },
    {
      "cell_type": "code",
      "source": [
        "import speech_recognition as sr\n",
        "\n",
        "# Initialize recognizer\n",
        "recognizer = sr.Recognizer()\n",
        "\n",
        "# Use the microphone as source\n",
        "with sr.Microphone() as source:\n",
        "    print(\"Speak something...\")\n",
        "    audio = recognizer.listen(source)\n",
        "\n",
        "    try:\n",
        "        # Convert speech to text\n",
        "        text = recognizer.recognize_google(audio)\n",
        "        print(\"You said:\", text)\n",
        "    except sr.UnknownValueError:\n",
        "        print(\"Sorry, could not understand your speech.\")\n",
        "    except sr.RequestError as e:\n",
        "        print(f\"Could not request results; {e}\")\n"
      ],
      "metadata": {
        "id": "HdsPD0_uavja",
        "outputId": "a6798f7c-797d-45b8-b622-d54a8ff4162d",
        "colab": {
          "base_uri": "https://localhost:8080/",
          "height": 424
        }
      },
      "id": "HdsPD0_uavja",
      "execution_count": 60,
      "outputs": [
        {
          "output_type": "error",
          "ename": "AttributeError",
          "evalue": "Could not find PyAudio; check installation",
          "traceback": [
            "\u001b[0;31m---------------------------------------------------------------------------\u001b[0m",
            "\u001b[0;31mModuleNotFoundError\u001b[0m                       Traceback (most recent call last)",
            "\u001b[0;32m/usr/local/lib/python3.11/dist-packages/speech_recognition/__init__.py\u001b[0m in \u001b[0;36mget_pyaudio\u001b[0;34m()\u001b[0m\n\u001b[1;32m    102\u001b[0m         \u001b[0;32mtry\u001b[0m\u001b[0;34m:\u001b[0m\u001b[0;34m\u001b[0m\u001b[0;34m\u001b[0m\u001b[0m\n\u001b[0;32m--> 103\u001b[0;31m             \u001b[0;32mimport\u001b[0m \u001b[0mpyaudio\u001b[0m\u001b[0;34m\u001b[0m\u001b[0;34m\u001b[0m\u001b[0m\n\u001b[0m\u001b[1;32m    104\u001b[0m         \u001b[0;32mexcept\u001b[0m \u001b[0mImportError\u001b[0m\u001b[0;34m:\u001b[0m\u001b[0;34m\u001b[0m\u001b[0;34m\u001b[0m\u001b[0m\n",
            "\u001b[0;31mModuleNotFoundError\u001b[0m: No module named 'pyaudio'",
            "\nDuring handling of the above exception, another exception occurred:\n",
            "\u001b[0;31mAttributeError\u001b[0m                            Traceback (most recent call last)",
            "\u001b[0;32m/tmp/ipython-input-60-3110630269.py\u001b[0m in \u001b[0;36m<cell line: 0>\u001b[0;34m()\u001b[0m\n\u001b[1;32m      5\u001b[0m \u001b[0;34m\u001b[0m\u001b[0m\n\u001b[1;32m      6\u001b[0m \u001b[0;31m# Use the microphone as source\u001b[0m\u001b[0;34m\u001b[0m\u001b[0;34m\u001b[0m\u001b[0m\n\u001b[0;32m----> 7\u001b[0;31m \u001b[0;32mwith\u001b[0m \u001b[0msr\u001b[0m\u001b[0;34m.\u001b[0m\u001b[0mMicrophone\u001b[0m\u001b[0;34m(\u001b[0m\u001b[0;34m)\u001b[0m \u001b[0;32mas\u001b[0m \u001b[0msource\u001b[0m\u001b[0;34m:\u001b[0m\u001b[0;34m\u001b[0m\u001b[0;34m\u001b[0m\u001b[0m\n\u001b[0m\u001b[1;32m      8\u001b[0m     \u001b[0mprint\u001b[0m\u001b[0;34m(\u001b[0m\u001b[0;34m\"Speak something...\"\u001b[0m\u001b[0;34m)\u001b[0m\u001b[0;34m\u001b[0m\u001b[0;34m\u001b[0m\u001b[0m\n\u001b[1;32m      9\u001b[0m     \u001b[0maudio\u001b[0m \u001b[0;34m=\u001b[0m \u001b[0mrecognizer\u001b[0m\u001b[0;34m.\u001b[0m\u001b[0mlisten\u001b[0m\u001b[0;34m(\u001b[0m\u001b[0msource\u001b[0m\u001b[0;34m)\u001b[0m\u001b[0;34m\u001b[0m\u001b[0;34m\u001b[0m\u001b[0m\n",
            "\u001b[0;32m/usr/local/lib/python3.11/dist-packages/speech_recognition/__init__.py\u001b[0m in \u001b[0;36m__init__\u001b[0;34m(self, device_index, sample_rate, chunk_size)\u001b[0m\n\u001b[1;32m     73\u001b[0m \u001b[0;34m\u001b[0m\u001b[0m\n\u001b[1;32m     74\u001b[0m         \u001b[0;31m# set up PyAudio\u001b[0m\u001b[0;34m\u001b[0m\u001b[0;34m\u001b[0m\u001b[0m\n\u001b[0;32m---> 75\u001b[0;31m         \u001b[0mself\u001b[0m\u001b[0;34m.\u001b[0m\u001b[0mpyaudio_module\u001b[0m \u001b[0;34m=\u001b[0m \u001b[0mself\u001b[0m\u001b[0;34m.\u001b[0m\u001b[0mget_pyaudio\u001b[0m\u001b[0;34m(\u001b[0m\u001b[0;34m)\u001b[0m\u001b[0;34m\u001b[0m\u001b[0;34m\u001b[0m\u001b[0m\n\u001b[0m\u001b[1;32m     76\u001b[0m         \u001b[0maudio\u001b[0m \u001b[0;34m=\u001b[0m \u001b[0mself\u001b[0m\u001b[0;34m.\u001b[0m\u001b[0mpyaudio_module\u001b[0m\u001b[0;34m.\u001b[0m\u001b[0mPyAudio\u001b[0m\u001b[0;34m(\u001b[0m\u001b[0;34m)\u001b[0m\u001b[0;34m\u001b[0m\u001b[0;34m\u001b[0m\u001b[0m\n\u001b[1;32m     77\u001b[0m         \u001b[0;32mtry\u001b[0m\u001b[0;34m:\u001b[0m\u001b[0;34m\u001b[0m\u001b[0;34m\u001b[0m\u001b[0m\n",
            "\u001b[0;32m/usr/local/lib/python3.11/dist-packages/speech_recognition/__init__.py\u001b[0m in \u001b[0;36mget_pyaudio\u001b[0;34m()\u001b[0m\n\u001b[1;32m    103\u001b[0m             \u001b[0;32mimport\u001b[0m \u001b[0mpyaudio\u001b[0m\u001b[0;34m\u001b[0m\u001b[0;34m\u001b[0m\u001b[0m\n\u001b[1;32m    104\u001b[0m         \u001b[0;32mexcept\u001b[0m \u001b[0mImportError\u001b[0m\u001b[0;34m:\u001b[0m\u001b[0;34m\u001b[0m\u001b[0;34m\u001b[0m\u001b[0m\n\u001b[0;32m--> 105\u001b[0;31m             \u001b[0;32mraise\u001b[0m \u001b[0mAttributeError\u001b[0m\u001b[0;34m(\u001b[0m\u001b[0;34m\"Could not find PyAudio; check installation\"\u001b[0m\u001b[0;34m)\u001b[0m\u001b[0;34m\u001b[0m\u001b[0;34m\u001b[0m\u001b[0m\n\u001b[0m\u001b[1;32m    106\u001b[0m         \u001b[0;32mreturn\u001b[0m \u001b[0mpyaudio\u001b[0m\u001b[0;34m\u001b[0m\u001b[0;34m\u001b[0m\u001b[0m\n\u001b[1;32m    107\u001b[0m \u001b[0;34m\u001b[0m\u001b[0m\n",
            "\u001b[0;31mAttributeError\u001b[0m: Could not find PyAudio; check installation"
          ]
        }
      ]
    },
    {
      "cell_type": "code",
      "source": [
        "!apt-get install -y portaudio19-dev\n"
      ],
      "metadata": {
        "id": "oiqNCWRra9Qu",
        "outputId": "abfe1601-9960-40be-dce8-1b333a4a3575",
        "colab": {
          "base_uri": "https://localhost:8080/"
        }
      },
      "id": "oiqNCWRra9Qu",
      "execution_count": 61,
      "outputs": [
        {
          "output_type": "stream",
          "name": "stdout",
          "text": [
            "Reading package lists... Done\n",
            "Building dependency tree... Done\n",
            "Reading state information... Done\n",
            "The following additional packages will be installed:\n",
            "  libportaudio2 libportaudiocpp0\n",
            "Suggested packages:\n",
            "  portaudio19-doc\n",
            "The following NEW packages will be installed:\n",
            "  libportaudio2 libportaudiocpp0 portaudio19-dev\n",
            "0 upgraded, 3 newly installed, 0 to remove and 35 not upgraded.\n",
            "Need to get 188 kB of archives.\n",
            "After this operation, 927 kB of additional disk space will be used.\n",
            "Get:1 http://archive.ubuntu.com/ubuntu jammy/universe amd64 libportaudio2 amd64 19.6.0-1.1 [65.3 kB]\n",
            "Get:2 http://archive.ubuntu.com/ubuntu jammy/universe amd64 libportaudiocpp0 amd64 19.6.0-1.1 [16.1 kB]\n",
            "Get:3 http://archive.ubuntu.com/ubuntu jammy/universe amd64 portaudio19-dev amd64 19.6.0-1.1 [106 kB]\n",
            "Fetched 188 kB in 1s (242 kB/s)\n",
            "Selecting previously unselected package libportaudio2:amd64.\n",
            "(Reading database ... 126281 files and directories currently installed.)\n",
            "Preparing to unpack .../libportaudio2_19.6.0-1.1_amd64.deb ...\n",
            "Unpacking libportaudio2:amd64 (19.6.0-1.1) ...\n",
            "Selecting previously unselected package libportaudiocpp0:amd64.\n",
            "Preparing to unpack .../libportaudiocpp0_19.6.0-1.1_amd64.deb ...\n",
            "Unpacking libportaudiocpp0:amd64 (19.6.0-1.1) ...\n",
            "Selecting previously unselected package portaudio19-dev:amd64.\n",
            "Preparing to unpack .../portaudio19-dev_19.6.0-1.1_amd64.deb ...\n",
            "Unpacking portaudio19-dev:amd64 (19.6.0-1.1) ...\n",
            "Setting up libportaudio2:amd64 (19.6.0-1.1) ...\n",
            "Setting up libportaudiocpp0:amd64 (19.6.0-1.1) ...\n",
            "Setting up portaudio19-dev:amd64 (19.6.0-1.1) ...\n",
            "Processing triggers for libc-bin (2.35-0ubuntu3.8) ...\n",
            "/sbin/ldconfig.real: /usr/local/lib/libur_loader.so.0 is not a symbolic link\n",
            "\n",
            "/sbin/ldconfig.real: /usr/local/lib/libtbb.so.12 is not a symbolic link\n",
            "\n",
            "/sbin/ldconfig.real: /usr/local/lib/libtbbbind_2_5.so.3 is not a symbolic link\n",
            "\n",
            "/sbin/ldconfig.real: /usr/local/lib/libtbbmalloc_proxy.so.2 is not a symbolic link\n",
            "\n",
            "/sbin/ldconfig.real: /usr/local/lib/libtbbbind.so.3 is not a symbolic link\n",
            "\n",
            "/sbin/ldconfig.real: /usr/local/lib/libtbbmalloc.so.2 is not a symbolic link\n",
            "\n",
            "/sbin/ldconfig.real: /usr/local/lib/libtbbbind_2_0.so.3 is not a symbolic link\n",
            "\n",
            "/sbin/ldconfig.real: /usr/local/lib/libtcm.so.1 is not a symbolic link\n",
            "\n",
            "/sbin/ldconfig.real: /usr/local/lib/libur_adapter_level_zero.so.0 is not a symbolic link\n",
            "\n",
            "/sbin/ldconfig.real: /usr/local/lib/libhwloc.so.15 is not a symbolic link\n",
            "\n",
            "/sbin/ldconfig.real: /usr/local/lib/libur_adapter_level_zero_v2.so.0 is not a symbolic link\n",
            "\n",
            "/sbin/ldconfig.real: /usr/local/lib/libur_adapter_opencl.so.0 is not a symbolic link\n",
            "\n",
            "/sbin/ldconfig.real: /usr/local/lib/libumf.so.0 is not a symbolic link\n",
            "\n",
            "/sbin/ldconfig.real: /usr/local/lib/libtcm_debug.so.1 is not a symbolic link\n",
            "\n"
          ]
        }
      ]
    },
    {
      "cell_type": "code",
      "source": [
        "!pip install pyaudio\n"
      ],
      "metadata": {
        "id": "UQrrhhe4a9ho",
        "outputId": "f920764a-22f1-4abf-9930-082ab924e9c5",
        "colab": {
          "base_uri": "https://localhost:8080/"
        }
      },
      "id": "UQrrhhe4a9ho",
      "execution_count": 62,
      "outputs": [
        {
          "output_type": "stream",
          "name": "stdout",
          "text": [
            "Collecting pyaudio\n",
            "  Using cached PyAudio-0.2.14.tar.gz (47 kB)\n",
            "  Installing build dependencies ... \u001b[?25l\u001b[?25hdone\n",
            "  Getting requirements to build wheel ... \u001b[?25l\u001b[?25hdone\n",
            "  Preparing metadata (pyproject.toml) ... \u001b[?25l\u001b[?25hdone\n",
            "Building wheels for collected packages: pyaudio\n",
            "  Building wheel for pyaudio (pyproject.toml) ... \u001b[?25l\u001b[?25hdone\n",
            "  Created wheel for pyaudio: filename=pyaudio-0.2.14-cp311-cp311-linux_x86_64.whl size=67423 sha256=00ce90af06ee0ea933e3aee6ce64efdcf8375ac9ff41dae12c10fa93998eb2da\n",
            "  Stored in directory: /root/.cache/pip/wheels/80/b1/c1/67e4ef443de2665d86031d4760508094eab5de37d5d64d9c27\n",
            "Successfully built pyaudio\n",
            "Installing collected packages: pyaudio\n",
            "Successfully installed pyaudio-0.2.14\n"
          ]
        }
      ]
    },
    {
      "cell_type": "code",
      "source": [
        "pip install pipwin\n"
      ],
      "metadata": {
        "id": "-3yuOPUAbPH4",
        "outputId": "548ce990-400b-436a-f55a-7ec481b2a129",
        "colab": {
          "base_uri": "https://localhost:8080/"
        }
      },
      "id": "-3yuOPUAbPH4",
      "execution_count": 67,
      "outputs": [
        {
          "output_type": "stream",
          "name": "stdout",
          "text": [
            "Requirement already satisfied: pipwin in /usr/local/lib/python3.11/dist-packages (0.5.2)\n",
            "Requirement already satisfied: docopt in /usr/local/lib/python3.11/dist-packages (from pipwin) (0.6.2)\n",
            "Requirement already satisfied: requests in /usr/local/lib/python3.11/dist-packages (from pipwin) (2.32.3)\n",
            "Requirement already satisfied: pyprind in /usr/local/lib/python3.11/dist-packages (from pipwin) (2.11.3)\n",
            "Requirement already satisfied: six in /usr/local/lib/python3.11/dist-packages (from pipwin) (1.17.0)\n",
            "Requirement already satisfied: beautifulsoup4>=4.9.0 in /usr/local/lib/python3.11/dist-packages (from pipwin) (4.13.4)\n",
            "Requirement already satisfied: js2py in /usr/local/lib/python3.11/dist-packages (from pipwin) (0.74)\n",
            "Requirement already satisfied: packaging in /usr/local/lib/python3.11/dist-packages (from pipwin) (24.2)\n",
            "Requirement already satisfied: pySmartDL>=1.3.1 in /usr/local/lib/python3.11/dist-packages (from pipwin) (1.3.4)\n",
            "Requirement already satisfied: soupsieve>1.2 in /usr/local/lib/python3.11/dist-packages (from beautifulsoup4>=4.9.0->pipwin) (2.7)\n",
            "Requirement already satisfied: typing-extensions>=4.0.0 in /usr/local/lib/python3.11/dist-packages (from beautifulsoup4>=4.9.0->pipwin) (4.14.1)\n",
            "Requirement already satisfied: tzlocal>=1.2 in /usr/local/lib/python3.11/dist-packages (from js2py->pipwin) (5.3.1)\n",
            "Requirement already satisfied: pyjsparser>=2.5.1 in /usr/local/lib/python3.11/dist-packages (from js2py->pipwin) (2.7.1)\n",
            "Requirement already satisfied: charset-normalizer<4,>=2 in /usr/local/lib/python3.11/dist-packages (from requests->pipwin) (3.4.2)\n",
            "Requirement already satisfied: idna<4,>=2.5 in /usr/local/lib/python3.11/dist-packages (from requests->pipwin) (3.10)\n",
            "Requirement already satisfied: urllib3<3,>=1.21.1 in /usr/local/lib/python3.11/dist-packages (from requests->pipwin) (2.4.0)\n",
            "Requirement already satisfied: certifi>=2017.4.17 in /usr/local/lib/python3.11/dist-packages (from requests->pipwin) (2025.7.9)\n"
          ]
        }
      ]
    },
    {
      "cell_type": "code",
      "source": [
        "pip install speechrecognition pyttsx3 pyaudio\n",
        "\n"
      ],
      "metadata": {
        "id": "2Zhivu7ubt39",
        "outputId": "dbd6cd91-2eb0-4595-85d5-f0cc60f4c0ff",
        "colab": {
          "base_uri": "https://localhost:8080/",
          "height": 110
        }
      },
      "id": "2Zhivu7ubt39",
      "execution_count": 64,
      "outputs": [
        {
          "output_type": "error",
          "ename": "SyntaxError",
          "evalue": "invalid syntax (ipython-input-64-2493101017.py, line 1)",
          "traceback": [
            "\u001b[0;36m  File \u001b[0;32m\"/tmp/ipython-input-64-2493101017.py\"\u001b[0;36m, line \u001b[0;32m1\u001b[0m\n\u001b[0;31m    pip install speechrecognition pyttsx3 pyaudio\u001b[0m\n\u001b[0m        ^\u001b[0m\n\u001b[0;31mSyntaxError\u001b[0m\u001b[0;31m:\u001b[0m invalid syntax\n"
          ]
        }
      ]
    },
    {
      "cell_type": "code",
      "source": [
        "!pip install speechrecognition pyttsx3 pyaudio\n",
        "\n"
      ],
      "metadata": {
        "id": "LE_GoLmGb1Ek",
        "outputId": "5f6151b0-4f4f-47f8-f2e7-1f75f15747d2",
        "colab": {
          "base_uri": "https://localhost:8080/"
        }
      },
      "id": "LE_GoLmGb1Ek",
      "execution_count": 68,
      "outputs": [
        {
          "output_type": "stream",
          "name": "stdout",
          "text": [
            "Requirement already satisfied: speechrecognition in /usr/local/lib/python3.11/dist-packages (3.14.3)\n",
            "Collecting pyttsx3\n",
            "  Downloading pyttsx3-2.99-py3-none-any.whl.metadata (6.2 kB)\n",
            "Requirement already satisfied: pyaudio in /usr/local/lib/python3.11/dist-packages (0.2.14)\n",
            "Requirement already satisfied: typing-extensions in /usr/local/lib/python3.11/dist-packages (from speechrecognition) (4.14.1)\n",
            "Downloading pyttsx3-2.99-py3-none-any.whl (32 kB)\n",
            "Installing collected packages: pyttsx3\n",
            "Successfully installed pyttsx3-2.99\n"
          ]
        }
      ]
    },
    {
      "cell_type": "code",
      "source": [
        "import speech_recognition as sr\n",
        "import pyttsx3\n",
        "\n",
        "# Initialize recognizer and text-to-speech engine\n",
        "recognizer = sr.Recognizer()\n",
        "tts_engine = pyttsx3.init()\n",
        "\n",
        "# Function: Convert text to speech\n",
        "def speak(text):\n",
        "    tts_engine.say(text)\n",
        "    tts_engine.runAndWait()\n",
        "\n",
        "# Function: Listen to microphone and convert speech to text\n",
        "def listen():\n",
        "    with sr.Microphone() as source:\n",
        "        print(\"🎤 Please speak something...\")\n",
        "        audio = recognizer.listen(source)\n",
        "\n",
        "        try:\n",
        "            text = recognizer.recognize_google(audio)\n",
        "            print(\"📝 You said:\", text)\n",
        "            return text\n",
        "        except sr.UnknownValueError:\n",
        "            print(\"😕 Sorry, I could not understand the audio.\")\n",
        "            return \"\"\n",
        "        except sr.RequestError as e:\n",
        "            print(\"❌ Could not request results; check your internet connection.\")\n",
        "            return \"\"\n",
        "\n",
        "# Main Execution\n",
        "if __name__ == \"__main__\":\n",
        "    spoken_text = listen()\n",
        "    if spoken_text:\n",
        "        print(\"🔊 Speaking it back to you...\")\n",
        "        speak(spoken_text)\n"
      ],
      "metadata": {
        "id": "mhiJPv0kdCBR",
        "outputId": "f403007e-5bc2-4cf9-891d-6a4b5aadf9e1",
        "colab": {
          "base_uri": "https://localhost:8080/",
          "height": 424
        }
      },
      "id": "mhiJPv0kdCBR",
      "execution_count": 69,
      "outputs": [
        {
          "output_type": "error",
          "ename": "RuntimeError",
          "evalue": "This means you probably do not have eSpeak or eSpeak-ng installed!",
          "traceback": [
            "\u001b[0;31m---------------------------------------------------------------------------\u001b[0m",
            "\u001b[0;31mKeyError\u001b[0m                                  Traceback (most recent call last)",
            "\u001b[0;32m/usr/local/lib/python3.11/dist-packages/pyttsx3/__init__.py\u001b[0m in \u001b[0;36minit\u001b[0;34m(driverName, debug)\u001b[0m\n\u001b[1;32m     21\u001b[0m     \u001b[0;32mtry\u001b[0m\u001b[0;34m:\u001b[0m\u001b[0;34m\u001b[0m\u001b[0;34m\u001b[0m\u001b[0m\n\u001b[0;32m---> 22\u001b[0;31m         \u001b[0meng\u001b[0m \u001b[0;34m=\u001b[0m \u001b[0m_activeEngines\u001b[0m\u001b[0;34m[\u001b[0m\u001b[0mdriverName\u001b[0m\u001b[0;34m]\u001b[0m\u001b[0;34m\u001b[0m\u001b[0;34m\u001b[0m\u001b[0m\n\u001b[0m\u001b[1;32m     23\u001b[0m     \u001b[0;32mexcept\u001b[0m \u001b[0mKeyError\u001b[0m\u001b[0;34m:\u001b[0m\u001b[0;34m\u001b[0m\u001b[0;34m\u001b[0m\u001b[0m\n",
            "\u001b[0;32m/usr/lib/python3.11/weakref.py\u001b[0m in \u001b[0;36m__getitem__\u001b[0;34m(self, key)\u001b[0m\n\u001b[1;32m    135\u001b[0m             \u001b[0mself\u001b[0m\u001b[0;34m.\u001b[0m\u001b[0m_commit_removals\u001b[0m\u001b[0;34m(\u001b[0m\u001b[0;34m)\u001b[0m\u001b[0;34m\u001b[0m\u001b[0;34m\u001b[0m\u001b[0m\n\u001b[0;32m--> 136\u001b[0;31m         \u001b[0mo\u001b[0m \u001b[0;34m=\u001b[0m \u001b[0mself\u001b[0m\u001b[0;34m.\u001b[0m\u001b[0mdata\u001b[0m\u001b[0;34m[\u001b[0m\u001b[0mkey\u001b[0m\u001b[0;34m]\u001b[0m\u001b[0;34m(\u001b[0m\u001b[0;34m)\u001b[0m\u001b[0;34m\u001b[0m\u001b[0;34m\u001b[0m\u001b[0m\n\u001b[0m\u001b[1;32m    137\u001b[0m         \u001b[0;32mif\u001b[0m \u001b[0mo\u001b[0m \u001b[0;32mis\u001b[0m \u001b[0;32mNone\u001b[0m\u001b[0;34m:\u001b[0m\u001b[0;34m\u001b[0m\u001b[0;34m\u001b[0m\u001b[0m\n",
            "\u001b[0;31mKeyError\u001b[0m: None",
            "\nDuring handling of the above exception, another exception occurred:\n",
            "\u001b[0;31mRuntimeError\u001b[0m                              Traceback (most recent call last)",
            "\u001b[0;32m/tmp/ipython-input-69-1416743765.py\u001b[0m in \u001b[0;36m<cell line: 0>\u001b[0;34m()\u001b[0m\n\u001b[1;32m      4\u001b[0m \u001b[0;31m# Initialize recognizer and text-to-speech engine\u001b[0m\u001b[0;34m\u001b[0m\u001b[0;34m\u001b[0m\u001b[0m\n\u001b[1;32m      5\u001b[0m \u001b[0mrecognizer\u001b[0m \u001b[0;34m=\u001b[0m \u001b[0msr\u001b[0m\u001b[0;34m.\u001b[0m\u001b[0mRecognizer\u001b[0m\u001b[0;34m(\u001b[0m\u001b[0;34m)\u001b[0m\u001b[0;34m\u001b[0m\u001b[0;34m\u001b[0m\u001b[0m\n\u001b[0;32m----> 6\u001b[0;31m \u001b[0mtts_engine\u001b[0m \u001b[0;34m=\u001b[0m \u001b[0mpyttsx3\u001b[0m\u001b[0;34m.\u001b[0m\u001b[0minit\u001b[0m\u001b[0;34m(\u001b[0m\u001b[0;34m)\u001b[0m\u001b[0;34m\u001b[0m\u001b[0;34m\u001b[0m\u001b[0m\n\u001b[0m\u001b[1;32m      7\u001b[0m \u001b[0;34m\u001b[0m\u001b[0m\n\u001b[1;32m      8\u001b[0m \u001b[0;31m# Function: Convert text to speech\u001b[0m\u001b[0;34m\u001b[0m\u001b[0;34m\u001b[0m\u001b[0m\n",
            "\u001b[0;32m/usr/local/lib/python3.11/dist-packages/pyttsx3/__init__.py\u001b[0m in \u001b[0;36minit\u001b[0;34m(driverName, debug)\u001b[0m\n\u001b[1;32m     22\u001b[0m         \u001b[0meng\u001b[0m \u001b[0;34m=\u001b[0m \u001b[0m_activeEngines\u001b[0m\u001b[0;34m[\u001b[0m\u001b[0mdriverName\u001b[0m\u001b[0;34m]\u001b[0m\u001b[0;34m\u001b[0m\u001b[0;34m\u001b[0m\u001b[0m\n\u001b[1;32m     23\u001b[0m     \u001b[0;32mexcept\u001b[0m \u001b[0mKeyError\u001b[0m\u001b[0;34m:\u001b[0m\u001b[0;34m\u001b[0m\u001b[0;34m\u001b[0m\u001b[0m\n\u001b[0;32m---> 24\u001b[0;31m         \u001b[0meng\u001b[0m \u001b[0;34m=\u001b[0m \u001b[0mEngine\u001b[0m\u001b[0;34m(\u001b[0m\u001b[0mdriverName\u001b[0m\u001b[0;34m,\u001b[0m \u001b[0mdebug\u001b[0m\u001b[0;34m)\u001b[0m\u001b[0;34m\u001b[0m\u001b[0;34m\u001b[0m\u001b[0m\n\u001b[0m\u001b[1;32m     25\u001b[0m         \u001b[0m_activeEngines\u001b[0m\u001b[0;34m[\u001b[0m\u001b[0mdriverName\u001b[0m\u001b[0;34m]\u001b[0m \u001b[0;34m=\u001b[0m \u001b[0meng\u001b[0m\u001b[0;34m\u001b[0m\u001b[0;34m\u001b[0m\u001b[0m\n\u001b[1;32m     26\u001b[0m     \u001b[0;32mreturn\u001b[0m \u001b[0meng\u001b[0m\u001b[0;34m\u001b[0m\u001b[0;34m\u001b[0m\u001b[0m\n",
            "\u001b[0;32m/usr/local/lib/python3.11/dist-packages/pyttsx3/engine.py\u001b[0m in \u001b[0;36m__init__\u001b[0;34m(self, driverName, debug)\u001b[0m\n\u001b[1;32m     57\u001b[0m         \"\"\"\n\u001b[1;32m     58\u001b[0m         \u001b[0mself\u001b[0m\u001b[0;34m.\u001b[0m\u001b[0mdriver_name\u001b[0m \u001b[0;34m=\u001b[0m \u001b[0mdriverName\u001b[0m \u001b[0;32mor\u001b[0m \u001b[0mdefault_engine_by_sys_platform\u001b[0m\u001b[0;34m(\u001b[0m\u001b[0;34m)\u001b[0m\u001b[0;34m\u001b[0m\u001b[0;34m\u001b[0m\u001b[0m\n\u001b[0;32m---> 59\u001b[0;31m         \u001b[0mself\u001b[0m\u001b[0;34m.\u001b[0m\u001b[0mproxy\u001b[0m \u001b[0;34m=\u001b[0m \u001b[0mdriver\u001b[0m\u001b[0;34m.\u001b[0m\u001b[0mDriverProxy\u001b[0m\u001b[0;34m(\u001b[0m\u001b[0mweakref\u001b[0m\u001b[0;34m.\u001b[0m\u001b[0mproxy\u001b[0m\u001b[0;34m(\u001b[0m\u001b[0mself\u001b[0m\u001b[0;34m)\u001b[0m\u001b[0;34m,\u001b[0m \u001b[0mself\u001b[0m\u001b[0;34m.\u001b[0m\u001b[0mdriver_name\u001b[0m\u001b[0;34m,\u001b[0m \u001b[0mdebug\u001b[0m\u001b[0;34m)\u001b[0m\u001b[0;34m\u001b[0m\u001b[0;34m\u001b[0m\u001b[0m\n\u001b[0m\u001b[1;32m     60\u001b[0m         \u001b[0mself\u001b[0m\u001b[0;34m.\u001b[0m\u001b[0m_connects\u001b[0m \u001b[0;34m=\u001b[0m \u001b[0;34m{\u001b[0m\u001b[0;34m}\u001b[0m\u001b[0;34m\u001b[0m\u001b[0;34m\u001b[0m\u001b[0m\n\u001b[1;32m     61\u001b[0m         \u001b[0mself\u001b[0m\u001b[0;34m.\u001b[0m\u001b[0m_debug\u001b[0m \u001b[0;34m=\u001b[0m \u001b[0mdebug\u001b[0m\u001b[0;34m\u001b[0m\u001b[0;34m\u001b[0m\u001b[0m\n",
            "\u001b[0;32m/usr/local/lib/python3.11/dist-packages/pyttsx3/driver.py\u001b[0m in \u001b[0;36m__init__\u001b[0;34m(self, engine, driverName, debug)\u001b[0m\n\u001b[1;32m     39\u001b[0m         \u001b[0;32massert\u001b[0m \u001b[0mdriverName\u001b[0m\u001b[0;34m\u001b[0m\u001b[0;34m\u001b[0m\u001b[0m\n\u001b[1;32m     40\u001b[0m         \u001b[0;31m# import driver module\u001b[0m\u001b[0;34m\u001b[0m\u001b[0;34m\u001b[0m\u001b[0m\n\u001b[0;32m---> 41\u001b[0;31m         \u001b[0mself\u001b[0m\u001b[0;34m.\u001b[0m\u001b[0m_module\u001b[0m \u001b[0;34m=\u001b[0m \u001b[0mimportlib\u001b[0m\u001b[0;34m.\u001b[0m\u001b[0mimport_module\u001b[0m\u001b[0;34m(\u001b[0m\u001b[0;34mf\"pyttsx3.drivers.{driverName}\"\u001b[0m\u001b[0;34m)\u001b[0m\u001b[0;34m\u001b[0m\u001b[0;34m\u001b[0m\u001b[0m\n\u001b[0m\u001b[1;32m     42\u001b[0m         \u001b[0;31m# build driver instance\u001b[0m\u001b[0;34m\u001b[0m\u001b[0;34m\u001b[0m\u001b[0m\n\u001b[1;32m     43\u001b[0m         \u001b[0mself\u001b[0m\u001b[0;34m.\u001b[0m\u001b[0m_driver\u001b[0m \u001b[0;34m=\u001b[0m \u001b[0mself\u001b[0m\u001b[0;34m.\u001b[0m\u001b[0m_module\u001b[0m\u001b[0;34m.\u001b[0m\u001b[0mbuildDriver\u001b[0m\u001b[0;34m(\u001b[0m\u001b[0mweakref\u001b[0m\u001b[0;34m.\u001b[0m\u001b[0mproxy\u001b[0m\u001b[0;34m(\u001b[0m\u001b[0mself\u001b[0m\u001b[0;34m)\u001b[0m\u001b[0;34m)\u001b[0m\u001b[0;34m\u001b[0m\u001b[0;34m\u001b[0m\u001b[0m\n",
            "\u001b[0;32m/usr/lib/python3.11/importlib/__init__.py\u001b[0m in \u001b[0;36mimport_module\u001b[0;34m(name, package)\u001b[0m\n\u001b[1;32m    124\u001b[0m                 \u001b[0;32mbreak\u001b[0m\u001b[0;34m\u001b[0m\u001b[0;34m\u001b[0m\u001b[0m\n\u001b[1;32m    125\u001b[0m             \u001b[0mlevel\u001b[0m \u001b[0;34m+=\u001b[0m \u001b[0;36m1\u001b[0m\u001b[0;34m\u001b[0m\u001b[0;34m\u001b[0m\u001b[0m\n\u001b[0;32m--> 126\u001b[0;31m     \u001b[0;32mreturn\u001b[0m \u001b[0m_bootstrap\u001b[0m\u001b[0;34m.\u001b[0m\u001b[0m_gcd_import\u001b[0m\u001b[0;34m(\u001b[0m\u001b[0mname\u001b[0m\u001b[0;34m[\u001b[0m\u001b[0mlevel\u001b[0m\u001b[0;34m:\u001b[0m\u001b[0;34m]\u001b[0m\u001b[0;34m,\u001b[0m \u001b[0mpackage\u001b[0m\u001b[0;34m,\u001b[0m \u001b[0mlevel\u001b[0m\u001b[0;34m)\u001b[0m\u001b[0;34m\u001b[0m\u001b[0;34m\u001b[0m\u001b[0m\n\u001b[0m\u001b[1;32m    127\u001b[0m \u001b[0;34m\u001b[0m\u001b[0m\n\u001b[1;32m    128\u001b[0m \u001b[0;34m\u001b[0m\u001b[0m\n",
            "\u001b[0;32m/usr/lib/python3.11/importlib/_bootstrap.py\u001b[0m in \u001b[0;36m_gcd_import\u001b[0;34m(name, package, level)\u001b[0m\n",
            "\u001b[0;32m/usr/lib/python3.11/importlib/_bootstrap.py\u001b[0m in \u001b[0;36m_find_and_load\u001b[0;34m(name, import_)\u001b[0m\n",
            "\u001b[0;32m/usr/lib/python3.11/importlib/_bootstrap.py\u001b[0m in \u001b[0;36m_find_and_load_unlocked\u001b[0;34m(name, import_)\u001b[0m\n",
            "\u001b[0;32m/usr/lib/python3.11/importlib/_bootstrap.py\u001b[0m in \u001b[0;36m_load_unlocked\u001b[0;34m(spec)\u001b[0m\n",
            "\u001b[0;32m/usr/lib/python3.11/importlib/_bootstrap_external.py\u001b[0m in \u001b[0;36mexec_module\u001b[0;34m(self, module)\u001b[0m\n",
            "\u001b[0;32m/usr/lib/python3.11/importlib/_bootstrap.py\u001b[0m in \u001b[0;36m_call_with_frames_removed\u001b[0;34m(f, *args, **kwds)\u001b[0m\n",
            "\u001b[0;32m/usr/local/lib/python3.11/dist-packages/pyttsx3/drivers/espeak.py\u001b[0m in \u001b[0;36m<module>\u001b[0;34m\u001b[0m\n\u001b[1;32m     13\u001b[0m \u001b[0;32mfrom\u001b[0m \u001b[0mpyttsx3\u001b[0m\u001b[0;34m.\u001b[0m\u001b[0mvoice\u001b[0m \u001b[0;32mimport\u001b[0m \u001b[0mVoice\u001b[0m\u001b[0;34m\u001b[0m\u001b[0;34m\u001b[0m\u001b[0m\n\u001b[1;32m     14\u001b[0m \u001b[0;34m\u001b[0m\u001b[0m\n\u001b[0;32m---> 15\u001b[0;31m \u001b[0;32mfrom\u001b[0m \u001b[0;34m.\u001b[0m \u001b[0;32mimport\u001b[0m \u001b[0m_espeak\u001b[0m\u001b[0;34m\u001b[0m\u001b[0;34m\u001b[0m\u001b[0m\n\u001b[0m\u001b[1;32m     16\u001b[0m \u001b[0;34m\u001b[0m\u001b[0m\n\u001b[1;32m     17\u001b[0m \u001b[0;34m\u001b[0m\u001b[0m\n",
            "\u001b[0;32m/usr/local/lib/python3.11/dist-packages/pyttsx3/drivers/_espeak.py\u001b[0m in \u001b[0;36m<module>\u001b[0;34m\u001b[0m\n\u001b[1;32m     59\u001b[0m     \u001b[0;32mif\u001b[0m \u001b[0;32mnot\u001b[0m \u001b[0mload_library\u001b[0m\u001b[0;34m(\u001b[0m\u001b[0;34m)\u001b[0m\u001b[0;34m:\u001b[0m\u001b[0;34m\u001b[0m\u001b[0;34m\u001b[0m\u001b[0m\n\u001b[1;32m     60\u001b[0m         \u001b[0mmsg\u001b[0m \u001b[0;34m=\u001b[0m \u001b[0;34m\"This means you probably do not have eSpeak or eSpeak-ng installed!\"\u001b[0m\u001b[0;34m\u001b[0m\u001b[0;34m\u001b[0m\u001b[0m\n\u001b[0;32m---> 61\u001b[0;31m         \u001b[0;32mraise\u001b[0m \u001b[0mRuntimeError\u001b[0m\u001b[0;34m(\u001b[0m\u001b[0mmsg\u001b[0m\u001b[0;34m)\u001b[0m\u001b[0;34m\u001b[0m\u001b[0;34m\u001b[0m\u001b[0m\n\u001b[0m\u001b[1;32m     62\u001b[0m \u001b[0;32mexcept\u001b[0m \u001b[0mException\u001b[0m\u001b[0;34m:\u001b[0m\u001b[0;34m\u001b[0m\u001b[0;34m\u001b[0m\u001b[0m\n\u001b[1;32m     63\u001b[0m     \u001b[0;32mraise\u001b[0m\u001b[0;34m\u001b[0m\u001b[0;34m\u001b[0m\u001b[0m\n",
            "\u001b[0;31mRuntimeError\u001b[0m: This means you probably do not have eSpeak or eSpeak-ng installed!"
          ]
        }
      ]
    },
    {
      "cell_type": "code",
      "source": [
        "!apt-get install -y portaudio19-dev"
      ],
      "metadata": {
        "id": "FV_fuYejdYuq",
        "outputId": "04e782ab-ac4f-429e-f872-68296eda8629",
        "colab": {
          "base_uri": "https://localhost:8080/"
        }
      },
      "id": "FV_fuYejdYuq",
      "execution_count": 74,
      "outputs": [
        {
          "output_type": "stream",
          "name": "stdout",
          "text": [
            "Reading package lists... Done\n",
            "Building dependency tree... Done\n",
            "Reading state information... Done\n",
            "portaudio19-dev is already the newest version (19.6.0-1.1).\n",
            "0 upgraded, 0 newly installed, 0 to remove and 35 not upgraded.\n"
          ]
        }
      ]
    },
    {
      "cell_type": "code",
      "source": [
        "tts_engine = pyttsx3.init()\n"
      ],
      "metadata": {
        "id": "XP6R2Bqndcp9",
        "outputId": "6c10cc35-ce97-4151-bdaf-7358c57c57f9",
        "colab": {
          "base_uri": "https://localhost:8080/",
          "height": 1000
        }
      },
      "id": "XP6R2Bqndcp9",
      "execution_count": 75,
      "outputs": [
        {
          "output_type": "error",
          "ename": "RuntimeError",
          "evalue": "This means you probably do not have eSpeak or eSpeak-ng installed!",
          "traceback": [
            "\u001b[0;31m---------------------------------------------------------------------------\u001b[0m",
            "\u001b[0;31mKeyError\u001b[0m                                  Traceback (most recent call last)",
            "\u001b[0;32m/usr/local/lib/python3.11/dist-packages/pyttsx3/__init__.py\u001b[0m in \u001b[0;36minit\u001b[0;34m(driverName, debug)\u001b[0m\n\u001b[1;32m     21\u001b[0m     \u001b[0;32mtry\u001b[0m\u001b[0;34m:\u001b[0m\u001b[0;34m\u001b[0m\u001b[0;34m\u001b[0m\u001b[0m\n\u001b[0;32m---> 22\u001b[0;31m         \u001b[0meng\u001b[0m \u001b[0;34m=\u001b[0m \u001b[0m_activeEngines\u001b[0m\u001b[0;34m[\u001b[0m\u001b[0mdriverName\u001b[0m\u001b[0;34m]\u001b[0m\u001b[0;34m\u001b[0m\u001b[0;34m\u001b[0m\u001b[0m\n\u001b[0m\u001b[1;32m     23\u001b[0m     \u001b[0;32mexcept\u001b[0m \u001b[0mKeyError\u001b[0m\u001b[0;34m:\u001b[0m\u001b[0;34m\u001b[0m\u001b[0;34m\u001b[0m\u001b[0m\n",
            "\u001b[0;32m/usr/lib/python3.11/weakref.py\u001b[0m in \u001b[0;36m__getitem__\u001b[0;34m(self, key)\u001b[0m\n\u001b[1;32m    135\u001b[0m             \u001b[0mself\u001b[0m\u001b[0;34m.\u001b[0m\u001b[0m_commit_removals\u001b[0m\u001b[0;34m(\u001b[0m\u001b[0;34m)\u001b[0m\u001b[0;34m\u001b[0m\u001b[0;34m\u001b[0m\u001b[0m\n\u001b[0;32m--> 136\u001b[0;31m         \u001b[0mo\u001b[0m \u001b[0;34m=\u001b[0m \u001b[0mself\u001b[0m\u001b[0;34m.\u001b[0m\u001b[0mdata\u001b[0m\u001b[0;34m[\u001b[0m\u001b[0mkey\u001b[0m\u001b[0;34m]\u001b[0m\u001b[0;34m(\u001b[0m\u001b[0;34m)\u001b[0m\u001b[0;34m\u001b[0m\u001b[0;34m\u001b[0m\u001b[0m\n\u001b[0m\u001b[1;32m    137\u001b[0m         \u001b[0;32mif\u001b[0m \u001b[0mo\u001b[0m \u001b[0;32mis\u001b[0m \u001b[0;32mNone\u001b[0m\u001b[0;34m:\u001b[0m\u001b[0;34m\u001b[0m\u001b[0;34m\u001b[0m\u001b[0m\n",
            "\u001b[0;31mKeyError\u001b[0m: None",
            "\nDuring handling of the above exception, another exception occurred:\n",
            "\u001b[0;31mRuntimeError\u001b[0m                              Traceback (most recent call last)",
            "\u001b[0;32m/tmp/ipython-input-75-3812049723.py\u001b[0m in \u001b[0;36m<cell line: 0>\u001b[0;34m()\u001b[0m\n\u001b[0;32m----> 1\u001b[0;31m \u001b[0mtts_engine\u001b[0m \u001b[0;34m=\u001b[0m \u001b[0mpyttsx3\u001b[0m\u001b[0;34m.\u001b[0m\u001b[0minit\u001b[0m\u001b[0;34m(\u001b[0m\u001b[0;34m)\u001b[0m\u001b[0;34m\u001b[0m\u001b[0;34m\u001b[0m\u001b[0m\n\u001b[0m",
            "\u001b[0;32m/usr/local/lib/python3.11/dist-packages/pyttsx3/__init__.py\u001b[0m in \u001b[0;36minit\u001b[0;34m(driverName, debug)\u001b[0m\n\u001b[1;32m     22\u001b[0m         \u001b[0meng\u001b[0m \u001b[0;34m=\u001b[0m \u001b[0m_activeEngines\u001b[0m\u001b[0;34m[\u001b[0m\u001b[0mdriverName\u001b[0m\u001b[0;34m]\u001b[0m\u001b[0;34m\u001b[0m\u001b[0;34m\u001b[0m\u001b[0m\n\u001b[1;32m     23\u001b[0m     \u001b[0;32mexcept\u001b[0m \u001b[0mKeyError\u001b[0m\u001b[0;34m:\u001b[0m\u001b[0;34m\u001b[0m\u001b[0;34m\u001b[0m\u001b[0m\n\u001b[0;32m---> 24\u001b[0;31m         \u001b[0meng\u001b[0m \u001b[0;34m=\u001b[0m \u001b[0mEngine\u001b[0m\u001b[0;34m(\u001b[0m\u001b[0mdriverName\u001b[0m\u001b[0;34m,\u001b[0m \u001b[0mdebug\u001b[0m\u001b[0;34m)\u001b[0m\u001b[0;34m\u001b[0m\u001b[0;34m\u001b[0m\u001b[0m\n\u001b[0m\u001b[1;32m     25\u001b[0m         \u001b[0m_activeEngines\u001b[0m\u001b[0;34m[\u001b[0m\u001b[0mdriverName\u001b[0m\u001b[0;34m]\u001b[0m \u001b[0;34m=\u001b[0m \u001b[0meng\u001b[0m\u001b[0;34m\u001b[0m\u001b[0;34m\u001b[0m\u001b[0m\n\u001b[1;32m     26\u001b[0m     \u001b[0;32mreturn\u001b[0m \u001b[0meng\u001b[0m\u001b[0;34m\u001b[0m\u001b[0;34m\u001b[0m\u001b[0m\n",
            "\u001b[0;32m/usr/local/lib/python3.11/dist-packages/pyttsx3/engine.py\u001b[0m in \u001b[0;36m__init__\u001b[0;34m(self, driverName, debug)\u001b[0m\n\u001b[1;32m     57\u001b[0m         \"\"\"\n\u001b[1;32m     58\u001b[0m         \u001b[0mself\u001b[0m\u001b[0;34m.\u001b[0m\u001b[0mdriver_name\u001b[0m \u001b[0;34m=\u001b[0m \u001b[0mdriverName\u001b[0m \u001b[0;32mor\u001b[0m \u001b[0mdefault_engine_by_sys_platform\u001b[0m\u001b[0;34m(\u001b[0m\u001b[0;34m)\u001b[0m\u001b[0;34m\u001b[0m\u001b[0;34m\u001b[0m\u001b[0m\n\u001b[0;32m---> 59\u001b[0;31m         \u001b[0mself\u001b[0m\u001b[0;34m.\u001b[0m\u001b[0mproxy\u001b[0m \u001b[0;34m=\u001b[0m \u001b[0mdriver\u001b[0m\u001b[0;34m.\u001b[0m\u001b[0mDriverProxy\u001b[0m\u001b[0;34m(\u001b[0m\u001b[0mweakref\u001b[0m\u001b[0;34m.\u001b[0m\u001b[0mproxy\u001b[0m\u001b[0;34m(\u001b[0m\u001b[0mself\u001b[0m\u001b[0;34m)\u001b[0m\u001b[0;34m,\u001b[0m \u001b[0mself\u001b[0m\u001b[0;34m.\u001b[0m\u001b[0mdriver_name\u001b[0m\u001b[0;34m,\u001b[0m \u001b[0mdebug\u001b[0m\u001b[0;34m)\u001b[0m\u001b[0;34m\u001b[0m\u001b[0;34m\u001b[0m\u001b[0m\n\u001b[0m\u001b[1;32m     60\u001b[0m         \u001b[0mself\u001b[0m\u001b[0;34m.\u001b[0m\u001b[0m_connects\u001b[0m \u001b[0;34m=\u001b[0m \u001b[0;34m{\u001b[0m\u001b[0;34m}\u001b[0m\u001b[0;34m\u001b[0m\u001b[0;34m\u001b[0m\u001b[0m\n\u001b[1;32m     61\u001b[0m         \u001b[0mself\u001b[0m\u001b[0;34m.\u001b[0m\u001b[0m_debug\u001b[0m \u001b[0;34m=\u001b[0m \u001b[0mdebug\u001b[0m\u001b[0;34m\u001b[0m\u001b[0;34m\u001b[0m\u001b[0m\n",
            "\u001b[0;32m/usr/local/lib/python3.11/dist-packages/pyttsx3/driver.py\u001b[0m in \u001b[0;36m__init__\u001b[0;34m(self, engine, driverName, debug)\u001b[0m\n\u001b[1;32m     39\u001b[0m         \u001b[0;32massert\u001b[0m \u001b[0mdriverName\u001b[0m\u001b[0;34m\u001b[0m\u001b[0;34m\u001b[0m\u001b[0m\n\u001b[1;32m     40\u001b[0m         \u001b[0;31m# import driver module\u001b[0m\u001b[0;34m\u001b[0m\u001b[0;34m\u001b[0m\u001b[0m\n\u001b[0;32m---> 41\u001b[0;31m         \u001b[0mself\u001b[0m\u001b[0;34m.\u001b[0m\u001b[0m_module\u001b[0m \u001b[0;34m=\u001b[0m \u001b[0mimportlib\u001b[0m\u001b[0;34m.\u001b[0m\u001b[0mimport_module\u001b[0m\u001b[0;34m(\u001b[0m\u001b[0;34mf\"pyttsx3.drivers.{driverName}\"\u001b[0m\u001b[0;34m)\u001b[0m\u001b[0;34m\u001b[0m\u001b[0;34m\u001b[0m\u001b[0m\n\u001b[0m\u001b[1;32m     42\u001b[0m         \u001b[0;31m# build driver instance\u001b[0m\u001b[0;34m\u001b[0m\u001b[0;34m\u001b[0m\u001b[0m\n\u001b[1;32m     43\u001b[0m         \u001b[0mself\u001b[0m\u001b[0;34m.\u001b[0m\u001b[0m_driver\u001b[0m \u001b[0;34m=\u001b[0m \u001b[0mself\u001b[0m\u001b[0;34m.\u001b[0m\u001b[0m_module\u001b[0m\u001b[0;34m.\u001b[0m\u001b[0mbuildDriver\u001b[0m\u001b[0;34m(\u001b[0m\u001b[0mweakref\u001b[0m\u001b[0;34m.\u001b[0m\u001b[0mproxy\u001b[0m\u001b[0;34m(\u001b[0m\u001b[0mself\u001b[0m\u001b[0;34m)\u001b[0m\u001b[0;34m)\u001b[0m\u001b[0;34m\u001b[0m\u001b[0;34m\u001b[0m\u001b[0m\n",
            "\u001b[0;32m/usr/lib/python3.11/importlib/__init__.py\u001b[0m in \u001b[0;36mimport_module\u001b[0;34m(name, package)\u001b[0m\n\u001b[1;32m    124\u001b[0m                 \u001b[0;32mbreak\u001b[0m\u001b[0;34m\u001b[0m\u001b[0;34m\u001b[0m\u001b[0m\n\u001b[1;32m    125\u001b[0m             \u001b[0mlevel\u001b[0m \u001b[0;34m+=\u001b[0m \u001b[0;36m1\u001b[0m\u001b[0;34m\u001b[0m\u001b[0;34m\u001b[0m\u001b[0m\n\u001b[0;32m--> 126\u001b[0;31m     \u001b[0;32mreturn\u001b[0m \u001b[0m_bootstrap\u001b[0m\u001b[0;34m.\u001b[0m\u001b[0m_gcd_import\u001b[0m\u001b[0;34m(\u001b[0m\u001b[0mname\u001b[0m\u001b[0;34m[\u001b[0m\u001b[0mlevel\u001b[0m\u001b[0;34m:\u001b[0m\u001b[0;34m]\u001b[0m\u001b[0;34m,\u001b[0m \u001b[0mpackage\u001b[0m\u001b[0;34m,\u001b[0m \u001b[0mlevel\u001b[0m\u001b[0;34m)\u001b[0m\u001b[0;34m\u001b[0m\u001b[0;34m\u001b[0m\u001b[0m\n\u001b[0m\u001b[1;32m    127\u001b[0m \u001b[0;34m\u001b[0m\u001b[0m\n\u001b[1;32m    128\u001b[0m \u001b[0;34m\u001b[0m\u001b[0m\n",
            "\u001b[0;32m/usr/lib/python3.11/importlib/_bootstrap.py\u001b[0m in \u001b[0;36m_gcd_import\u001b[0;34m(name, package, level)\u001b[0m\n",
            "\u001b[0;32m/usr/lib/python3.11/importlib/_bootstrap.py\u001b[0m in \u001b[0;36m_find_and_load\u001b[0;34m(name, import_)\u001b[0m\n",
            "\u001b[0;32m/usr/lib/python3.11/importlib/_bootstrap.py\u001b[0m in \u001b[0;36m_find_and_load_unlocked\u001b[0;34m(name, import_)\u001b[0m\n",
            "\u001b[0;32m/usr/lib/python3.11/importlib/_bootstrap.py\u001b[0m in \u001b[0;36m_load_unlocked\u001b[0;34m(spec)\u001b[0m\n",
            "\u001b[0;32m/usr/lib/python3.11/importlib/_bootstrap_external.py\u001b[0m in \u001b[0;36mexec_module\u001b[0;34m(self, module)\u001b[0m\n",
            "\u001b[0;32m/usr/lib/python3.11/importlib/_bootstrap.py\u001b[0m in \u001b[0;36m_call_with_frames_removed\u001b[0;34m(f, *args, **kwds)\u001b[0m\n",
            "\u001b[0;32m/usr/local/lib/python3.11/dist-packages/pyttsx3/drivers/espeak.py\u001b[0m in \u001b[0;36m<module>\u001b[0;34m\u001b[0m\n\u001b[1;32m     13\u001b[0m \u001b[0;32mfrom\u001b[0m \u001b[0mpyttsx3\u001b[0m\u001b[0;34m.\u001b[0m\u001b[0mvoice\u001b[0m \u001b[0;32mimport\u001b[0m \u001b[0mVoice\u001b[0m\u001b[0;34m\u001b[0m\u001b[0;34m\u001b[0m\u001b[0m\n\u001b[1;32m     14\u001b[0m \u001b[0;34m\u001b[0m\u001b[0m\n\u001b[0;32m---> 15\u001b[0;31m \u001b[0;32mfrom\u001b[0m \u001b[0;34m.\u001b[0m \u001b[0;32mimport\u001b[0m \u001b[0m_espeak\u001b[0m\u001b[0;34m\u001b[0m\u001b[0;34m\u001b[0m\u001b[0m\n\u001b[0m\u001b[1;32m     16\u001b[0m \u001b[0;34m\u001b[0m\u001b[0m\n\u001b[1;32m     17\u001b[0m \u001b[0;34m\u001b[0m\u001b[0m\n",
            "\u001b[0;32m/usr/local/lib/python3.11/dist-packages/pyttsx3/drivers/_espeak.py\u001b[0m in \u001b[0;36m<module>\u001b[0;34m\u001b[0m\n\u001b[1;32m     59\u001b[0m     \u001b[0;32mif\u001b[0m \u001b[0;32mnot\u001b[0m \u001b[0mload_library\u001b[0m\u001b[0;34m(\u001b[0m\u001b[0;34m)\u001b[0m\u001b[0;34m:\u001b[0m\u001b[0;34m\u001b[0m\u001b[0;34m\u001b[0m\u001b[0m\n\u001b[1;32m     60\u001b[0m         \u001b[0mmsg\u001b[0m \u001b[0;34m=\u001b[0m \u001b[0;34m\"This means you probably do not have eSpeak or eSpeak-ng installed!\"\u001b[0m\u001b[0;34m\u001b[0m\u001b[0;34m\u001b[0m\u001b[0m\n\u001b[0;32m---> 61\u001b[0;31m         \u001b[0;32mraise\u001b[0m \u001b[0mRuntimeError\u001b[0m\u001b[0;34m(\u001b[0m\u001b[0mmsg\u001b[0m\u001b[0;34m)\u001b[0m\u001b[0;34m\u001b[0m\u001b[0;34m\u001b[0m\u001b[0m\n\u001b[0m\u001b[1;32m     62\u001b[0m \u001b[0;32mexcept\u001b[0m \u001b[0mException\u001b[0m\u001b[0;34m:\u001b[0m\u001b[0;34m\u001b[0m\u001b[0;34m\u001b[0m\u001b[0m\n\u001b[1;32m     63\u001b[0m     \u001b[0;32mraise\u001b[0m\u001b[0;34m\u001b[0m\u001b[0;34m\u001b[0m\u001b[0m\n",
            "\u001b[0;31mRuntimeError\u001b[0m: This means you probably do not have eSpeak or eSpeak-ng installed!"
          ]
        }
      ]
    },
    {
      "cell_type": "code",
      "source": [
        "!apt-get install -y espeak\n"
      ],
      "metadata": {
        "id": "qh0dQzsieU8H",
        "outputId": "751c084f-962f-4e68-f088-ad95a4b73916",
        "colab": {
          "base_uri": "https://localhost:8080/"
        }
      },
      "id": "qh0dQzsieU8H",
      "execution_count": 76,
      "outputs": [
        {
          "output_type": "stream",
          "name": "stdout",
          "text": [
            "Reading package lists... Done\n",
            "Building dependency tree... Done\n",
            "Reading state information... Done\n",
            "The following additional packages will be installed:\n",
            "  espeak-data libespeak1 libsonic0\n",
            "The following NEW packages will be installed:\n",
            "  espeak espeak-data libespeak1 libsonic0\n",
            "0 upgraded, 4 newly installed, 0 to remove and 35 not upgraded.\n",
            "Need to get 1,316 kB of archives.\n",
            "After this operation, 2,955 kB of additional disk space will be used.\n",
            "Get:1 http://archive.ubuntu.com/ubuntu jammy/main amd64 libsonic0 amd64 0.2.0-11build1 [10.3 kB]\n",
            "Get:2 http://archive.ubuntu.com/ubuntu jammy/universe amd64 espeak-data amd64 1.48.15+dfsg-3 [1,085 kB]\n",
            "Get:3 http://archive.ubuntu.com/ubuntu jammy/universe amd64 libespeak1 amd64 1.48.15+dfsg-3 [156 kB]\n",
            "Get:4 http://archive.ubuntu.com/ubuntu jammy/universe amd64 espeak amd64 1.48.15+dfsg-3 [64.2 kB]\n",
            "Fetched 1,316 kB in 1s (1,380 kB/s)\n",
            "Selecting previously unselected package libsonic0:amd64.\n",
            "(Reading database ... 126325 files and directories currently installed.)\n",
            "Preparing to unpack .../libsonic0_0.2.0-11build1_amd64.deb ...\n",
            "Unpacking libsonic0:amd64 (0.2.0-11build1) ...\n",
            "Selecting previously unselected package espeak-data:amd64.\n",
            "Preparing to unpack .../espeak-data_1.48.15+dfsg-3_amd64.deb ...\n",
            "Unpacking espeak-data:amd64 (1.48.15+dfsg-3) ...\n",
            "Selecting previously unselected package libespeak1:amd64.\n",
            "Preparing to unpack .../libespeak1_1.48.15+dfsg-3_amd64.deb ...\n",
            "Unpacking libespeak1:amd64 (1.48.15+dfsg-3) ...\n",
            "Selecting previously unselected package espeak.\n",
            "Preparing to unpack .../espeak_1.48.15+dfsg-3_amd64.deb ...\n",
            "Unpacking espeak (1.48.15+dfsg-3) ...\n",
            "Setting up libsonic0:amd64 (0.2.0-11build1) ...\n",
            "Setting up espeak-data:amd64 (1.48.15+dfsg-3) ...\n",
            "Setting up libespeak1:amd64 (1.48.15+dfsg-3) ...\n",
            "Setting up espeak (1.48.15+dfsg-3) ...\n",
            "Processing triggers for man-db (2.10.2-1) ...\n",
            "Processing triggers for libc-bin (2.35-0ubuntu3.8) ...\n",
            "/sbin/ldconfig.real: /usr/local/lib/libur_loader.so.0 is not a symbolic link\n",
            "\n",
            "/sbin/ldconfig.real: /usr/local/lib/libtbb.so.12 is not a symbolic link\n",
            "\n",
            "/sbin/ldconfig.real: /usr/local/lib/libtbbbind_2_5.so.3 is not a symbolic link\n",
            "\n",
            "/sbin/ldconfig.real: /usr/local/lib/libtbbmalloc_proxy.so.2 is not a symbolic link\n",
            "\n",
            "/sbin/ldconfig.real: /usr/local/lib/libtbbbind.so.3 is not a symbolic link\n",
            "\n",
            "/sbin/ldconfig.real: /usr/local/lib/libtbbmalloc.so.2 is not a symbolic link\n",
            "\n",
            "/sbin/ldconfig.real: /usr/local/lib/libtbbbind_2_0.so.3 is not a symbolic link\n",
            "\n",
            "/sbin/ldconfig.real: /usr/local/lib/libtcm.so.1 is not a symbolic link\n",
            "\n",
            "/sbin/ldconfig.real: /usr/local/lib/libur_adapter_level_zero.so.0 is not a symbolic link\n",
            "\n",
            "/sbin/ldconfig.real: /usr/local/lib/libhwloc.so.15 is not a symbolic link\n",
            "\n",
            "/sbin/ldconfig.real: /usr/local/lib/libur_adapter_level_zero_v2.so.0 is not a symbolic link\n",
            "\n",
            "/sbin/ldconfig.real: /usr/local/lib/libur_adapter_opencl.so.0 is not a symbolic link\n",
            "\n",
            "/sbin/ldconfig.real: /usr/local/lib/libumf.so.0 is not a symbolic link\n",
            "\n",
            "/sbin/ldconfig.real: /usr/local/lib/libtcm_debug.so.1 is not a symbolic link\n",
            "\n"
          ]
        }
      ]
    },
    {
      "cell_type": "code",
      "source": [
        "import pyttsx3\n",
        "\n",
        "tts_engine = pyttsx3.init()\n",
        "tts_engine.say(\"Hello, how are you?\")\n",
        "tts_engine.runAndWait()\n"
      ],
      "metadata": {
        "id": "IOZ_ECfXefhI",
        "outputId": "b03d0faf-6d54-4ea4-f89f-7346601752e2",
        "colab": {
          "base_uri": "https://localhost:8080/",
          "height": 1000
        }
      },
      "id": "IOZ_ECfXefhI",
      "execution_count": 77,
      "outputs": [
        {
          "output_type": "error",
          "ename": "ValueError",
          "evalue": "SetVoiceByName failed with unknown return code -1 for voice: gmw/en",
          "traceback": [
            "\u001b[0;31m---------------------------------------------------------------------------\u001b[0m",
            "\u001b[0;31mKeyError\u001b[0m                                  Traceback (most recent call last)",
            "\u001b[0;32m/usr/local/lib/python3.11/dist-packages/pyttsx3/__init__.py\u001b[0m in \u001b[0;36minit\u001b[0;34m(driverName, debug)\u001b[0m\n\u001b[1;32m     21\u001b[0m     \u001b[0;32mtry\u001b[0m\u001b[0;34m:\u001b[0m\u001b[0;34m\u001b[0m\u001b[0;34m\u001b[0m\u001b[0m\n\u001b[0;32m---> 22\u001b[0;31m         \u001b[0meng\u001b[0m \u001b[0;34m=\u001b[0m \u001b[0m_activeEngines\u001b[0m\u001b[0;34m[\u001b[0m\u001b[0mdriverName\u001b[0m\u001b[0;34m]\u001b[0m\u001b[0;34m\u001b[0m\u001b[0;34m\u001b[0m\u001b[0m\n\u001b[0m\u001b[1;32m     23\u001b[0m     \u001b[0;32mexcept\u001b[0m \u001b[0mKeyError\u001b[0m\u001b[0;34m:\u001b[0m\u001b[0;34m\u001b[0m\u001b[0;34m\u001b[0m\u001b[0m\n",
            "\u001b[0;32m/usr/lib/python3.11/weakref.py\u001b[0m in \u001b[0;36m__getitem__\u001b[0;34m(self, key)\u001b[0m\n\u001b[1;32m    135\u001b[0m             \u001b[0mself\u001b[0m\u001b[0;34m.\u001b[0m\u001b[0m_commit_removals\u001b[0m\u001b[0;34m(\u001b[0m\u001b[0;34m)\u001b[0m\u001b[0;34m\u001b[0m\u001b[0;34m\u001b[0m\u001b[0m\n\u001b[0;32m--> 136\u001b[0;31m         \u001b[0mo\u001b[0m \u001b[0;34m=\u001b[0m \u001b[0mself\u001b[0m\u001b[0;34m.\u001b[0m\u001b[0mdata\u001b[0m\u001b[0;34m[\u001b[0m\u001b[0mkey\u001b[0m\u001b[0;34m]\u001b[0m\u001b[0;34m(\u001b[0m\u001b[0;34m)\u001b[0m\u001b[0;34m\u001b[0m\u001b[0;34m\u001b[0m\u001b[0m\n\u001b[0m\u001b[1;32m    137\u001b[0m         \u001b[0;32mif\u001b[0m \u001b[0mo\u001b[0m \u001b[0;32mis\u001b[0m \u001b[0;32mNone\u001b[0m\u001b[0;34m:\u001b[0m\u001b[0;34m\u001b[0m\u001b[0;34m\u001b[0m\u001b[0m\n",
            "\u001b[0;31mKeyError\u001b[0m: None",
            "\nDuring handling of the above exception, another exception occurred:\n",
            "\u001b[0;31mValueError\u001b[0m                                Traceback (most recent call last)",
            "\u001b[0;32m/tmp/ipython-input-77-2673443711.py\u001b[0m in \u001b[0;36m<cell line: 0>\u001b[0;34m()\u001b[0m\n\u001b[1;32m      1\u001b[0m \u001b[0;32mimport\u001b[0m \u001b[0mpyttsx3\u001b[0m\u001b[0;34m\u001b[0m\u001b[0;34m\u001b[0m\u001b[0m\n\u001b[1;32m      2\u001b[0m \u001b[0;34m\u001b[0m\u001b[0m\n\u001b[0;32m----> 3\u001b[0;31m \u001b[0mtts_engine\u001b[0m \u001b[0;34m=\u001b[0m \u001b[0mpyttsx3\u001b[0m\u001b[0;34m.\u001b[0m\u001b[0minit\u001b[0m\u001b[0;34m(\u001b[0m\u001b[0;34m)\u001b[0m\u001b[0;34m\u001b[0m\u001b[0;34m\u001b[0m\u001b[0m\n\u001b[0m\u001b[1;32m      4\u001b[0m \u001b[0mtts_engine\u001b[0m\u001b[0;34m.\u001b[0m\u001b[0msay\u001b[0m\u001b[0;34m(\u001b[0m\u001b[0;34m\"Hello, how are you?\"\u001b[0m\u001b[0;34m)\u001b[0m\u001b[0;34m\u001b[0m\u001b[0;34m\u001b[0m\u001b[0m\n\u001b[1;32m      5\u001b[0m \u001b[0mtts_engine\u001b[0m\u001b[0;34m.\u001b[0m\u001b[0mrunAndWait\u001b[0m\u001b[0;34m(\u001b[0m\u001b[0;34m)\u001b[0m\u001b[0;34m\u001b[0m\u001b[0;34m\u001b[0m\u001b[0m\n",
            "\u001b[0;32m/usr/local/lib/python3.11/dist-packages/pyttsx3/__init__.py\u001b[0m in \u001b[0;36minit\u001b[0;34m(driverName, debug)\u001b[0m\n\u001b[1;32m     22\u001b[0m         \u001b[0meng\u001b[0m \u001b[0;34m=\u001b[0m \u001b[0m_activeEngines\u001b[0m\u001b[0;34m[\u001b[0m\u001b[0mdriverName\u001b[0m\u001b[0;34m]\u001b[0m\u001b[0;34m\u001b[0m\u001b[0;34m\u001b[0m\u001b[0m\n\u001b[1;32m     23\u001b[0m     \u001b[0;32mexcept\u001b[0m \u001b[0mKeyError\u001b[0m\u001b[0;34m:\u001b[0m\u001b[0;34m\u001b[0m\u001b[0;34m\u001b[0m\u001b[0m\n\u001b[0;32m---> 24\u001b[0;31m         \u001b[0meng\u001b[0m \u001b[0;34m=\u001b[0m \u001b[0mEngine\u001b[0m\u001b[0;34m(\u001b[0m\u001b[0mdriverName\u001b[0m\u001b[0;34m,\u001b[0m \u001b[0mdebug\u001b[0m\u001b[0;34m)\u001b[0m\u001b[0;34m\u001b[0m\u001b[0;34m\u001b[0m\u001b[0m\n\u001b[0m\u001b[1;32m     25\u001b[0m         \u001b[0m_activeEngines\u001b[0m\u001b[0;34m[\u001b[0m\u001b[0mdriverName\u001b[0m\u001b[0;34m]\u001b[0m \u001b[0;34m=\u001b[0m \u001b[0meng\u001b[0m\u001b[0;34m\u001b[0m\u001b[0;34m\u001b[0m\u001b[0m\n\u001b[1;32m     26\u001b[0m     \u001b[0;32mreturn\u001b[0m \u001b[0meng\u001b[0m\u001b[0;34m\u001b[0m\u001b[0;34m\u001b[0m\u001b[0m\n",
            "\u001b[0;32m/usr/local/lib/python3.11/dist-packages/pyttsx3/engine.py\u001b[0m in \u001b[0;36m__init__\u001b[0;34m(self, driverName, debug)\u001b[0m\n\u001b[1;32m     57\u001b[0m         \"\"\"\n\u001b[1;32m     58\u001b[0m         \u001b[0mself\u001b[0m\u001b[0;34m.\u001b[0m\u001b[0mdriver_name\u001b[0m \u001b[0;34m=\u001b[0m \u001b[0mdriverName\u001b[0m \u001b[0;32mor\u001b[0m \u001b[0mdefault_engine_by_sys_platform\u001b[0m\u001b[0;34m(\u001b[0m\u001b[0;34m)\u001b[0m\u001b[0;34m\u001b[0m\u001b[0;34m\u001b[0m\u001b[0m\n\u001b[0;32m---> 59\u001b[0;31m         \u001b[0mself\u001b[0m\u001b[0;34m.\u001b[0m\u001b[0mproxy\u001b[0m \u001b[0;34m=\u001b[0m \u001b[0mdriver\u001b[0m\u001b[0;34m.\u001b[0m\u001b[0mDriverProxy\u001b[0m\u001b[0;34m(\u001b[0m\u001b[0mweakref\u001b[0m\u001b[0;34m.\u001b[0m\u001b[0mproxy\u001b[0m\u001b[0;34m(\u001b[0m\u001b[0mself\u001b[0m\u001b[0;34m)\u001b[0m\u001b[0;34m,\u001b[0m \u001b[0mself\u001b[0m\u001b[0;34m.\u001b[0m\u001b[0mdriver_name\u001b[0m\u001b[0;34m,\u001b[0m \u001b[0mdebug\u001b[0m\u001b[0;34m)\u001b[0m\u001b[0;34m\u001b[0m\u001b[0;34m\u001b[0m\u001b[0m\n\u001b[0m\u001b[1;32m     60\u001b[0m         \u001b[0mself\u001b[0m\u001b[0;34m.\u001b[0m\u001b[0m_connects\u001b[0m \u001b[0;34m=\u001b[0m \u001b[0;34m{\u001b[0m\u001b[0;34m}\u001b[0m\u001b[0;34m\u001b[0m\u001b[0;34m\u001b[0m\u001b[0m\n\u001b[1;32m     61\u001b[0m         \u001b[0mself\u001b[0m\u001b[0;34m.\u001b[0m\u001b[0m_debug\u001b[0m \u001b[0;34m=\u001b[0m \u001b[0mdebug\u001b[0m\u001b[0;34m\u001b[0m\u001b[0;34m\u001b[0m\u001b[0m\n",
            "\u001b[0;32m/usr/local/lib/python3.11/dist-packages/pyttsx3/driver.py\u001b[0m in \u001b[0;36m__init__\u001b[0;34m(self, engine, driverName, debug)\u001b[0m\n\u001b[1;32m     41\u001b[0m         \u001b[0mself\u001b[0m\u001b[0;34m.\u001b[0m\u001b[0m_module\u001b[0m \u001b[0;34m=\u001b[0m \u001b[0mimportlib\u001b[0m\u001b[0;34m.\u001b[0m\u001b[0mimport_module\u001b[0m\u001b[0;34m(\u001b[0m\u001b[0;34mf\"pyttsx3.drivers.{driverName}\"\u001b[0m\u001b[0;34m)\u001b[0m\u001b[0;34m\u001b[0m\u001b[0;34m\u001b[0m\u001b[0m\n\u001b[1;32m     42\u001b[0m         \u001b[0;31m# build driver instance\u001b[0m\u001b[0;34m\u001b[0m\u001b[0;34m\u001b[0m\u001b[0m\n\u001b[0;32m---> 43\u001b[0;31m         \u001b[0mself\u001b[0m\u001b[0;34m.\u001b[0m\u001b[0m_driver\u001b[0m \u001b[0;34m=\u001b[0m \u001b[0mself\u001b[0m\u001b[0;34m.\u001b[0m\u001b[0m_module\u001b[0m\u001b[0;34m.\u001b[0m\u001b[0mbuildDriver\u001b[0m\u001b[0;34m(\u001b[0m\u001b[0mweakref\u001b[0m\u001b[0;34m.\u001b[0m\u001b[0mproxy\u001b[0m\u001b[0;34m(\u001b[0m\u001b[0mself\u001b[0m\u001b[0;34m)\u001b[0m\u001b[0;34m)\u001b[0m\u001b[0;34m\u001b[0m\u001b[0;34m\u001b[0m\u001b[0m\n\u001b[0m\u001b[1;32m     44\u001b[0m         \u001b[0;31m# initialize refs\u001b[0m\u001b[0;34m\u001b[0m\u001b[0;34m\u001b[0m\u001b[0m\n\u001b[1;32m     45\u001b[0m         \u001b[0mself\u001b[0m\u001b[0;34m.\u001b[0m\u001b[0m_engine\u001b[0m \u001b[0;34m=\u001b[0m \u001b[0mengine\u001b[0m\u001b[0;34m\u001b[0m\u001b[0;34m\u001b[0m\u001b[0m\n",
            "\u001b[0;32m/usr/local/lib/python3.11/dist-packages/pyttsx3/drivers/espeak.py\u001b[0m in \u001b[0;36mbuildDriver\u001b[0;34m(proxy)\u001b[0m\n\u001b[1;32m     18\u001b[0m \u001b[0;31m# noinspection PyPep8Naming\u001b[0m\u001b[0;34m\u001b[0m\u001b[0;34m\u001b[0m\u001b[0m\n\u001b[1;32m     19\u001b[0m \u001b[0;32mdef\u001b[0m \u001b[0mbuildDriver\u001b[0m\u001b[0;34m(\u001b[0m\u001b[0mproxy\u001b[0m\u001b[0;34m)\u001b[0m\u001b[0;34m:\u001b[0m\u001b[0;34m\u001b[0m\u001b[0;34m\u001b[0m\u001b[0m\n\u001b[0;32m---> 20\u001b[0;31m     \u001b[0;32mreturn\u001b[0m \u001b[0mEspeakDriver\u001b[0m\u001b[0;34m(\u001b[0m\u001b[0mproxy\u001b[0m\u001b[0;34m)\u001b[0m\u001b[0;34m\u001b[0m\u001b[0;34m\u001b[0m\u001b[0m\n\u001b[0m\u001b[1;32m     21\u001b[0m \u001b[0;34m\u001b[0m\u001b[0m\n\u001b[1;32m     22\u001b[0m \u001b[0;34m\u001b[0m\u001b[0m\n",
            "\u001b[0;32m/usr/local/lib/python3.11/dist-packages/pyttsx3/drivers/espeak.py\u001b[0m in \u001b[0;36m__init__\u001b[0;34m(self, proxy)\u001b[0m\n\u001b[1;32m     52\u001b[0m \u001b[0;34m\u001b[0m\u001b[0m\n\u001b[1;32m     53\u001b[0m         \u001b[0m_espeak\u001b[0m\u001b[0;34m.\u001b[0m\u001b[0mSetSynthCallback\u001b[0m\u001b[0;34m(\u001b[0m\u001b[0mself\u001b[0m\u001b[0;34m.\u001b[0m\u001b[0m_onSynth\u001b[0m\u001b[0;34m)\u001b[0m\u001b[0;34m\u001b[0m\u001b[0;34m\u001b[0m\u001b[0m\n\u001b[0;32m---> 54\u001b[0;31m         \u001b[0mself\u001b[0m\u001b[0;34m.\u001b[0m\u001b[0msetProperty\u001b[0m\u001b[0;34m(\u001b[0m\u001b[0;34m\"voice\"\u001b[0m\u001b[0;34m,\u001b[0m \u001b[0mEspeakDriver\u001b[0m\u001b[0;34m.\u001b[0m\u001b[0m_defaultVoice\u001b[0m\u001b[0;34m)\u001b[0m\u001b[0;34m\u001b[0m\u001b[0;34m\u001b[0m\u001b[0m\n\u001b[0m\u001b[1;32m     55\u001b[0m         \u001b[0mself\u001b[0m\u001b[0;34m.\u001b[0m\u001b[0msetProperty\u001b[0m\u001b[0;34m(\u001b[0m\u001b[0;34m\"rate\"\u001b[0m\u001b[0;34m,\u001b[0m \u001b[0;36m200\u001b[0m\u001b[0;34m)\u001b[0m\u001b[0;34m\u001b[0m\u001b[0;34m\u001b[0m\u001b[0m\n\u001b[1;32m     56\u001b[0m         \u001b[0mself\u001b[0m\u001b[0;34m.\u001b[0m\u001b[0msetProperty\u001b[0m\u001b[0;34m(\u001b[0m\u001b[0;34m\"volume\"\u001b[0m\u001b[0;34m,\u001b[0m \u001b[0;36m1.0\u001b[0m\u001b[0;34m)\u001b[0m\u001b[0;34m\u001b[0m\u001b[0;34m\u001b[0m\u001b[0m\n",
            "\u001b[0;32m/usr/local/lib/python3.11/dist-packages/pyttsx3/drivers/espeak.py\u001b[0m in \u001b[0;36msetProperty\u001b[0;34m(name, value)\u001b[0m\n\u001b[1;32m    133\u001b[0m                         \u001b[0;34mf\"{result} for voice: {value}\"\u001b[0m\u001b[0;34m\u001b[0m\u001b[0;34m\u001b[0m\u001b[0m\n\u001b[1;32m    134\u001b[0m                     )\n\u001b[0;32m--> 135\u001b[0;31m                     \u001b[0;32mraise\u001b[0m \u001b[0mValueError\u001b[0m\u001b[0;34m(\u001b[0m\u001b[0mmsg\u001b[0m\u001b[0;34m)\u001b[0m\u001b[0;34m\u001b[0m\u001b[0;34m\u001b[0m\u001b[0m\n\u001b[0m\u001b[1;32m    136\u001b[0m             \u001b[0;32mexcept\u001b[0m \u001b[0mctypes\u001b[0m\u001b[0;34m.\u001b[0m\u001b[0mArgumentError\u001b[0m \u001b[0;32mas\u001b[0m \u001b[0me\u001b[0m\u001b[0;34m:\u001b[0m\u001b[0;34m\u001b[0m\u001b[0;34m\u001b[0m\u001b[0m\n\u001b[1;32m    137\u001b[0m                 \u001b[0mmsg\u001b[0m \u001b[0;34m=\u001b[0m \u001b[0;34mf\"Invalid voice name: {value}, error: {e}\"\u001b[0m\u001b[0;34m\u001b[0m\u001b[0;34m\u001b[0m\u001b[0m\n",
            "\u001b[0;31mValueError\u001b[0m: SetVoiceByName failed with unknown return code -1 for voice: gmw/en"
          ]
        }
      ]
    },
    {
      "cell_type": "code",
      "source": [
        "!pip install gTTS\n"
      ],
      "metadata": {
        "id": "gSVDNq66ewXc",
        "outputId": "c74ac637-5fe5-40f1-f9b9-102a0045ed0b",
        "colab": {
          "base_uri": "https://localhost:8080/"
        }
      },
      "id": "gSVDNq66ewXc",
      "execution_count": 78,
      "outputs": [
        {
          "output_type": "stream",
          "name": "stdout",
          "text": [
            "Collecting gTTS\n",
            "  Downloading gTTS-2.5.4-py3-none-any.whl.metadata (4.1 kB)\n",
            "Requirement already satisfied: requests<3,>=2.27 in /usr/local/lib/python3.11/dist-packages (from gTTS) (2.32.3)\n",
            "Collecting click<8.2,>=7.1 (from gTTS)\n",
            "  Downloading click-8.1.8-py3-none-any.whl.metadata (2.3 kB)\n",
            "Requirement already satisfied: charset-normalizer<4,>=2 in /usr/local/lib/python3.11/dist-packages (from requests<3,>=2.27->gTTS) (3.4.2)\n",
            "Requirement already satisfied: idna<4,>=2.5 in /usr/local/lib/python3.11/dist-packages (from requests<3,>=2.27->gTTS) (3.10)\n",
            "Requirement already satisfied: urllib3<3,>=1.21.1 in /usr/local/lib/python3.11/dist-packages (from requests<3,>=2.27->gTTS) (2.4.0)\n",
            "Requirement already satisfied: certifi>=2017.4.17 in /usr/local/lib/python3.11/dist-packages (from requests<3,>=2.27->gTTS) (2025.7.9)\n",
            "Downloading gTTS-2.5.4-py3-none-any.whl (29 kB)\n",
            "Downloading click-8.1.8-py3-none-any.whl (98 kB)\n",
            "\u001b[2K   \u001b[90m━━━━━━━━━━━━━━━━━━━━━━━━━━━━━━━━━━━━━━━━\u001b[0m \u001b[32m98.2/98.2 kB\u001b[0m \u001b[31m2.9 MB/s\u001b[0m eta \u001b[36m0:00:00\u001b[0m\n",
            "\u001b[?25hInstalling collected packages: click, gTTS\n",
            "  Attempting uninstall: click\n",
            "    Found existing installation: click 8.2.1\n",
            "    Uninstalling click-8.2.1:\n",
            "      Successfully uninstalled click-8.2.1\n",
            "Successfully installed click-8.1.8 gTTS-2.5.4\n"
          ]
        }
      ]
    },
    {
      "cell_type": "code",
      "source": [
        "from gtts import gTTS\n",
        "from IPython.display import Audio\n",
        "\n",
        "text = \"Hello, how are you?, what's your name?\"\n",
        "\n",
        "# Convert to audio using Google Text-to-Speech\n",
        "tts = gTTS(text=text, lang='en')\n",
        "tts.save(\"speech.mp3\")\n",
        "\n",
        "# Play the audio in notebook\n",
        "Audio(\"speech.mp3\", autoplay=True)\n"
      ],
      "metadata": {
        "id": "zNiqcQIce3Rb",
        "outputId": "07e48533-6989-4296-b976-cdde0db0b7cc",
        "colab": {
          "base_uri": "https://localhost:8080/",
          "height": 75
        }
      },
      "id": "zNiqcQIce3Rb",
      "execution_count": 80,
      "outputs": [
        {
          "output_type": "execute_result",
          "data": {
            "text/plain": [
              "<IPython.lib.display.Audio object>"
            ],
            "text/html": [
              "\n",
              "                <audio  controls=\"controls\" autoplay=\"autoplay\">\n",
              "                    <source src=\"data:audio/mpeg;base64,//OExAAAAAAAAAAAAAAAAAAAAAAAAAAAAAAAAAAAAAAAAAAAAAAAAAAAAAAAAAAAAAAAAAAAAAAAAAAAAAAAAAAAAAAAAAAAAAAAAAAAAAAAAAAAAAAAAAAAAAAAAAAAAAAAAAAAAAAAAAAAAAAAAAAAAAAAAAAAAAAAAAAAAAAAAAAAAAAAAAAAAAAAAAAAAAAAAAAAAAAAAAAAAAAAAAAAAAAAAAAAAAAAAAAAAAAAAAAAAAAAAAAAAAAAAAAA//OExAAl4rYMAMIMuQwgXadVqvhhhipF0O419rbX42/8P25XD4NAFBEGA0VgUCJTli54ueXcCiVCTaP8U5BkoiJ+iO7v3fjYdoe/ccwhGe9Ygh4IZ2u7uyYXdxBhCIIEIPTs9Oz07QghERGe7vce98RjRERG3d3d28RER2iE9jx3xM4AAQDw/iMu/+MHz5j8BA/n/x2CDgjwAePpDwwAAAB39Hx1BCx5BJONUfp4s4u+kQhmDIZkc5Dbt5MUQ0g9//OExBso+kY0AMsSuIjqyfQSyAYqlhwTC+ZEY0AWO/36zDThfA+qAgWE684SjvAeJxLHfEggIl5m2pAgFwCAxJBkEenXoI3BzDDZPPUrIzeMvCiE2KCTYV5QTRrEkYQRwxdGpFhNH6YhdPjtQjNvtlC4PmgiHwiUaagM8RD77g2Kg+p6S5U0zKbRQku/2Bp0oiT0bshUCkPk4YVVJFZGNngkHMsnkywb5rn8cBPCUGaRgH2ANknEXHkgYyKZDnUa//OExCowks5YAHveuPJBSqc4zTjKw6DQTZ+BIE0MoTAWA8Ib9SI1HQz8RKPhoZdCCfqpSpZgbTwMYkmi7rbxOKiC7kUDyI3ubyChfvIoHqYXJ0No/zoV6SOBOKdUN7PCiRHOkWZXyKyDtg03rF6H+twImYzPAiTsFb413937yV/HjsDI8eQNQIjx/P9Xw816Up83hziN6KChzD0Hyk0H/0/t9s566iAg8wurGvXotWDyvkKRDAe1xhjvtza+r8lG//OExBosEm50AGYYuF7n5UhGmHzjxR9qMN/JHkp5O8DgSCSOPGnhV3u230NvzC4/uYg9+IYnIxSNPwgrBwAwE0lCABNpWWKDN9uZcgixe5d+1Vy8uQnfs2oZJbmS91wu5T5huuznI4571lVzDc4wmdgWanWTUrxsLu337pLc9IKGTgP2Djp1pc2eVKoMg5eCDRUOHFhlQtubCNMvdyFxyx+9ZCqA4/PRYwyo4DwFOG4NAZ+YMWVgSyEJd9pbLjBC//OExBwtgkJ8ANYeuADPIjoA1KwCmNNAcdlaQCbYGWx6V7fhx2r08o9DBXEhdhd7sKARidd6HvfaWU8an71iSxiT8mLkdd17WdNxRquOuozBVk8aX1tGkkjP8apbOrxYtLPZMTQYU8CkKBpg8eTVa3iYw8gXk1XDyB61+L6tSTUWA1o8a4zKsexYsw7FcEjK1bC1Vi4WJn2Vn0lZWTVeKqJkBUaL3+h6YRXsOyaLSgqBXrA0BhQPM7YEkXumnjMF//OExBkuY5qEAN5KvSE4lFQfZOl6XtMhYTHgR847DxoSiSVB8+0QDWUjqQY3QYiItXLdqalKIyoYaldesw/G5U5ANq1+NmUX/ysaq54U8lpGyy+7dr94VRcYOGlGKg4h2lU8UQwmUJiBBISO5HA6BiDg4Bw8YUERYXR5xyyqhLukecylmTZPvJVXv/12X//oQjVExcPjh41aixzKomZVdx3YYq5T9VedV+I6/RPau2M5QvszlMDR34n5UoqabiLH//OExBIqIyKQANZWveHKGGBhie9smQiTEnYBtR9rqx3KkkFckr3IlMxBRk0jS7/O6voQMlbz50HZpkK9MMcsaR++7+ZfmL712VUVv9fQT9Tfbj7Ru1vWMMhiDtc3TOmefdJaT7a2XG9yiamweCa55w3onnUiWgfc57HzvdL5luug+TsTff//fUXU/t//////4r7jfcVdM6mNAEiIAnOAtzgaaKqhzv2X6MDDwIfbwQCw0EgwzNDAqFFSu1HBwUm8//OExBwtmyqEAObavBcjUCXhrUoXAjA1RTJ6IedQQggHEma09BTltTFwRjKluERY0lHP5XdwVD9//7M2u467Kb///K1//yuxHn/qq7OO8eImo8kFJD6OgX8snzo+M9jEexQWmXR9B8L5eWmxfRRRNTItUk6SL1JLNT9NFEyPpJUWf/amjfSS///pPXqui+pI/UiiamIZERg8LnYuxr8v7DdSyK4+ffM1el2N5WQaWxoiCLTmsrCjANGSNIG4RFGA//OExBgtQ7J0AO6U3UAaRTMSAHDGFCjJYBEzopF38RrJuEtdqDAQzPJnMOHk7WYo+5gCqOc73CNXZFr/rSqB+91uI0/9y3Zv/39Vrf/+6uOf67y3+udlU3b3aiSezTKS/jcl2ZUliqDaJjMNQJgIgphkR2NU2ho9OM5s/Vn9//vac+bb//+hiHcz+nejLoc6PXuxiu6qWVrMyl8wiR4IB1gLsIoMKAHKg+t9XNkMiaCYPicbfguv9aQhAgABeYUx//OExBYsvCJwAOzO3QHHxhmEQXI2xpKgwNCIzmAQaAGD6pNilQMRw5QiY6BmA1WBCguEnkTMgoWRJnHUkRHemWnQ1lB+5RtUozPq01J+Zrd1lgfLl9JY7ikVTFOmkXOWaxN0Hyo+DkSB1zD9axWevN+r///c13T//8w9xwaS40dGpZ1P/zGPO6Ii20ZDXQedx5URUNJMYQHhwS0MY5LMyI9aI6mGDjmlMYjCW2JezgwDE0z9AIvW3RgRcEwhHI5N//OExBYqnB6AAO0U3RtX8mq5QyAZgKBJjiW4sMzTXuLCABowONTJocBEQDV4AxcQeiT5wNeIBnEVRqEQZDLBoy6znzr/rtWl3mqRum5fHAXC6s+5Ficp2KnmHnIp4tmMgVgll3W48Jzlqc1s5nf+hhhn5hr2//6+crkBSRs5xYklTir9/nvfsZ/7US5Ip1CI1zDTLOY6uZSs/aq1dUcnkMH1oLNyZaMKJ5hZo3GWSmJFQTO8pCYM1BCqLwmteRCC//OExB4rI6aMAN5O3CXMH52Cw2JGTdHFbIoadA1JWjEteEqDKQ/e6BldvDDlyNPxz/1NY///Vw7//jjn+H7mZfnrVaJT+WFaAm+czLCzjlFe6wUdEJ0sWBUIAflTR4VA6HS7ocUJsfUaotjR1jz9TXV3POtu7L//1t19x5THLmspVjGaqbp3rf/9voqzFHh5SgsbrTGogNEPOPDlmr1+xC02BtxQsf+ZgZahzKeULjrPK+AKMwBZ4CJMuLcgsNWg//OExCQnywKMAN1auFjgVDA+RMmQAQuMAc4gox5LCVgsHD9BMhoco9VYx7vpD6Tpc2bx+PdEujrNUR3BFSci1FAkmtSc/1mI8GJpokThLiGtbLUb61kiOQu06iRLWQ1LrWtFCtr9f///psmhRWZPfamu5myJlVGn/qUeFQ+pQE0MQdDqiIiBBCrDW6BsI6PGkmrpRO7QlqjkmlQOONzHAQeExH/Bzypyp6R5BQWQm4XJPJFKBo8l8FTMqdsQgakc//OExDciegKQAN7QmDOphJHFy5rleKd1z68NN8IQvwgcBzX0PAUFkrGhk2vmFrl3/0c7s0s84AKzvbsPj1PD1bcseLW8IhSgHVMd//KgWzRfWZ//6KhAa576zYswIGQ77zXIbQYNvEGh0VdJYzJiODJBYOqMJMFCTQXU/nkoaPPWCgIxwwMNNKla5FSAwYh1aDLnYchBI3R+r2NPAEdh3VeX0EzLbFSkq0tm9ypetb1+uZewpk+ZJWAwSkzJl+w2//OExGAmokKQAN6SuDmZOd78nCWdAHyYbFJKZivmyqcJRaa16twxOMJf+Xvf9z2nv//QGTkVEMhLMdQn/9y5hF34cWYYo8Flx5uOIcTE5gg8stvhgsdL8edEHFoASIfo6RY57J/FtGKIGaNESd/GiQCzoWZmMEl6EiEEhiiSAsuzBLDH4ddxX5opRSyq9jZp7lq9Y+9aukyyjG6fE48gsIw2GQqBEOxh5eepyjibm6/SJPQwMB6NqR1z9Q+qLI4k//OExHglgfKMANaQmFjULcn4s49//SsYRQGjarBVKyv/+pMt2eLSRlqj6MtzCT5lbCa8TpIKcjwEZRbFC8gGMBFTHSE11bNcJxYABAMcOZ7mAAlSgKDEQgKzOBUxFzUaMRsB9G1KAFWMruUxfSVv9FJHGZTXoKtHfrbuZZ5YY9tXN2Mu61u7hYOGg4FOAqUAtGA2Ih+yKQua1HNWtmNHC4XRCSj1VNpR63VjypxdTDlT/uybf////6ZMh7Kzdykn//OExJUngvKIAN5UuGf7/u//LJg2IWwlv1oAwKI50WBZOYASHBZhwSCj4YaKmL6Z5dUVnrADFg409BMxGjCQMwctMpDlGhIEYNKBvZsnJn2wl3Aasa4g4Ur9TNuDTpC6kO1pVJJnLDPOzlav1v3cz5W1ey/Hv6/PVatUfJ9YzvLLu8v/HXfy1jl/P7WzE3mdVKvlbVcLNZv/pMZv/////TVma1Nudm////////9XrOZLi3FR2amjAp46wXgB2jFq//OExKonRAZ8AN6K3aMaDVEhCGmb6p8s4EI61DBBo1k4Ghq+YeWhyA0lVUw0hMYBEnV4ipMcUfmICpEEsfTYvwC7cj5lYnssuW/q52O73zuGF+zhhfx5ne7fn6S1bfuCZq/fs/byq75jr+c1q/axr24fmHBXbTp9EVBYeJkt/7JVn/////2+0lBikFzF1/9OdiUo//////5jC4lCX5RQ18l+GL0sLVlJsAAMziPDCQCR4BocOEH4eDaTAXABlcCN//OExMAng/J0AN7K3E2KkgI/RMIGqNmRZmwNgoCFxhpoR5qpMwVcShUFXFmmew7bmYetdxl2Xey3HC3S4/T5ZbqWu7tf+r3+s9MQrAupRRL5rWbmz6WklQRZET8uGzvrra77JUzK59nV///////9ktdTZkpOaJt/58Ci3//7REVGfrUUBoKAAEEpqPQnLBKYPACNRrCImIg2CAOFFEahXaLZgcAF/DIIEVSL9GDwEZqB7FUtzSo8xALQXIQg29aJ//OExNUl4uZsAOaauIlTOVtapM00wldL83hiv/Z7u7HbP7iuOqHX/lIa30v5/X5lud+SQflDTzR3PHGxvn47wu832VPzDOD1xGoQNO1lVaIrDhcOuDiBVd3Sv9qFn////+zqJMzPR0Ko4xnRqv/7syKNMZzqrp////67GnOKnK7Hp9tBrKoKAWYCAMAQ9M7tJMDRNZaYMg0YomwYpg2X3MKygNcz6DhmhwSApGdoyVQgNM4coLDEjraNddtjMDMR//OExPAtTDJUAObK3RRhb19UrYfo7VE/cPPTDvLkxa7Syqn/WVPT7nc9Zy232Yw3v95ZXcLMAwNLL0Oxa92m6YhJaq4+KB8ug6VCUSQeuiOllZ1nHHIxiPVjdvotX///+3c1D2qdNZKHMk5UdCSO0y9kqrJnO5hwjCUlfdR/1JApokDSXLJg6Kh2i5dIyKGDgVXOIj4SGCFZldPGQQgY3DgiA5hAhmNgIUC5IVNWcdVSJitCpxw7Aro4TkrDIPRq//OExO0ts0pEAO5OvEq10rw99ozGpl3plxn6kDfSjKljliZncM7+Wq8asv1Xf6bnLd7LtnfO/llMyynrtxs/Z9DLVlFQ+BgYeUgC0VnR9lXehsYUQiym621KUqfXX7Ilau36qItZrMtP2VmVHm7vtbRGFRZQNMcBuAdDRZpOmkZDAusu9dVuKwAXUHXwAr+DkLZw4yATA0JTBNQnQTFukcbLeJfMndsqmO5guYHOAsU4GoOU6Myx5r72K3Ta5Wdw//OExOkri0Y0AOZKvAt8y1/rcPzFNPWYdoZdCbU5BtXB2696KZfnha/epOnmHz7TpoqbjyWGi9zeqdSlJq8kEDVlRobve9kTExfFHYslGMFh84bubDom4+WuYqzcyZ3818cRth3W+KrY44pmLqKHOtuX8Mf/ttubhVpstbri6C+S0bC9+MzYVc52t1uwC1zs1vmYtci7Makdi8SUqRTL40VxwG/kzWUAIGa2Mt0FDrnS4eVdq7WrSJzoDkLYIg6T//OExO0ugq4oANYWuRKN1n9nKt6rWv51bOGFvOUNel0ZsXP7+fN3npoLRqQIkaRbPUfr5cqoyyRczlPHvxmRFednMnMq3aMvu3bLtX87Ot/ePWPPjW7tDS5+yIYwhuZ+7I7he6z35k3pNmyedwUhbbIZEVzP0ZjZqOck3EjUTbX4MS0pQnW1lVqOy2HakQYF3dyKtyZzjF0TW5EFNAWZPs6zVTJtRMKskUzZdxhP27MZxtfz7xFfTQJHKHak2M4j//OExOYpupokAMYMuU9FmI30eT49bRqXpaPEpizk8ku9bpItnweCiVP3y0Eeaxu88xMuqRrvtkj3Nostqh9XZkVUYJg/zEH2YbyEy6tuJZAqnZAuKLh8+xTIL/XOzswtc/Hs/GRLNosqZo1It6eXjkuiu9m122IGM57YyRVqWXdD0V5Xf4zUni44NA8cIFl/JfjhZuy6XSqGoVJ4Cdp+muzYhHAGDVtoJwwkRFB5vLZZTiqigfMoV1jS0olOnE8q//OExPIutDoUAMvM3NMHGvM5i21201q+xhOnOtJRqUk7uUEn5h1jrnZGSqmpnSKnESjsIlzh00tjWpGcvze0mjZ5Awlyr/oyzJgySRVnw3hXtzi7GK1LUErYXSN61vj9kK1j+SRGMH87qEIIjzU+mqtOdsP5WnWeSSacTso04kVa5bKjxBfRpwcFHwMApoFtdvY0ss5qaqRW3H4Z7yWVWjzYpBE+gmqoRJpE0dbRGkDqcJmS/bSY2JumkSHbclJz//OExOotBBoQAMJM3Qo+S6GSsjBSk6TSqKS6ijpwk2rjrWkYWpMwcMaDiY1IgoEJWg4DCMDQRjIxmJC0EJCIJSmXBahgTKtIJSZAYbYDsFDEkMdUKOlow54UVWZWpBaQNKw4wDBYhmqF3PZjCOyGHQGYlBmGEgVU8g4UkLUIOaqzilIW44egDKLCNNhmG9yuvKYxD9qTUUXzktPDj8NLYuaAHC4AkZ0ePtnfnkV0Nck1oqQMVolLZIccYWeeUbLb//OExOksBCIMAMJG3QlemBJ1YztfKmbni1xxQv51h5hfN/2+UlN+u2ZtpAX0QzLsVG3iM1B/lJ5lP+aOzdNNbk8TPFhD3Lys9+vEcAHJuctyL9WPJGHQeHKWs957taBUsYpXpOMy3ifZunkm5ZlZ2i5NZIjDIO6EaVSW29NDV09NeU+8u+mUri28ai0IBZHIPL+McgAyAwxYBKEJgkOMcCBCI2SIyAwvQl4tERiDeqTFozczzUiAYGtk1TBr0OPN//OExOwtlB4MAMMM3ZjN+M5WTNJDD2vuewcGDGu2ENmSSwCLOmo4j4zTAAMHYwBVwdGXAa2KBFACVi83XBBDBZ5dlQuoXrbg9gwACmFbxwot6RBGiiNFroLyGAIq1YdmTyyFncjaXLocjcenJiSz9yMvo/pYy6GPRIiHvwNcArRClQgkZC2cvheEQaBbDeEwIyLGb5e2CK5C3mWMMTNFICPDmePG2Epxc15OrZzwoD2HGb7PLrasmPxhjuGYcGE3//OExOhNlCoQANZe3cOPRotEo6bYlKVc3zyPHld3i3xV4rHj3cF3SHulIUqHtmH+6v7v3m4EHUPO8WrD1Zwpbb55Ggw4VaP3+I76Ss8KNel573w6xBn3l/JTpWpssbbNPPe876Ub1N3eFPeeFQABBeBWAuILAhcxPEBHIqjlA4yaaoKmMskz1QNO3NbqlYBTBy7V2tCoYOLetlzCXOZk0FMRLQYICASoIjSvJqC210M9mlaHjQ4DwigawiclZc7J//OExGQ/Oz5IAMZevOHwUAseMFwLyxy5jNHbell8jf9PvtOCmQxKK98qy4JROSqIu5fDnVok6vMQ0ClNZVOKLP8t6rckIu5ubExmgZCsVhyLCKEPPOOShSRC2L7k/bFQrIOI7HOWxo3HibU7PhPoehc8jgwMigb26aBqA8Y70gKx5RgLYqHkDTx5nGtXiSv7aeRIf1bO6ahx+9tly4APnFQcspufL6oK7XeeZWaZJWpfdp5dqwWBcbqOYvEu2WXB//OExBos4wZwAH4YuJclAj2X5Wap1L3Tdl2nUcSGnRguEQ7Mwe5bmP0zRJ+HoLU+xeC4xazizsxeCIEqQwx5+E1HMa2AEpAOVBzfVniVhyn6kOFHK2Zyr3LS2tO3kpwQ21x4OqK8B7akr3+PefXdevRuKzy7GUm61pZe1feSXs/P3jot/2a9PS59vpO5W9c7p6c7q/PzM73z3RlEIeprFu0f+397/oWA5H1LczjLCDs5OBujVwIgMgtN7tsPQEIQ//OExBkt0mJ4AMYYuDJkwS8CYiLq3mSuFLgU4BsU1R3XekWxJ2ocWHX0l4wVmz5l30vHmfBm7WGBS2OwU7dNFIdkWTawxEn4QERa6sM6rQAhLlCafK0J5ay5lslukvPMs376M8mpEYqX7lE9lrT5MtrHC7BalEKCuNGW7H17nq1mcu6s9mzXw/+TPrjZ5xUMvF0AkwksSBEwRJqclBFLl0LFBAIHa/q/Qn/klWxwPG5YOBz/hFuuLA7bmFiBMBCG//OExBQrKiaEANbemAZYgXHzRQUsmGCymEfNPjTOQMYAGsFgPMdSjmxUlEy/DvM3MOBAgDcZeJUCyQGMRJRIHUETdR9CBcWHGtUtM/RaCBI1ughynplCrj3JQsj+esoMgFpOq2tubWu/pBj51Hmx8fL+NTeIbPnOd7zDxprUdqVgnOt0pExi+v4O77/vdj7ZNNaRv2Knwi1H/9onD4ZMKZ/QxzBkqoJhW6jMzlCNyoPlrYyQaO0DEgIffQVA5m4r//OExBouCiqEAN8wmIOI5d9FNdBg67mBg8FgC6ABAYoGjLQ/MlgdHxyX/ISAZjEKp4xCBGMjWJQMKAZcNqViIDkQxb+hnZhia1KmW19J9w3LqbaHrkU8xWXMACiQ6d/aqwUo/eEAvBGLH6gGmw3VlsPRiX6xh1y3f7SPA1iWXre6KH69NS0sWlks59Hq7vKAqPKtlMuVSXLU3DNmdx5uqY//7KxVRY1+oW6V1eSOYg0kCDRZYyIAc+QNZEIEZbXj//OExBQrig6EAN8wmMnvJBbADAKkNIjERAtvkxjDiLNsJcx6B4WtxiYjFA+ChoGL/S9MAiwyeUDDIFa9BTLzAgTMMBsvhFd0S0l0Nf/sdYa2aX5fEX5dacvx1UrTWCYyZlQNEClw9Ow0+sOxzDHlNdjF/dWHZyX0dXlyFv5LLtE+z1wfhcq1O4fhllVq436sqs8zpa1mn7jZ1vCmpswCW///26ce6TQqmIevSdppgk4iVgTOaapESA5oziEgYDgy//OExBgpmfJ4AOcemLvVgMJmQ6W/jMoNKoAXWj4DgMYxQwCNAUA6CUVAJmJOmOCYYuAEdy07yLdt1a0EpypcWLNqJMOa/b/G4+0v5nbKkHaDHWmw9wAolKXjPl8TVA39dQr4/xFxr2zSNTbCrU6lKwoz1tZM/Ga417W3NfDczSNt4UJ9cgVO///+p4oVHmRYLHSQO5b6Uu///IVVzm8r0iMCHM34JGsxZ9mKGXeQZoGKVDK1ZBkMmPpCd1To0KpS//OExCQlQb54AOcelP83EqgwDPFNJjAqAmymAhaaIARZxvZPAIWApZuR8z1DT40fNfTKJ7uRgVQCYhCs6kAnhS92rClprX9q7r811n//f/rm2v8Pp3lPDgWVkT/Hh7VOJFiZD//kjRf9Cwg5CbhceEjP+6sT+xtSNmcGmQCRuz0vjCgZgwWBJIKAg2doaWBiczH41iGHNOCHqxiQKmRZkEEClj8VKoEMakgFEhumodTKMLlAxSN4GYPYelpphUFo//OExEIj4fp8AOcKmOcxMy7QYA37u3KWGgMGGCX68aj6xYHPMHhMX1yfP6P9vR/RZnmCYCCm4kc77iRCTDBcQaRDH/+tLPHDWkGsxoJKY7/HjnH12DZOcAdOlasamXwSVKqGAqFQIN1iKyiqIznmgCBa4zgp+GBQgYfUoGWq/mmlAdIyoBWEwKgso6I6AypwPsxFSCizwMInAa3BtBASsTYN5QFD45pSkAAXEANLBRDUkTchouIzUhTLFfmnre/T//OExGUnm858AOUO3Pvr1r9CJQ4fG54Cz2Qxi30FnsMO/P/////1N/+mrPQ+p9bOzaz7//arPV1IOejO5r1mjyuOGKUEEqqZkdFCl6GGQyPqMiD7iPgquYCMRjrYrANbdBx2OGQquDQZ4zLIHBwq4biJdG9Q2aatWctlt2IxVwguYYBB09DF8BC18vPu5Do6NCB8H3tUmOsdYfhZ///8f//+/s3oSizMhSmGsDL3F6cLPV7gy9X////////61sVx//OExHklq4aAAOaKvHU6WMQRF2TORCdCK7LZh7RRQOAwLhQok9FUfg+sfa8voH3TIMArEwmXi67oS5mhg0dnN3gUGZbj3RV4UaESrNNvS+IG7vnzEDd/WpuNWu/d26cgjNLViLZzKHY7NR12BgATMb6ep86yR8R1U3K5F/f5ypn+vz7a//ww3z9933H9oIBAeVx4cHAbudORyCz0UDgU15/////////+TdTMZ9FRHdWRDJbLl1+ujunfejkvlTQ7//OExJUnFBqEAOZK3SMrigrBK07Vmb9aOsKKrvAYYbXTso7BRRmpAWJBV1ozqWBgmgbHKWCJpLzMcRt1kiizZcP62FCidTQvHzEXEABIWZWXCZEGgWIZpJzcnyWTasihMk6llgqma6iKOjqMy8+kdB8XzwfgDEzqOQG2Pg/FR7G0CQHQ2dkY47Mannn///////ozqchyW////9/+iNNOLMdLjiza0zqAnVhBS6reXcJUKVUF0WBJnTlCJOga8w5P//OExKsly9aAAOSO3VjpIDCYNWcdx+G1fG6bteSpUfyorx6bi8FsNjNjUWeAPYW5BaJHk6eTolM8k9jhaSMlrI4W80TUimO50MuEGcxWEl1NJDxgIlnU0HS55k88C0xTTFP54wsLU44W2U09H//9H/9X6+hEp5Mk63/p//6/+i3NITSY51MUgOJnVTjGnHFDgjIbfHLuE0FmdA4oMdxtMAKpfjT0WL13RIDhMG9vmB0fhhoLaKeV0+PsltWSHTUQ//OExMYmPAp0AOTU3bfFOExU7KArUHCUZmkU8wWhRGuXKa1EYSyTMmJ4Fuc0WXCNHpSaaZYPnGpDMbmEx5UMFMREB8bz6KKJzIRjazQwPcwhF4gAtqYchQv/6eiF/ICd2uVL+UZuVOMokk8j+jf//70a6GOeRulFUbko+UfqqFSQoYSGnGHFploCgG5KYCVVMQ4U9QIVqRdryQpkuJmmAm0iO3JYIQQLB6rldlBfS1/Oe8NrP96itnv/Xdu9zusX//OExOAqbBJsAOzU3aLW9fK1lS3DGCBEAfa39730SEThq15U/joLd+7feBlkF537sYch1qatytKnFuf2xhFuPQG8MyZR1p0QAmo4mbgllkscO8uJp1U+8+auhhuCRDgSw9gmAiAjGypufPN///4/91cvtA87lh09Tz70H8wgjFX5ucq5hvHsuv+I/4j/r/u+NRA6tV1J5GpSTYkcfSZ6dsn7N6ajSK6F1atJE26DILMDzMx0KVsNhXyIQwaIObsw//OExOk0TCJwAOYW3C2trIMBAV5t94TBO0v8KBVb/8kbX+Ym/7sCti/sajUMXDePsSZ6sNw9AcAEYMFQrg5BuJkvq29OMQwm15aVl3GnruzbF1mHJGtGoaSOPKCIEIEgiJC8cWx4+NxYJQ6VG5MicjmIrDA3GRuJI2IjQsXI6v///1SxSYYexjK+1XKlSTOTVdrdrNWn/++56uYjtdkRo3MKmWuh1XmmUqVLYd2q1nWlJKCDQw8GhWzJdoiApikl//OExMotzB6AAOPO3YLE6RT+zVCrdD2HdShpx87Ujlv4gQdfUOPF+NbcIuob9XuN2tDycF9QlZeIwIAJOGC/bzfE+JCZMkBjIKXFlpR1Gti+9W37U3b53jfOpRAYEgKg1hItC3WUj1ZFK3M5mMfav////YbVmtT2zu6lciG2////12u0ydq0GNMUxlMSsrujblHsQsq8kZ+Oh40+H4EIAeX6BBYOCIo3GHmQ00qYhAvw2IXA43dF2LeYWtMZb0E4//OExMUmRB6IAOPK3eIDw62i0SGmD9ZXiHqtKKLJ/lEPlOKY+zzKgv5WwHzIssBzn+TIC0AMF8NjyhCPSUgU6tjmsqGIivRSM1CohFH5A7ObNueznHDVdvzWRWdqr////tXHxxALEA6KgkoNHf//atT/CgdBUwkqGooVGPOkqrCwjKS8xiIPhlmFCU4hBoxDDMzGhYznGwxxCxCkueMg8i23kiBIIpEJJM6dAvYFh16w6w9z0CSm04/jXHXXSztd//OExN8nUraEAOPUuGjonqnKnujmgATya1LIDiSaKpXJpLDs0Ufrv4260YJghskEo0pypHgUD6DKpNtFqsai7W1D77mpY67S1nmKKx5iR6JqHOPNlI1JJsknU//zwpNS51fX///////81NZyIPOdR974UzzygQ//5FR/8JQ4IjQCKnxwHMiWhh95CYHKZylGGJwUKgsgDRipmnLFKAQsYZGhsKvHQj6YUBammJhYVGGgWPAlrAWAijrerHLPkAEr//OExPQusu50AO5WuFGUuGhOUNgRhiCNHZRgIILYC4w4rosBaA3WLPtNSWlt09J2XP9SROQakcooYs05N570+nafyrKcrO99y5lj3H+ay1rHXOcwt1zkAcVOjty/Vjiip/oqZnym/////1EmMRanKcw8jET///y/9vXR/+7ZyGYikE1ERcAQ8cgdGNbqiTftwMHUbEjIQ1FQBHADNbTUDBlMFQHMFAbOdw4BxUCQdJWAwBWSJOGAwVGDQKp8wSCS//OExOwuFBJsAOYK3agkbiqjwnGhUXAtTaZaysS7wzTLXqa012WymZlFLjlLdW6GpTXcZ2mrX56l1M1Hhir8sFv03av97rLX5dy7r+c3zm9Y81gEAQSZ3psnQzk//zGTrX////+qMpyM6OPABiKQpCzndP///7+//r/zOgoHQ644OnBj3qqcZ0Mg0A9EwMG0WAoFDNkADm8MAEBEE0B3jY4UMQAsvIJDhgTTwYHAcU48y8CtDws1RkAwDxEv4hge//OExOYq5AZoAO4K3Zh/Ej/XWmj7I4OfeK4fVq67VpeV8MscKuP2JdWsZUuEZf6AYzDccpvt4f29r9/3963rW//mfat2XCLMdCY9jN6nqZQz/9HN/dFT9P//11OscaospMPJAuhoWJR8Ytqs/zfVrtX9f//+65c9lJShcwVQviIMDyUhNfxaeeLjwLNrKMBaMMDgBCxpUroDIEMHGA4w8zAgmGicjIBh6zV0yErDQecV+DKBe1oSlxPEyoIDEkjK//OExO0s9BJgAOYU3B3alrYH61IZVJ+W7GOpRjj8QtdpJTjypS/WqZ/fpqbPGDp+likV+zXs5frL88v/W+a1jl/O70JIqJF0n6GUVTXZrP/9F0pe1en///7oimmlnKExoge9j1dHX+73tb6N+idf+lWWm5w6WEUKDgXQA8PALEUZDRxBG9V0BUAywExivKRkyFTtpvCERkEqgJhCZhlSFAcC40AAXAFGlsU+gLXrI1gB4a+2MmxQ+d+FdiI6lEDd//OExOwsbB5YAOZO3ZTSxqG5RcmJW8tPuF0VPlFdWYarZ0kliGEPW7l6VXcZVS/MzDs0tuZp+Zb3zD9f3m+fv9cxpeYlAo0jp0V+7FZSjH6N96PZc2hvRH///fdaqVSiI4SUtHDrTP52+WdEO2t+RWL///RSlZxodZRIAhZhIBhb9QUtxVcCSEYsHHF4ZywoDjYUCDODsiDAEUGYpBoZAmum7B0kdptREFXJEdTyzyJiiwNonemGnsWyjqxk0mJN//OExO0sZBJMAO4K3Xndfl9VbaZoL7Tsfh9+ocf+LxiVyCbkOMGOLBULdmOOXXuZ01y1ciMLECoKh8hGkzjII8fw51jD1kVeIqtntepuoZ5VGNIQSi0JR7TMN//cR/Px////31Da/KqNNYHAmo2dUoXh25KUOOgY2YtOfNqAHeCrLiQVDSmOSmsiSgKeNLM9mVUjDAGQjFFKE4HChzdgUM3KPsYTWg5O9GUxsUvKCg1sQ3bboX+We7D/LedRTFlU//OExO4taso4AN4QuG4DY6v2P0XXZgyHo1EaJr07O0jou5HX9nrleileVSnsVvMqzhOQjaGzQeh9LzF72bSLV3s70K4yts+tpfst2s98W1tva6ZHbsM2y3dM1yn9Bi37k3f7793/Pwzuk2PDe9JPydxn3k2LvNY9x9U/qVcdz+H2vImuhd5xtG8aB+n8So+ELXaGC5EBHqUauGEYJwsxdjhQxVtUOFDtAStRl6tZptaVxC9ff2JMugd3X1U1ik5L//OExOstIjIsAM4YueMyCxyW1cb2rWNNVZzqORbPljHCpZ0WRRDWWXVJOEj0jEiJprsdiWtIyCVImytzcfWKOw1Vb3qmTS+9Wa77OLje23Tecbt3+72aXv02y7S9mmU08k43qeEu57qEKYl6LiMRtoNCc9m9YQUrm/dP+PtF26NFWn1IqgFg8vZbIsIjuURDOncWExmclTJmHK6biOgVMGcGECmFiN5DWF7nLKmD+R+9wrPp6zRby4zO1Tx9RfGv//OExOkrUsocAH4MueNiWa1Pv0k81IWWWtLzzxoc768P5gy48P4fJAZARVWAxhUGpYU6xGCBBRgwEPvj6mrMfNyBjGYGCDaB0UlEDCAlJ0BOp0UgvNh0UyRtVc0SolczZUJiSB2RIZoRGyJZLFbDDGakkNVoyGhriDC1yqQW7EjoW4xpAdU0AjpcVVaU/0akW7cNXKeHbUM0rPX5nrL+0yCRZcEUbOdEkdJXn+pIhQxUw1qU8qGrLPRsIs08a/hq//OExO4szDoQAMPG3KiyaFWP9s1KHvVo3U0kJmWxRQ15iiLNU3splaU6QwAu2fMKLOTgouLfwtt8nUpFCHdWMSrzKLllXK6POyKPTVNNta/7kRr7BezBXwqz9I4fJxeG1rupLWjLtk1UdmTiNOzMNwkdeFUdjJTqkpmtLrZRSReFKbwptcmYp+Vqu94XLVLY1WpZ+rIZ+QrNbMgWJlk4HFW0WIQSC6hKnrkh25xYYStG3FNErltFUWwtV5Qdd8kx//OExO0sBBoIAMpM3TTnLrNttTRtT0qluTqJlRjvlPGIVFLrpnEiFRcq7Gp90hjNZ7p3cllkmwzPFnEHqSQflHfnquZRnWpE41LXo44o+qMaYlzh5mO822OVk5FbVrmo3Ui0Kw2m2eSTQTOSyE91Kc5CEakNKTMdE4EFFEsR86MpE1aSkz5hzKnyv2MLVyYtYUv5ooZI8ZZIJExBiIvaml3qLk7JJMSt4drSZicoqcoXis2okwvAskWLW3ajMFA9//OExPAsBCn4AMpM3QJdSOKntsKuKKmH3sxujt2IfUeB6mltYonumneNWKxREjAWleSQa3TyqUcNTSPaVHZl65agaUUkJNyXTRSOe0kKTPq7hNJFkXloGMxh2owxFuWjFnyeZiiKHWY+9xuZSJSJmrRKKa8MuTNG6UjoOQY97o4TiRUpG6t51be7l6vU+ew7jbv3dX9pvFORIC5YlQIZ5rZc44VvE4mZLIlp4qhimNmcyRe1cqrVWkZVQhI4KcqN//OExPMtZCH0ANJM3StVqGPSlrRhCsmy2yWFyEsiF5iAMXUplza2jIq0zWiyJZNRfGQZoFOKVkJTBopZtGn0gMfpz3UcLplH/NxIvSDHU9k8diVJFME2Tf1KvmdDGZKV9r0+Io0q8tKFDDZa8pExZOGknkiY6SlEr/uGOOT+OYaehSopE57t28bV2tq/es3sMY/DmpPNWaKkpmziGhE4UNqkrOrPI17wkHRUczSpYok+SJtCjYQFVyQu1i42Ycpm//OExPAsjCn0ANJM3CAs2urSC14IHrw10cwukqlmlk6DjcL19pPTioJplxB3ovHLSvs2yzINPc9JI5FP3sqeikaKbYCcWcii6i0k7xAuOhktELRqdZqPwFsniW1iE4tc6rJTtOH7FKpFRWs6MnROaYQves7l3hpqB9YZGIWHwxCQwJonG5UXNXqWvS2auFNXsUvb9flJKSCzFln2KTMyR05QJV5ANkkZtMRINcIKbYZDCr0okkaiaInWraapFOdI//OExPAspAn0ANJM3e1MTFOGyYwpJdOk+0nfZ8NIn6Br01cstFb7dQ4wDwqC2ZqpNTp9/Dprkz6kVCmaS2jfiRvKReOX0TkWNvKyc8SbKSQtbXTGfSWmRSesyzsyvA8uDe19ksQvyqkLMZ4jXwqqY9CUZaSsQzTq2kcPodknK6m5ukxxqWaTG/natVJRP0r7b+UlFF81IVIGQ2CgfVNaQWSDU0AzZESsFbLDxos2hOLIptgeeIVuMrkjxQMoNdyz//OExPArhBn0ANJM3ZHaJYtJkwqUbbKGFskGTIWTWc/BXIkQRRAw8QR0oofqeFKyEmIhIKXUEqm2wEQZsJGmoxQ5fhkZDFFQFJVhZdqKhdXp03d0dWIlnnnGOb7gYa+7asJUwJRJlWQRMVzZI9RU3g4OR1NaS3SwzI5t8xADjMMNZklfnqwtwMk1K6Gsvs0v2e45Wp+rBNiV0mFqxckuTqoI7g88+qYDEj+Ek2T8xsdeBtjvptYTCdY2uG3NwSMi//OExPUvvBnwANJM3SdG1z4fxAoglMjlFdQoabCzyrictE0whRhhNQoyhUK3pY3PyJ2YxaUYjyTEVIXI2CVhDiaLucq9EgaeQxuL28crHJKJJM9RZpp68sNtQe4ggURwKstNJqHaEEpWSQUojczc6VafPwe00pRDJjGZI71SMZ9hy8XC5LOvJMxvhVkzHUjcyVm0SWb2qmy7YIKVKca2O6mV7uX61nbi3aWrZ1ciSbvWIWSQgejeHyeagsvJt05R//OExOkxFCHwANJS3Um3ky6BlcwWE1I30osyjZXWbkQCNhMljCp4lL44UY33+FzxQgLWxmEqMTISXNNsYtiK/iONJjzic9GSiEu7vRkPMfKpG7tNVvuJtffvLTDNaq9CdxOef3t4V8wp7/fcZqMT+HNh+SrKv8p0J81XbKibmfvfZzUTfFtvn+Wd/42Lk9UKcDRn1syRoZHUSRZFZg6SjSNqoMDhucGzyJAJFSQcYESsiy3d25KI09dGWuYkSsL1//OExNcpVDn4AMpM3BSXaEBHCBorb1NThJWkucWpmaCDconhc9C1uiPbeq8SgJfunjMa8rd1Gb8h5Zu6cvf1qLamrUItRWqfMbHRkPGP0qjTTejemySSUx6D3MKltKKSRs1D75hFjSDGnUWqV+o3utnxkG8VmcTsPCTLbb9bqt2tgs9EJ4nMb2FFatS3K9ELtyN8msc43LvnI2QoBo6tQqWJhIQjJ1JoGQDNBdkmfaEcgSnMD6tLDIjTQIiMETQy//OExOQp/Cn4AKJM3UaBlg82HU2yRkStkMJCE7EmE6psmtV6BUv5kpiTRYTAqimyjRsPcg/Xe1p9TUxXKDBZiEi9oy61O0gqSZ5laccags9Gu0a3KKInKlGIxxNx22kczC5ITumuqUip0xQSXYpOngeQQ2MTEUsSVRuY1unQoVRnuKr5kuhzDe0whaYmuuwvEgnKdrQKJRgqkZaQEtMQ8006IxkupN1bnzOXK/2sZVaobNe1nQw6SzakkayRpMnM//OExO80JDnsANJS3JYiXLIiUwPGyGhUdRrsxJ4nuVFKAtzRAiLNk6cdRkhuQ7Mz1t1AYXQ/bMnlsPJrMVLlbhs0fSEn06R5lKqUScwwWLUbMSkRI0eOeFUXLPsVHvIj+0SYjOPKOvF5aIKgdwKuxxmfmFCOMNPmx2g9mDhKaZjeoVmGjTx0FZKJEuKkyyVLrmxJJboNIp0WB80cpq1UgZeFLR+V2IcpMLeWWFjdJ+NSW87TXOX8JumuUr4iDBQ4//OExNEs7AH0ANJQ3UOCxCFhcIZU9nSUEaybEwhEjw4HSSIo81McOEdyKFw9iSZqnhA6RBpcCrCxIupzOogLklECBBEbT3FttZsGX1SvmOhywIssc1Mjq6IK3olduUNd6mikV5Ho8XeLmyOYccSeVELmC135tj70HWeyj0o1LN5RJPQ62WyCGHrBDRSulXdyyuvEjFg6F4KrkYL2Mqgjy1R/TDpP1anMTdqXrCJIR+HWfswhmBVGp1aiELRyELhG//OExNArhDH4AVlAAQ6EqTyI2ORfTDTh+lsJAzQ1hEjmZi6NKrZGtOGMeDOcZ/GGTg7H7i9YVK1JUm6GqM+1EXV06S6EtJSmWTgvj18oE8nFaq24Yq0ZA/EYijuQlEQnBHaLw+Hrhq5XGQXxONx7F5YVxGMhhfWX0gq4KNVTI3qlWo9PJKJ1GaLUlHStai3KBLp+Eqm+ZlSJeWNqYmdXnGyP1OxqNgOeBLFXSnVCdflzVL9Pq94fzOhVW9WzpM82//OExNVIdDnoAZp4AFW11hTYXCnRi4SCkZVk2JmV7Kb10bBXDlFalaqHiqblddwzCb15Fq5WysLLMoFOsLWFTKnFI3SsyPZ2uNDalG3w7u4zknp9tVGZujqRdUwIKMaOQwfMNHjne9aqbfiICA1OCnxk0CNMmgEQtzIkbIzAwWwMmjhdJygMCUhkY04tmSwXgQE4a0hyqQnCW5VrV4mE14SiyP5+TURoepogQgPHVZsOglnZIJZVTMiAgsvJFoTn//OExGY9jDocAZtgACrSmC0ydNXlCk/MGDtbDG6pjWp1MSksERefNxN0gbgjT2SO2XNrkizLw8ojObma5fbUyIv1TITKlWfnh2hpGT1qpqW1lLouSNs3gW4cqmXUzi8vlVpY03TeR1gXN9RZa7CZbj3Xf7tbffYvdht+Bpbq20TsC663jQ+/rRobB82hITSg7ZecKKx5lQcnKJLSj6oCgNGEwEYYCgIZi7hqGAkEeYBSz5gcAEIEzIKEOMEIPgwL//OExCIq0d5IAZ6gAEMczjhh0cH3MLIBEwWwKTCaDBAQ4QyBFzIAwGHrF0C3AUsBYY1JAMEEENS0KDE0FQfe60FJueL6BXVZBFdN0zqnNyGE4VTEoO66lPOn1KWaDIGaJxE3NFJrvqoGhgt1MmaHVrMTqzWfCL2FXJQ55NoFW4aPVpWzuoYN9SDCDOTZ23STP/l1de56akwiYDcu6YJAbpioEUmjaF4YWoSxgIgJmAWEmYYyPhj0AmGD0B2BgIkm//OExCkx2zpIAd6YAAw+AqjDDA4BwDQKAXiRgHgnGAkAmnk6rTjAFABh13SoGEgJxKJTPl4BgZfWXiaIu01HWowKJcFfNymfWM4Qctm5oM0NgolY1MzEzRTKCDEeXRORRNjAzJ48pBCZrZIzTUgTBBFIIEANOgaGDqWpbstmSNGTUy31fXpqatO/V//9vq6dDTN2qQb7qUqpBBzp9Z1I6bpDDf0f7jgMA+79FZ2bmJWYNCQb8jGYAAMAQvARfGD8//OExBQr3AJoAO4K3KBtYTRjcESmZZQwrFQWB6BGcIAEizLIwjHoKhVpWFRIKAGkBAF3iEDFI3F6SCJfK8Pl363jSyzn4409/DOt/6qxWnz1vD8ta/de9DMYpOaws15ZzPVent3LtjlTOxnbCizuMec6MwgMBAOAgorMf//9qf///+5MYxCHD4fKjHijcjVtS1lAQoOQXAMw52f////86LY51FJBRvmSiu4RtaBgMQgcRiQTIAcRAYwKZDu6zEYX//OExBcsxAqEAOaO3VRt1fYLhgIDjptPY0YRCJlQGhg0GgiUOStjDRzzGguBBwNdRjigCMKptCYYjwyTHVRw3fo8NR+H5frlNLKTuqaWSyx+FPLLG+ytw5HjKW8p8LnY3rmf3dYb7lzP7eVinrTCFRoNDHY9+ty5w2FrgvEsfOY8///9f////Tx9kOQmzmGMzmGM3fM3sc5pxxtX/////9VRDjC5VSjLfeZVYkQEJpDcgNTRaayM0ZLODDVKKkuZ//OExBctM1KQAN5QvFGLA7rSth6tpiQhjcDxVHYzdjOUBITQriXwJjA6AQ0sK7qOZvUG8sAlGgQyupajoTszBkzfpLluR0nK1NDMXt156Sxx/JY1laTC2vuRBU9K5RLJ2rwwsuVGDj2JQs4WBsLhQPzEWhcftdpURMVIdC4OC4huVLPN/////6J/////////rXUL2jUTLvEx1Ef/Heu8Sa0WZ//8YKIE59puqX70+yUwt/SFdeAlpF5zgzYuK0Od//OExBUnqgaUAN5SmGyGXgAQWKY2pKQiQvtI0pKkONa/azYCXVYo+UHvqQgBjScCKsSf1DqRJmUIx2gjzDojP2M6WKjwoUIQRGkRhkVAqKGRcHQsCIUKhc2Rnn0/tZJKpQ2ru5d82l4XmXCGesh51eU9uREjYpngd7/s//5qgcFhYDAcWNO19R4G0HKzl//mwCPKlllQlZJDFiWEoUZ8+mQAA8Fv+3EwsTOq4TfAgoJ5mMp7GCigGq9Fuq+CRUN2//OExCkoA5KIAN4EvC1Su0ypp1XHeDAn8hVLSvUXeV9apGctUMaEIpmW5VYzGs8aWl1V19XDKrZuS7fKspoHKo5TSW5SBOpWLM+/KimsYz1ggJYMoUSGKzlUtdDPpX+ktH/W2qf7UWhUVHXs+qs7KW5Vt6+vKVSkcqIZziaVyQ132KfqJRAw8VsGAAJiqwc7GGSgxlIgYEMkguY8DmEFYkmmJkA0HskaW4lJJbHaJNEEVBsL42iroQhUPRFKHw5g//OExDwoQ7pUANoG3TYBwElbKdYWKiaKZtr2b6kVHFC1jLNnj2/iPa274Y7yq1XVdV7zVjL5/GX/+NtUY/7KsOqQaMqMakKJgZST+qTUsLV4BHcvL13Wqg+RZ9RiJhwtGaUmycgTkjq2PvQCqZTED++iEIHV6o7SY5l8tr+re/8AxjG+Q/jH+YxjAuY3BUb+YxjG43mN5KN89h5z3/+EMrKhn9QudQvf72vCHzz2HqFwhe/3vuc9pBk9naPYWjRo//OExE4m/Dp4AFhS3Nj+GdcVisMMXvtIUMggJLRk6yBAxXtuWLtMRRritZAgTbRtzbSY8yM89AXNpQxvVxWQMCAMJtlAQOmyBi9IANn0DF1iMnQCgBAMKo25tif+//9/yl2f+OYxg6/wL8CkUl5c//3/4XfyHhWXO9urvfd+Hvf9vJyQY3NHuKHvCGVmr+cqgdIydkVlK0ubQIATeyiMgmA4bSeAAwFFUlCASlFQEEggBwCGwIy2V1IjY+IwVNFV//OExGUlNCqcAAhS3ZpxOhRLGG2RWuSKwRiAuwy2yFxp5Ck2pEE1D75iUVeeyNCcLvFZcQBg8TG7oq48Li/K0mv/+t9r/bp0UzKOSlfp+qgdw0iu7VNbM7f/coZGEKyHffQMTPBRk3V9ukDdzFYrR6wjYBMiMMwXCcBEZJJagjklljslJ6WLMg8Qq2hWHlwqGwYmD59kSXI0BQ+3KLEVSdlhc8SvOURLPV0u5c1hHTTu+pxgstL2quXlUScySEow//OExIMm/C6kAAlS3dEgmJ0LlyJSK0VmiyNZRNy7kaFu8jFK0GEn3s2V8/103///QiugpVTuU9Mq5EdlHAcJDQO65kdbLuiEQEkNUIIkRAYXQcpcdJ0SoLpAHatckRHw9SgFSNA2GD4nQYwFkMia4hlYmmneJv7WXGMHrZ9z5ayAmupwkjHAyhLbMqw3FEzlXU3zlLca3LjHN7Uns5cXb/WxrWY4rkEWb1mo99ZVxc1sH7CTNwUCCXTquVLErfAU//OExJok3AKoAAlS3QTnzIsgwRLx3JAre38OV9fMjFaWb1ydjz/va9f76v+GQjVDYByfwRKFUbC9YVaRtxWTWMNEIDB0KjiJVZqMd8suo/d+zcQoQqSym4sTQkiIiJohFJgUlHoYT9InFiaSzSqFlVDnpE16pE1/4+Pz///9aRUNc6VLPI5Ko84seLB2eBUNCE6VclQdtPafdyp1EGqJPP29JRwJG7j8HBNmCRKWwhBZjlPnWQanI787DaMgLjKc//OExLklspacAMpSuP/m0Z0Hpba376Pb/6wztwLzHtibdNxeymNAwwAaIxKihxwUTzeMLYJjU0iu1lPMSkVLdwuRuHo1Lu4YWu1uf3Vrv/lnqtruc3Hs4agaaqWK9Lz888LX8zr4VrVu1UpY3O2ruZvf////+r/7umDxFk8mlIQUQD4fkKVX0dZ8WADC4mGkpXigELHdogBEkKY4CiI1JCBE92H6aWYNDEPAzKq9BUW2kNL6eWbmUk6L69qAHBlN//OExNUmggKAAOYwmJvXFVwUPBwmewydAzy45pBJKQV18AAUaYil6uGfyfzkRsd/7supu91Y/Hf/nvH+fnrHH95/Zv0QnGwrEYfEUsepjrY9DTWj4jjAlCUMiONxELHOiub///////7f/0na7Vo1KPu7qqstrOx2s9ucr3MbRmVrnHlAdy7rS/1PcunFGnoKmI5WnAoFA4Ak5UwTCMGzJyBje0PTE0OAgH1iO8YAhSBA5KAQkeEWe1ZT9xqxTtxC//OExO4txAp4AO6O3eEal2r7cAaGX9R0th0DBE6V9E5EJxomBqqgciQHRlNxW8CjgoHfSVO0jYl4485qpUsZZZ73y1+8888ef/dWe6iEUmIzhczw6EQKZiMVC/qd6i0FIJiAMI///////////7Uban/K3UqOhjOs0yrvKj6Pmo9KIphU8PsFfeEzUVZQ6yA0wbAI06SI3rIICBCkcAgaMVB/N6+SNpSuDA7T4WmyIwcKsQgBD8UtYNZeTvaZHgIZ//OExOos/BJ0AO6K3YrBFaonoqaHaPOlVsMMQBFSKGlsgHYQnh1pa583FC6BpkKWwNXcRHZxa9/e6fDuqTCz+9UksvXe2a0/uzYyqvtFoaltWz3e9P2NyGBqHFgjqHQIGAhzimc1j0/////////39qs5vRER6EIRSJmKZLOr6I/39f76GdylZSzBlhWSjaAlEALgLmAAEkYLShRgwgtAEB0KACFgAIGAMGKwRqYKgACANqFCBQLTB5BgGit0d+XK//OExOktbCJoAO5E3d4s3KSXGyi0lPW4BqqVhnsrWvllNfpn6zXKciwx2tJXqh65hN0LL2C2N5Tktv4/Vi27uVG+it8C5U05KH5Uw1VZkN2szojO6TkIHkBJAeIhhp5Y2zq5t48iU/trv/0////+x+5pxn/Q8qQc8xEve5dHnDYuCxj/6Ie1EnhuclrS9USjAQLThlowc7IODMRAQAg7LAKnAIoGQoImCgJKshIhE0HAWjfKWUO4IK0+NPSsxVzY//OExOYr82pkAPYOvJRDEsTlaHnqxyV59qSyZTgcizWvLbl7kWYYirlWtQ5NvVazt1M4jXwpNw4xZ56aifeLN5VBYJAPyZAwqTY9xxSbsYPkB8fPVxwHgsHjQeiWPDxjvHSp6GKzU/9//7////136ofeb/5ucStiMAnjMSq8gXo/YaGtWFjgmptyGtqIAEETWxFwYB4qARgOBQsABi6WBzYaxkOHBgeBJWAzCwgVB4W0j1GWXDoEkCjTaekjIXLi//OExOksM0JsAO4OvA90PW3pEADyVd1GfzW8q1OnI/8rfmUNPAyCj0BxVfAhjOM9s7oTjBQEWuOM2naZKteLTVOylLh7W0gJ1whgFJtPc2aY20hpEYqzrwXcKe1GaCURhEdoFScceXog6AMHyR2kKTyHL00DEfbDwTMCMPY73S5bqN7Dd9khazQ0ZbP/n/j////9lbOPlN/L7e/YaU97KZ9xNzd3TvdNtcq+7fJvLf7dETeqx6a7WXXsiXv5tFz2//OExOs8tDp0AO5W3DNihqo95XB+1NzUAjoMZDlGIBz7xSARwQOZ3QEzyyIwAIQQ0cXTw776iIa1N58gFS1t8sccHZn96uvq+k5/K06/dv7OlVWDxe+7KCUGsOBGKPfVhh5Kf7VMOIkT6REGGGOSxGEmDaAcwYwvg8DxeH0dhoyRIlAe6abpl03QPGpRMjQ0NESkUDcv1FqFnMlpKsXkmq9ak2WykNL////91oaakKC3RPNSRc3QztmvRkij6y5x//OExKstGxKMAN4auE6tL3aLgMVadXXdr+ykCmxvgBCLVA7ZnBeeidpXSm4/5ghAD8Qzc3EUMb+etSpgV3XNZR61vu9RG1zf1Zivbyruy6FBAkRZyraAmoVtbb+fmoffR+HFQ5DmVRHjUgidExxo6fRGd7vPxOUmtH3KcubWPr178TzcEED7uzlaflZ2n79v3JmZmZ12t1X/r5dK5hiFDN//8VJOS5aWK7BAqXWuUb2V2aZ6VTIzQ7XdGZKwgSBz//OExKkl8jqQAN4YuGPgCISF0swIRBmJIGXvPY7dYDHr2uafZy6fP9SmKW+/uUy23hzWVNX73Kq+ryFvW2I9wjoIQfQuCdht5bWI5GV9CLcnTLT75TWtmPeDFhS3piNnWY+IVJ4lOytT/EesOuL71W3pve4xIgSPf0H//z4GNg+hYHMqvQOZ//tQCYUSz63KjCLxwNqgvf2yKgx3bIxS+/LhAQFMC5z8iZ65xTtlpABmVGy6L3eXYdVgn8t/HWmd//OExMQmKfKQAN6emP/60Sgfv/9W/Y//3Syixrda0ql963ONJQ6gcDuPlFsZUttw78S6/ruw1FP5hWl1Fn/LNNKZfb5+xWHo8VBaBuCSCGLY1PISQW7uaaeYzqpIP3ZDjmf//uf///qdc01iYxHOKHmIiKQGHkZMcUIXYvSjN662//1s1T1IhgY9DUmn0nxyKs6bCvDAqETRjZDAfEI5DICA5kwDnoBGTAhtmwStyAKWBYo5mrsTYBQyJbHxThb///OExN4rk7qIAN4U3EicLfoE6y9jhIqdCiAKYdpoSJYEYgmQAd5InETUREDBQQMVyCEXI04KRKikjeUiSUtJJIqlttRsDaSGmCyLYTwEhFkalmClIiZ7GGtqeMTWZf/1Xu///p5o/Jj5jGjIlOOuTjJVLR0VwvjyEseppyKa56LqpGyWmr/9VmnVNcnNLeb/8M16MW2mMatflt2AuhPPoIjT5RlhQGEmpvHwNtyp4KZ+aOGjKQPcdRB1YtjvOURl//OExOIuQ86AAOTU3a9Lv/W8su/rDPv//63j+tXYs4Liw5LHIRzQoLJMOsB8DwHsE0UBCGwhR7GwhiPcvOJJMp6UGy69wudWhBEzJNLmJsbnTx64m5432r26f////mn1///////1HP1HO3d0yWNpdgGGGgCFiDvGf2raptYiGV4103F0Lu/RwgCjZouibcNpgOKSC5obaePwnwO4YmrmVIYAIAQfT5Bj8Mg0H7jdRqBJnwdSPQ9ngQ40e9JbQsb1//OExNwoMvqMANYWuLz8/41Cbrs6gVyZKFQo8EAGqE1CpGsOELMVR7hcySC3idBtjgE4JqbF40YwQUX0DIwcxPqNzJj5iakkJIiPVRNUgkitj5sib0U6WvqZBaaKR5Nj9V2///9G1lUzNalpMtdJpcPzB1mlIMAu8XTHVC1DIIOCvOrCiFBkx2aSoGrcjqDIGZHHmLmBblbphBAcDfmOOxoYIHAjophKerLiAgDUwuuijKZuFOTUh9nbtOTLK0sj//OExO4uYxKEANvauDTc/C7y1f7rfe5fzvdXLNJWmnLZc77FVvMVd+rFBkjiGSPQKoDZEqEwBTh7hdQvKZkWy6ktFSCCkEzVzrLJpfH8vDhLhLmh1I+iqutplZT+tS5w2dK+lb////ro0lst970UWWianjp0OrV87umQ+SH1oQVQ9rzEWcXJrZNlqpbF1yAVFNeYgEHp4GPqpv60DQUx4bMZYTkRc44pBwizkt+dDHSJelNZCBHJm7D30d94oIU8//OExOcsUv6EAN4auPc2OOyiA56TOpdgN34lVrTkORvGnjUZjVeJy90nXFtJqdpBVK0MM0l38FXM6IVLeQVCWJmfPp7Ys+vWv9c5lp/d7VTM31Wta29dYt64gzAbWCg4Jgr//4u1J5/pER3//EoFdPISbUDTyUq6ekYcNHiyKlkllBgKzMuRzRoUQCARh4HxqQGBgcKJg+CRjcDJqsHZkgS5jMEKDRgCDpg4B48AooDRhMFZgsAqXCMriQ+7DmFw//OExOgpkd54AN4emFSCGAMG+S80GxAIzgJArDtMUGeRMVhTUlamcyiJytYr7Sp+4hBLPV9oWyp6opCsKjw2Y2wdmDjx+pUp9a7+u9/X73lqWUkQiNJTUtzpyr7/3+n/azHyOhGI////5029/X7ldT+3/+tG0VTHGyEIlb+//f6kdEFlCgud1W5hAZMEhw/dCTEYZMBiExFTDN5Jdcw8STe6LNRENDgFRCY7Dw8JToCIPy1cIEQ7T9WYKltRkaXU//OExPQu/BJcAO4E3MUadbXVisxLAJQ7zBFdRu6wN1ZdafmWJxxTx1PE2dyCHoQ8Q1QJ02EObz9Lkb5OhooY3+LiLX/X1ufFZbU2/u0F5lUc8gQDJIkaHmlqTUH2rrMvBtQu3/+hu/ZDRwBJ/FyS2miSJuv/DJ1sBDA8hWOGBQAmBIPncazCQ1CILzDGGghsjAgCzBsUzaQSx0GVVTCAEx4HmWy0wtBhO2RhxWTQLmvWvRJqxuGE73cxiRd1OGVp//OExOspoYZYAOYelBjfMDf9HqXYp6NNnXqm5Rm8UatvQhrOSp92uzk09tPGHMh505M80Xi92zu7llnh6pchHwrE4XgFECEBU0mJDB6avOK7UPR3veiDw0mcvXOPZCqm1MOd3b//tzNU9q/+zHEBx6v7+jTDEWfVi/nKhtjSFH/VCooioRjRgZVsBi+IxIFZ08Npg8GI6Bhg+VxhAFTUjCsSgMXZhGCyPBgmCzJrDIW6KA/BMi5NtWWC2mlMciEl//OExPcv45ZQAO4UvIU8aQpRdCdG4TwuZ5n65Hepmcfi6V7O3HCzt6jc4J+A/13VWM7YuYysOgvxez3N4pqS2prGK/N6d+xNCJVChYFmrqNEngZ9YNpP93zjHz8+X6jX+7//4kruLbElv5jZ08h1xt1LUp/oFRC09drPNcDUKtfum/4qlykABgySFxA+DxojMIgIqmkw6HlBRESh41GTxYARAJAZkrkx6MqzjJFrMZeuKS6mhq/MsIZw/b/rVdtR//OExOor8jpMAOveuEUMbiiMn0tVM5WxnbppyPa47PWwNzlj9Rd/n9YDAtHMd4sD5mesLxXJgeqKZjE7rrP3nX+8xcdSsZBVSJIQZZbUNxfUtfatPWmPXD6180zLbuM/YJ9Z+vCaJHsO7azd76XXItZxirvx4MAA6OWADJZqfs6P99AEkg09mLohotcaCUDIyJmCxjHzowoRMFGTHgsMJyIBXO9c2zxPVHpSp77UthVNSR1p6ECPye0TgJnSlzSm//OExO0r+hJAAOYemIhKQKga8/0Psyf7OGq/MtwFDUWeFhrKW7TbAW1oZuGt3cK47R0sDA2S3xM/O1qRLaiH4EoEU3BGSUGTStc3p0siKm/eeTYkichQPQ60So9Uy7qYiZmaqI/+PbPfcX8tdE2mTuHAZZ56SoSeBWtmC/SEwUONcFCjh2zHPZMjyBN5igoMNxpimUGVQ1iEAAYkZYxkHgoxpyx44nMuzDPYbBOGMHwxvHCJQ5TdKEhBvDmz1Cki//OExPAvYqI0AN4WuN4eC3r7fZoj3h13aeLZYUaJPofyCJkMRcojuPGqADo5d/ff8OtxJJA/D6HS4dy5w3tzt7HRcdfDnvNUbWvVg68kdbn7kOY5xaMLRqodBKh4Ce00ydDLL2qzykFqhKhSuh98cp9zhVo+CiQDaWFBoBKaTCF2x5EAmmyoSBihREku1rMEvKo6xFuCmbKUgwIpyjMKJQxN1UZgLZ3KE4B6gMTdAe7vJaaLDZIpfWVmNE3EyoYr//OExOUmcfYwAMvWmC33vDnmbTXAP5ke3mznX3n23Kyw5ESjzSXUeRsRw8VIXmVqpqZ06jkJg+skPVWGeJhZ/WR3HxWsxDJdKkDmoaP0JVeG6WIhyhw9+ftcco+t2QY8C9ks9uwokdolXVLdTNWOomRxtEY9kqaiFeaoeqog1RpiZ8s7PCoyqjhBjUai0uoqB64GlTSnoxa0xd2JhTZ+Uw5S0pPiSCJOTltYmB+IgnRBSKzgmRlotPRPurGn0tlR//OExP4w1AYcAMvQ3ahyTWrM90uXhs/PQplNob917UdjeWUwyq7VSdPQzY5IxNtw10mkpF5wkuFdjn3pJRp+VetGOfm5RuWQa+ah85LthxLXxHoPEvKIJdNb3U63Vm+imxOrwv5ayrNRKfMvOUUTT5S/vl6grUqt4nIy7Vy9N8psbFVbUplzpU5KrZRVNCBp1BKHKtVamfymW53p35pn3HCZ03YRiVGcBm0129cQXURdacL+wrWlUS68VLNMfy0x//OExO0uXCoQAMsM3c+7srv+DUKy6GbQsLoM205y5n1uoqfWDLfQ9E72jn1TYivw66CirXKHKOEzCJ1Eksjo0flIsQjTVHmJqTJwkoSZQNQ1nSpto23VH2M5QeD0d2tLz49Pk5PiT4um5uMnM7/MrzmnHP6g1HtmWXcbMSUu1RsHbKC7bph2rzClI6LVmao6/auFWxhfr4VYnZvRSxmTGg+ICSRo4uy44TjTGnpqrQYOrtTbdNekM5cjrnIJvStk//OExOYr5BIIAMMM3ekimpyi+HyK+yYhCE1dUpa7crKrw2VVNUmU+oE9SgNK9azgiSSLL8w6S3SJJ2fBrKJEz7T6bscvWtmaIpWma50YT65WUti3XvLqcdodK3YlihOQf2lRUXWJGOkmu1X8M3KxKSyunRLBhItKsOMtMNEJejfz0kzCRsSoSifC/N6mfuWMse41qlWu9NLXs2JpEH0E09Qq6KZrw6sJTjFBkhtQ3J03rr46mLYVVTZnF5A0yVYT//OExOksLC34AMpM3ZNTVR3J+y1pWNxkVRIWkOnzaVjK1HErhDejCVZJunyoESo62K2nRCanT8r5+fyFMeSjztanIHBiTUVa6uhCDxfp6h3fDblMlPqiybqW7rW1PW1qjIypqlYfaNZdlbJ5/60sya8Mf9hEzrjG0Ua6Nt1RVAcnEV8sLd+zjnYuamMqfVanoJmUS6iqTRxOJ18moFm+uKVBKpFHLFXL2iggeihVkq6jOvVL9uFHhgoWVX5AwoVX//OExOsqxCH4AMpM3VFIJLxV1ZbP3p+yalncRhPWOQOl0S/Hyswwi2u67EVd0g09OiwVclWu64MvWg4yi4CH1QLkWbmEa088OZfDQimedz0ThVEoWekyetLJiSRbuxiVHhV6klkEhBaynNNt1nK+uhJZ+zVcpX3dNWRwQjR00jGn1SuJjvm8qmfblel1T2ZuIfRXe4Mjp8qje5EG0yeGoTDKsmzw9PEJKjFCFCgKyQIHEJo0yT+KyxU0sbRiAym7//OExPMtLDX0ANJM3CadITC0DSOCEpITk6z3IT92FiDTTJRHECgh7HinTjTXUexA5BEtGsHsWVpvxj03SmmX1p+LxH0dcSaxWFgVyXVvRVIvfPGfaFvHuUk/hmVku74dzjuc7KZyekz8lDyjjUxfhJI7nXdeKZXpUpeDrej+Ymjp7kz2VScb2/9bCrrOmlX0tfmGFJP26DhQliRzUHhXumWToURE8lBZSuSIi84yDKqGkcGqGEApWRkNSNkxM3Mo//OExPEtVCH0ANJM3bl+h2dMkKBH00clnQQJw7K8jx5ZvswFq9JJyYbUKNvenHBjxp+4TNfN2ed5WgTknZTp0cSkrJ2WyXzDUMjpnkue3ssyumQQaLjJyqFOcxjyVx/RNki7Q1EE3TLxPC9I43yoMmUS2bIZ0dk6mjn8h5dQTDFLhqaHYuk6hy+ax6OHH8s08N3q9PTzFFZm8+3p+ty0c7Lnk4ejrhXaI+peKnBu2ZlTGsUbfBNkiTOa0SzZsVLS//OExO4s9Dn0ANJM3EM5WrIVKRXIbppdhJqWx8p1CVJMkvDsHHEjCR6iXz3p5VGz5ItWFxeQaaol04n/qfS0YL5WvR1ekUTeC1MuYVVWcuGvHI3F42423qiidHFlwZums/OZLazI1LkptmbweyUQn9eaZLNc7fuVLFVc1RvKwq4XFTLsOcZbKAVOmDGHONTu071O7L8zT/T0ptU1eWxisiRJComEIlWkRLomlWf8WJkibVWYpCpPaauMYET0TVTI//OExO0rlBH0AMpM3VlYmnJE0qKVBU+MpdVlZrfKXVQ001ZgoCgEHEho3qTHWomCnUmLDGqqCFbMwMTGiwUYUSCAjjGqwyDAhyNUaxYxqAkBCoBMFX2aM1ASDCqzAwFGagLgJM1VGjfs4kEpBhVARgIUzHV41+f8bY9SbWrBVVYBKkxBTUUzLjEwMKqqqqqqqqqqqqqqqqqqqqqqqqqqqqqqqqqqqqqqqqqqqqqqqqqqqqqqqqqqqqqqqqqqqqqq//OExPEsjDnQAMpG3Kqqqqqqqqqqqqqqqqqqqqqqqqqqqqqqqqqqqqqqqqqqqqqqqqqqqqqqqqqqqqqqqqqqqqqqqqqqqqqqqqqqqqqqqqqqqqqqqqqqqqqqqqqqqqqqqqqqqqqqqqqqqqqqqqqqqqqqqqqqqqqqqqqqqqqqqqqqqqqqqqqqqqqqqqqqqqqqqqqqqqqqqqqqqqqqqqqqqqqqqqqqqqqqqqqqqqqqqqqqqqqqqqqqqqqqqqqqqqqq\" type=\"audio/mpeg\" />\n",
              "                    Your browser does not support the audio element.\n",
              "                </audio>\n",
              "              "
            ]
          },
          "metadata": {},
          "execution_count": 80
        }
      ]
    },
    {
      "cell_type": "code",
      "source": [
        "import speech_recognition as sr\n",
        "\n",
        "# Initialize recognizer\n",
        "recognizer = sr.Recognizer()\n",
        "\n",
        "# Use the microphone as source\n",
        "with sr.Microphone() as source:\n",
        "    print(\"🎤 Speak something...\")\n",
        "    audio = recognizer.listen(source)\n",
        "\n",
        "    try:\n",
        "        # Convert speech to text using Google Web Speech API\n",
        "        text = recognizer.recognize_google(audio)\n",
        "        print(\"📝 You said:\", text)\n",
        "    except sr.UnknownValueError:\n",
        "        print(\"❌ Sorry, could not understand the audio.\")\n",
        "    except sr.RequestError:\n",
        "        print(\"⚠️ Could not request results from Google Speech Recognition service.\")\n"
      ],
      "metadata": {
        "id": "j2VwDFjQfYzI",
        "outputId": "4afb4c25-8ba1-4aab-db43-676982e9fb62",
        "colab": {
          "base_uri": "https://localhost:8080/",
          "height": 370
        }
      },
      "id": "j2VwDFjQfYzI",
      "execution_count": 81,
      "outputs": [
        {
          "output_type": "error",
          "ename": "OSError",
          "evalue": "No Default Input Device Available",
          "traceback": [
            "\u001b[0;31m---------------------------------------------------------------------------\u001b[0m",
            "\u001b[0;31mOSError\u001b[0m                                   Traceback (most recent call last)",
            "\u001b[0;32m/tmp/ipython-input-81-1622927509.py\u001b[0m in \u001b[0;36m<cell line: 0>\u001b[0;34m()\u001b[0m\n\u001b[1;32m      5\u001b[0m \u001b[0;34m\u001b[0m\u001b[0m\n\u001b[1;32m      6\u001b[0m \u001b[0;31m# Use the microphone as source\u001b[0m\u001b[0;34m\u001b[0m\u001b[0;34m\u001b[0m\u001b[0m\n\u001b[0;32m----> 7\u001b[0;31m \u001b[0;32mwith\u001b[0m \u001b[0msr\u001b[0m\u001b[0;34m.\u001b[0m\u001b[0mMicrophone\u001b[0m\u001b[0;34m(\u001b[0m\u001b[0;34m)\u001b[0m \u001b[0;32mas\u001b[0m \u001b[0msource\u001b[0m\u001b[0;34m:\u001b[0m\u001b[0;34m\u001b[0m\u001b[0;34m\u001b[0m\u001b[0m\n\u001b[0m\u001b[1;32m      8\u001b[0m     \u001b[0mprint\u001b[0m\u001b[0;34m(\u001b[0m\u001b[0;34m\"🎤 Speak something...\"\u001b[0m\u001b[0;34m)\u001b[0m\u001b[0;34m\u001b[0m\u001b[0;34m\u001b[0m\u001b[0m\n\u001b[1;32m      9\u001b[0m     \u001b[0maudio\u001b[0m \u001b[0;34m=\u001b[0m \u001b[0mrecognizer\u001b[0m\u001b[0;34m.\u001b[0m\u001b[0mlisten\u001b[0m\u001b[0;34m(\u001b[0m\u001b[0msource\u001b[0m\u001b[0;34m)\u001b[0m\u001b[0;34m\u001b[0m\u001b[0;34m\u001b[0m\u001b[0m\n",
            "\u001b[0;32m/usr/local/lib/python3.11/dist-packages/speech_recognition/__init__.py\u001b[0m in \u001b[0;36m__init__\u001b[0;34m(self, device_index, sample_rate, chunk_size)\u001b[0m\n\u001b[1;32m     80\u001b[0m                 \u001b[0;32massert\u001b[0m \u001b[0;36m0\u001b[0m \u001b[0;34m<=\u001b[0m \u001b[0mdevice_index\u001b[0m \u001b[0;34m<\u001b[0m \u001b[0mcount\u001b[0m\u001b[0;34m,\u001b[0m \u001b[0;34m\"Device index out of range ({} devices available; device index should be between 0 and {} inclusive)\"\u001b[0m\u001b[0;34m.\u001b[0m\u001b[0mformat\u001b[0m\u001b[0;34m(\u001b[0m\u001b[0mcount\u001b[0m\u001b[0;34m,\u001b[0m \u001b[0mcount\u001b[0m \u001b[0;34m-\u001b[0m \u001b[0;36m1\u001b[0m\u001b[0;34m)\u001b[0m\u001b[0;34m\u001b[0m\u001b[0;34m\u001b[0m\u001b[0m\n\u001b[1;32m     81\u001b[0m             \u001b[0;32mif\u001b[0m \u001b[0msample_rate\u001b[0m \u001b[0;32mis\u001b[0m \u001b[0;32mNone\u001b[0m\u001b[0;34m:\u001b[0m  \u001b[0;31m# automatically set the sample rate to the hardware's default sample rate if not specified\u001b[0m\u001b[0;34m\u001b[0m\u001b[0;34m\u001b[0m\u001b[0m\n\u001b[0;32m---> 82\u001b[0;31m                 \u001b[0mdevice_info\u001b[0m \u001b[0;34m=\u001b[0m \u001b[0maudio\u001b[0m\u001b[0;34m.\u001b[0m\u001b[0mget_device_info_by_index\u001b[0m\u001b[0;34m(\u001b[0m\u001b[0mdevice_index\u001b[0m\u001b[0;34m)\u001b[0m \u001b[0;32mif\u001b[0m \u001b[0mdevice_index\u001b[0m \u001b[0;32mis\u001b[0m \u001b[0;32mnot\u001b[0m \u001b[0;32mNone\u001b[0m \u001b[0;32melse\u001b[0m \u001b[0maudio\u001b[0m\u001b[0;34m.\u001b[0m\u001b[0mget_default_input_device_info\u001b[0m\u001b[0;34m(\u001b[0m\u001b[0;34m)\u001b[0m\u001b[0;34m\u001b[0m\u001b[0;34m\u001b[0m\u001b[0m\n\u001b[0m\u001b[1;32m     83\u001b[0m                 \u001b[0;32massert\u001b[0m \u001b[0misinstance\u001b[0m\u001b[0;34m(\u001b[0m\u001b[0mdevice_info\u001b[0m\u001b[0;34m.\u001b[0m\u001b[0mget\u001b[0m\u001b[0;34m(\u001b[0m\u001b[0;34m\"defaultSampleRate\"\u001b[0m\u001b[0;34m)\u001b[0m\u001b[0;34m,\u001b[0m \u001b[0;34m(\u001b[0m\u001b[0mfloat\u001b[0m\u001b[0;34m,\u001b[0m \u001b[0mint\u001b[0m\u001b[0;34m)\u001b[0m\u001b[0;34m)\u001b[0m \u001b[0;32mand\u001b[0m \u001b[0mdevice_info\u001b[0m\u001b[0;34m[\u001b[0m\u001b[0;34m\"defaultSampleRate\"\u001b[0m\u001b[0;34m]\u001b[0m \u001b[0;34m>\u001b[0m \u001b[0;36m0\u001b[0m\u001b[0;34m,\u001b[0m \u001b[0;34m\"Invalid device info returned from PyAudio: {}\"\u001b[0m\u001b[0;34m.\u001b[0m\u001b[0mformat\u001b[0m\u001b[0;34m(\u001b[0m\u001b[0mdevice_info\u001b[0m\u001b[0;34m)\u001b[0m\u001b[0;34m\u001b[0m\u001b[0;34m\u001b[0m\u001b[0m\n\u001b[1;32m     84\u001b[0m                 \u001b[0msample_rate\u001b[0m \u001b[0;34m=\u001b[0m \u001b[0mint\u001b[0m\u001b[0;34m(\u001b[0m\u001b[0mdevice_info\u001b[0m\u001b[0;34m[\u001b[0m\u001b[0;34m\"defaultSampleRate\"\u001b[0m\u001b[0;34m]\u001b[0m\u001b[0;34m)\u001b[0m\u001b[0;34m\u001b[0m\u001b[0;34m\u001b[0m\u001b[0m\n",
            "\u001b[0;32m/usr/local/lib/python3.11/dist-packages/pyaudio/__init__.py\u001b[0m in \u001b[0;36mget_default_input_device_info\u001b[0;34m(self)\u001b[0m\n\u001b[1;32m    810\u001b[0m         \u001b[0;34m:\u001b[0m\u001b[0mrtype\u001b[0m\u001b[0;34m:\u001b[0m \u001b[0mdict\u001b[0m\u001b[0;34m\u001b[0m\u001b[0;34m\u001b[0m\u001b[0m\n\u001b[1;32m    811\u001b[0m         \"\"\"\n\u001b[0;32m--> 812\u001b[0;31m         \u001b[0mdevice_index\u001b[0m \u001b[0;34m=\u001b[0m \u001b[0mpa\u001b[0m\u001b[0;34m.\u001b[0m\u001b[0mget_default_input_device\u001b[0m\u001b[0;34m(\u001b[0m\u001b[0;34m)\u001b[0m\u001b[0;34m\u001b[0m\u001b[0;34m\u001b[0m\u001b[0m\n\u001b[0m\u001b[1;32m    813\u001b[0m         \u001b[0;32mreturn\u001b[0m \u001b[0mself\u001b[0m\u001b[0;34m.\u001b[0m\u001b[0mget_device_info_by_index\u001b[0m\u001b[0;34m(\u001b[0m\u001b[0mdevice_index\u001b[0m\u001b[0;34m)\u001b[0m\u001b[0;34m\u001b[0m\u001b[0;34m\u001b[0m\u001b[0m\n\u001b[1;32m    814\u001b[0m \u001b[0;34m\u001b[0m\u001b[0m\n",
            "\u001b[0;31mOSError\u001b[0m: No Default Input Device Available"
          ]
        }
      ]
    },
    {
      "cell_type": "code",
      "source": [
        "pip install SpeechRecognition pyaudio\n"
      ],
      "metadata": {
        "id": "zOlStzWtfb_8",
        "outputId": "d31edfe4-b3e3-4dd4-9d3b-61849712626b",
        "colab": {
          "base_uri": "https://localhost:8080/"
        }
      },
      "id": "zOlStzWtfb_8",
      "execution_count": 83,
      "outputs": [
        {
          "output_type": "stream",
          "name": "stdout",
          "text": [
            "Requirement already satisfied: SpeechRecognition in /usr/local/lib/python3.11/dist-packages (3.14.3)\n",
            "Requirement already satisfied: pyaudio in /usr/local/lib/python3.11/dist-packages (0.2.14)\n",
            "Requirement already satisfied: typing-extensions in /usr/local/lib/python3.11/dist-packages (from SpeechRecognition) (4.14.1)\n"
          ]
        }
      ]
    },
    {
      "cell_type": "code",
      "source": [
        "!apt-get install -y portaudio19-dev\n",
        "\n"
      ],
      "metadata": {
        "id": "JBLDdPdafy6O",
        "outputId": "0a941836-b482-4feb-e816-ee7d908c9ad5",
        "colab": {
          "base_uri": "https://localhost:8080/"
        }
      },
      "id": "JBLDdPdafy6O",
      "execution_count": 87,
      "outputs": [
        {
          "output_type": "stream",
          "name": "stdout",
          "text": [
            "Reading package lists... Done\n",
            "Building dependency tree... Done\n",
            "Reading state information... Done\n",
            "portaudio19-dev is already the newest version (19.6.0-1.1).\n",
            "0 upgraded, 0 newly installed, 0 to remove and 35 not upgraded.\n"
          ]
        }
      ]
    },
    {
      "cell_type": "code",
      "source": [
        "\n",
        "!pip install pyaudio\n"
      ],
      "metadata": {
        "id": "sNM0nm5IgaoJ",
        "outputId": "7ccc24cb-4c69-4e86-c06c-b7d8fb893479",
        "colab": {
          "base_uri": "https://localhost:8080/"
        }
      },
      "id": "sNM0nm5IgaoJ",
      "execution_count": 88,
      "outputs": [
        {
          "output_type": "stream",
          "name": "stdout",
          "text": [
            "Requirement already satisfied: pyaudio in /usr/local/lib/python3.11/dist-packages (0.2.14)\n"
          ]
        }
      ]
    },
    {
      "cell_type": "code",
      "source": [
        "import speech_recognition as sr\n",
        "\n",
        "# Initialize recognizer\n",
        "recognizer = sr.Recognizer()\n",
        "\n",
        "# Use the microphone as the audio source\n",
        "with sr.Microphone() as source:\n",
        "    print(\"🎤 Please speak something...\")\n",
        "    recognizer.adjust_for_ambient_noise(source)  # Optional: adjust for noise\n",
        "    audio = recognizer.listen(source)\n",
        "\n",
        "try:\n",
        "    # Convert speech to text using Google Web Speech API\n",
        "    text = recognizer.recognize_google(audio)\n",
        "    print(\"📝 You said:\", text)\n",
        "except sr.UnknownValueError:\n",
        "    print(\"❌ Could not understand audio.\")\n",
        "except sr.RequestError as e:\n",
        "    print(f\"⚠️ Could not request results from Google; {e}\")\n"
      ],
      "metadata": {
        "id": "KcCjWimSgvP2",
        "outputId": "b4ad4a22-ed44-49f8-8dc2-82812810a07f",
        "colab": {
          "base_uri": "https://localhost:8080/",
          "height": 370
        }
      },
      "id": "KcCjWimSgvP2",
      "execution_count": 91,
      "outputs": [
        {
          "output_type": "error",
          "ename": "OSError",
          "evalue": "No Default Input Device Available",
          "traceback": [
            "\u001b[0;31m---------------------------------------------------------------------------\u001b[0m",
            "\u001b[0;31mOSError\u001b[0m                                   Traceback (most recent call last)",
            "\u001b[0;32m/tmp/ipython-input-91-613586808.py\u001b[0m in \u001b[0;36m<cell line: 0>\u001b[0;34m()\u001b[0m\n\u001b[1;32m      5\u001b[0m \u001b[0;34m\u001b[0m\u001b[0m\n\u001b[1;32m      6\u001b[0m \u001b[0;31m# Use the microphone as the audio source\u001b[0m\u001b[0;34m\u001b[0m\u001b[0;34m\u001b[0m\u001b[0m\n\u001b[0;32m----> 7\u001b[0;31m \u001b[0;32mwith\u001b[0m \u001b[0msr\u001b[0m\u001b[0;34m.\u001b[0m\u001b[0mMicrophone\u001b[0m\u001b[0;34m(\u001b[0m\u001b[0;34m)\u001b[0m \u001b[0;32mas\u001b[0m \u001b[0msource\u001b[0m\u001b[0;34m:\u001b[0m\u001b[0;34m\u001b[0m\u001b[0;34m\u001b[0m\u001b[0m\n\u001b[0m\u001b[1;32m      8\u001b[0m     \u001b[0mprint\u001b[0m\u001b[0;34m(\u001b[0m\u001b[0;34m\"🎤 Please speak something...\"\u001b[0m\u001b[0;34m)\u001b[0m\u001b[0;34m\u001b[0m\u001b[0;34m\u001b[0m\u001b[0m\n\u001b[1;32m      9\u001b[0m     \u001b[0mrecognizer\u001b[0m\u001b[0;34m.\u001b[0m\u001b[0madjust_for_ambient_noise\u001b[0m\u001b[0;34m(\u001b[0m\u001b[0msource\u001b[0m\u001b[0;34m)\u001b[0m  \u001b[0;31m# Optional: adjust for noise\u001b[0m\u001b[0;34m\u001b[0m\u001b[0;34m\u001b[0m\u001b[0m\n",
            "\u001b[0;32m/usr/local/lib/python3.11/dist-packages/speech_recognition/__init__.py\u001b[0m in \u001b[0;36m__init__\u001b[0;34m(self, device_index, sample_rate, chunk_size)\u001b[0m\n\u001b[1;32m     80\u001b[0m                 \u001b[0;32massert\u001b[0m \u001b[0;36m0\u001b[0m \u001b[0;34m<=\u001b[0m \u001b[0mdevice_index\u001b[0m \u001b[0;34m<\u001b[0m \u001b[0mcount\u001b[0m\u001b[0;34m,\u001b[0m \u001b[0;34m\"Device index out of range ({} devices available; device index should be between 0 and {} inclusive)\"\u001b[0m\u001b[0;34m.\u001b[0m\u001b[0mformat\u001b[0m\u001b[0;34m(\u001b[0m\u001b[0mcount\u001b[0m\u001b[0;34m,\u001b[0m \u001b[0mcount\u001b[0m \u001b[0;34m-\u001b[0m \u001b[0;36m1\u001b[0m\u001b[0;34m)\u001b[0m\u001b[0;34m\u001b[0m\u001b[0;34m\u001b[0m\u001b[0m\n\u001b[1;32m     81\u001b[0m             \u001b[0;32mif\u001b[0m \u001b[0msample_rate\u001b[0m \u001b[0;32mis\u001b[0m \u001b[0;32mNone\u001b[0m\u001b[0;34m:\u001b[0m  \u001b[0;31m# automatically set the sample rate to the hardware's default sample rate if not specified\u001b[0m\u001b[0;34m\u001b[0m\u001b[0;34m\u001b[0m\u001b[0m\n\u001b[0;32m---> 82\u001b[0;31m                 \u001b[0mdevice_info\u001b[0m \u001b[0;34m=\u001b[0m \u001b[0maudio\u001b[0m\u001b[0;34m.\u001b[0m\u001b[0mget_device_info_by_index\u001b[0m\u001b[0;34m(\u001b[0m\u001b[0mdevice_index\u001b[0m\u001b[0;34m)\u001b[0m \u001b[0;32mif\u001b[0m \u001b[0mdevice_index\u001b[0m \u001b[0;32mis\u001b[0m \u001b[0;32mnot\u001b[0m \u001b[0;32mNone\u001b[0m \u001b[0;32melse\u001b[0m \u001b[0maudio\u001b[0m\u001b[0;34m.\u001b[0m\u001b[0mget_default_input_device_info\u001b[0m\u001b[0;34m(\u001b[0m\u001b[0;34m)\u001b[0m\u001b[0;34m\u001b[0m\u001b[0;34m\u001b[0m\u001b[0m\n\u001b[0m\u001b[1;32m     83\u001b[0m                 \u001b[0;32massert\u001b[0m \u001b[0misinstance\u001b[0m\u001b[0;34m(\u001b[0m\u001b[0mdevice_info\u001b[0m\u001b[0;34m.\u001b[0m\u001b[0mget\u001b[0m\u001b[0;34m(\u001b[0m\u001b[0;34m\"defaultSampleRate\"\u001b[0m\u001b[0;34m)\u001b[0m\u001b[0;34m,\u001b[0m \u001b[0;34m(\u001b[0m\u001b[0mfloat\u001b[0m\u001b[0;34m,\u001b[0m \u001b[0mint\u001b[0m\u001b[0;34m)\u001b[0m\u001b[0;34m)\u001b[0m \u001b[0;32mand\u001b[0m \u001b[0mdevice_info\u001b[0m\u001b[0;34m[\u001b[0m\u001b[0;34m\"defaultSampleRate\"\u001b[0m\u001b[0;34m]\u001b[0m \u001b[0;34m>\u001b[0m \u001b[0;36m0\u001b[0m\u001b[0;34m,\u001b[0m \u001b[0;34m\"Invalid device info returned from PyAudio: {}\"\u001b[0m\u001b[0;34m.\u001b[0m\u001b[0mformat\u001b[0m\u001b[0;34m(\u001b[0m\u001b[0mdevice_info\u001b[0m\u001b[0;34m)\u001b[0m\u001b[0;34m\u001b[0m\u001b[0;34m\u001b[0m\u001b[0m\n\u001b[1;32m     84\u001b[0m                 \u001b[0msample_rate\u001b[0m \u001b[0;34m=\u001b[0m \u001b[0mint\u001b[0m\u001b[0;34m(\u001b[0m\u001b[0mdevice_info\u001b[0m\u001b[0;34m[\u001b[0m\u001b[0;34m\"defaultSampleRate\"\u001b[0m\u001b[0;34m]\u001b[0m\u001b[0;34m)\u001b[0m\u001b[0;34m\u001b[0m\u001b[0;34m\u001b[0m\u001b[0m\n",
            "\u001b[0;32m/usr/local/lib/python3.11/dist-packages/pyaudio/__init__.py\u001b[0m in \u001b[0;36mget_default_input_device_info\u001b[0;34m(self)\u001b[0m\n\u001b[1;32m    810\u001b[0m         \u001b[0;34m:\u001b[0m\u001b[0mrtype\u001b[0m\u001b[0;34m:\u001b[0m \u001b[0mdict\u001b[0m\u001b[0;34m\u001b[0m\u001b[0;34m\u001b[0m\u001b[0m\n\u001b[1;32m    811\u001b[0m         \"\"\"\n\u001b[0;32m--> 812\u001b[0;31m         \u001b[0mdevice_index\u001b[0m \u001b[0;34m=\u001b[0m \u001b[0mpa\u001b[0m\u001b[0;34m.\u001b[0m\u001b[0mget_default_input_device\u001b[0m\u001b[0;34m(\u001b[0m\u001b[0;34m)\u001b[0m\u001b[0;34m\u001b[0m\u001b[0;34m\u001b[0m\u001b[0m\n\u001b[0m\u001b[1;32m    813\u001b[0m         \u001b[0;32mreturn\u001b[0m \u001b[0mself\u001b[0m\u001b[0;34m.\u001b[0m\u001b[0mget_device_info_by_index\u001b[0m\u001b[0;34m(\u001b[0m\u001b[0mdevice_index\u001b[0m\u001b[0;34m)\u001b[0m\u001b[0;34m\u001b[0m\u001b[0;34m\u001b[0m\u001b[0m\n\u001b[1;32m    814\u001b[0m \u001b[0;34m\u001b[0m\u001b[0m\n",
            "\u001b[0;31mOSError\u001b[0m: No Default Input Device Available"
          ]
        }
      ]
    },
    {
      "cell_type": "code",
      "source": [
        "import tkinter as tk\n",
        "from tkinter import messagebox\n",
        "\n",
        "# ---------- Main Application Class ----------\n",
        "class App:\n",
        "    def __init__(self, root):\n",
        "        self.root = root\n",
        "        self.root.title(\"User Selection\")\n",
        "        self.root.geometry(\"400x300\")\n",
        "        self.show_role_selection()\n",
        "\n",
        "    def show_role_selection(self):\n",
        "        self.clear_window()\n",
        "        label = tk.Label(self.root, text=\"Who are you?\", font=(\"Arial\", 16))\n",
        "        label.pack(pady=20)\n",
        "\n",
        "        teacher_btn = tk.Button(self.root, text=\"Teacher\", width=20, command=lambda: self.show_form(\"Teacher\"))\n",
        "        student_btn = tk.Button(self.root, text=\"Student\", width=20, command=lambda: self.show_form(\"Student\"))\n",
        "\n",
        "        teacher_btn.pack(pady=10)\n",
        "        student_btn.pack(pady=10)\n",
        "\n",
        "    def show_form(self, role):\n",
        "        self.clear_window()\n",
        "        self.root.title(f\"{role} Information Form\")\n",
        "\n",
        "        self.entries = {}\n",
        "        fields = [\"Full Name\", \"Branch/Class\", \"School/College\", \"Phone No.\", \"Email ID\", \"Address\"]\n",
        "\n",
        "        tk.Label(self.root, text=f\"{role} Information Form\", font=(\"Arial\", 14)).pack(pady=10)\n",
        "\n",
        "        form_frame = tk.Frame(self.root)\n",
        "        form_frame.pack()\n",
        "\n",
        "        for field in fields:\n",
        "            label = tk.Label(form_frame, text=field)\n",
        "            entry = tk.Entry(form_frame, width=30)\n",
        "            label.pack()\n",
        "            entry.pack(pady=3)\n",
        "            self.entries[field] = entry\n",
        "\n",
        "        submit_btn = tk.Button(self.root, text=\"Submit\", command=self.submit_form)\n",
        "        submit_btn.pack(pady=15)\n",
        "\n",
        "    def submit_form(self):\n",
        "        data = {field: entry.get() for field, entry in self.entries.items()}\n",
        "\n",
        "        # Basic validation\n",
        "        if any(v == \"\" for v in data.values()):\n",
        "            messagebox.showerror(\"Error\", \"Please fill in all fields.\")\n",
        "            return\n",
        "\n",
        "        self.show_thank_you()\n",
        "\n",
        "    def show_thank_you(self):\n",
        "        self.clear_window()\n",
        "        tk.Label(self.root, text=\"✅ Thank you for submitting the form!\", font=(\"Arial\", 16), fg=\"green\").pack(pady=60)\n",
        "        tk.Button(self.root, text=\"Exit\", command=self.root.quit).pack()\n",
        "\n",
        "    def clear_window(self):\n",
        "        for widget in self.root.winfo_children():\n",
        "            widget.destroy()\n",
        "\n",
        "# ---------- Run the App ----------\n",
        "if __name__ == \"__main__\":\n",
        "    root = tk.Tk()\n",
        "    app = App(root)\n",
        "    root.mainloop()\n"
      ],
      "metadata": {
        "id": "BeAQ3r79i-Jf",
        "outputId": "1b5c453b-0263-4315-c36e-de51994a596d",
        "colab": {
          "base_uri": "https://localhost:8080/",
          "height": 346
        }
      },
      "id": "BeAQ3r79i-Jf",
      "execution_count": 92,
      "outputs": [
        {
          "output_type": "error",
          "ename": "TclError",
          "evalue": "no display name and no $DISPLAY environment variable",
          "traceback": [
            "\u001b[0;31m---------------------------------------------------------------------------\u001b[0m",
            "\u001b[0;31mTclError\u001b[0m                                  Traceback (most recent call last)",
            "\u001b[0;32m/tmp/ipython-input-92-2163260948.py\u001b[0m in \u001b[0;36m<cell line: 0>\u001b[0;34m()\u001b[0m\n\u001b[1;32m     64\u001b[0m \u001b[0;31m# ---------- Run the App ----------\u001b[0m\u001b[0;34m\u001b[0m\u001b[0;34m\u001b[0m\u001b[0m\n\u001b[1;32m     65\u001b[0m \u001b[0;32mif\u001b[0m \u001b[0m__name__\u001b[0m \u001b[0;34m==\u001b[0m \u001b[0;34m\"__main__\"\u001b[0m\u001b[0;34m:\u001b[0m\u001b[0;34m\u001b[0m\u001b[0;34m\u001b[0m\u001b[0m\n\u001b[0;32m---> 66\u001b[0;31m     \u001b[0mroot\u001b[0m \u001b[0;34m=\u001b[0m \u001b[0mtk\u001b[0m\u001b[0;34m.\u001b[0m\u001b[0mTk\u001b[0m\u001b[0;34m(\u001b[0m\u001b[0;34m)\u001b[0m\u001b[0;34m\u001b[0m\u001b[0;34m\u001b[0m\u001b[0m\n\u001b[0m\u001b[1;32m     67\u001b[0m     \u001b[0mapp\u001b[0m \u001b[0;34m=\u001b[0m \u001b[0mApp\u001b[0m\u001b[0;34m(\u001b[0m\u001b[0mroot\u001b[0m\u001b[0;34m)\u001b[0m\u001b[0;34m\u001b[0m\u001b[0;34m\u001b[0m\u001b[0m\n\u001b[1;32m     68\u001b[0m     \u001b[0mroot\u001b[0m\u001b[0;34m.\u001b[0m\u001b[0mmainloop\u001b[0m\u001b[0;34m(\u001b[0m\u001b[0;34m)\u001b[0m\u001b[0;34m\u001b[0m\u001b[0;34m\u001b[0m\u001b[0m\n",
            "\u001b[0;32m/usr/lib/python3.11/tkinter/__init__.py\u001b[0m in \u001b[0;36m__init__\u001b[0;34m(self, screenName, baseName, className, useTk, sync, use)\u001b[0m\n\u001b[1;32m   2324\u001b[0m                 \u001b[0mbaseName\u001b[0m \u001b[0;34m=\u001b[0m \u001b[0mbaseName\u001b[0m \u001b[0;34m+\u001b[0m \u001b[0mext\u001b[0m\u001b[0;34m\u001b[0m\u001b[0;34m\u001b[0m\u001b[0m\n\u001b[1;32m   2325\u001b[0m         \u001b[0minteractive\u001b[0m \u001b[0;34m=\u001b[0m \u001b[0;32mFalse\u001b[0m\u001b[0;34m\u001b[0m\u001b[0;34m\u001b[0m\u001b[0m\n\u001b[0;32m-> 2326\u001b[0;31m         \u001b[0mself\u001b[0m\u001b[0;34m.\u001b[0m\u001b[0mtk\u001b[0m \u001b[0;34m=\u001b[0m \u001b[0m_tkinter\u001b[0m\u001b[0;34m.\u001b[0m\u001b[0mcreate\u001b[0m\u001b[0;34m(\u001b[0m\u001b[0mscreenName\u001b[0m\u001b[0;34m,\u001b[0m \u001b[0mbaseName\u001b[0m\u001b[0;34m,\u001b[0m \u001b[0mclassName\u001b[0m\u001b[0;34m,\u001b[0m \u001b[0minteractive\u001b[0m\u001b[0;34m,\u001b[0m \u001b[0mwantobjects\u001b[0m\u001b[0;34m,\u001b[0m \u001b[0museTk\u001b[0m\u001b[0;34m,\u001b[0m \u001b[0msync\u001b[0m\u001b[0;34m,\u001b[0m \u001b[0muse\u001b[0m\u001b[0;34m)\u001b[0m\u001b[0;34m\u001b[0m\u001b[0;34m\u001b[0m\u001b[0m\n\u001b[0m\u001b[1;32m   2327\u001b[0m         \u001b[0;32mif\u001b[0m \u001b[0museTk\u001b[0m\u001b[0;34m:\u001b[0m\u001b[0;34m\u001b[0m\u001b[0;34m\u001b[0m\u001b[0m\n\u001b[1;32m   2328\u001b[0m             \u001b[0mself\u001b[0m\u001b[0;34m.\u001b[0m\u001b[0m_loadtk\u001b[0m\u001b[0;34m(\u001b[0m\u001b[0;34m)\u001b[0m\u001b[0;34m\u001b[0m\u001b[0;34m\u001b[0m\u001b[0m\n",
            "\u001b[0;31mTclError\u001b[0m: no display name and no $DISPLAY environment variable"
          ]
        }
      ]
    },
    {
      "cell_type": "code",
      "source": [],
      "metadata": {
        "id": "GSsRy1bWjPyf"
      },
      "id": "GSsRy1bWjPyf",
      "execution_count": null,
      "outputs": []
    },
    {
      "cell_type": "code",
      "source": [
        "pip install streamlit\n"
      ],
      "metadata": {
        "id": "0VxyFkaLjMPi",
        "outputId": "15e40f0c-76bb-4e25-c4b2-805f859cf185",
        "colab": {
          "base_uri": "https://localhost:8080/"
        }
      },
      "id": "0VxyFkaLjMPi",
      "execution_count": 93,
      "outputs": [
        {
          "output_type": "stream",
          "name": "stdout",
          "text": [
            "Collecting streamlit\n",
            "  Downloading streamlit-1.46.1-py3-none-any.whl.metadata (9.0 kB)\n",
            "Requirement already satisfied: altair<6,>=4.0 in /usr/local/lib/python3.11/dist-packages (from streamlit) (5.5.0)\n",
            "Requirement already satisfied: blinker<2,>=1.5.0 in /usr/local/lib/python3.11/dist-packages (from streamlit) (1.9.0)\n",
            "Requirement already satisfied: cachetools<7,>=4.0 in /usr/local/lib/python3.11/dist-packages (from streamlit) (5.5.2)\n",
            "Requirement already satisfied: click<9,>=7.0 in /usr/local/lib/python3.11/dist-packages (from streamlit) (8.1.8)\n",
            "Requirement already satisfied: numpy<3,>=1.23 in /usr/local/lib/python3.11/dist-packages (from streamlit) (2.0.2)\n",
            "Requirement already satisfied: packaging<26,>=20 in /usr/local/lib/python3.11/dist-packages (from streamlit) (24.2)\n",
            "Requirement already satisfied: pandas<3,>=1.4.0 in /usr/local/lib/python3.11/dist-packages (from streamlit) (2.2.2)\n",
            "Requirement already satisfied: pillow<12,>=7.1.0 in /usr/local/lib/python3.11/dist-packages (from streamlit) (11.2.1)\n",
            "Requirement already satisfied: protobuf<7,>=3.20 in /usr/local/lib/python3.11/dist-packages (from streamlit) (5.29.5)\n",
            "Requirement already satisfied: pyarrow>=7.0 in /usr/local/lib/python3.11/dist-packages (from streamlit) (18.1.0)\n",
            "Requirement already satisfied: requests<3,>=2.27 in /usr/local/lib/python3.11/dist-packages (from streamlit) (2.32.3)\n",
            "Requirement already satisfied: tenacity<10,>=8.1.0 in /usr/local/lib/python3.11/dist-packages (from streamlit) (8.5.0)\n",
            "Requirement already satisfied: toml<2,>=0.10.1 in /usr/local/lib/python3.11/dist-packages (from streamlit) (0.10.2)\n",
            "Requirement already satisfied: typing-extensions<5,>=4.4.0 in /usr/local/lib/python3.11/dist-packages (from streamlit) (4.14.1)\n",
            "Collecting watchdog<7,>=2.1.5 (from streamlit)\n",
            "  Downloading watchdog-6.0.0-py3-none-manylinux2014_x86_64.whl.metadata (44 kB)\n",
            "\u001b[2K     \u001b[90m━━━━━━━━━━━━━━━━━━━━━━━━━━━━━━━━━━━━━━━━\u001b[0m \u001b[32m44.3/44.3 kB\u001b[0m \u001b[31m1.6 MB/s\u001b[0m eta \u001b[36m0:00:00\u001b[0m\n",
            "\u001b[?25hRequirement already satisfied: gitpython!=3.1.19,<4,>=3.0.7 in /usr/local/lib/python3.11/dist-packages (from streamlit) (3.1.44)\n",
            "Collecting pydeck<1,>=0.8.0b4 (from streamlit)\n",
            "  Downloading pydeck-0.9.1-py2.py3-none-any.whl.metadata (4.1 kB)\n",
            "Requirement already satisfied: tornado!=6.5.0,<7,>=6.0.3 in /usr/local/lib/python3.11/dist-packages (from streamlit) (6.4.2)\n",
            "Requirement already satisfied: jinja2 in /usr/local/lib/python3.11/dist-packages (from altair<6,>=4.0->streamlit) (3.1.6)\n",
            "Requirement already satisfied: jsonschema>=3.0 in /usr/local/lib/python3.11/dist-packages (from altair<6,>=4.0->streamlit) (4.24.0)\n",
            "Requirement already satisfied: narwhals>=1.14.2 in /usr/local/lib/python3.11/dist-packages (from altair<6,>=4.0->streamlit) (1.46.0)\n",
            "Requirement already satisfied: gitdb<5,>=4.0.1 in /usr/local/lib/python3.11/dist-packages (from gitpython!=3.1.19,<4,>=3.0.7->streamlit) (4.0.12)\n",
            "Requirement already satisfied: python-dateutil>=2.8.2 in /usr/local/lib/python3.11/dist-packages (from pandas<3,>=1.4.0->streamlit) (2.9.0.post0)\n",
            "Requirement already satisfied: pytz>=2020.1 in /usr/local/lib/python3.11/dist-packages (from pandas<3,>=1.4.0->streamlit) (2025.2)\n",
            "Requirement already satisfied: tzdata>=2022.7 in /usr/local/lib/python3.11/dist-packages (from pandas<3,>=1.4.0->streamlit) (2025.2)\n",
            "Requirement already satisfied: charset-normalizer<4,>=2 in /usr/local/lib/python3.11/dist-packages (from requests<3,>=2.27->streamlit) (3.4.2)\n",
            "Requirement already satisfied: idna<4,>=2.5 in /usr/local/lib/python3.11/dist-packages (from requests<3,>=2.27->streamlit) (3.10)\n",
            "Requirement already satisfied: urllib3<3,>=1.21.1 in /usr/local/lib/python3.11/dist-packages (from requests<3,>=2.27->streamlit) (2.4.0)\n",
            "Requirement already satisfied: certifi>=2017.4.17 in /usr/local/lib/python3.11/dist-packages (from requests<3,>=2.27->streamlit) (2025.7.9)\n",
            "Requirement already satisfied: smmap<6,>=3.0.1 in /usr/local/lib/python3.11/dist-packages (from gitdb<5,>=4.0.1->gitpython!=3.1.19,<4,>=3.0.7->streamlit) (5.0.2)\n",
            "Requirement already satisfied: MarkupSafe>=2.0 in /usr/local/lib/python3.11/dist-packages (from jinja2->altair<6,>=4.0->streamlit) (3.0.2)\n",
            "Requirement already satisfied: attrs>=22.2.0 in /usr/local/lib/python3.11/dist-packages (from jsonschema>=3.0->altair<6,>=4.0->streamlit) (25.3.0)\n",
            "Requirement already satisfied: jsonschema-specifications>=2023.03.6 in /usr/local/lib/python3.11/dist-packages (from jsonschema>=3.0->altair<6,>=4.0->streamlit) (2025.4.1)\n",
            "Requirement already satisfied: referencing>=0.28.4 in /usr/local/lib/python3.11/dist-packages (from jsonschema>=3.0->altair<6,>=4.0->streamlit) (0.36.2)\n",
            "Requirement already satisfied: rpds-py>=0.7.1 in /usr/local/lib/python3.11/dist-packages (from jsonschema>=3.0->altair<6,>=4.0->streamlit) (0.26.0)\n",
            "Requirement already satisfied: six>=1.5 in /usr/local/lib/python3.11/dist-packages (from python-dateutil>=2.8.2->pandas<3,>=1.4.0->streamlit) (1.17.0)\n",
            "Downloading streamlit-1.46.1-py3-none-any.whl (10.1 MB)\n",
            "\u001b[2K   \u001b[90m━━━━━━━━━━━━━━━━━━━━━━━━━━━━━━━━━━━━━━━━\u001b[0m \u001b[32m10.1/10.1 MB\u001b[0m \u001b[31m61.5 MB/s\u001b[0m eta \u001b[36m0:00:00\u001b[0m\n",
            "\u001b[?25hDownloading pydeck-0.9.1-py2.py3-none-any.whl (6.9 MB)\n",
            "\u001b[2K   \u001b[90m━━━━━━━━━━━━━━━━━━━━━━━━━━━━━━━━━━━━━━━━\u001b[0m \u001b[32m6.9/6.9 MB\u001b[0m \u001b[31m100.4 MB/s\u001b[0m eta \u001b[36m0:00:00\u001b[0m\n",
            "\u001b[?25hDownloading watchdog-6.0.0-py3-none-manylinux2014_x86_64.whl (79 kB)\n",
            "\u001b[2K   \u001b[90m━━━━━━━━━━━━━━━━━━━━━━━━━━━━━━━━━━━━━━━━\u001b[0m \u001b[32m79.1/79.1 kB\u001b[0m \u001b[31m5.5 MB/s\u001b[0m eta \u001b[36m0:00:00\u001b[0m\n",
            "\u001b[?25hInstalling collected packages: watchdog, pydeck, streamlit\n",
            "Successfully installed pydeck-0.9.1 streamlit-1.46.1 watchdog-6.0.0\n"
          ]
        }
      ]
    },
    {
      "cell_type": "code",
      "source": [
        "import streamlit as st\n",
        "\n",
        "st.title(\"User Information Form\")\n",
        "\n",
        "role = st.radio(\"Who are you?\", [\"Teacher\", \"Student\"])\n",
        "\n",
        "st.subheader(f\"{role} Information Form\")\n",
        "name = st.text_input(\"Full Name\")\n",
        "branch = st.text_input(\"Branch/Class\")\n",
        "school = st.text_input(\"School/College\")\n",
        "phone = st.text_input(\"Phone Number\")\n",
        "email = st.text_input(\"Email ID\")\n",
        "address = st.text_area(\"Address\")\n",
        "\n",
        "if st.button(\"Submit\"):\n",
        "    if not all([name, branch, school, phone, email, address]):\n",
        "        st.error(\"Please fill in all the fields.\")\n",
        "    else:\n",
        "        st.success(\"✅ Thank you for submitting the form!\")\n"
      ],
      "metadata": {
        "id": "3q4F_o8ujVJ0",
        "outputId": "7ceb3188-1752-452a-8656-0a735687a8e0",
        "colab": {
          "base_uri": "https://localhost:8080/"
        }
      },
      "id": "3q4F_o8ujVJ0",
      "execution_count": 94,
      "outputs": [
        {
          "output_type": "stream",
          "name": "stderr",
          "text": [
            "2025-07-12 16:52:28.799 WARNING streamlit.runtime.scriptrunner_utils.script_run_context: Thread 'MainThread': missing ScriptRunContext! This warning can be ignored when running in bare mode.\n",
            "2025-07-12 16:52:29.321 \n",
            "  \u001b[33m\u001b[1mWarning:\u001b[0m to view this Streamlit app on a browser, run it with the following\n",
            "  command:\n",
            "\n",
            "    streamlit run /usr/local/lib/python3.11/dist-packages/colab_kernel_launcher.py [ARGUMENTS]\n",
            "2025-07-12 16:52:29.323 Thread 'MainThread': missing ScriptRunContext! This warning can be ignored when running in bare mode.\n",
            "2025-07-12 16:52:29.327 Thread 'MainThread': missing ScriptRunContext! This warning can be ignored when running in bare mode.\n",
            "2025-07-12 16:52:29.328 Thread 'MainThread': missing ScriptRunContext! This warning can be ignored when running in bare mode.\n",
            "2025-07-12 16:52:29.329 Thread 'MainThread': missing ScriptRunContext! This warning can be ignored when running in bare mode.\n",
            "2025-07-12 16:52:29.330 Thread 'MainThread': missing ScriptRunContext! This warning can be ignored when running in bare mode.\n",
            "2025-07-12 16:52:29.332 Thread 'MainThread': missing ScriptRunContext! This warning can be ignored when running in bare mode.\n",
            "2025-07-12 16:52:29.332 Session state does not function when running a script without `streamlit run`\n",
            "2025-07-12 16:52:29.333 Thread 'MainThread': missing ScriptRunContext! This warning can be ignored when running in bare mode.\n",
            "2025-07-12 16:52:29.334 Thread 'MainThread': missing ScriptRunContext! This warning can be ignored when running in bare mode.\n",
            "2025-07-12 16:52:29.336 Thread 'MainThread': missing ScriptRunContext! This warning can be ignored when running in bare mode.\n",
            "2025-07-12 16:52:29.340 Thread 'MainThread': missing ScriptRunContext! This warning can be ignored when running in bare mode.\n",
            "2025-07-12 16:52:29.344 Thread 'MainThread': missing ScriptRunContext! This warning can be ignored when running in bare mode.\n",
            "2025-07-12 16:52:29.346 Thread 'MainThread': missing ScriptRunContext! This warning can be ignored when running in bare mode.\n",
            "2025-07-12 16:52:29.355 Thread 'MainThread': missing ScriptRunContext! This warning can be ignored when running in bare mode.\n",
            "2025-07-12 16:52:29.360 Thread 'MainThread': missing ScriptRunContext! This warning can be ignored when running in bare mode.\n",
            "2025-07-12 16:52:29.361 Thread 'MainThread': missing ScriptRunContext! This warning can be ignored when running in bare mode.\n",
            "2025-07-12 16:52:29.363 Thread 'MainThread': missing ScriptRunContext! This warning can be ignored when running in bare mode.\n",
            "2025-07-12 16:52:29.364 Thread 'MainThread': missing ScriptRunContext! This warning can be ignored when running in bare mode.\n",
            "2025-07-12 16:52:29.366 Thread 'MainThread': missing ScriptRunContext! This warning can be ignored when running in bare mode.\n",
            "2025-07-12 16:52:29.368 Thread 'MainThread': missing ScriptRunContext! This warning can be ignored when running in bare mode.\n",
            "2025-07-12 16:52:29.369 Thread 'MainThread': missing ScriptRunContext! This warning can be ignored when running in bare mode.\n",
            "2025-07-12 16:52:29.371 Thread 'MainThread': missing ScriptRunContext! This warning can be ignored when running in bare mode.\n",
            "2025-07-12 16:52:29.372 Thread 'MainThread': missing ScriptRunContext! This warning can be ignored when running in bare mode.\n",
            "2025-07-12 16:52:29.373 Thread 'MainThread': missing ScriptRunContext! This warning can be ignored when running in bare mode.\n",
            "2025-07-12 16:52:29.373 Thread 'MainThread': missing ScriptRunContext! This warning can be ignored when running in bare mode.\n",
            "2025-07-12 16:52:29.374 Thread 'MainThread': missing ScriptRunContext! This warning can be ignored when running in bare mode.\n",
            "2025-07-12 16:52:29.375 Thread 'MainThread': missing ScriptRunContext! This warning can be ignored when running in bare mode.\n",
            "2025-07-12 16:52:29.377 Thread 'MainThread': missing ScriptRunContext! This warning can be ignored when running in bare mode.\n",
            "2025-07-12 16:52:29.378 Thread 'MainThread': missing ScriptRunContext! This warning can be ignored when running in bare mode.\n",
            "2025-07-12 16:52:29.379 Thread 'MainThread': missing ScriptRunContext! This warning can be ignored when running in bare mode.\n",
            "2025-07-12 16:52:29.380 Thread 'MainThread': missing ScriptRunContext! This warning can be ignored when running in bare mode.\n",
            "2025-07-12 16:52:29.381 Thread 'MainThread': missing ScriptRunContext! This warning can be ignored when running in bare mode.\n",
            "2025-07-12 16:52:29.382 Thread 'MainThread': missing ScriptRunContext! This warning can be ignored when running in bare mode.\n",
            "2025-07-12 16:52:29.383 Thread 'MainThread': missing ScriptRunContext! This warning can be ignored when running in bare mode.\n",
            "2025-07-12 16:52:29.384 Thread 'MainThread': missing ScriptRunContext! This warning can be ignored when running in bare mode.\n",
            "2025-07-12 16:52:29.385 Thread 'MainThread': missing ScriptRunContext! This warning can be ignored when running in bare mode.\n",
            "2025-07-12 16:52:29.386 Thread 'MainThread': missing ScriptRunContext! This warning can be ignored when running in bare mode.\n",
            "2025-07-12 16:52:29.388 Thread 'MainThread': missing ScriptRunContext! This warning can be ignored when running in bare mode.\n",
            "2025-07-12 16:52:29.389 Thread 'MainThread': missing ScriptRunContext! This warning can be ignored when running in bare mode.\n",
            "2025-07-12 16:52:29.391 Thread 'MainThread': missing ScriptRunContext! This warning can be ignored when running in bare mode.\n",
            "2025-07-12 16:52:29.392 Thread 'MainThread': missing ScriptRunContext! This warning can be ignored when running in bare mode.\n",
            "2025-07-12 16:52:29.393 Thread 'MainThread': missing ScriptRunContext! This warning can be ignored when running in bare mode.\n",
            "2025-07-12 16:52:29.394 Thread 'MainThread': missing ScriptRunContext! This warning can be ignored when running in bare mode.\n",
            "2025-07-12 16:52:29.395 Thread 'MainThread': missing ScriptRunContext! This warning can be ignored when running in bare mode.\n",
            "2025-07-12 16:52:29.396 Thread 'MainThread': missing ScriptRunContext! This warning can be ignored when running in bare mode.\n",
            "2025-07-12 16:52:29.397 Thread 'MainThread': missing ScriptRunContext! This warning can be ignored when running in bare mode.\n",
            "2025-07-12 16:52:29.398 Thread 'MainThread': missing ScriptRunContext! This warning can be ignored when running in bare mode.\n",
            "2025-07-12 16:52:29.398 Thread 'MainThread': missing ScriptRunContext! This warning can be ignored when running in bare mode.\n",
            "2025-07-12 16:52:29.400 Thread 'MainThread': missing ScriptRunContext! This warning can be ignored when running in bare mode.\n",
            "2025-07-12 16:52:29.401 Thread 'MainThread': missing ScriptRunContext! This warning can be ignored when running in bare mode.\n",
            "2025-07-12 16:52:29.404 Thread 'MainThread': missing ScriptRunContext! This warning can be ignored when running in bare mode.\n",
            "2025-07-12 16:52:29.404 Thread 'MainThread': missing ScriptRunContext! This warning can be ignored when running in bare mode.\n",
            "2025-07-12 16:52:29.405 Thread 'MainThread': missing ScriptRunContext! This warning can be ignored when running in bare mode.\n",
            "2025-07-12 16:52:29.406 Thread 'MainThread': missing ScriptRunContext! This warning can be ignored when running in bare mode.\n",
            "2025-07-12 16:52:29.408 Thread 'MainThread': missing ScriptRunContext! This warning can be ignored when running in bare mode.\n",
            "2025-07-12 16:52:29.409 Thread 'MainThread': missing ScriptRunContext! This warning can be ignored when running in bare mode.\n",
            "2025-07-12 16:52:29.409 Thread 'MainThread': missing ScriptRunContext! This warning can be ignored when running in bare mode.\n",
            "2025-07-12 16:52:29.410 Thread 'MainThread': missing ScriptRunContext! This warning can be ignored when running in bare mode.\n",
            "2025-07-12 16:52:29.411 Thread 'MainThread': missing ScriptRunContext! This warning can be ignored when running in bare mode.\n",
            "2025-07-12 16:52:29.411 Thread 'MainThread': missing ScriptRunContext! This warning can be ignored when running in bare mode.\n",
            "2025-07-12 16:52:29.412 Thread 'MainThread': missing ScriptRunContext! This warning can be ignored when running in bare mode.\n"
          ]
        }
      ]
    },
    {
      "cell_type": "code",
      "source": [
        "!pip install gradio\n",
        "\n",
        "import gradio as gr\n",
        "\n",
        "def submit_form(name, branch, school, phone, email, address):\n",
        "    return f\"✅ Thank you, {name}!\\nYour form has been submitted.\"\n",
        "\n",
        "with gr.Blocks() as demo:\n",
        "    gr.Markdown(\"## Student/Teacher Info Form\")\n",
        "\n",
        "    name = gr.Textbox(label=\"Full Name\")\n",
        "    branch = gr.Textbox(label=\"Branch / Class\")\n",
        "    school = gr.Textbox(label=\"School / College\")\n",
        "    phone = gr.Textbox(label=\"Phone Number\")\n",
        "    email = gr.Textbox(label=\"Email ID\")\n",
        "    address = gr.Textbox(label=\"Address\")\n",
        "\n",
        "    submit = gr.Button(\"Submit\")\n",
        "    output = gr.Textbox(label=\"Output\")\n",
        "\n",
        "    submit.click(fn=submit_form,\n",
        "                 inputs=[name, branch, school, phone, email, address],\n",
        "                 outputs=output)\n",
        "\n",
        "demo.launch()\n"
      ],
      "metadata": {
        "id": "SZG5rMB-jnQQ",
        "outputId": "4de56cdb-3dfa-4fb9-dbe8-669412ae1ed1",
        "colab": {
          "base_uri": "https://localhost:8080/",
          "height": 1000
        }
      },
      "id": "SZG5rMB-jnQQ",
      "execution_count": 96,
      "outputs": [
        {
          "output_type": "stream",
          "name": "stdout",
          "text": [
            "Requirement already satisfied: gradio in /usr/local/lib/python3.11/dist-packages (5.31.0)\n",
            "Requirement already satisfied: aiofiles<25.0,>=22.0 in /usr/local/lib/python3.11/dist-packages (from gradio) (24.1.0)\n",
            "Requirement already satisfied: anyio<5.0,>=3.0 in /usr/local/lib/python3.11/dist-packages (from gradio) (4.9.0)\n",
            "Requirement already satisfied: fastapi<1.0,>=0.115.2 in /usr/local/lib/python3.11/dist-packages (from gradio) (0.116.0)\n",
            "Requirement already satisfied: ffmpy in /usr/local/lib/python3.11/dist-packages (from gradio) (0.6.0)\n",
            "Requirement already satisfied: gradio-client==1.10.1 in /usr/local/lib/python3.11/dist-packages (from gradio) (1.10.1)\n",
            "Requirement already satisfied: groovy~=0.1 in /usr/local/lib/python3.11/dist-packages (from gradio) (0.1.2)\n",
            "Requirement already satisfied: httpx>=0.24.1 in /usr/local/lib/python3.11/dist-packages (from gradio) (0.28.1)\n",
            "Requirement already satisfied: huggingface-hub>=0.28.1 in /usr/local/lib/python3.11/dist-packages (from gradio) (0.33.2)\n",
            "Requirement already satisfied: jinja2<4.0 in /usr/local/lib/python3.11/dist-packages (from gradio) (3.1.6)\n",
            "Requirement already satisfied: markupsafe<4.0,>=2.0 in /usr/local/lib/python3.11/dist-packages (from gradio) (3.0.2)\n",
            "Requirement already satisfied: numpy<3.0,>=1.0 in /usr/local/lib/python3.11/dist-packages (from gradio) (2.0.2)\n",
            "Requirement already satisfied: orjson~=3.0 in /usr/local/lib/python3.11/dist-packages (from gradio) (3.10.18)\n",
            "Requirement already satisfied: packaging in /usr/local/lib/python3.11/dist-packages (from gradio) (24.2)\n",
            "Requirement already satisfied: pandas<3.0,>=1.0 in /usr/local/lib/python3.11/dist-packages (from gradio) (2.2.2)\n",
            "Requirement already satisfied: pillow<12.0,>=8.0 in /usr/local/lib/python3.11/dist-packages (from gradio) (11.2.1)\n",
            "Requirement already satisfied: pydantic<2.12,>=2.0 in /usr/local/lib/python3.11/dist-packages (from gradio) (2.11.7)\n",
            "Requirement already satisfied: pydub in /usr/local/lib/python3.11/dist-packages (from gradio) (0.25.1)\n",
            "Requirement already satisfied: python-multipart>=0.0.18 in /usr/local/lib/python3.11/dist-packages (from gradio) (0.0.20)\n",
            "Requirement already satisfied: pyyaml<7.0,>=5.0 in /usr/local/lib/python3.11/dist-packages (from gradio) (6.0.2)\n",
            "Requirement already satisfied: ruff>=0.9.3 in /usr/local/lib/python3.11/dist-packages (from gradio) (0.12.2)\n",
            "Requirement already satisfied: safehttpx<0.2.0,>=0.1.6 in /usr/local/lib/python3.11/dist-packages (from gradio) (0.1.6)\n",
            "Requirement already satisfied: semantic-version~=2.0 in /usr/local/lib/python3.11/dist-packages (from gradio) (2.10.0)\n",
            "Requirement already satisfied: starlette<1.0,>=0.40.0 in /usr/local/lib/python3.11/dist-packages (from gradio) (0.46.2)\n",
            "Requirement already satisfied: tomlkit<0.14.0,>=0.12.0 in /usr/local/lib/python3.11/dist-packages (from gradio) (0.13.3)\n",
            "Requirement already satisfied: typer<1.0,>=0.12 in /usr/local/lib/python3.11/dist-packages (from gradio) (0.16.0)\n",
            "Requirement already satisfied: typing-extensions~=4.0 in /usr/local/lib/python3.11/dist-packages (from gradio) (4.14.1)\n",
            "Requirement already satisfied: uvicorn>=0.14.0 in /usr/local/lib/python3.11/dist-packages (from gradio) (0.35.0)\n",
            "Requirement already satisfied: fsspec in /usr/local/lib/python3.11/dist-packages (from gradio-client==1.10.1->gradio) (2025.3.2)\n",
            "Requirement already satisfied: websockets<16.0,>=10.0 in /usr/local/lib/python3.11/dist-packages (from gradio-client==1.10.1->gradio) (15.0.1)\n",
            "Requirement already satisfied: idna>=2.8 in /usr/local/lib/python3.11/dist-packages (from anyio<5.0,>=3.0->gradio) (3.10)\n",
            "Requirement already satisfied: sniffio>=1.1 in /usr/local/lib/python3.11/dist-packages (from anyio<5.0,>=3.0->gradio) (1.3.1)\n",
            "Requirement already satisfied: certifi in /usr/local/lib/python3.11/dist-packages (from httpx>=0.24.1->gradio) (2025.7.9)\n",
            "Requirement already satisfied: httpcore==1.* in /usr/local/lib/python3.11/dist-packages (from httpx>=0.24.1->gradio) (1.0.9)\n",
            "Requirement already satisfied: h11>=0.16 in /usr/local/lib/python3.11/dist-packages (from httpcore==1.*->httpx>=0.24.1->gradio) (0.16.0)\n",
            "Requirement already satisfied: filelock in /usr/local/lib/python3.11/dist-packages (from huggingface-hub>=0.28.1->gradio) (3.18.0)\n",
            "Requirement already satisfied: requests in /usr/local/lib/python3.11/dist-packages (from huggingface-hub>=0.28.1->gradio) (2.32.3)\n",
            "Requirement already satisfied: tqdm>=4.42.1 in /usr/local/lib/python3.11/dist-packages (from huggingface-hub>=0.28.1->gradio) (4.67.1)\n",
            "Requirement already satisfied: hf-xet<2.0.0,>=1.1.2 in /usr/local/lib/python3.11/dist-packages (from huggingface-hub>=0.28.1->gradio) (1.1.5)\n",
            "Requirement already satisfied: python-dateutil>=2.8.2 in /usr/local/lib/python3.11/dist-packages (from pandas<3.0,>=1.0->gradio) (2.9.0.post0)\n",
            "Requirement already satisfied: pytz>=2020.1 in /usr/local/lib/python3.11/dist-packages (from pandas<3.0,>=1.0->gradio) (2025.2)\n",
            "Requirement already satisfied: tzdata>=2022.7 in /usr/local/lib/python3.11/dist-packages (from pandas<3.0,>=1.0->gradio) (2025.2)\n",
            "Requirement already satisfied: annotated-types>=0.6.0 in /usr/local/lib/python3.11/dist-packages (from pydantic<2.12,>=2.0->gradio) (0.7.0)\n",
            "Requirement already satisfied: pydantic-core==2.33.2 in /usr/local/lib/python3.11/dist-packages (from pydantic<2.12,>=2.0->gradio) (2.33.2)\n",
            "Requirement already satisfied: typing-inspection>=0.4.0 in /usr/local/lib/python3.11/dist-packages (from pydantic<2.12,>=2.0->gradio) (0.4.1)\n",
            "Requirement already satisfied: click>=8.0.0 in /usr/local/lib/python3.11/dist-packages (from typer<1.0,>=0.12->gradio) (8.1.8)\n",
            "Requirement already satisfied: shellingham>=1.3.0 in /usr/local/lib/python3.11/dist-packages (from typer<1.0,>=0.12->gradio) (1.5.4)\n",
            "Requirement already satisfied: rich>=10.11.0 in /usr/local/lib/python3.11/dist-packages (from typer<1.0,>=0.12->gradio) (13.9.4)\n",
            "Requirement already satisfied: six>=1.5 in /usr/local/lib/python3.11/dist-packages (from python-dateutil>=2.8.2->pandas<3.0,>=1.0->gradio) (1.17.0)\n",
            "Requirement already satisfied: markdown-it-py>=2.2.0 in /usr/local/lib/python3.11/dist-packages (from rich>=10.11.0->typer<1.0,>=0.12->gradio) (3.0.0)\n",
            "Requirement already satisfied: pygments<3.0.0,>=2.13.0 in /usr/local/lib/python3.11/dist-packages (from rich>=10.11.0->typer<1.0,>=0.12->gradio) (2.19.2)\n",
            "Requirement already satisfied: charset-normalizer<4,>=2 in /usr/local/lib/python3.11/dist-packages (from requests->huggingface-hub>=0.28.1->gradio) (3.4.2)\n",
            "Requirement already satisfied: urllib3<3,>=1.21.1 in /usr/local/lib/python3.11/dist-packages (from requests->huggingface-hub>=0.28.1->gradio) (2.4.0)\n",
            "Requirement already satisfied: mdurl~=0.1 in /usr/local/lib/python3.11/dist-packages (from markdown-it-py>=2.2.0->rich>=10.11.0->typer<1.0,>=0.12->gradio) (0.1.2)\n",
            "It looks like you are running Gradio on a hosted a Jupyter notebook. For the Gradio app to work, sharing must be enabled. Automatically setting `share=True` (you can turn this off by setting `share=False` in `launch()` explicitly).\n",
            "\n",
            "Colab notebook detected. To show errors in colab notebook, set debug=True in launch()\n",
            "* Running on public URL: https://97c2f42521447d84e0.gradio.live\n",
            "\n",
            "This share link expires in 1 week. For free permanent hosting and GPU upgrades, run `gradio deploy` from the terminal in the working directory to deploy to Hugging Face Spaces (https://huggingface.co/spaces)\n"
          ]
        },
        {
          "output_type": "display_data",
          "data": {
            "text/plain": [
              "<IPython.core.display.HTML object>"
            ],
            "text/html": [
              "<div><iframe src=\"https://97c2f42521447d84e0.gradio.live\" width=\"100%\" height=\"500\" allow=\"autoplay; camera; microphone; clipboard-read; clipboard-write;\" frameborder=\"0\" allowfullscreen></iframe></div>"
            ]
          },
          "metadata": {}
        },
        {
          "output_type": "execute_result",
          "data": {
            "text/plain": []
          },
          "metadata": {},
          "execution_count": 96
        }
      ]
    },
    {
      "cell_type": "code",
      "source": [
        "!pip install gradio\n",
        "\n",
        "import gradio as gr\n",
        "\n",
        "def submit_form(role, full_name, field1, field2, org_name, contact, email, address, extra1, extra2):\n",
        "    if role == \"Student\":\n",
        "        return (f\"✅ Thank you, {full_name}!\\n\\n\"\n",
        "                f\"Role: Student\\n\"\n",
        "                f\"Class: {field1}\\n\"\n",
        "                f\"School: {org_name}\\n\"\n",
        "                f\"Principal Name: {extra1}\\n\"\n",
        "                f\"School Contact: {extra2}\\n\"\n",
        "                f\"Email: {email}\\n\"\n",
        "                f\"Phone: {contact}\\n\"\n",
        "                f\"Address: {address}\")\n",
        "    else:\n",
        "        return (f\"✅ Thank you, {full_name}!\\n\\n\"\n",
        "                f\"Role: Teacher\\n\"\n",
        "                f\"Branch: {field1}\\n\"\n",
        "                f\"Subject: {field2}\\n\"\n",
        "                f\"College: {org_name}\\n\"\n",
        "                f\"College Location: {extra1}\\n\"\n",
        "                f\"Degree Certificate: {extra2}\\n\"\n",
        "                f\"Email: {email}\\n\"\n",
        "                f\"Phone: {contact}\\n\"\n",
        "                f\"Address: {address}\")\n",
        "\n",
        "with gr.Blocks() as demo:\n",
        "    gr.Markdown(\"## 🎓 Student / 👨‍🏫 Teacher Information Form\")\n",
        "\n",
        "    role = gr.Radio([\"Student\", \"Teacher\"], label=\"Who are you?\")\n",
        "\n",
        "    full_name = gr.Textbox(label=\"Full Name\")\n",
        "\n",
        "    field1 = gr.Textbox(visible=True)  # Class or Branch\n",
        "    field2 = gr.Textbox(visible=True)  # (Subject only for teacher)\n",
        "\n",
        "    org_name = gr.Textbox(label=\"School/College Name\")\n",
        "    contact = gr.Textbox(label=\"Phone Number\")\n",
        "    email = gr.Textbox(label=\"Email ID\")\n",
        "    address = gr.Textbox(label=\"Address\")\n",
        "\n",
        "    extra1 = gr.Textbox()  # Principal Name or College Location\n",
        "    extra2 = gr.Textbox()  # School Contact or Degree Certificate\n",
        "\n",
        "    submit = gr.Button(\"Submit\")\n",
        "    output = gr.Textbox(label=\"Output\", lines=10)\n",
        "\n",
        "    def update_fields(role):\n",
        "        if role == \"Student\":\n",
        "            return (\n",
        "                gr.update(label=\"Class\", visible=True),\n",
        "                gr.update(label=\"\", visible=False),  # no subject for student\n",
        "                gr.update(label=\"Principal Name\", visible=True),\n",
        "                gr.update(label=\"School Contact No.\", visible=True),\n",
        "                gr.update(label=\"School Name\"),\n",
        "            )\n",
        "        else:\n",
        "            return (\n",
        "                gr.update(label=\"Branch\", visible=True),\n",
        "                gr.update(label=\"Subject\", visible=True),\n",
        "                gr.update(label=\"College Location\", visible=True),\n",
        "                gr.update(label=\"Degree Certificate\", visible=True),\n",
        "                gr.update(label=\"College Name\"),\n",
        "            )\n",
        "\n",
        "    role.change(fn=update_fields, inputs=role,\n",
        "                outputs=[field1, field2, extra1, extra2, org_name])\n",
        "\n",
        "    submit.click(fn=submit_form,\n",
        "                 inputs=[role, full_name, field1, field2, org_name, contact, email, address, extra1, extra2],\n",
        "                 outputs=output)\n",
        "\n",
        "demo.launch()\n"
      ],
      "metadata": {
        "id": "BWHXuPyJmzuE",
        "outputId": "e6763d42-83fd-4e7f-892b-b8b06f85a3ac",
        "colab": {
          "base_uri": "https://localhost:8080/",
          "height": 1000
        }
      },
      "id": "BWHXuPyJmzuE",
      "execution_count": 98,
      "outputs": [
        {
          "output_type": "stream",
          "name": "stdout",
          "text": [
            "Requirement already satisfied: gradio in /usr/local/lib/python3.11/dist-packages (5.31.0)\n",
            "Requirement already satisfied: aiofiles<25.0,>=22.0 in /usr/local/lib/python3.11/dist-packages (from gradio) (24.1.0)\n",
            "Requirement already satisfied: anyio<5.0,>=3.0 in /usr/local/lib/python3.11/dist-packages (from gradio) (4.9.0)\n",
            "Requirement already satisfied: fastapi<1.0,>=0.115.2 in /usr/local/lib/python3.11/dist-packages (from gradio) (0.116.0)\n",
            "Requirement already satisfied: ffmpy in /usr/local/lib/python3.11/dist-packages (from gradio) (0.6.0)\n",
            "Requirement already satisfied: gradio-client==1.10.1 in /usr/local/lib/python3.11/dist-packages (from gradio) (1.10.1)\n",
            "Requirement already satisfied: groovy~=0.1 in /usr/local/lib/python3.11/dist-packages (from gradio) (0.1.2)\n",
            "Requirement already satisfied: httpx>=0.24.1 in /usr/local/lib/python3.11/dist-packages (from gradio) (0.28.1)\n",
            "Requirement already satisfied: huggingface-hub>=0.28.1 in /usr/local/lib/python3.11/dist-packages (from gradio) (0.33.2)\n",
            "Requirement already satisfied: jinja2<4.0 in /usr/local/lib/python3.11/dist-packages (from gradio) (3.1.6)\n",
            "Requirement already satisfied: markupsafe<4.0,>=2.0 in /usr/local/lib/python3.11/dist-packages (from gradio) (3.0.2)\n",
            "Requirement already satisfied: numpy<3.0,>=1.0 in /usr/local/lib/python3.11/dist-packages (from gradio) (2.0.2)\n",
            "Requirement already satisfied: orjson~=3.0 in /usr/local/lib/python3.11/dist-packages (from gradio) (3.10.18)\n",
            "Requirement already satisfied: packaging in /usr/local/lib/python3.11/dist-packages (from gradio) (24.2)\n",
            "Requirement already satisfied: pandas<3.0,>=1.0 in /usr/local/lib/python3.11/dist-packages (from gradio) (2.2.2)\n",
            "Requirement already satisfied: pillow<12.0,>=8.0 in /usr/local/lib/python3.11/dist-packages (from gradio) (11.2.1)\n",
            "Requirement already satisfied: pydantic<2.12,>=2.0 in /usr/local/lib/python3.11/dist-packages (from gradio) (2.11.7)\n",
            "Requirement already satisfied: pydub in /usr/local/lib/python3.11/dist-packages (from gradio) (0.25.1)\n",
            "Requirement already satisfied: python-multipart>=0.0.18 in /usr/local/lib/python3.11/dist-packages (from gradio) (0.0.20)\n",
            "Requirement already satisfied: pyyaml<7.0,>=5.0 in /usr/local/lib/python3.11/dist-packages (from gradio) (6.0.2)\n",
            "Requirement already satisfied: ruff>=0.9.3 in /usr/local/lib/python3.11/dist-packages (from gradio) (0.12.2)\n",
            "Requirement already satisfied: safehttpx<0.2.0,>=0.1.6 in /usr/local/lib/python3.11/dist-packages (from gradio) (0.1.6)\n",
            "Requirement already satisfied: semantic-version~=2.0 in /usr/local/lib/python3.11/dist-packages (from gradio) (2.10.0)\n",
            "Requirement already satisfied: starlette<1.0,>=0.40.0 in /usr/local/lib/python3.11/dist-packages (from gradio) (0.46.2)\n",
            "Requirement already satisfied: tomlkit<0.14.0,>=0.12.0 in /usr/local/lib/python3.11/dist-packages (from gradio) (0.13.3)\n",
            "Requirement already satisfied: typer<1.0,>=0.12 in /usr/local/lib/python3.11/dist-packages (from gradio) (0.16.0)\n",
            "Requirement already satisfied: typing-extensions~=4.0 in /usr/local/lib/python3.11/dist-packages (from gradio) (4.14.1)\n",
            "Requirement already satisfied: uvicorn>=0.14.0 in /usr/local/lib/python3.11/dist-packages (from gradio) (0.35.0)\n",
            "Requirement already satisfied: fsspec in /usr/local/lib/python3.11/dist-packages (from gradio-client==1.10.1->gradio) (2025.3.2)\n",
            "Requirement already satisfied: websockets<16.0,>=10.0 in /usr/local/lib/python3.11/dist-packages (from gradio-client==1.10.1->gradio) (15.0.1)\n",
            "Requirement already satisfied: idna>=2.8 in /usr/local/lib/python3.11/dist-packages (from anyio<5.0,>=3.0->gradio) (3.10)\n",
            "Requirement already satisfied: sniffio>=1.1 in /usr/local/lib/python3.11/dist-packages (from anyio<5.0,>=3.0->gradio) (1.3.1)\n",
            "Requirement already satisfied: certifi in /usr/local/lib/python3.11/dist-packages (from httpx>=0.24.1->gradio) (2025.7.9)\n",
            "Requirement already satisfied: httpcore==1.* in /usr/local/lib/python3.11/dist-packages (from httpx>=0.24.1->gradio) (1.0.9)\n",
            "Requirement already satisfied: h11>=0.16 in /usr/local/lib/python3.11/dist-packages (from httpcore==1.*->httpx>=0.24.1->gradio) (0.16.0)\n",
            "Requirement already satisfied: filelock in /usr/local/lib/python3.11/dist-packages (from huggingface-hub>=0.28.1->gradio) (3.18.0)\n",
            "Requirement already satisfied: requests in /usr/local/lib/python3.11/dist-packages (from huggingface-hub>=0.28.1->gradio) (2.32.3)\n",
            "Requirement already satisfied: tqdm>=4.42.1 in /usr/local/lib/python3.11/dist-packages (from huggingface-hub>=0.28.1->gradio) (4.67.1)\n",
            "Requirement already satisfied: hf-xet<2.0.0,>=1.1.2 in /usr/local/lib/python3.11/dist-packages (from huggingface-hub>=0.28.1->gradio) (1.1.5)\n",
            "Requirement already satisfied: python-dateutil>=2.8.2 in /usr/local/lib/python3.11/dist-packages (from pandas<3.0,>=1.0->gradio) (2.9.0.post0)\n",
            "Requirement already satisfied: pytz>=2020.1 in /usr/local/lib/python3.11/dist-packages (from pandas<3.0,>=1.0->gradio) (2025.2)\n",
            "Requirement already satisfied: tzdata>=2022.7 in /usr/local/lib/python3.11/dist-packages (from pandas<3.0,>=1.0->gradio) (2025.2)\n",
            "Requirement already satisfied: annotated-types>=0.6.0 in /usr/local/lib/python3.11/dist-packages (from pydantic<2.12,>=2.0->gradio) (0.7.0)\n",
            "Requirement already satisfied: pydantic-core==2.33.2 in /usr/local/lib/python3.11/dist-packages (from pydantic<2.12,>=2.0->gradio) (2.33.2)\n",
            "Requirement already satisfied: typing-inspection>=0.4.0 in /usr/local/lib/python3.11/dist-packages (from pydantic<2.12,>=2.0->gradio) (0.4.1)\n",
            "Requirement already satisfied: click>=8.0.0 in /usr/local/lib/python3.11/dist-packages (from typer<1.0,>=0.12->gradio) (8.1.8)\n",
            "Requirement already satisfied: shellingham>=1.3.0 in /usr/local/lib/python3.11/dist-packages (from typer<1.0,>=0.12->gradio) (1.5.4)\n",
            "Requirement already satisfied: rich>=10.11.0 in /usr/local/lib/python3.11/dist-packages (from typer<1.0,>=0.12->gradio) (13.9.4)\n",
            "Requirement already satisfied: six>=1.5 in /usr/local/lib/python3.11/dist-packages (from python-dateutil>=2.8.2->pandas<3.0,>=1.0->gradio) (1.17.0)\n",
            "Requirement already satisfied: markdown-it-py>=2.2.0 in /usr/local/lib/python3.11/dist-packages (from rich>=10.11.0->typer<1.0,>=0.12->gradio) (3.0.0)\n",
            "Requirement already satisfied: pygments<3.0.0,>=2.13.0 in /usr/local/lib/python3.11/dist-packages (from rich>=10.11.0->typer<1.0,>=0.12->gradio) (2.19.2)\n",
            "Requirement already satisfied: charset-normalizer<4,>=2 in /usr/local/lib/python3.11/dist-packages (from requests->huggingface-hub>=0.28.1->gradio) (3.4.2)\n",
            "Requirement already satisfied: urllib3<3,>=1.21.1 in /usr/local/lib/python3.11/dist-packages (from requests->huggingface-hub>=0.28.1->gradio) (2.4.0)\n",
            "Requirement already satisfied: mdurl~=0.1 in /usr/local/lib/python3.11/dist-packages (from markdown-it-py>=2.2.0->rich>=10.11.0->typer<1.0,>=0.12->gradio) (0.1.2)\n",
            "It looks like you are running Gradio on a hosted a Jupyter notebook. For the Gradio app to work, sharing must be enabled. Automatically setting `share=True` (you can turn this off by setting `share=False` in `launch()` explicitly).\n",
            "\n",
            "Colab notebook detected. To show errors in colab notebook, set debug=True in launch()\n",
            "* Running on public URL: https://bb340a486df0b35940.gradio.live\n",
            "\n",
            "This share link expires in 1 week. For free permanent hosting and GPU upgrades, run `gradio deploy` from the terminal in the working directory to deploy to Hugging Face Spaces (https://huggingface.co/spaces)\n"
          ]
        },
        {
          "output_type": "display_data",
          "data": {
            "text/plain": [
              "<IPython.core.display.HTML object>"
            ],
            "text/html": [
              "<div><iframe src=\"https://bb340a486df0b35940.gradio.live\" width=\"100%\" height=\"500\" allow=\"autoplay; camera; microphone; clipboard-read; clipboard-write;\" frameborder=\"0\" allowfullscreen></iframe></div>"
            ]
          },
          "metadata": {}
        },
        {
          "output_type": "execute_result",
          "data": {
            "text/plain": []
          },
          "metadata": {},
          "execution_count": 98
        }
      ]
    },
    {
      "cell_type": "code",
      "source": [
        "!pip install gradio\n",
        "\n",
        "import gradio as gr\n",
        "\n",
        "def submit_form(role, full_name, field1, field2, org_name, contact, email, address, extra1, extra2):\n",
        "    # Check for missing required fields\n",
        "    required_fields = [role, full_name, field1, org_name, contact, email, address, extra1, extra2]\n",
        "    if role == \"Teacher\":\n",
        "        required_fields.append(field2)  # Subject is required for teachers\n",
        "\n",
        "    if any(field.strip() == \"\" for field in required_fields):\n",
        "        return \"❌ Error: Please fill in all required fields.\"\n",
        "\n",
        "    # Success message\n",
        "    if role == \"Student\":\n",
        "        return (f\"✅ Thank you, {full_name}!\\n\\n\"\n",
        "                f\"Role: Student\\n\"\n",
        "                f\"Class: {field1}\\n\"\n",
        "                f\"School: {org_name}\\n\"\n",
        "                f\"Principal Name: {extra1}\\n\"\n",
        "                f\"School Contact: {extra2}\\n\"\n",
        "                f\"Email: {email}\\n\"\n",
        "                f\"Phone: {contact}\\n\"\n",
        "                f\"Address: {address}\")\n",
        "    else:\n",
        "        return (f\"✅ Thank you, {full_name}!\\n\\n\"\n",
        "                f\"Role: Teacher\\n\"\n",
        "                f\"Branch: {field1}\\n\"\n",
        "                f\"Subject: {field2}\\n\"\n",
        "                f\"College: {org_name}\\n\"\n",
        "                f\"College Location: {extra1}\\n\"\n",
        "                f\"Degree Certificate: {extra2}\\n\"\n",
        "                f\"Email: {email}\\n\"\n",
        "                f\"Phone: {contact}\\n\"\n",
        "                f\"Address: {address}\")\n",
        "\n",
        "with gr.Blocks() as demo:\n",
        "    gr.Markdown(\"## 🎓 Student / 👨‍🏫 Teacher Information Form\")\n",
        "\n",
        "    role = gr.Radio([\"Student\", \"Teacher\"], label=\"Who are you?\")\n",
        "\n",
        "    full_name = gr.Textbox(label=\"Full Name\")\n",
        "\n",
        "    field1 = gr.Textbox(visible=True)  # Class or Branch\n",
        "    field2 = gr.Textbox(visible=True)  # (Subject only for teacher)\n",
        "\n",
        "    org_name = gr.Textbox(label=\"School/College Name\")\n",
        "    contact = gr.Textbox(label=\"Phone Number\")\n",
        "    email = gr.Textbox(label=\"Email ID\")\n",
        "    address = gr.Textbox(label=\"Address\")\n",
        "\n",
        "    extra1 = gr.Textbox()  # Principal Name or College Location\n",
        "    extra2 = gr.Textbox()  # School Contact or Degree Certificate\n",
        "\n",
        "    submit = gr.Button(\"Submit\")\n",
        "    output = gr.Textbox(label=\"Output\", lines=10)\n",
        "\n",
        "    def update_fields(role):\n",
        "        if role == \"Student\":\n",
        "            return (\n",
        "                gr.update(label=\"Class\", visible=True),\n",
        "                gr.update(visible=False),  # Hide subject\n",
        "                gr.update(label=\"Principal Name\", visible=True),\n",
        "                gr.update(label=\"School Contact No.\", visible=True),\n",
        "                gr.update(label=\"School Name\"),\n",
        "            )\n",
        "        else:\n",
        "            return (\n",
        "                gr.update(label=\"Branch\", visible=True),\n",
        "                gr.update(label=\"Subject\", visible=True),\n",
        "                gr.update(label=\"College Location\", visible=True),\n",
        "                gr.update(label=\"Degree Certificate\", visible=True),\n",
        "                gr.update(label=\"College Name\"),\n",
        "            )\n",
        "\n",
        "    role.change(fn=update_fields, inputs=role,\n",
        "                outputs=[field1, field2, extra1, extra2, org_name])\n",
        "\n",
        "    submit.click(fn=submit_form,\n",
        "                 inputs=[role, full_name, field1, field2, org_name, contact, email, address, extra1, extra2],\n",
        "                 outputs=output)\n",
        "\n",
        "demo.launch()\n"
      ],
      "metadata": {
        "id": "WVe5Y0HUnfJe",
        "outputId": "c12d873a-ecc7-431f-adca-ed4fddb39f8e",
        "colab": {
          "base_uri": "https://localhost:8080/",
          "height": 1000
        }
      },
      "id": "WVe5Y0HUnfJe",
      "execution_count": 99,
      "outputs": [
        {
          "output_type": "stream",
          "name": "stdout",
          "text": [
            "Requirement already satisfied: gradio in /usr/local/lib/python3.11/dist-packages (5.31.0)\n",
            "Requirement already satisfied: aiofiles<25.0,>=22.0 in /usr/local/lib/python3.11/dist-packages (from gradio) (24.1.0)\n",
            "Requirement already satisfied: anyio<5.0,>=3.0 in /usr/local/lib/python3.11/dist-packages (from gradio) (4.9.0)\n",
            "Requirement already satisfied: fastapi<1.0,>=0.115.2 in /usr/local/lib/python3.11/dist-packages (from gradio) (0.116.0)\n",
            "Requirement already satisfied: ffmpy in /usr/local/lib/python3.11/dist-packages (from gradio) (0.6.0)\n",
            "Requirement already satisfied: gradio-client==1.10.1 in /usr/local/lib/python3.11/dist-packages (from gradio) (1.10.1)\n",
            "Requirement already satisfied: groovy~=0.1 in /usr/local/lib/python3.11/dist-packages (from gradio) (0.1.2)\n",
            "Requirement already satisfied: httpx>=0.24.1 in /usr/local/lib/python3.11/dist-packages (from gradio) (0.28.1)\n",
            "Requirement already satisfied: huggingface-hub>=0.28.1 in /usr/local/lib/python3.11/dist-packages (from gradio) (0.33.2)\n",
            "Requirement already satisfied: jinja2<4.0 in /usr/local/lib/python3.11/dist-packages (from gradio) (3.1.6)\n",
            "Requirement already satisfied: markupsafe<4.0,>=2.0 in /usr/local/lib/python3.11/dist-packages (from gradio) (3.0.2)\n",
            "Requirement already satisfied: numpy<3.0,>=1.0 in /usr/local/lib/python3.11/dist-packages (from gradio) (2.0.2)\n",
            "Requirement already satisfied: orjson~=3.0 in /usr/local/lib/python3.11/dist-packages (from gradio) (3.10.18)\n",
            "Requirement already satisfied: packaging in /usr/local/lib/python3.11/dist-packages (from gradio) (24.2)\n",
            "Requirement already satisfied: pandas<3.0,>=1.0 in /usr/local/lib/python3.11/dist-packages (from gradio) (2.2.2)\n",
            "Requirement already satisfied: pillow<12.0,>=8.0 in /usr/local/lib/python3.11/dist-packages (from gradio) (11.2.1)\n",
            "Requirement already satisfied: pydantic<2.12,>=2.0 in /usr/local/lib/python3.11/dist-packages (from gradio) (2.11.7)\n",
            "Requirement already satisfied: pydub in /usr/local/lib/python3.11/dist-packages (from gradio) (0.25.1)\n",
            "Requirement already satisfied: python-multipart>=0.0.18 in /usr/local/lib/python3.11/dist-packages (from gradio) (0.0.20)\n",
            "Requirement already satisfied: pyyaml<7.0,>=5.0 in /usr/local/lib/python3.11/dist-packages (from gradio) (6.0.2)\n",
            "Requirement already satisfied: ruff>=0.9.3 in /usr/local/lib/python3.11/dist-packages (from gradio) (0.12.2)\n",
            "Requirement already satisfied: safehttpx<0.2.0,>=0.1.6 in /usr/local/lib/python3.11/dist-packages (from gradio) (0.1.6)\n",
            "Requirement already satisfied: semantic-version~=2.0 in /usr/local/lib/python3.11/dist-packages (from gradio) (2.10.0)\n",
            "Requirement already satisfied: starlette<1.0,>=0.40.0 in /usr/local/lib/python3.11/dist-packages (from gradio) (0.46.2)\n",
            "Requirement already satisfied: tomlkit<0.14.0,>=0.12.0 in /usr/local/lib/python3.11/dist-packages (from gradio) (0.13.3)\n",
            "Requirement already satisfied: typer<1.0,>=0.12 in /usr/local/lib/python3.11/dist-packages (from gradio) (0.16.0)\n",
            "Requirement already satisfied: typing-extensions~=4.0 in /usr/local/lib/python3.11/dist-packages (from gradio) (4.14.1)\n",
            "Requirement already satisfied: uvicorn>=0.14.0 in /usr/local/lib/python3.11/dist-packages (from gradio) (0.35.0)\n",
            "Requirement already satisfied: fsspec in /usr/local/lib/python3.11/dist-packages (from gradio-client==1.10.1->gradio) (2025.3.2)\n",
            "Requirement already satisfied: websockets<16.0,>=10.0 in /usr/local/lib/python3.11/dist-packages (from gradio-client==1.10.1->gradio) (15.0.1)\n",
            "Requirement already satisfied: idna>=2.8 in /usr/local/lib/python3.11/dist-packages (from anyio<5.0,>=3.0->gradio) (3.10)\n",
            "Requirement already satisfied: sniffio>=1.1 in /usr/local/lib/python3.11/dist-packages (from anyio<5.0,>=3.0->gradio) (1.3.1)\n",
            "Requirement already satisfied: certifi in /usr/local/lib/python3.11/dist-packages (from httpx>=0.24.1->gradio) (2025.7.9)\n",
            "Requirement already satisfied: httpcore==1.* in /usr/local/lib/python3.11/dist-packages (from httpx>=0.24.1->gradio) (1.0.9)\n",
            "Requirement already satisfied: h11>=0.16 in /usr/local/lib/python3.11/dist-packages (from httpcore==1.*->httpx>=0.24.1->gradio) (0.16.0)\n",
            "Requirement already satisfied: filelock in /usr/local/lib/python3.11/dist-packages (from huggingface-hub>=0.28.1->gradio) (3.18.0)\n",
            "Requirement already satisfied: requests in /usr/local/lib/python3.11/dist-packages (from huggingface-hub>=0.28.1->gradio) (2.32.3)\n",
            "Requirement already satisfied: tqdm>=4.42.1 in /usr/local/lib/python3.11/dist-packages (from huggingface-hub>=0.28.1->gradio) (4.67.1)\n",
            "Requirement already satisfied: hf-xet<2.0.0,>=1.1.2 in /usr/local/lib/python3.11/dist-packages (from huggingface-hub>=0.28.1->gradio) (1.1.5)\n",
            "Requirement already satisfied: python-dateutil>=2.8.2 in /usr/local/lib/python3.11/dist-packages (from pandas<3.0,>=1.0->gradio) (2.9.0.post0)\n",
            "Requirement already satisfied: pytz>=2020.1 in /usr/local/lib/python3.11/dist-packages (from pandas<3.0,>=1.0->gradio) (2025.2)\n",
            "Requirement already satisfied: tzdata>=2022.7 in /usr/local/lib/python3.11/dist-packages (from pandas<3.0,>=1.0->gradio) (2025.2)\n",
            "Requirement already satisfied: annotated-types>=0.6.0 in /usr/local/lib/python3.11/dist-packages (from pydantic<2.12,>=2.0->gradio) (0.7.0)\n",
            "Requirement already satisfied: pydantic-core==2.33.2 in /usr/local/lib/python3.11/dist-packages (from pydantic<2.12,>=2.0->gradio) (2.33.2)\n",
            "Requirement already satisfied: typing-inspection>=0.4.0 in /usr/local/lib/python3.11/dist-packages (from pydantic<2.12,>=2.0->gradio) (0.4.1)\n",
            "Requirement already satisfied: click>=8.0.0 in /usr/local/lib/python3.11/dist-packages (from typer<1.0,>=0.12->gradio) (8.1.8)\n",
            "Requirement already satisfied: shellingham>=1.3.0 in /usr/local/lib/python3.11/dist-packages (from typer<1.0,>=0.12->gradio) (1.5.4)\n",
            "Requirement already satisfied: rich>=10.11.0 in /usr/local/lib/python3.11/dist-packages (from typer<1.0,>=0.12->gradio) (13.9.4)\n",
            "Requirement already satisfied: six>=1.5 in /usr/local/lib/python3.11/dist-packages (from python-dateutil>=2.8.2->pandas<3.0,>=1.0->gradio) (1.17.0)\n",
            "Requirement already satisfied: markdown-it-py>=2.2.0 in /usr/local/lib/python3.11/dist-packages (from rich>=10.11.0->typer<1.0,>=0.12->gradio) (3.0.0)\n",
            "Requirement already satisfied: pygments<3.0.0,>=2.13.0 in /usr/local/lib/python3.11/dist-packages (from rich>=10.11.0->typer<1.0,>=0.12->gradio) (2.19.2)\n",
            "Requirement already satisfied: charset-normalizer<4,>=2 in /usr/local/lib/python3.11/dist-packages (from requests->huggingface-hub>=0.28.1->gradio) (3.4.2)\n",
            "Requirement already satisfied: urllib3<3,>=1.21.1 in /usr/local/lib/python3.11/dist-packages (from requests->huggingface-hub>=0.28.1->gradio) (2.4.0)\n",
            "Requirement already satisfied: mdurl~=0.1 in /usr/local/lib/python3.11/dist-packages (from markdown-it-py>=2.2.0->rich>=10.11.0->typer<1.0,>=0.12->gradio) (0.1.2)\n",
            "It looks like you are running Gradio on a hosted a Jupyter notebook. For the Gradio app to work, sharing must be enabled. Automatically setting `share=True` (you can turn this off by setting `share=False` in `launch()` explicitly).\n",
            "\n",
            "Colab notebook detected. To show errors in colab notebook, set debug=True in launch()\n",
            "* Running on public URL: https://7c70e56173957f2401.gradio.live\n",
            "\n",
            "This share link expires in 1 week. For free permanent hosting and GPU upgrades, run `gradio deploy` from the terminal in the working directory to deploy to Hugging Face Spaces (https://huggingface.co/spaces)\n"
          ]
        },
        {
          "output_type": "display_data",
          "data": {
            "text/plain": [
              "<IPython.core.display.HTML object>"
            ],
            "text/html": [
              "<div><iframe src=\"https://7c70e56173957f2401.gradio.live\" width=\"100%\" height=\"500\" allow=\"autoplay; camera; microphone; clipboard-read; clipboard-write;\" frameborder=\"0\" allowfullscreen></iframe></div>"
            ]
          },
          "metadata": {}
        },
        {
          "output_type": "execute_result",
          "data": {
            "text/plain": []
          },
          "metadata": {},
          "execution_count": 99
        }
      ]
    },
    {
      "cell_type": "code",
      "source": [
        "def update_fields(role):\n",
        "    if role == \"Student\":\n",
        "        return (\n",
        "            gr.update(label=\"Class\", visible=True),\n",
        "            gr.update(visible=False),  # hide subject\n",
        "            gr.update(label=\"Principal Name\", visible=True),\n",
        "            gr.update(visible=False),  # hide degree upload\n",
        "            gr.update(label=\"School Name\"),\n",
        "        )\n",
        "    else:\n",
        "        return (\n",
        "            gr.update(label=\"Branch\", visible=True),\n",
        "            gr.update(label=\"Subject\", visible=True),\n",
        "            gr.update(label=\"College Location\", visible=True),\n",
        "            gr.update(visible=True),  # show degree upload\n",
        "            gr.update(label=\"College Name\"),\n",
        "        )\n"
      ],
      "metadata": {
        "id": "YWQTsGFmpCfH"
      },
      "id": "YWQTsGFmpCfH",
      "execution_count": 102,
      "outputs": []
    },
    {
      "cell_type": "code",
      "source": [
        "!pip install gradio\n",
        "\n",
        "import gradio as gr\n",
        "\n",
        "def submit_form(role, full_name, field1, field2, org_name, contact, email, address, extra1, pdf_file):\n",
        "    # Check for missing fields\n",
        "    required_fields = [role, full_name, field1, org_name, contact, email, address, extra1]\n",
        "    if role == \"Teacher\":\n",
        "        required_fields.append(field2)\n",
        "        if pdf_file is None:\n",
        "            return \"❌ Error: Please upload your degree certificate (PDF).\"\n",
        "    else:\n",
        "        # Student: fake extra2 as placeholder, not needed anymore\n",
        "        pdf_file = \"School Contact Info Not Uploaded (for student)\"\n",
        "\n",
        "    if any(field.strip() == \"\" for field in required_fields):\n",
        "        return \"❌ Error: Please fill in all required fields.\"\n",
        "\n",
        "    # Success message\n",
        "    if role == \"Student\":\n",
        "        return (f\"✅ Thank you, {full_name}!\\n\\n\"\n",
        "                f\"Role: Student\\n\"\n",
        "                f\"Class: {field1}\\n\"\n",
        "                f\"School: {org_name}\\n\"\n",
        "                f\"Principal Name: {extra1}\\n\"\n",
        "                f\"Email: {email}\\n\"\n",
        "                f\"Phone: {contact}\\n\"\n",
        "                f\"Address: {address}\")\n",
        "    else:\n",
        "        return (f\"✅ Thank you, {full_name}!\\n\\n\"\n",
        "                f\"Role: Teacher\\n\"\n",
        "                f\"Branch: {field1}\\n\"\n",
        "                f\"Subject: {field2}\\n\"\n",
        "                f\"College: {org_name}\\n\"\n",
        "                f\"College Location: {extra1}\\n\"\n",
        "                f\"Degree Certificate: {pdf_file.name if pdf_file else 'Not Provided'}\\n\"\n",
        "                f\"Email: {email}\\n\"\n",
        "                f\"Phone: {contact}\\n\"\n",
        "                f\"Address: {address}\")\n",
        "\n",
        "with gr.Blocks() as demo:\n",
        "    gr.Markdown(\"## 🎓 Student / 👨‍🏫 Teacher Information Form\")\n",
        "\n",
        "    role = gr.Radio([\"Student\", \"Teacher\"], label=\"Who are you?\")\n",
        "\n",
        "    full_name = gr.Textbox(label=\"Full Name\")\n",
        "\n",
        "    field1 = gr.Textbox(visible=True)  # Class or Branch\n",
        "    field2 = gr.Textbox(visible=True)  # Subject (teacher only)\n",
        "\n",
        "    org_name = gr.Textbox(label=\"School/College Name\")\n",
        "    contact = gr.Textbox(label=\"Phone Number\")\n",
        "    email = gr.Textbox(label=\"Email ID\")\n",
        "    address = gr.Textbox(label=\"Address\")\n",
        "\n",
        "    extra1 = gr.Textbox()  # Principal Name or College Location\n",
        "\n",
        "    pdf_file = gr.File(label=\"Upload Degree Certificate (PDF only)\", file_types=[\".pdf\"], visible=False)\n",
        "\n",
        "    submit = gr.Button(\"Submit\")\n",
        "    output = gr.Textbox(label=\"Output\", lines=12)\n",
        "\n",
        "    def update_fields(role):\n",
        "        if role == \"Student\":\n",
        "            return (\n",
        "                gr.update(label=\"Class\", visible=True),\n",
        "                gr.update(visible=False),  # hide subject\n",
        "                gr.update(label=\"Principal Name\", visible=True),\n",
        "                gr.update(visible=False),  # hide degree upload\n",
        "                gr.update(label=\"School Name\"),\n",
        "            )\n",
        "        else:\n",
        "            return (\n",
        "                gr.update(label=\"Branch\", visible=True),\n",
        "                gr.update(label=\"Subject\", visible=True),\n",
        "                gr.update(label=\"College Location\", visible=True),\n",
        "                gr.update(visible=True),  # show degree upload\n",
        "                gr.update(label=\"College Name\"),\n",
        "            )\n",
        "\n"
      ],
      "metadata": {
        "id": "0Kv-EprCooau",
        "outputId": "e7c5d80e-99e5-4384-89c9-066d466d7b72",
        "colab": {
          "base_uri": "https://localhost:8080/"
        }
      },
      "id": "0Kv-EprCooau",
      "execution_count": 105,
      "outputs": [
        {
          "output_type": "stream",
          "name": "stdout",
          "text": [
            "Requirement already satisfied: gradio in /usr/local/lib/python3.11/dist-packages (5.31.0)\n",
            "Requirement already satisfied: aiofiles<25.0,>=22.0 in /usr/local/lib/python3.11/dist-packages (from gradio) (24.1.0)\n",
            "Requirement already satisfied: anyio<5.0,>=3.0 in /usr/local/lib/python3.11/dist-packages (from gradio) (4.9.0)\n",
            "Requirement already satisfied: fastapi<1.0,>=0.115.2 in /usr/local/lib/python3.11/dist-packages (from gradio) (0.116.0)\n",
            "Requirement already satisfied: ffmpy in /usr/local/lib/python3.11/dist-packages (from gradio) (0.6.0)\n",
            "Requirement already satisfied: gradio-client==1.10.1 in /usr/local/lib/python3.11/dist-packages (from gradio) (1.10.1)\n",
            "Requirement already satisfied: groovy~=0.1 in /usr/local/lib/python3.11/dist-packages (from gradio) (0.1.2)\n",
            "Requirement already satisfied: httpx>=0.24.1 in /usr/local/lib/python3.11/dist-packages (from gradio) (0.28.1)\n",
            "Requirement already satisfied: huggingface-hub>=0.28.1 in /usr/local/lib/python3.11/dist-packages (from gradio) (0.33.2)\n",
            "Requirement already satisfied: jinja2<4.0 in /usr/local/lib/python3.11/dist-packages (from gradio) (3.1.6)\n",
            "Requirement already satisfied: markupsafe<4.0,>=2.0 in /usr/local/lib/python3.11/dist-packages (from gradio) (3.0.2)\n",
            "Requirement already satisfied: numpy<3.0,>=1.0 in /usr/local/lib/python3.11/dist-packages (from gradio) (2.0.2)\n",
            "Requirement already satisfied: orjson~=3.0 in /usr/local/lib/python3.11/dist-packages (from gradio) (3.10.18)\n",
            "Requirement already satisfied: packaging in /usr/local/lib/python3.11/dist-packages (from gradio) (24.2)\n",
            "Requirement already satisfied: pandas<3.0,>=1.0 in /usr/local/lib/python3.11/dist-packages (from gradio) (2.2.2)\n",
            "Requirement already satisfied: pillow<12.0,>=8.0 in /usr/local/lib/python3.11/dist-packages (from gradio) (11.2.1)\n",
            "Requirement already satisfied: pydantic<2.12,>=2.0 in /usr/local/lib/python3.11/dist-packages (from gradio) (2.11.7)\n",
            "Requirement already satisfied: pydub in /usr/local/lib/python3.11/dist-packages (from gradio) (0.25.1)\n",
            "Requirement already satisfied: python-multipart>=0.0.18 in /usr/local/lib/python3.11/dist-packages (from gradio) (0.0.20)\n",
            "Requirement already satisfied: pyyaml<7.0,>=5.0 in /usr/local/lib/python3.11/dist-packages (from gradio) (6.0.2)\n",
            "Requirement already satisfied: ruff>=0.9.3 in /usr/local/lib/python3.11/dist-packages (from gradio) (0.12.2)\n",
            "Requirement already satisfied: safehttpx<0.2.0,>=0.1.6 in /usr/local/lib/python3.11/dist-packages (from gradio) (0.1.6)\n",
            "Requirement already satisfied: semantic-version~=2.0 in /usr/local/lib/python3.11/dist-packages (from gradio) (2.10.0)\n",
            "Requirement already satisfied: starlette<1.0,>=0.40.0 in /usr/local/lib/python3.11/dist-packages (from gradio) (0.46.2)\n",
            "Requirement already satisfied: tomlkit<0.14.0,>=0.12.0 in /usr/local/lib/python3.11/dist-packages (from gradio) (0.13.3)\n",
            "Requirement already satisfied: typer<1.0,>=0.12 in /usr/local/lib/python3.11/dist-packages (from gradio) (0.16.0)\n",
            "Requirement already satisfied: typing-extensions~=4.0 in /usr/local/lib/python3.11/dist-packages (from gradio) (4.14.1)\n",
            "Requirement already satisfied: uvicorn>=0.14.0 in /usr/local/lib/python3.11/dist-packages (from gradio) (0.35.0)\n",
            "Requirement already satisfied: fsspec in /usr/local/lib/python3.11/dist-packages (from gradio-client==1.10.1->gradio) (2025.3.2)\n",
            "Requirement already satisfied: websockets<16.0,>=10.0 in /usr/local/lib/python3.11/dist-packages (from gradio-client==1.10.1->gradio) (15.0.1)\n",
            "Requirement already satisfied: idna>=2.8 in /usr/local/lib/python3.11/dist-packages (from anyio<5.0,>=3.0->gradio) (3.10)\n",
            "Requirement already satisfied: sniffio>=1.1 in /usr/local/lib/python3.11/dist-packages (from anyio<5.0,>=3.0->gradio) (1.3.1)\n",
            "Requirement already satisfied: certifi in /usr/local/lib/python3.11/dist-packages (from httpx>=0.24.1->gradio) (2025.7.9)\n",
            "Requirement already satisfied: httpcore==1.* in /usr/local/lib/python3.11/dist-packages (from httpx>=0.24.1->gradio) (1.0.9)\n",
            "Requirement already satisfied: h11>=0.16 in /usr/local/lib/python3.11/dist-packages (from httpcore==1.*->httpx>=0.24.1->gradio) (0.16.0)\n",
            "Requirement already satisfied: filelock in /usr/local/lib/python3.11/dist-packages (from huggingface-hub>=0.28.1->gradio) (3.18.0)\n",
            "Requirement already satisfied: requests in /usr/local/lib/python3.11/dist-packages (from huggingface-hub>=0.28.1->gradio) (2.32.3)\n",
            "Requirement already satisfied: tqdm>=4.42.1 in /usr/local/lib/python3.11/dist-packages (from huggingface-hub>=0.28.1->gradio) (4.67.1)\n",
            "Requirement already satisfied: hf-xet<2.0.0,>=1.1.2 in /usr/local/lib/python3.11/dist-packages (from huggingface-hub>=0.28.1->gradio) (1.1.5)\n",
            "Requirement already satisfied: python-dateutil>=2.8.2 in /usr/local/lib/python3.11/dist-packages (from pandas<3.0,>=1.0->gradio) (2.9.0.post0)\n",
            "Requirement already satisfied: pytz>=2020.1 in /usr/local/lib/python3.11/dist-packages (from pandas<3.0,>=1.0->gradio) (2025.2)\n",
            "Requirement already satisfied: tzdata>=2022.7 in /usr/local/lib/python3.11/dist-packages (from pandas<3.0,>=1.0->gradio) (2025.2)\n",
            "Requirement already satisfied: annotated-types>=0.6.0 in /usr/local/lib/python3.11/dist-packages (from pydantic<2.12,>=2.0->gradio) (0.7.0)\n",
            "Requirement already satisfied: pydantic-core==2.33.2 in /usr/local/lib/python3.11/dist-packages (from pydantic<2.12,>=2.0->gradio) (2.33.2)\n",
            "Requirement already satisfied: typing-inspection>=0.4.0 in /usr/local/lib/python3.11/dist-packages (from pydantic<2.12,>=2.0->gradio) (0.4.1)\n",
            "Requirement already satisfied: click>=8.0.0 in /usr/local/lib/python3.11/dist-packages (from typer<1.0,>=0.12->gradio) (8.1.8)\n",
            "Requirement already satisfied: shellingham>=1.3.0 in /usr/local/lib/python3.11/dist-packages (from typer<1.0,>=0.12->gradio) (1.5.4)\n",
            "Requirement already satisfied: rich>=10.11.0 in /usr/local/lib/python3.11/dist-packages (from typer<1.0,>=0.12->gradio) (13.9.4)\n",
            "Requirement already satisfied: six>=1.5 in /usr/local/lib/python3.11/dist-packages (from python-dateutil>=2.8.2->pandas<3.0,>=1.0->gradio) (1.17.0)\n",
            "Requirement already satisfied: markdown-it-py>=2.2.0 in /usr/local/lib/python3.11/dist-packages (from rich>=10.11.0->typer<1.0,>=0.12->gradio) (3.0.0)\n",
            "Requirement already satisfied: pygments<3.0.0,>=2.13.0 in /usr/local/lib/python3.11/dist-packages (from rich>=10.11.0->typer<1.0,>=0.12->gradio) (2.19.2)\n",
            "Requirement already satisfied: charset-normalizer<4,>=2 in /usr/local/lib/python3.11/dist-packages (from requests->huggingface-hub>=0.28.1->gradio) (3.4.2)\n",
            "Requirement already satisfied: urllib3<3,>=1.21.1 in /usr/local/lib/python3.11/dist-packages (from requests->huggingface-hub>=0.28.1->gradio) (2.4.0)\n",
            "Requirement already satisfied: mdurl~=0.1 in /usr/local/lib/python3.11/dist-packages (from markdown-it-py>=2.2.0->rich>=10.11.0->typer<1.0,>=0.12->gradio) (0.1.2)\n"
          ]
        }
      ]
    },
    {
      "cell_type": "code",
      "source": [
        "import tkinter as tk\n",
        "from tkinter import messagebox\n",
        "\n",
        "# ---------- Main Application Class ----------\n",
        "class App:\n",
        "    def __init__(self, root):\n",
        "        self.root = root\n",
        "        self.root.title(\"User Selection\")\n",
        "        self.root.geometry(\"400x300\")\n",
        "        self.show_role_selection()\n",
        "\n",
        "    def show_role_selection(self):\n",
        "        self.clear_window()\n",
        "        label = tk.Label(self.root, text=\"Who are you?\", font=(\"Arial\", 16))\n",
        "        label.pack(pady=20)\n",
        "\n",
        "        teacher_btn = tk.Button(self.root, text=\"Teacher\", width=20, command=lambda: self.show_form(\"Teacher\"))\n",
        "        student_btn = tk.Button(self.root, text=\"Student\", width=20, command=lambda: self.show_form(\"Student\"))\n",
        "\n",
        "        teacher_btn.pack(pady=10)\n",
        "        student_btn.pack(pady=10)\n",
        "\n",
        "    def show_form(self, role):\n",
        "        self.clear_window()\n",
        "        self.root.title(f\"{role} Information Form\")\n",
        "\n",
        "        self.entries = {}\n",
        "        fields = [\"Full Name\", \"Branch/Class\", \"School/College\", \"Phone No.\", \"Email ID\", \"Address\"]\n",
        "\n",
        "        tk.Label(self.root, text=f\"{role} Information Form\", font=(\"Arial\", 14)).pack(pady=10)\n",
        "\n",
        "        form_frame = tk.Frame(self.root)\n",
        "        form_frame.pack()\n",
        "\n",
        "        for field in fields:\n",
        "            label = tk.Label(form_frame, text=field)\n",
        "            entry = tk.Entry(form_frame, width=30)\n",
        "            label.pack()\n",
        "            entry.pack(pady=3)\n",
        "            self.entries[field] = entry\n",
        "\n",
        "        submit_btn = tk.Button(self.root, text=\"Submit\", command=self.submit_form)\n",
        "        submit_btn.pack(pady=15)\n",
        "\n",
        "    def submit_form(self):\n",
        "        data = {field: entry.get() for field, entry in self.entries.items()}\n",
        "\n",
        "        # Basic validation\n",
        "        if any(v == \"\" for v in data.values()):\n",
        "            messagebox.showerror(\"Error\", \"Please fill in all fields.\")\n",
        "            return\n",
        "\n",
        "        self.show_thank_you()\n",
        "\n",
        "    def show_thank_you(self):\n",
        "        self.clear_window()\n",
        "        tk.Label(self.root, text=\"✅ Thank you for submitting the form!\", font=(\"Arial\", 16), fg=\"green\").pack(pady=60)\n",
        "        tk.Button(self.root, text=\"Exit\", command=self.root.quit).pack()\n",
        "\n",
        "    def clear_window(self):\n",
        "        for widget in self.root.winfo_children():\n",
        "            widget.destroy()\n",
        "\n",
        "# ---------- Run the App ----------\n",
        "if __name__ == \"__main__\":\n",
        "    root = tk.Tk()\n",
        "    app = App(root)\n",
        "    root.mainloop()\n"
      ],
      "metadata": {
        "id": "UL2j6E3EkO2Q",
        "outputId": "b05e8353-e50d-45a5-b094-57381323f684",
        "colab": {
          "base_uri": "https://localhost:8080/",
          "height": 346
        }
      },
      "id": "UL2j6E3EkO2Q",
      "execution_count": 97,
      "outputs": [
        {
          "output_type": "error",
          "ename": "TclError",
          "evalue": "no display name and no $DISPLAY environment variable",
          "traceback": [
            "\u001b[0;31m---------------------------------------------------------------------------\u001b[0m",
            "\u001b[0;31mTclError\u001b[0m                                  Traceback (most recent call last)",
            "\u001b[0;32m/tmp/ipython-input-97-2163260948.py\u001b[0m in \u001b[0;36m<cell line: 0>\u001b[0;34m()\u001b[0m\n\u001b[1;32m     64\u001b[0m \u001b[0;31m# ---------- Run the App ----------\u001b[0m\u001b[0;34m\u001b[0m\u001b[0;34m\u001b[0m\u001b[0m\n\u001b[1;32m     65\u001b[0m \u001b[0;32mif\u001b[0m \u001b[0m__name__\u001b[0m \u001b[0;34m==\u001b[0m \u001b[0;34m\"__main__\"\u001b[0m\u001b[0;34m:\u001b[0m\u001b[0;34m\u001b[0m\u001b[0;34m\u001b[0m\u001b[0m\n\u001b[0;32m---> 66\u001b[0;31m     \u001b[0mroot\u001b[0m \u001b[0;34m=\u001b[0m \u001b[0mtk\u001b[0m\u001b[0;34m.\u001b[0m\u001b[0mTk\u001b[0m\u001b[0;34m(\u001b[0m\u001b[0;34m)\u001b[0m\u001b[0;34m\u001b[0m\u001b[0;34m\u001b[0m\u001b[0m\n\u001b[0m\u001b[1;32m     67\u001b[0m     \u001b[0mapp\u001b[0m \u001b[0;34m=\u001b[0m \u001b[0mApp\u001b[0m\u001b[0;34m(\u001b[0m\u001b[0mroot\u001b[0m\u001b[0;34m)\u001b[0m\u001b[0;34m\u001b[0m\u001b[0;34m\u001b[0m\u001b[0m\n\u001b[1;32m     68\u001b[0m     \u001b[0mroot\u001b[0m\u001b[0;34m.\u001b[0m\u001b[0mmainloop\u001b[0m\u001b[0;34m(\u001b[0m\u001b[0;34m)\u001b[0m\u001b[0;34m\u001b[0m\u001b[0;34m\u001b[0m\u001b[0m\n",
            "\u001b[0;32m/usr/lib/python3.11/tkinter/__init__.py\u001b[0m in \u001b[0;36m__init__\u001b[0;34m(self, screenName, baseName, className, useTk, sync, use)\u001b[0m\n\u001b[1;32m   2324\u001b[0m                 \u001b[0mbaseName\u001b[0m \u001b[0;34m=\u001b[0m \u001b[0mbaseName\u001b[0m \u001b[0;34m+\u001b[0m \u001b[0mext\u001b[0m\u001b[0;34m\u001b[0m\u001b[0;34m\u001b[0m\u001b[0m\n\u001b[1;32m   2325\u001b[0m         \u001b[0minteractive\u001b[0m \u001b[0;34m=\u001b[0m \u001b[0;32mFalse\u001b[0m\u001b[0;34m\u001b[0m\u001b[0;34m\u001b[0m\u001b[0m\n\u001b[0;32m-> 2326\u001b[0;31m         \u001b[0mself\u001b[0m\u001b[0;34m.\u001b[0m\u001b[0mtk\u001b[0m \u001b[0;34m=\u001b[0m \u001b[0m_tkinter\u001b[0m\u001b[0;34m.\u001b[0m\u001b[0mcreate\u001b[0m\u001b[0;34m(\u001b[0m\u001b[0mscreenName\u001b[0m\u001b[0;34m,\u001b[0m \u001b[0mbaseName\u001b[0m\u001b[0;34m,\u001b[0m \u001b[0mclassName\u001b[0m\u001b[0;34m,\u001b[0m \u001b[0minteractive\u001b[0m\u001b[0;34m,\u001b[0m \u001b[0mwantobjects\u001b[0m\u001b[0;34m,\u001b[0m \u001b[0museTk\u001b[0m\u001b[0;34m,\u001b[0m \u001b[0msync\u001b[0m\u001b[0;34m,\u001b[0m \u001b[0muse\u001b[0m\u001b[0;34m)\u001b[0m\u001b[0;34m\u001b[0m\u001b[0;34m\u001b[0m\u001b[0m\n\u001b[0m\u001b[1;32m   2327\u001b[0m         \u001b[0;32mif\u001b[0m \u001b[0museTk\u001b[0m\u001b[0;34m:\u001b[0m\u001b[0;34m\u001b[0m\u001b[0;34m\u001b[0m\u001b[0m\n\u001b[1;32m   2328\u001b[0m             \u001b[0mself\u001b[0m\u001b[0;34m.\u001b[0m\u001b[0m_loadtk\u001b[0m\u001b[0;34m(\u001b[0m\u001b[0;34m)\u001b[0m\u001b[0;34m\u001b[0m\u001b[0;34m\u001b[0m\u001b[0m\n",
            "\u001b[0;31mTclError\u001b[0m: no display name and no $DISPLAY environment variable"
          ]
        }
      ]
    },
    {
      "cell_type": "code",
      "source": [
        "!pip install gradio\n",
        "\n",
        "import gradio as gr\n",
        "\n",
        "def submit_form(role, full_name, field1, field2, org_name, contact, email, address, extra1, pdf_file):\n",
        "    # Check for missing fields\n",
        "    required_fields = [role, full_name, field1, org_name, contact, email, address, extra1]\n",
        "    if role == \"Teacher\":\n",
        "        required_fields.append(field2)\n",
        "        if pdf_file is None:\n",
        "            return \"❌ Error: Please upload your degree certificate (PDF).\"\n",
        "    else:\n",
        "        # Student: fake extra2 as placeholder, not needed anymore\n",
        "        pdf_file = \"School Contact Info Not Uploaded (for student)\"\n",
        "\n",
        "    if any(field.strip() == \"\" for field in required_fields):\n",
        "        return \"❌ Error: Please fill in all required fields.\"\n",
        "\n",
        "    # Success message\n",
        "    if role == \"Student\":\n",
        "        return (f\"✅ Thank you, {full_name}!\\n\\n\"\n",
        "                f\"Role: Student\\n\"\n",
        "                f\"Class: {field1}\\n\"\n",
        "                f\"School: {org_name}\\n\"\n",
        "                f\"Principal Name: {extra1}\\n\"\n",
        "                f\"Email: {email}\\n\"\n",
        "                f\"Phone: {contact}\\n\"\n",
        "                f\"Address: {address}\")\n",
        "    else:\n",
        "        return (f\"✅ Thank you, {full_name}!\\n\\n\"\n",
        "                f\"Role: Teacher\\n\"\n",
        "                f\"Branch: {field1}\\n\"\n",
        "                f\"Subject: {field2}\\n\"\n",
        "                f\"College: {org_name}\\n\"\n",
        "                f\"College Location: {extra1}\\n\"\n",
        "                f\"Degree Certificate: {pdf_file.name if pdf_file else 'Not Provided'}\\n\"\n",
        "                f\"Email: {email}\\n\"\n",
        "                f\"Phone: {contact}\\n\"\n",
        "                f\"Address: {address}\")\n",
        "\n",
        "with gr.Blocks() as demo:\n",
        "    gr.Markdown(\"## 🎓 Student / 👨‍🏫 Teacher Information Form\")\n",
        "\n",
        "    role = gr.Radio([\"Student\", \"Teacher\"], label=\"Who are you?\")\n",
        "\n",
        "    full_name = gr.Textbox(label=\"Full Name\")\n",
        "\n",
        "    field1 = gr.Textbox(visible=True)  # Class or Branch\n",
        "    field2 = gr.Textbox(visible=True)  # Subject (teacher only)\n",
        "\n",
        "    org_name = gr.Textbox(label=\"School/College Name\")\n",
        "    contact = gr.Textbox(label=\"Phone Number\")\n",
        "    email = gr.Textbox(label=\"Email ID\")\n",
        "    address = gr.Textbox(label=\"Address\")\n",
        "\n",
        "    extra1 = gr.Textbox()  # Principal Name or College Location\n",
        "\n",
        "    pdf_file = gr.File(label=\"Upload Degree Certificate (PDF only)\", file_types=[\".pdf\"], visible=False)\n",
        "\n",
        "    submit = gr.Button(\"Submit\")\n",
        "    output = gr.Textbox(label=\"Output\", lines=12)\n",
        "\n",
        "    def update_fields(role):\n",
        "        if role == \"Student\":\n",
        "            return (\n",
        "                gr.update(label=\"Class\", visible=True),\n",
        "                gr.update(visible=False),  # hide subject\n",
        "                gr.update(label=\"Principal Name\", visible=True),\n",
        "                gr.update(visible=False),  # hide degree upload\n",
        "                gr.update(label=\"School Name\"),\n",
        "            )\n",
        "        else:\n",
        "            return (\n",
        "                gr.update(label=\"Branch\", visible=True),\n",
        "                gr.update(label=\"Subject\", visible=True),\n",
        "                gr.update(label=\"College Location\", visible=True),\n",
        "                gr.update(label=\"Degree certificate\", visible=True),  # show degree upload\n",
        "                gr.update(label=\"College Name\"),\n",
        "            )\n",
        "        role.change(fn=update_fields, inputs=role,\n",
        "                outputs=[field1, field2, extra1, extra2, org_name])\n",
        "\n",
        "        submit.click(fn=submit_form,\n",
        "                 inputs=[role, full_name, field1, field2, org_name, contact, email, address, extra1, extra2],\n",
        "                 outputs=output)\n",
        "\n",
        "    demo.launch()\n",
        "\n",
        "\n",
        "\n",
        "\n"
      ],
      "metadata": {
        "id": "t0fVZxWQqfhR",
        "outputId": "7a4b915c-9354-4cd6-88af-1a6c75fc7f8d",
        "colab": {
          "base_uri": "https://localhost:8080/",
          "height": 1000
        }
      },
      "id": "t0fVZxWQqfhR",
      "execution_count": 122,
      "outputs": [
        {
          "output_type": "stream",
          "name": "stdout",
          "text": [
            "Requirement already satisfied: gradio in /usr/local/lib/python3.11/dist-packages (5.31.0)\n",
            "Requirement already satisfied: aiofiles<25.0,>=22.0 in /usr/local/lib/python3.11/dist-packages (from gradio) (24.1.0)\n",
            "Requirement already satisfied: anyio<5.0,>=3.0 in /usr/local/lib/python3.11/dist-packages (from gradio) (4.9.0)\n",
            "Requirement already satisfied: fastapi<1.0,>=0.115.2 in /usr/local/lib/python3.11/dist-packages (from gradio) (0.116.0)\n",
            "Requirement already satisfied: ffmpy in /usr/local/lib/python3.11/dist-packages (from gradio) (0.6.0)\n",
            "Requirement already satisfied: gradio-client==1.10.1 in /usr/local/lib/python3.11/dist-packages (from gradio) (1.10.1)\n",
            "Requirement already satisfied: groovy~=0.1 in /usr/local/lib/python3.11/dist-packages (from gradio) (0.1.2)\n",
            "Requirement already satisfied: httpx>=0.24.1 in /usr/local/lib/python3.11/dist-packages (from gradio) (0.28.1)\n",
            "Requirement already satisfied: huggingface-hub>=0.28.1 in /usr/local/lib/python3.11/dist-packages (from gradio) (0.33.2)\n",
            "Requirement already satisfied: jinja2<4.0 in /usr/local/lib/python3.11/dist-packages (from gradio) (3.1.6)\n",
            "Requirement already satisfied: markupsafe<4.0,>=2.0 in /usr/local/lib/python3.11/dist-packages (from gradio) (3.0.2)\n",
            "Requirement already satisfied: numpy<3.0,>=1.0 in /usr/local/lib/python3.11/dist-packages (from gradio) (2.0.2)\n",
            "Requirement already satisfied: orjson~=3.0 in /usr/local/lib/python3.11/dist-packages (from gradio) (3.10.18)\n",
            "Requirement already satisfied: packaging in /usr/local/lib/python3.11/dist-packages (from gradio) (24.2)\n",
            "Requirement already satisfied: pandas<3.0,>=1.0 in /usr/local/lib/python3.11/dist-packages (from gradio) (2.2.2)\n",
            "Requirement already satisfied: pillow<12.0,>=8.0 in /usr/local/lib/python3.11/dist-packages (from gradio) (11.2.1)\n",
            "Requirement already satisfied: pydantic<2.12,>=2.0 in /usr/local/lib/python3.11/dist-packages (from gradio) (2.11.7)\n",
            "Requirement already satisfied: pydub in /usr/local/lib/python3.11/dist-packages (from gradio) (0.25.1)\n",
            "Requirement already satisfied: python-multipart>=0.0.18 in /usr/local/lib/python3.11/dist-packages (from gradio) (0.0.20)\n",
            "Requirement already satisfied: pyyaml<7.0,>=5.0 in /usr/local/lib/python3.11/dist-packages (from gradio) (6.0.2)\n",
            "Requirement already satisfied: ruff>=0.9.3 in /usr/local/lib/python3.11/dist-packages (from gradio) (0.12.2)\n",
            "Requirement already satisfied: safehttpx<0.2.0,>=0.1.6 in /usr/local/lib/python3.11/dist-packages (from gradio) (0.1.6)\n",
            "Requirement already satisfied: semantic-version~=2.0 in /usr/local/lib/python3.11/dist-packages (from gradio) (2.10.0)\n",
            "Requirement already satisfied: starlette<1.0,>=0.40.0 in /usr/local/lib/python3.11/dist-packages (from gradio) (0.46.2)\n",
            "Requirement already satisfied: tomlkit<0.14.0,>=0.12.0 in /usr/local/lib/python3.11/dist-packages (from gradio) (0.13.3)\n",
            "Requirement already satisfied: typer<1.0,>=0.12 in /usr/local/lib/python3.11/dist-packages (from gradio) (0.16.0)\n",
            "Requirement already satisfied: typing-extensions~=4.0 in /usr/local/lib/python3.11/dist-packages (from gradio) (4.14.1)\n",
            "Requirement already satisfied: uvicorn>=0.14.0 in /usr/local/lib/python3.11/dist-packages (from gradio) (0.35.0)\n",
            "Requirement already satisfied: fsspec in /usr/local/lib/python3.11/dist-packages (from gradio-client==1.10.1->gradio) (2025.3.2)\n",
            "Requirement already satisfied: websockets<16.0,>=10.0 in /usr/local/lib/python3.11/dist-packages (from gradio-client==1.10.1->gradio) (15.0.1)\n",
            "Requirement already satisfied: idna>=2.8 in /usr/local/lib/python3.11/dist-packages (from anyio<5.0,>=3.0->gradio) (3.10)\n",
            "Requirement already satisfied: sniffio>=1.1 in /usr/local/lib/python3.11/dist-packages (from anyio<5.0,>=3.0->gradio) (1.3.1)\n",
            "Requirement already satisfied: certifi in /usr/local/lib/python3.11/dist-packages (from httpx>=0.24.1->gradio) (2025.7.9)\n",
            "Requirement already satisfied: httpcore==1.* in /usr/local/lib/python3.11/dist-packages (from httpx>=0.24.1->gradio) (1.0.9)\n",
            "Requirement already satisfied: h11>=0.16 in /usr/local/lib/python3.11/dist-packages (from httpcore==1.*->httpx>=0.24.1->gradio) (0.16.0)\n",
            "Requirement already satisfied: filelock in /usr/local/lib/python3.11/dist-packages (from huggingface-hub>=0.28.1->gradio) (3.18.0)\n",
            "Requirement already satisfied: requests in /usr/local/lib/python3.11/dist-packages (from huggingface-hub>=0.28.1->gradio) (2.32.3)\n",
            "Requirement already satisfied: tqdm>=4.42.1 in /usr/local/lib/python3.11/dist-packages (from huggingface-hub>=0.28.1->gradio) (4.67.1)\n",
            "Requirement already satisfied: hf-xet<2.0.0,>=1.1.2 in /usr/local/lib/python3.11/dist-packages (from huggingface-hub>=0.28.1->gradio) (1.1.5)\n",
            "Requirement already satisfied: python-dateutil>=2.8.2 in /usr/local/lib/python3.11/dist-packages (from pandas<3.0,>=1.0->gradio) (2.9.0.post0)\n",
            "Requirement already satisfied: pytz>=2020.1 in /usr/local/lib/python3.11/dist-packages (from pandas<3.0,>=1.0->gradio) (2025.2)\n",
            "Requirement already satisfied: tzdata>=2022.7 in /usr/local/lib/python3.11/dist-packages (from pandas<3.0,>=1.0->gradio) (2025.2)\n",
            "Requirement already satisfied: annotated-types>=0.6.0 in /usr/local/lib/python3.11/dist-packages (from pydantic<2.12,>=2.0->gradio) (0.7.0)\n",
            "Requirement already satisfied: pydantic-core==2.33.2 in /usr/local/lib/python3.11/dist-packages (from pydantic<2.12,>=2.0->gradio) (2.33.2)\n",
            "Requirement already satisfied: typing-inspection>=0.4.0 in /usr/local/lib/python3.11/dist-packages (from pydantic<2.12,>=2.0->gradio) (0.4.1)\n",
            "Requirement already satisfied: click>=8.0.0 in /usr/local/lib/python3.11/dist-packages (from typer<1.0,>=0.12->gradio) (8.1.8)\n",
            "Requirement already satisfied: shellingham>=1.3.0 in /usr/local/lib/python3.11/dist-packages (from typer<1.0,>=0.12->gradio) (1.5.4)\n",
            "Requirement already satisfied: rich>=10.11.0 in /usr/local/lib/python3.11/dist-packages (from typer<1.0,>=0.12->gradio) (13.9.4)\n",
            "Requirement already satisfied: six>=1.5 in /usr/local/lib/python3.11/dist-packages (from python-dateutil>=2.8.2->pandas<3.0,>=1.0->gradio) (1.17.0)\n",
            "Requirement already satisfied: markdown-it-py>=2.2.0 in /usr/local/lib/python3.11/dist-packages (from rich>=10.11.0->typer<1.0,>=0.12->gradio) (3.0.0)\n",
            "Requirement already satisfied: pygments<3.0.0,>=2.13.0 in /usr/local/lib/python3.11/dist-packages (from rich>=10.11.0->typer<1.0,>=0.12->gradio) (2.19.2)\n",
            "Requirement already satisfied: charset-normalizer<4,>=2 in /usr/local/lib/python3.11/dist-packages (from requests->huggingface-hub>=0.28.1->gradio) (3.4.2)\n",
            "Requirement already satisfied: urllib3<3,>=1.21.1 in /usr/local/lib/python3.11/dist-packages (from requests->huggingface-hub>=0.28.1->gradio) (2.4.0)\n",
            "Requirement already satisfied: mdurl~=0.1 in /usr/local/lib/python3.11/dist-packages (from markdown-it-py>=2.2.0->rich>=10.11.0->typer<1.0,>=0.12->gradio) (0.1.2)\n",
            "It looks like you are running Gradio on a hosted a Jupyter notebook. For the Gradio app to work, sharing must be enabled. Automatically setting `share=True` (you can turn this off by setting `share=False` in `launch()` explicitly).\n",
            "\n",
            "Colab notebook detected. To show errors in colab notebook, set debug=True in launch()\n",
            "* Running on public URL: https://979ea3fc34f6acf652.gradio.live\n",
            "\n",
            "This share link expires in 1 week. For free permanent hosting and GPU upgrades, run `gradio deploy` from the terminal in the working directory to deploy to Hugging Face Spaces (https://huggingface.co/spaces)\n"
          ]
        },
        {
          "output_type": "display_data",
          "data": {
            "text/plain": [
              "<IPython.core.display.HTML object>"
            ],
            "text/html": [
              "<div><iframe src=\"https://979ea3fc34f6acf652.gradio.live\" width=\"100%\" height=\"500\" allow=\"autoplay; camera; microphone; clipboard-read; clipboard-write;\" frameborder=\"0\" allowfullscreen></iframe></div>"
            ]
          },
          "metadata": {}
        }
      ]
    },
    {
      "cell_type": "code",
      "source": [
        "!pip install gradio\n",
        "\n",
        "import gradio as gr\n",
        "\n",
        "def submit_form(role, full_name, field1, field2, org_name, contact, email, address, extra1, extra2):\n",
        "    # Check for missing required fields\n",
        "    required_fields = [role, full_name, field1, org_name, contact, email, address, extra1, extra2]\n",
        "    if role == \"Teacher\":\n",
        "        required_fields.append(field2)\n",
        "        if pdf_file is none:\n",
        "          return\"❌ Error: Please upload your degree certificate(PDF).\"\n",
        "\n",
        "\n",
        "\n",
        "\n",
        "    if any(field.strip() == \"\" for field in required_fields):\n",
        "        return \"❌ Error: Please fill in all required fields.\"\n",
        "\n",
        "    # Success message\n",
        "    if role == \"Student\":\n",
        "        return (f\"✅ Thank you, {full_name}!\\n\\n\"\n",
        "                f\"Role: Student\\n\"\n",
        "                f\"Class: {field1}\\n\"\n",
        "                f\"School: {org_name}\\n\"\n",
        "                f\"Principal Name: {extra1}\\n\"\n",
        "                f\"School Contact: {extra2}\\n\"\n",
        "                f\"Email: {email}\\n\"\n",
        "                f\"Phone: {contact}\\n\"\n",
        "                f\"Address: {address}\")\n",
        "    else:\n",
        "        return (f\"✅ Thank you, {full_name}!\\n\\n\"\n",
        "                f\"Role: Teacher\\n\"\n",
        "                f\"Branch: {field1}\\n\"\n",
        "                f\"Subject: {field2}\\n\"\n",
        "                f\"College: {org_name}\\n\"\n",
        "                f\"College Location: {extra1}\\n\"\n",
        "                f\"Degree Certificate: {pdf_file.name if pdf_file else 'Not Provided'}\\n\"\n",
        "                f\"Email: {email}\\n\"\n",
        "                f\"Phone: {contact}\\n\"\n",
        "                f\"Address: {address}\")\n",
        "\n",
        "with gr.Blocks() as demo:\n",
        "    gr.Markdown(\"## 🎓 Student / 👨‍🏫 Teacher Information Form\")\n",
        "\n",
        "    role = gr.Radio([\"Student\", \"Teacher\"], label=\"Who are you?\")\n",
        "\n",
        "    full_name = gr.Textbox(label=\"Full Name\")\n",
        "\n",
        "    field1 = gr.Textbox(visible=True)  # Class or Branch\n",
        "    field2 = gr.Textbox(visible=True)  # (Subject only for teacher)\n",
        "\n",
        "    org_name = gr.Textbox(label=\"School/College Name\")\n",
        "    contact = gr.Textbox(label=\"Phone Number\")\n",
        "    email = gr.Textbox(label=\"Email ID\")\n",
        "    address = gr.Textbox(label=\"Address\")\n",
        "\n",
        "    extra1 = gr.Textbox()  # Principal Name or College Location\n",
        "\n",
        "   pdf_file = gr.File(label=\"Upload Degree Certificate (PDF only)\", file_types=[\".pdf\"], visible=false)\n",
        "\n",
        "    submit = gr.Button(\"Submit\")\n",
        "    output = gr.Textbox(label=\"Output\", lines=12)\n",
        "\n",
        "    def update_fields(role):\n",
        "        if role == \"Student\":\n",
        "            return (\n",
        "                gr.update(label=\"Class\", visible=True),\n",
        "                gr.update(visible=False),  # Hide subject\n",
        "                gr.update(label=\"Principal Name\", visible=True),\n",
        "                gr.update(label=\"School Contact No.\", visible=True),\n",
        "                gr.update(label=\"School Name\"),\n",
        "            )\n",
        "        else:\n",
        "            return (\n",
        "                gr.update(label=\"Branch\", visible=True),\n",
        "                gr.update(label=\"Subject\", visible=True),\n",
        "                gr.update(label=\"College Location\", visible=True),\n",
        "                gr.update(visible=True),\n",
        "                gr.update(label=\"College Name\"),\n",
        "            )\n",
        "\n",
        "    role.change(fn=update_fields, inputs=role,\n",
        "                outputs=[field1, field2, extra1, extra2, org_name])\n",
        "\n",
        "    submit.click(fn=submit_form,\n",
        "                 inputs=[role, full_name, field1, field2, org_name, contact, email, address, extra1, extra2],\n",
        "                 outputs=output)\n",
        "\n",
        "demo.launch()\n"
      ],
      "metadata": {
        "id": "DSxHOQWstKdH",
        "outputId": "45bacf0e-2872-4305-dfe8-1a975436971f",
        "colab": {
          "base_uri": "https://localhost:8080/",
          "height": 110
        }
      },
      "id": "DSxHOQWstKdH",
      "execution_count": 118,
      "outputs": [
        {
          "output_type": "error",
          "ename": "IndentationError",
          "evalue": "unindent does not match any outer indentation level (<tokenize>, line 59)",
          "traceback": [
            "\u001b[0;36m  File \u001b[0;32m\"<tokenize>\"\u001b[0;36m, line \u001b[0;32m59\u001b[0m\n\u001b[0;31m    pdf_file = gr.File(label=\"Upload Degree Certificate (PDF only)\", file_types=[\".pdf\"], visible=false)\u001b[0m\n\u001b[0m    ^\u001b[0m\n\u001b[0;31mIndentationError\u001b[0m\u001b[0;31m:\u001b[0m unindent does not match any outer indentation level\n"
          ]
        }
      ]
    },
    {
      "cell_type": "code",
      "source": [
        "!pip install gradio\n",
        "\n",
        "import gradio as gr\n",
        "\n",
        "def submit_form(role, full_name, field1, field2, org_name, contact, email, address, extra1, extra2, pdf_file):\n",
        "    # Check for missing required fields\n",
        "    required_fields = [role, full_name, field1, org_name, contact, email, address, extra1, extra2]\n",
        "\n",
        "    if role == \"Teacher\":\n",
        "        required_fields.append(field2)\n",
        "        if pdf_file is None:\n",
        "            return \"❌ Error: Please upload your degree certificate (PDF).\"\n",
        "\n",
        "    if any(field.strip() == \"\" for field in required_fields if isinstance(field, str)):\n",
        "        return \"❌ Error: Please fill in all required fields.\"\n",
        "\n",
        "    # Success message\n",
        "    if role == \"Student\":\n",
        "        return (f\"✅ Thank you, {full_name}!\\n\\n\"\n",
        "                f\"Role: Student\\n\"\n",
        "                f\"Class: {field1}\\n\"\n",
        "                f\"School: {org_name}\\n\"\n",
        "                f\"Principal Name: {extra1}\\n\"\n",
        "                f\"School Contact: {extra2}\\n\"\n",
        "                f\"Email: {email}\\n\"\n",
        "                f\"Phone: {contact}\\n\"\n",
        "                f\"Address: {address}\")\n",
        "    else:\n",
        "        return (f\"✅ Thank you, {full_name}!\\n\\n\"\n",
        "                f\"Role: Teacher\\n\"\n",
        "                f\"Branch: {field1}\\n\"\n",
        "                f\"Subject: {field2}\\n\"\n",
        "                f\"College: {org_name}\\n\"\n",
        "                f\"College Location: {extra1}\\n\"\n",
        "                f\"Degree Certificate: {pdf_file.name if pdf_file else 'Not Provided'}\\n\"\n",
        "                f\"Email: {email}\\n\"\n",
        "                f\"Phone: {contact}\\n\"\n",
        "                f\"Address: {address}\")\n",
        "\n",
        "with gr.Blocks() as demo:\n",
        "    gr.Markdown(\"## 🎓 Student / 👨‍🏫 Teacher Information Form\")\n",
        "\n",
        "    role = gr.Radio([\"Student\", \"Teacher\"], label=\"Who are you?\")\n",
        "\n",
        "    full_name = gr.Textbox(label=\"Full Name\")\n",
        "\n",
        "    field1 = gr.Textbox(visible=True)  # Class or Branch\n",
        "    field2 = gr.Textbox(visible=True)  # Subject (teacher only)\n",
        "\n",
        "    org_name = gr.Textbox(label=\"School/College Name\")\n",
        "    contact = gr.Textbox(label=\"Phone Number\")\n",
        "    email = gr.Textbox(label=\"Email ID\")\n",
        "    address = gr.Textbox(label=\"Address\")\n",
        "\n",
        "    extra1 = gr.Textbox()  # Principal Name or College Location\n",
        "    extra2 = gr.Textbox()  # School Contact No. or Degree Certificate text if any\n",
        "\n",
        "    pdf_file = gr.File(label=\"Upload Degree Certificate (PDF only)\", file_types=[\".pdf\"], visible=False)\n",
        "\n",
        "    submit = gr.Button(\"Submit\")\n",
        "    output = gr.Textbox(label=\"Output\", lines=12)\n",
        "\n",
        "    def update_fields(role):\n",
        "        if role == \"Student\":\n",
        "            return (\n",
        "                gr.update(label=\"Class\", visible=True),\n",
        "                gr.update(visible=False),  # Hide subject\n",
        "                gr.update(label=\"Principal Name\", visible=True),\n",
        "                gr.update(label=\"School Contact No.\", visible=True),\n",
        "                gr.update(visible=False),  # Hide PDF upload\n",
        "                gr.update(label=\"School Name\")\n",
        "            )\n",
        "        else:\n",
        "            return (\n",
        "                gr.update(label=\"Branch\", visible=True),\n",
        "                gr.update(label=\"Subject\", visible=True),\n",
        "                gr.update(label=\"College Location\", visible=True),\n",
        "                gr.update(label=\"Degree Certificate\", visible=True),\n",
        "                gr.update(visible=True),\n",
        "                gr.update(label=\"College Name\")\n",
        "            )\n",
        "\n",
        "    role.change(fn=update_fields, inputs=role,\n",
        "                outputs=[field1, field2, extra1, extra2, pdf_file, org_name])\n",
        "\n",
        "    submit.click(fn=submit_form,\n",
        "                 inputs=[role, full_name, field1, field2, org_name, contact, email, address, extra1, extra2, pdf_file],\n",
        "                 outputs=output)\n",
        "\n",
        "demo.launch()\n"
      ],
      "metadata": {
        "id": "Y8PYB8S8y7qd",
        "outputId": "1a68319c-5993-49d3-a6ee-8cec446892e5",
        "colab": {
          "base_uri": "https://localhost:8080/",
          "height": 1000
        }
      },
      "id": "Y8PYB8S8y7qd",
      "execution_count": 124,
      "outputs": [
        {
          "output_type": "stream",
          "name": "stdout",
          "text": [
            "Requirement already satisfied: gradio in /usr/local/lib/python3.11/dist-packages (5.31.0)\n",
            "Requirement already satisfied: aiofiles<25.0,>=22.0 in /usr/local/lib/python3.11/dist-packages (from gradio) (24.1.0)\n",
            "Requirement already satisfied: anyio<5.0,>=3.0 in /usr/local/lib/python3.11/dist-packages (from gradio) (4.9.0)\n",
            "Requirement already satisfied: fastapi<1.0,>=0.115.2 in /usr/local/lib/python3.11/dist-packages (from gradio) (0.116.0)\n",
            "Requirement already satisfied: ffmpy in /usr/local/lib/python3.11/dist-packages (from gradio) (0.6.0)\n",
            "Requirement already satisfied: gradio-client==1.10.1 in /usr/local/lib/python3.11/dist-packages (from gradio) (1.10.1)\n",
            "Requirement already satisfied: groovy~=0.1 in /usr/local/lib/python3.11/dist-packages (from gradio) (0.1.2)\n",
            "Requirement already satisfied: httpx>=0.24.1 in /usr/local/lib/python3.11/dist-packages (from gradio) (0.28.1)\n",
            "Requirement already satisfied: huggingface-hub>=0.28.1 in /usr/local/lib/python3.11/dist-packages (from gradio) (0.33.2)\n",
            "Requirement already satisfied: jinja2<4.0 in /usr/local/lib/python3.11/dist-packages (from gradio) (3.1.6)\n",
            "Requirement already satisfied: markupsafe<4.0,>=2.0 in /usr/local/lib/python3.11/dist-packages (from gradio) (3.0.2)\n",
            "Requirement already satisfied: numpy<3.0,>=1.0 in /usr/local/lib/python3.11/dist-packages (from gradio) (2.0.2)\n",
            "Requirement already satisfied: orjson~=3.0 in /usr/local/lib/python3.11/dist-packages (from gradio) (3.10.18)\n",
            "Requirement already satisfied: packaging in /usr/local/lib/python3.11/dist-packages (from gradio) (24.2)\n",
            "Requirement already satisfied: pandas<3.0,>=1.0 in /usr/local/lib/python3.11/dist-packages (from gradio) (2.2.2)\n",
            "Requirement already satisfied: pillow<12.0,>=8.0 in /usr/local/lib/python3.11/dist-packages (from gradio) (11.2.1)\n",
            "Requirement already satisfied: pydantic<2.12,>=2.0 in /usr/local/lib/python3.11/dist-packages (from gradio) (2.11.7)\n",
            "Requirement already satisfied: pydub in /usr/local/lib/python3.11/dist-packages (from gradio) (0.25.1)\n",
            "Requirement already satisfied: python-multipart>=0.0.18 in /usr/local/lib/python3.11/dist-packages (from gradio) (0.0.20)\n",
            "Requirement already satisfied: pyyaml<7.0,>=5.0 in /usr/local/lib/python3.11/dist-packages (from gradio) (6.0.2)\n",
            "Requirement already satisfied: ruff>=0.9.3 in /usr/local/lib/python3.11/dist-packages (from gradio) (0.12.2)\n",
            "Requirement already satisfied: safehttpx<0.2.0,>=0.1.6 in /usr/local/lib/python3.11/dist-packages (from gradio) (0.1.6)\n",
            "Requirement already satisfied: semantic-version~=2.0 in /usr/local/lib/python3.11/dist-packages (from gradio) (2.10.0)\n",
            "Requirement already satisfied: starlette<1.0,>=0.40.0 in /usr/local/lib/python3.11/dist-packages (from gradio) (0.46.2)\n",
            "Requirement already satisfied: tomlkit<0.14.0,>=0.12.0 in /usr/local/lib/python3.11/dist-packages (from gradio) (0.13.3)\n",
            "Requirement already satisfied: typer<1.0,>=0.12 in /usr/local/lib/python3.11/dist-packages (from gradio) (0.16.0)\n",
            "Requirement already satisfied: typing-extensions~=4.0 in /usr/local/lib/python3.11/dist-packages (from gradio) (4.14.1)\n",
            "Requirement already satisfied: uvicorn>=0.14.0 in /usr/local/lib/python3.11/dist-packages (from gradio) (0.35.0)\n",
            "Requirement already satisfied: fsspec in /usr/local/lib/python3.11/dist-packages (from gradio-client==1.10.1->gradio) (2025.3.2)\n",
            "Requirement already satisfied: websockets<16.0,>=10.0 in /usr/local/lib/python3.11/dist-packages (from gradio-client==1.10.1->gradio) (15.0.1)\n",
            "Requirement already satisfied: idna>=2.8 in /usr/local/lib/python3.11/dist-packages (from anyio<5.0,>=3.0->gradio) (3.10)\n",
            "Requirement already satisfied: sniffio>=1.1 in /usr/local/lib/python3.11/dist-packages (from anyio<5.0,>=3.0->gradio) (1.3.1)\n",
            "Requirement already satisfied: certifi in /usr/local/lib/python3.11/dist-packages (from httpx>=0.24.1->gradio) (2025.7.9)\n",
            "Requirement already satisfied: httpcore==1.* in /usr/local/lib/python3.11/dist-packages (from httpx>=0.24.1->gradio) (1.0.9)\n",
            "Requirement already satisfied: h11>=0.16 in /usr/local/lib/python3.11/dist-packages (from httpcore==1.*->httpx>=0.24.1->gradio) (0.16.0)\n",
            "Requirement already satisfied: filelock in /usr/local/lib/python3.11/dist-packages (from huggingface-hub>=0.28.1->gradio) (3.18.0)\n",
            "Requirement already satisfied: requests in /usr/local/lib/python3.11/dist-packages (from huggingface-hub>=0.28.1->gradio) (2.32.3)\n",
            "Requirement already satisfied: tqdm>=4.42.1 in /usr/local/lib/python3.11/dist-packages (from huggingface-hub>=0.28.1->gradio) (4.67.1)\n",
            "Requirement already satisfied: hf-xet<2.0.0,>=1.1.2 in /usr/local/lib/python3.11/dist-packages (from huggingface-hub>=0.28.1->gradio) (1.1.5)\n",
            "Requirement already satisfied: python-dateutil>=2.8.2 in /usr/local/lib/python3.11/dist-packages (from pandas<3.0,>=1.0->gradio) (2.9.0.post0)\n",
            "Requirement already satisfied: pytz>=2020.1 in /usr/local/lib/python3.11/dist-packages (from pandas<3.0,>=1.0->gradio) (2025.2)\n",
            "Requirement already satisfied: tzdata>=2022.7 in /usr/local/lib/python3.11/dist-packages (from pandas<3.0,>=1.0->gradio) (2025.2)\n",
            "Requirement already satisfied: annotated-types>=0.6.0 in /usr/local/lib/python3.11/dist-packages (from pydantic<2.12,>=2.0->gradio) (0.7.0)\n",
            "Requirement already satisfied: pydantic-core==2.33.2 in /usr/local/lib/python3.11/dist-packages (from pydantic<2.12,>=2.0->gradio) (2.33.2)\n",
            "Requirement already satisfied: typing-inspection>=0.4.0 in /usr/local/lib/python3.11/dist-packages (from pydantic<2.12,>=2.0->gradio) (0.4.1)\n",
            "Requirement already satisfied: click>=8.0.0 in /usr/local/lib/python3.11/dist-packages (from typer<1.0,>=0.12->gradio) (8.1.8)\n",
            "Requirement already satisfied: shellingham>=1.3.0 in /usr/local/lib/python3.11/dist-packages (from typer<1.0,>=0.12->gradio) (1.5.4)\n",
            "Requirement already satisfied: rich>=10.11.0 in /usr/local/lib/python3.11/dist-packages (from typer<1.0,>=0.12->gradio) (13.9.4)\n",
            "Requirement already satisfied: six>=1.5 in /usr/local/lib/python3.11/dist-packages (from python-dateutil>=2.8.2->pandas<3.0,>=1.0->gradio) (1.17.0)\n",
            "Requirement already satisfied: markdown-it-py>=2.2.0 in /usr/local/lib/python3.11/dist-packages (from rich>=10.11.0->typer<1.0,>=0.12->gradio) (3.0.0)\n",
            "Requirement already satisfied: pygments<3.0.0,>=2.13.0 in /usr/local/lib/python3.11/dist-packages (from rich>=10.11.0->typer<1.0,>=0.12->gradio) (2.19.2)\n",
            "Requirement already satisfied: charset-normalizer<4,>=2 in /usr/local/lib/python3.11/dist-packages (from requests->huggingface-hub>=0.28.1->gradio) (3.4.2)\n",
            "Requirement already satisfied: urllib3<3,>=1.21.1 in /usr/local/lib/python3.11/dist-packages (from requests->huggingface-hub>=0.28.1->gradio) (2.4.0)\n",
            "Requirement already satisfied: mdurl~=0.1 in /usr/local/lib/python3.11/dist-packages (from markdown-it-py>=2.2.0->rich>=10.11.0->typer<1.0,>=0.12->gradio) (0.1.2)\n",
            "It looks like you are running Gradio on a hosted a Jupyter notebook. For the Gradio app to work, sharing must be enabled. Automatically setting `share=True` (you can turn this off by setting `share=False` in `launch()` explicitly).\n",
            "\n",
            "Colab notebook detected. To show errors in colab notebook, set debug=True in launch()\n",
            "* Running on public URL: https://9d5c8ee72695b3f4c8.gradio.live\n",
            "\n",
            "This share link expires in 1 week. For free permanent hosting and GPU upgrades, run `gradio deploy` from the terminal in the working directory to deploy to Hugging Face Spaces (https://huggingface.co/spaces)\n"
          ]
        },
        {
          "output_type": "display_data",
          "data": {
            "text/plain": [
              "<IPython.core.display.HTML object>"
            ],
            "text/html": [
              "<div><iframe src=\"https://9d5c8ee72695b3f4c8.gradio.live\" width=\"100%\" height=\"500\" allow=\"autoplay; camera; microphone; clipboard-read; clipboard-write;\" frameborder=\"0\" allowfullscreen></iframe></div>"
            ]
          },
          "metadata": {}
        },
        {
          "output_type": "execute_result",
          "data": {
            "text/plain": []
          },
          "metadata": {},
          "execution_count": 124
        }
      ]
    },
    {
      "cell_type": "code",
      "source": [
        "!pip install gradio\n",
        "\n",
        "import gradio as gr\n",
        "\n",
        "def submit_form(role, full_name, field1, field2, org_name, contact, email, address, extra1, extra2, pdf_file):\n",
        "    # Check for missing required fields\n",
        "    required_fields = [role, full_name, field1, org_name, contact, email, address, extra1, extra2]\n",
        "\n",
        "    if role == \"Teacher\":\n",
        "        required_fields.append(field2)\n",
        "        if pdf_file is None:\n",
        "            return \"❌ Error: Please upload your degree certificate (PDF).\"\n",
        "\n",
        "    if any(field.strip() == \"\" for field in required_fields if isinstance(field, str)):\n",
        "        return \"❌ Error: Please fill in all required fields.\"\n",
        "\n",
        "    # Success message\n",
        "    if role == \"Student\":\n",
        "        return (f\"✅ Thank you, {full_name}!\\n\\n\"\n",
        "                f\"Role: Student\\n\"\n",
        "                f\"Class: {field1}\\n\"\n",
        "                f\"School: {org_name}\\n\"\n",
        "                f\"Principal Name: {extra1}\\n\"\n",
        "                f\"School Contact: {extra2}\\n\"\n",
        "                f\"Email: {email}\\n\"\n",
        "                f\"Phone: {contact}\\n\"\n",
        "                f\"Address: {address}\\n\\n\"\n",
        "                f\"🔍 Now enter a topic below to search.\")\n",
        "    else:\n",
        "        return (f\"✅ Thank you, {full_name}!\\n\\n\"\n",
        "                f\"Role: Teacher\\n\"\n",
        "                f\"Branch: {field1}\\n\"\n",
        "                f\"Subject: {field2}\\n\"\n",
        "                f\"College: {org_name}\\n\"\n",
        "                f\"College Location: {extra1}\\n\"\n",
        "                f\"Degree Certificate: {pdf_file.name if pdf_file else 'Not Provided'}\\n\"\n",
        "                f\"Email: {email}\\n\"\n",
        "                f\"Phone: {contact}\\n\"\n",
        "                f\"Address: {address}\\n\\n\"\n",
        "                f\"🔍 Now enter a topic below to search.\")\n",
        "\n",
        "def search_topic_fn(topic):\n",
        "    if topic.strip() == \"\":\n",
        "        return \"❌ Please enter a topic to search.\"\n",
        "    return f\"🔎 You want to search: **{topic}**\"\n",
        "\n",
        "with gr.Blocks() as demo:\n",
        "    gr.Markdown(\"## 🎓 Student / 👨‍🏫 Teacher Information Form\")\n",
        "\n",
        "    role = gr.Radio([\"Student\", \"Teacher\"], label=\"Who are you?\")\n",
        "\n",
        "    full_name = gr.Textbox(label=\"Full Name\")\n",
        "\n",
        "    field1 = gr.Textbox(visible=True)  # Class or Branch\n",
        "    field2 = gr.Textbox(visible=True)  # Subject (teacher only)\n",
        "\n",
        "    org_name = gr.Textbox(label=\"School/College Name\")\n",
        "    contact = gr.Textbox(label=\"Phone Number\")\n",
        "    email = gr.Textbox(label=\"Email ID\")\n",
        "    address = gr.Textbox(label=\"Address\")\n",
        "\n",
        "    extra1 = gr.Textbox()  # Principal Name or College Location\n",
        "    extra2 = gr.Textbox()  # School Contact No. or placeholder\n",
        "\n",
        "    pdf_file = gr.File(label=\"Upload Degree Certificate (PDF only)\", file_types=[\".pdf\"], visible=False)\n",
        "\n",
        "    submit = gr.Button(\"Submit\")\n",
        "    output = gr.Textbox(label=\"Form Response\", lines=12)\n",
        "\n",
        "    # NEW: Search topic area\n",
        "    gr.Markdown(\"## 🔍 Enter Topic to Search\")\n",
        "    search_topic = gr.Textbox(label=\"Search Topic\")\n",
        "    search_button = gr.Button(\"Search\")\n",
        "    search_output = gr.Textbox(label=\"Search Output\", lines=2)\n",
        "\n",
        "    def update_fields(role):\n",
        "        if role == \"Student\":\n",
        "            return (\n",
        "                gr.update(label=\"Class\", visible=True),\n",
        "                gr.update(visible=False),  # Hide subject\n",
        "                gr.update(label=\"Principal Name\", visible=True),\n",
        "                gr.update(label=\"School Contact No.\", visible=True),\n",
        "                gr.update(visible=False),  # Hide PDF upload\n",
        "                gr.update(label=\"School Name\")\n",
        "            )\n",
        "        else:\n",
        "            return (\n",
        "                gr.update(label=\"Branch\", visible=True),\n",
        "                gr.update(label=\"Subject\", visible=True),\n",
        "                gr.update(label=\"College Location\", visible=True),\n",
        "                gr.update(label=\"Degree Certificate\", visible=True),\n",
        "                gr.update(visible=True),\n",
        "                gr.update(label=\"College Name\")\n",
        "            )\n",
        "\n",
        "    role.change(fn=update_fields, inputs=role,\n",
        "                outputs=[field1, field2, extra1, extra2, pdf_file, org_name])\n",
        "\n",
        "    submit.click(fn=submit_form,\n",
        "                 inputs=[role, full_name, field1, field2, org_name, contact, email, address, extra1, extra2, pdf_file],\n",
        "                 outputs=output)\n",
        "\n",
        "    search_button.click(fn=search_topic_fn, inputs=search_topic, outputs=search_output)\n",
        "\n",
        "demo.launch()\n"
      ],
      "metadata": {
        "id": "nPZ2H5BO2Uxj",
        "outputId": "b9618386-a747-49f9-9928-9055e5091bb7",
        "colab": {
          "base_uri": "https://localhost:8080/",
          "height": 1000
        }
      },
      "id": "nPZ2H5BO2Uxj",
      "execution_count": 125,
      "outputs": [
        {
          "output_type": "stream",
          "name": "stdout",
          "text": [
            "Requirement already satisfied: gradio in /usr/local/lib/python3.11/dist-packages (5.31.0)\n",
            "Requirement already satisfied: aiofiles<25.0,>=22.0 in /usr/local/lib/python3.11/dist-packages (from gradio) (24.1.0)\n",
            "Requirement already satisfied: anyio<5.0,>=3.0 in /usr/local/lib/python3.11/dist-packages (from gradio) (4.9.0)\n",
            "Requirement already satisfied: fastapi<1.0,>=0.115.2 in /usr/local/lib/python3.11/dist-packages (from gradio) (0.116.0)\n",
            "Requirement already satisfied: ffmpy in /usr/local/lib/python3.11/dist-packages (from gradio) (0.6.0)\n",
            "Requirement already satisfied: gradio-client==1.10.1 in /usr/local/lib/python3.11/dist-packages (from gradio) (1.10.1)\n",
            "Requirement already satisfied: groovy~=0.1 in /usr/local/lib/python3.11/dist-packages (from gradio) (0.1.2)\n",
            "Requirement already satisfied: httpx>=0.24.1 in /usr/local/lib/python3.11/dist-packages (from gradio) (0.28.1)\n",
            "Requirement already satisfied: huggingface-hub>=0.28.1 in /usr/local/lib/python3.11/dist-packages (from gradio) (0.33.2)\n",
            "Requirement already satisfied: jinja2<4.0 in /usr/local/lib/python3.11/dist-packages (from gradio) (3.1.6)\n",
            "Requirement already satisfied: markupsafe<4.0,>=2.0 in /usr/local/lib/python3.11/dist-packages (from gradio) (3.0.2)\n",
            "Requirement already satisfied: numpy<3.0,>=1.0 in /usr/local/lib/python3.11/dist-packages (from gradio) (2.0.2)\n",
            "Requirement already satisfied: orjson~=3.0 in /usr/local/lib/python3.11/dist-packages (from gradio) (3.10.18)\n",
            "Requirement already satisfied: packaging in /usr/local/lib/python3.11/dist-packages (from gradio) (24.2)\n",
            "Requirement already satisfied: pandas<3.0,>=1.0 in /usr/local/lib/python3.11/dist-packages (from gradio) (2.2.2)\n",
            "Requirement already satisfied: pillow<12.0,>=8.0 in /usr/local/lib/python3.11/dist-packages (from gradio) (11.2.1)\n",
            "Requirement already satisfied: pydantic<2.12,>=2.0 in /usr/local/lib/python3.11/dist-packages (from gradio) (2.11.7)\n",
            "Requirement already satisfied: pydub in /usr/local/lib/python3.11/dist-packages (from gradio) (0.25.1)\n",
            "Requirement already satisfied: python-multipart>=0.0.18 in /usr/local/lib/python3.11/dist-packages (from gradio) (0.0.20)\n",
            "Requirement already satisfied: pyyaml<7.0,>=5.0 in /usr/local/lib/python3.11/dist-packages (from gradio) (6.0.2)\n",
            "Requirement already satisfied: ruff>=0.9.3 in /usr/local/lib/python3.11/dist-packages (from gradio) (0.12.2)\n",
            "Requirement already satisfied: safehttpx<0.2.0,>=0.1.6 in /usr/local/lib/python3.11/dist-packages (from gradio) (0.1.6)\n",
            "Requirement already satisfied: semantic-version~=2.0 in /usr/local/lib/python3.11/dist-packages (from gradio) (2.10.0)\n",
            "Requirement already satisfied: starlette<1.0,>=0.40.0 in /usr/local/lib/python3.11/dist-packages (from gradio) (0.46.2)\n",
            "Requirement already satisfied: tomlkit<0.14.0,>=0.12.0 in /usr/local/lib/python3.11/dist-packages (from gradio) (0.13.3)\n",
            "Requirement already satisfied: typer<1.0,>=0.12 in /usr/local/lib/python3.11/dist-packages (from gradio) (0.16.0)\n",
            "Requirement already satisfied: typing-extensions~=4.0 in /usr/local/lib/python3.11/dist-packages (from gradio) (4.14.1)\n",
            "Requirement already satisfied: uvicorn>=0.14.0 in /usr/local/lib/python3.11/dist-packages (from gradio) (0.35.0)\n",
            "Requirement already satisfied: fsspec in /usr/local/lib/python3.11/dist-packages (from gradio-client==1.10.1->gradio) (2025.3.2)\n",
            "Requirement already satisfied: websockets<16.0,>=10.0 in /usr/local/lib/python3.11/dist-packages (from gradio-client==1.10.1->gradio) (15.0.1)\n",
            "Requirement already satisfied: idna>=2.8 in /usr/local/lib/python3.11/dist-packages (from anyio<5.0,>=3.0->gradio) (3.10)\n",
            "Requirement already satisfied: sniffio>=1.1 in /usr/local/lib/python3.11/dist-packages (from anyio<5.0,>=3.0->gradio) (1.3.1)\n",
            "Requirement already satisfied: certifi in /usr/local/lib/python3.11/dist-packages (from httpx>=0.24.1->gradio) (2025.7.9)\n",
            "Requirement already satisfied: httpcore==1.* in /usr/local/lib/python3.11/dist-packages (from httpx>=0.24.1->gradio) (1.0.9)\n",
            "Requirement already satisfied: h11>=0.16 in /usr/local/lib/python3.11/dist-packages (from httpcore==1.*->httpx>=0.24.1->gradio) (0.16.0)\n",
            "Requirement already satisfied: filelock in /usr/local/lib/python3.11/dist-packages (from huggingface-hub>=0.28.1->gradio) (3.18.0)\n",
            "Requirement already satisfied: requests in /usr/local/lib/python3.11/dist-packages (from huggingface-hub>=0.28.1->gradio) (2.32.3)\n",
            "Requirement already satisfied: tqdm>=4.42.1 in /usr/local/lib/python3.11/dist-packages (from huggingface-hub>=0.28.1->gradio) (4.67.1)\n",
            "Requirement already satisfied: hf-xet<2.0.0,>=1.1.2 in /usr/local/lib/python3.11/dist-packages (from huggingface-hub>=0.28.1->gradio) (1.1.5)\n",
            "Requirement already satisfied: python-dateutil>=2.8.2 in /usr/local/lib/python3.11/dist-packages (from pandas<3.0,>=1.0->gradio) (2.9.0.post0)\n",
            "Requirement already satisfied: pytz>=2020.1 in /usr/local/lib/python3.11/dist-packages (from pandas<3.0,>=1.0->gradio) (2025.2)\n",
            "Requirement already satisfied: tzdata>=2022.7 in /usr/local/lib/python3.11/dist-packages (from pandas<3.0,>=1.0->gradio) (2025.2)\n",
            "Requirement already satisfied: annotated-types>=0.6.0 in /usr/local/lib/python3.11/dist-packages (from pydantic<2.12,>=2.0->gradio) (0.7.0)\n",
            "Requirement already satisfied: pydantic-core==2.33.2 in /usr/local/lib/python3.11/dist-packages (from pydantic<2.12,>=2.0->gradio) (2.33.2)\n",
            "Requirement already satisfied: typing-inspection>=0.4.0 in /usr/local/lib/python3.11/dist-packages (from pydantic<2.12,>=2.0->gradio) (0.4.1)\n",
            "Requirement already satisfied: click>=8.0.0 in /usr/local/lib/python3.11/dist-packages (from typer<1.0,>=0.12->gradio) (8.1.8)\n",
            "Requirement already satisfied: shellingham>=1.3.0 in /usr/local/lib/python3.11/dist-packages (from typer<1.0,>=0.12->gradio) (1.5.4)\n",
            "Requirement already satisfied: rich>=10.11.0 in /usr/local/lib/python3.11/dist-packages (from typer<1.0,>=0.12->gradio) (13.9.4)\n",
            "Requirement already satisfied: six>=1.5 in /usr/local/lib/python3.11/dist-packages (from python-dateutil>=2.8.2->pandas<3.0,>=1.0->gradio) (1.17.0)\n",
            "Requirement already satisfied: markdown-it-py>=2.2.0 in /usr/local/lib/python3.11/dist-packages (from rich>=10.11.0->typer<1.0,>=0.12->gradio) (3.0.0)\n",
            "Requirement already satisfied: pygments<3.0.0,>=2.13.0 in /usr/local/lib/python3.11/dist-packages (from rich>=10.11.0->typer<1.0,>=0.12->gradio) (2.19.2)\n",
            "Requirement already satisfied: charset-normalizer<4,>=2 in /usr/local/lib/python3.11/dist-packages (from requests->huggingface-hub>=0.28.1->gradio) (3.4.2)\n",
            "Requirement already satisfied: urllib3<3,>=1.21.1 in /usr/local/lib/python3.11/dist-packages (from requests->huggingface-hub>=0.28.1->gradio) (2.4.0)\n",
            "Requirement already satisfied: mdurl~=0.1 in /usr/local/lib/python3.11/dist-packages (from markdown-it-py>=2.2.0->rich>=10.11.0->typer<1.0,>=0.12->gradio) (0.1.2)\n",
            "It looks like you are running Gradio on a hosted a Jupyter notebook. For the Gradio app to work, sharing must be enabled. Automatically setting `share=True` (you can turn this off by setting `share=False` in `launch()` explicitly).\n",
            "\n",
            "Colab notebook detected. To show errors in colab notebook, set debug=True in launch()\n",
            "* Running on public URL: https://db6eb68d165739f3a0.gradio.live\n",
            "\n",
            "This share link expires in 1 week. For free permanent hosting and GPU upgrades, run `gradio deploy` from the terminal in the working directory to deploy to Hugging Face Spaces (https://huggingface.co/spaces)\n"
          ]
        },
        {
          "output_type": "display_data",
          "data": {
            "text/plain": [
              "<IPython.core.display.HTML object>"
            ],
            "text/html": [
              "<div><iframe src=\"https://db6eb68d165739f3a0.gradio.live\" width=\"100%\" height=\"500\" allow=\"autoplay; camera; microphone; clipboard-read; clipboard-write;\" frameborder=\"0\" allowfullscreen></iframe></div>"
            ]
          },
          "metadata": {}
        },
        {
          "output_type": "execute_result",
          "data": {
            "text/plain": []
          },
          "metadata": {},
          "execution_count": 125
        }
      ]
    },
    {
      "cell_type": "code",
      "source": [
        "!pip install gradio\n",
        "\n",
        "import gradio as gr\n",
        "import urllib.parse\n",
        "\n",
        "def submit_form(role, full_name, field1, field2, org_name, contact, email, address, extra1, extra2, pdf_file):\n",
        "    required_fields = [role, full_name, field1, org_name, contact, email, address, extra1, extra2]\n",
        "\n",
        "    if role == \"Teacher\":\n",
        "        required_fields.append(field2)\n",
        "        if pdf_file is None:\n",
        "            return \"❌ Error: Please upload your degree certificate (PDF).\"\n",
        "\n",
        "    if any(field.strip() == \"\" for field in required_fields if isinstance(field, str)):\n",
        "        return \"❌ Error: Please fill in all required fields.\"\n",
        "\n",
        "    if role == \"Student\":\n",
        "        return (f\"✅ Thank you, {full_name}!\\n\\n\"\n",
        "                f\"Role: Student\\n\"\n",
        "                f\"Class: {field1}\\n\"\n",
        "                f\"School: {org_name}\\n\"\n",
        "                f\"Principal Name: {extra1}\\n\"\n",
        "                f\"School Contact: {extra2}\\n\"\n",
        "                f\"Email: {email}\\n\"\n",
        "                f\"Phone: {contact}\\n\"\n",
        "                f\"Address: {address}\\n\\n\"\n",
        "                f\"🔍 Now enter a topic below to search.\")\n",
        "    else:\n",
        "        return (f\"✅ Thank you, {full_name}!\\n\\n\"\n",
        "                f\"Role: Teacher\\n\"\n",
        "                f\"Branch: {field1}\\n\"\n",
        "                f\"Subject: {field2}\\n\"\n",
        "                f\"College: {org_name}\\n\"\n",
        "                f\"College Location: {extra1}\\n\"\n",
        "                f\"Degree Certificate: {pdf_file.name if pdf_file else 'Not Provided'}\\n\"\n",
        "                f\"Email: {email}\\n\"\n",
        "                f\"Phone: {contact}\\n\"\n",
        "                f\"Address: {address}\\n\\n\"\n",
        "                f\"🔍 Now enter a topic below to search.\")\n",
        "\n",
        "def search_topic_fn(topic):\n",
        "    if topic.strip() == \"\":\n",
        "        return \"❌ Please enter a topic to search.\", \"\"\n",
        "\n",
        "    # Encode topic for URLs\n",
        "    encoded = urllib.parse.quote(topic)\n",
        "\n",
        "    # Links\n",
        "    yt_link = f\"https://www.youtube.com/results?search_query={encoded}\"\n",
        "    google_notes_link = f\"https://www.google.com/search?q=handwritten+notes+on+{encoded}\"\n",
        "\n",
        "    # Simulated ChatGPT answer\n",
        "    simulated_answer = f\"\"\"📘 **AI Summary for:** {topic}\n",
        "\n",
        "✅ This topic generally includes:\n",
        "- Introduction and key definitions.\n",
        "- Core concepts and examples.\n",
        "- Applications or use cases.\n",
        "\n",
        "👉 Visit YouTube for video explanations.\n",
        "👉 Use Google to find handwritten notes or PDFs.\n",
        "\"\"\"\n",
        "\n",
        "    links = f\"\"\"\n",
        "🔗 **Resources for \"{topic}\":**\n",
        "\n",
        "- 📺 [YouTube Videos]({yt_link})\n",
        "- 📖 [Google Handwritten Notes]({google_notes_link})\n",
        "\"\"\"\n",
        "\n",
        "    return simulated_answer, links\n",
        "\n",
        "with gr.Blocks() as demo:\n",
        "    gr.Markdown(\"## 🎓 Student / 👨‍🏫 Teacher Information Form\")\n",
        "\n",
        "    role = gr.Radio([\"Student\", \"Teacher\"], label=\"Who are you?\")\n",
        "    full_name = gr.Textbox(label=\"Full Name\")\n",
        "    field1 = gr.Textbox(visible=True)  # Class or Branch\n",
        "    field2 = gr.Textbox(visible=True)  # Subject (teacher only)\n",
        "\n",
        "    org_name = gr.Textbox(label=\"School/College Name\")\n",
        "    contact = gr.Textbox(label=\"Phone Number\")\n",
        "    email = gr.Textbox(label=\"Email ID\")\n",
        "    address = gr.Textbox(label=\"Address\")\n",
        "    extra1 = gr.Textbox()  # Principal Name or College Location\n",
        "    extra2 = gr.Textbox()  # School Contact or placeholder\n",
        "    pdf_file = gr.File(label=\"Upload Degree Certificate (PDF only)\", file_types=[\".pdf\"], visible=False)\n",
        "\n",
        "    submit = gr.Button(\"Submit\")\n",
        "    output = gr.Textbox(label=\"Form Response\", lines=12)\n",
        "\n",
        "    gr.Markdown(\"## 🔍 Enter Topic to Search Resources\")\n",
        "    search_topic = gr.Textbox(label=\"Search Topic\")\n",
        "    search_button = gr.Button(\"Search\")\n",
        "    search_answer = gr.Textbox(label=\"AI Summary\", lines=5)\n",
        "    search_links = gr.Markdown()\n",
        "\n",
        "    def update_fields(role):\n",
        "        if role == \"Student\":\n",
        "            return (\n",
        "                gr.update(label=\"Class\", visible=True),\n",
        "                gr.update(visible=False),\n",
        "                gr.update(label=\"Principal Name\", visible=True),\n",
        "                gr.update(label=\"School Contact No.\", visible=True),\n",
        "                gr.update(visible=False),\n",
        "                gr.update(label=\"School Name\")\n",
        "            )\n",
        "        else:\n",
        "            return (\n",
        "                gr.update(label=\"Branch\", visible=True),\n",
        "                gr.update(label=\"Subject\", visible=True),\n",
        "                gr.update(label=\"College Location\", visible=True),\n",
        "                gr.update(label=\"Degree Certificate\", visible=True),\n",
        "                gr.update(visible=True),\n",
        "                gr.update(label=\"College Name\")\n",
        "            )\n",
        "\n",
        "    role.change(fn=update_fields, inputs=role,\n",
        "                outputs=[field1, field2, extra1, extra2, pdf_file, org_name])\n",
        "\n",
        "    submit.click(fn=submit_form,\n",
        "                 inputs=[role, full_name, field1, field2, org_name, contact, email, address, extra1, extra2, pdf_file],\n",
        "                 outputs=output)\n",
        "\n",
        "    search_button.click(fn=search_topic_fn, inputs=search_topic,\n",
        "                        outputs=[search_answer, search_links])\n",
        "\n",
        "demo.launch()\n"
      ],
      "metadata": {
        "id": "aa8c8RcQ4aex",
        "outputId": "66a5bb8d-749d-475e-c0ea-117d134f461b",
        "colab": {
          "base_uri": "https://localhost:8080/",
          "height": 1000
        }
      },
      "id": "aa8c8RcQ4aex",
      "execution_count": 126,
      "outputs": [
        {
          "output_type": "stream",
          "name": "stdout",
          "text": [
            "Requirement already satisfied: gradio in /usr/local/lib/python3.11/dist-packages (5.31.0)\n",
            "Requirement already satisfied: aiofiles<25.0,>=22.0 in /usr/local/lib/python3.11/dist-packages (from gradio) (24.1.0)\n",
            "Requirement already satisfied: anyio<5.0,>=3.0 in /usr/local/lib/python3.11/dist-packages (from gradio) (4.9.0)\n",
            "Requirement already satisfied: fastapi<1.0,>=0.115.2 in /usr/local/lib/python3.11/dist-packages (from gradio) (0.116.0)\n",
            "Requirement already satisfied: ffmpy in /usr/local/lib/python3.11/dist-packages (from gradio) (0.6.0)\n",
            "Requirement already satisfied: gradio-client==1.10.1 in /usr/local/lib/python3.11/dist-packages (from gradio) (1.10.1)\n",
            "Requirement already satisfied: groovy~=0.1 in /usr/local/lib/python3.11/dist-packages (from gradio) (0.1.2)\n",
            "Requirement already satisfied: httpx>=0.24.1 in /usr/local/lib/python3.11/dist-packages (from gradio) (0.28.1)\n",
            "Requirement already satisfied: huggingface-hub>=0.28.1 in /usr/local/lib/python3.11/dist-packages (from gradio) (0.33.2)\n",
            "Requirement already satisfied: jinja2<4.0 in /usr/local/lib/python3.11/dist-packages (from gradio) (3.1.6)\n",
            "Requirement already satisfied: markupsafe<4.0,>=2.0 in /usr/local/lib/python3.11/dist-packages (from gradio) (3.0.2)\n",
            "Requirement already satisfied: numpy<3.0,>=1.0 in /usr/local/lib/python3.11/dist-packages (from gradio) (2.0.2)\n",
            "Requirement already satisfied: orjson~=3.0 in /usr/local/lib/python3.11/dist-packages (from gradio) (3.10.18)\n",
            "Requirement already satisfied: packaging in /usr/local/lib/python3.11/dist-packages (from gradio) (24.2)\n",
            "Requirement already satisfied: pandas<3.0,>=1.0 in /usr/local/lib/python3.11/dist-packages (from gradio) (2.2.2)\n",
            "Requirement already satisfied: pillow<12.0,>=8.0 in /usr/local/lib/python3.11/dist-packages (from gradio) (11.2.1)\n",
            "Requirement already satisfied: pydantic<2.12,>=2.0 in /usr/local/lib/python3.11/dist-packages (from gradio) (2.11.7)\n",
            "Requirement already satisfied: pydub in /usr/local/lib/python3.11/dist-packages (from gradio) (0.25.1)\n",
            "Requirement already satisfied: python-multipart>=0.0.18 in /usr/local/lib/python3.11/dist-packages (from gradio) (0.0.20)\n",
            "Requirement already satisfied: pyyaml<7.0,>=5.0 in /usr/local/lib/python3.11/dist-packages (from gradio) (6.0.2)\n",
            "Requirement already satisfied: ruff>=0.9.3 in /usr/local/lib/python3.11/dist-packages (from gradio) (0.12.2)\n",
            "Requirement already satisfied: safehttpx<0.2.0,>=0.1.6 in /usr/local/lib/python3.11/dist-packages (from gradio) (0.1.6)\n",
            "Requirement already satisfied: semantic-version~=2.0 in /usr/local/lib/python3.11/dist-packages (from gradio) (2.10.0)\n",
            "Requirement already satisfied: starlette<1.0,>=0.40.0 in /usr/local/lib/python3.11/dist-packages (from gradio) (0.46.2)\n",
            "Requirement already satisfied: tomlkit<0.14.0,>=0.12.0 in /usr/local/lib/python3.11/dist-packages (from gradio) (0.13.3)\n",
            "Requirement already satisfied: typer<1.0,>=0.12 in /usr/local/lib/python3.11/dist-packages (from gradio) (0.16.0)\n",
            "Requirement already satisfied: typing-extensions~=4.0 in /usr/local/lib/python3.11/dist-packages (from gradio) (4.14.1)\n",
            "Requirement already satisfied: uvicorn>=0.14.0 in /usr/local/lib/python3.11/dist-packages (from gradio) (0.35.0)\n",
            "Requirement already satisfied: fsspec in /usr/local/lib/python3.11/dist-packages (from gradio-client==1.10.1->gradio) (2025.3.2)\n",
            "Requirement already satisfied: websockets<16.0,>=10.0 in /usr/local/lib/python3.11/dist-packages (from gradio-client==1.10.1->gradio) (15.0.1)\n",
            "Requirement already satisfied: idna>=2.8 in /usr/local/lib/python3.11/dist-packages (from anyio<5.0,>=3.0->gradio) (3.10)\n",
            "Requirement already satisfied: sniffio>=1.1 in /usr/local/lib/python3.11/dist-packages (from anyio<5.0,>=3.0->gradio) (1.3.1)\n",
            "Requirement already satisfied: certifi in /usr/local/lib/python3.11/dist-packages (from httpx>=0.24.1->gradio) (2025.7.9)\n",
            "Requirement already satisfied: httpcore==1.* in /usr/local/lib/python3.11/dist-packages (from httpx>=0.24.1->gradio) (1.0.9)\n",
            "Requirement already satisfied: h11>=0.16 in /usr/local/lib/python3.11/dist-packages (from httpcore==1.*->httpx>=0.24.1->gradio) (0.16.0)\n",
            "Requirement already satisfied: filelock in /usr/local/lib/python3.11/dist-packages (from huggingface-hub>=0.28.1->gradio) (3.18.0)\n",
            "Requirement already satisfied: requests in /usr/local/lib/python3.11/dist-packages (from huggingface-hub>=0.28.1->gradio) (2.32.3)\n",
            "Requirement already satisfied: tqdm>=4.42.1 in /usr/local/lib/python3.11/dist-packages (from huggingface-hub>=0.28.1->gradio) (4.67.1)\n",
            "Requirement already satisfied: hf-xet<2.0.0,>=1.1.2 in /usr/local/lib/python3.11/dist-packages (from huggingface-hub>=0.28.1->gradio) (1.1.5)\n",
            "Requirement already satisfied: python-dateutil>=2.8.2 in /usr/local/lib/python3.11/dist-packages (from pandas<3.0,>=1.0->gradio) (2.9.0.post0)\n",
            "Requirement already satisfied: pytz>=2020.1 in /usr/local/lib/python3.11/dist-packages (from pandas<3.0,>=1.0->gradio) (2025.2)\n",
            "Requirement already satisfied: tzdata>=2022.7 in /usr/local/lib/python3.11/dist-packages (from pandas<3.0,>=1.0->gradio) (2025.2)\n",
            "Requirement already satisfied: annotated-types>=0.6.0 in /usr/local/lib/python3.11/dist-packages (from pydantic<2.12,>=2.0->gradio) (0.7.0)\n",
            "Requirement already satisfied: pydantic-core==2.33.2 in /usr/local/lib/python3.11/dist-packages (from pydantic<2.12,>=2.0->gradio) (2.33.2)\n",
            "Requirement already satisfied: typing-inspection>=0.4.0 in /usr/local/lib/python3.11/dist-packages (from pydantic<2.12,>=2.0->gradio) (0.4.1)\n",
            "Requirement already satisfied: click>=8.0.0 in /usr/local/lib/python3.11/dist-packages (from typer<1.0,>=0.12->gradio) (8.1.8)\n",
            "Requirement already satisfied: shellingham>=1.3.0 in /usr/local/lib/python3.11/dist-packages (from typer<1.0,>=0.12->gradio) (1.5.4)\n",
            "Requirement already satisfied: rich>=10.11.0 in /usr/local/lib/python3.11/dist-packages (from typer<1.0,>=0.12->gradio) (13.9.4)\n",
            "Requirement already satisfied: six>=1.5 in /usr/local/lib/python3.11/dist-packages (from python-dateutil>=2.8.2->pandas<3.0,>=1.0->gradio) (1.17.0)\n",
            "Requirement already satisfied: markdown-it-py>=2.2.0 in /usr/local/lib/python3.11/dist-packages (from rich>=10.11.0->typer<1.0,>=0.12->gradio) (3.0.0)\n",
            "Requirement already satisfied: pygments<3.0.0,>=2.13.0 in /usr/local/lib/python3.11/dist-packages (from rich>=10.11.0->typer<1.0,>=0.12->gradio) (2.19.2)\n",
            "Requirement already satisfied: charset-normalizer<4,>=2 in /usr/local/lib/python3.11/dist-packages (from requests->huggingface-hub>=0.28.1->gradio) (3.4.2)\n",
            "Requirement already satisfied: urllib3<3,>=1.21.1 in /usr/local/lib/python3.11/dist-packages (from requests->huggingface-hub>=0.28.1->gradio) (2.4.0)\n",
            "Requirement already satisfied: mdurl~=0.1 in /usr/local/lib/python3.11/dist-packages (from markdown-it-py>=2.2.0->rich>=10.11.0->typer<1.0,>=0.12->gradio) (0.1.2)\n",
            "It looks like you are running Gradio on a hosted a Jupyter notebook. For the Gradio app to work, sharing must be enabled. Automatically setting `share=True` (you can turn this off by setting `share=False` in `launch()` explicitly).\n",
            "\n",
            "Colab notebook detected. To show errors in colab notebook, set debug=True in launch()\n",
            "* Running on public URL: https://d9f344b4489f03fcd4.gradio.live\n",
            "\n",
            "This share link expires in 1 week. For free permanent hosting and GPU upgrades, run `gradio deploy` from the terminal in the working directory to deploy to Hugging Face Spaces (https://huggingface.co/spaces)\n"
          ]
        },
        {
          "output_type": "display_data",
          "data": {
            "text/plain": [
              "<IPython.core.display.HTML object>"
            ],
            "text/html": [
              "<div><iframe src=\"https://d9f344b4489f03fcd4.gradio.live\" width=\"100%\" height=\"500\" allow=\"autoplay; camera; microphone; clipboard-read; clipboard-write;\" frameborder=\"0\" allowfullscreen></iframe></div>"
            ]
          },
          "metadata": {}
        },
        {
          "output_type": "execute_result",
          "data": {
            "text/plain": []
          },
          "metadata": {},
          "execution_count": 126
        }
      ]
    }
  ],
  "metadata": {
    "interpreter": {
      "hash": "ae617ccb002f72b3ab6d0069d721eac67ac2a969e83c083c4321cfcab0437cd1"
    },
    "kernelspec": {
      "display_name": "Python 3 (ipykernel)",
      "language": "python",
      "name": "python3"
    },
    "language_info": {
      "codemirror_mode": {
        "name": "ipython",
        "version": 3
      },
      "file_extension": ".py",
      "mimetype": "text/x-python",
      "name": "python",
      "nbconvert_exporter": "python",
      "pygments_lexer": "ipython3",
      "version": "3.10.12"
    },
    "openvino_notebooks": {
      "imageUrl": "",
      "tags": {
        "categories": [
          "First Steps"
        ],
        "libraries": [],
        "other": [],
        "tasks": [
          "Image Classification",
          "Image Segmentation"
        ]
      }
    },
    "widgets": {
      "application/vnd.jupyter.widget-state+json": {}
    },
    "colab": {
      "provenance": []
    }
  },
  "nbformat": 4,
  "nbformat_minor": 5
}